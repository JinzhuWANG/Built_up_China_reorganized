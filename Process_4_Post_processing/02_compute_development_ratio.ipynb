{
 "cells": [
  {
   "cell_type": "code",
   "execution_count": 1,
   "id": "46d97496",
   "metadata": {},
   "outputs": [],
   "source": [
    "import os\n",
    "\n",
    "# Set the proxy environment variables\n",
    "os.environ['http_proxy'] = 'http://127.0.0.1:7890'\n",
    "os.environ['https_proxy'] = 'http://127.0.0.1:7890'"
   ]
  },
  {
   "cell_type": "code",
   "execution_count": null,
   "id": "9b82fdbf",
   "metadata": {},
   "outputs": [],
   "source": []
  },
  {
   "cell_type": "code",
   "execution_count": 2,
   "id": "0b2c2e03",
   "metadata": {},
   "outputs": [],
   "source": [
    "import ee\n",
    "import geemap\n",
    "import geopandas as gpd\n",
    "import pandas as pg\n",
    "import numpy as np\n",
    "import geojson\n",
    "from geojson import Feature,FeatureCollection\n",
    "from shapely.geometry import shape\n",
    "\n",
    "import plotnine\n",
    "from plotnine import *\n",
    "from dfply import *"
   ]
  },
  {
   "cell_type": "code",
   "execution_count": null,
   "id": "972c48a4",
   "metadata": {},
   "outputs": [],
   "source": []
  },
  {
   "cell_type": "code",
   "execution_count": 3,
   "id": "c234f553",
   "metadata": {},
   "outputs": [],
   "source": [
    "ee.Initialize()"
   ]
  },
  {
   "cell_type": "code",
   "execution_count": null,
   "id": "8064e07a",
   "metadata": {},
   "outputs": [],
   "source": []
  },
  {
   "cell_type": "markdown",
   "id": "66fb4269",
   "metadata": {},
   "source": [
    "### read data"
   ]
  },
  {
   "cell_type": "code",
   "execution_count": 4,
   "id": "be14ba2e",
   "metadata": {},
   "outputs": [],
   "source": [
    "# all regions\n",
    "region_cns = ['华东',   '东北',   '中南',    '华北',  '西北', '西南','补丁']\n",
    "region_ens = ['huadong','dongbei','zhongnan','huabei','xibei','xinan','patch']\n",
    "\n",
    "# region for analysis\n",
    "region_cn = '中国'\n",
    "region_en = 'China'\n",
    "\n",
    "# region shp for exporting\n",
    "Region =  ee.FeatureCollection(\"users/wangjinzhulala/China_built_up/01_Boundary_shp/China_zone\")\\\n",
    "            .filterMetadata('NAME1','equals',region_cn)\n",
    "\n",
    "Region =  ee.FeatureCollection(\"users/wangjinzhulala/China_Boundary/0_China_Provinces\")\n",
    "\n",
    "# the box shp, where we will compute the development ration each grid cell\n",
    "region_grid = gpd.read_file(f'./Data/split_box_{region_en}.shp')\n",
    "region_grid_fecol = ee.FeatureCollection(FeatureCollection([Feature(geometry=geo) for geo in region_grid.geometry]))"
   ]
  },
  {
   "cell_type": "code",
   "execution_count": null,
   "id": "32add33f",
   "metadata": {},
   "outputs": [],
   "source": []
  },
  {
   "cell_type": "code",
   "execution_count": null,
   "id": "54f43128",
   "metadata": {},
   "outputs": [],
   "source": []
  },
  {
   "cell_type": "code",
   "execution_count": 197,
   "id": "9893e49c",
   "metadata": {},
   "outputs": [],
   "source": [
    "# read ee_tif\n",
    "classified_img = ee.Image(f\"users/wangjinzhulala/China_built_up/06_temporal_corrected_classification/Spectrum_Normalize_Fourier_Terrain_Meterology_China_2020_2022_patch\")\n",
    "\n",
    "# the reference mask (COPERNICUS.urban_coverfraction)\n",
    "COPERNICUS_urban = ee.Image(f'COPERNICUS/Landcover/100m/Proba-V-C3/Global/2019').select(\"urban-coverfraction\").gt(10)"
   ]
  },
  {
   "cell_type": "code",
   "execution_count": null,
   "id": "342f42de",
   "metadata": {},
   "outputs": [],
   "source": []
  },
  {
   "cell_type": "code",
   "execution_count": null,
   "id": "8ff9f4eb",
   "metadata": {},
   "outputs": [],
   "source": []
  },
  {
   "cell_type": "markdown",
   "id": "263a5db0",
   "metadata": {},
   "source": [
    "### compute the urban development ratio"
   ]
  },
  {
   "cell_type": "code",
   "execution_count": null,
   "id": "c9b1b9d1",
   "metadata": {},
   "outputs": [],
   "source": []
  },
  {
   "cell_type": "code",
   "execution_count": 198,
   "id": "ab0dcedd",
   "metadata": {},
   "outputs": [],
   "source": [
    "# combine classification and the reference img\n",
    "classify_and_referece_img = ee.Image([classified_img.gt(0),COPERNICUS_urban]).rename(['classification','reference'])\n",
    "\n",
    "# compute the area of classification and the reference img\n",
    "area_img = ee.Image.pixelArea().addBands(ee.Image.pixelArea())\\\n",
    "            .rename(['classification_area','reference_area'])\\\n",
    "            .updateMask(classify_and_referece_img)"
   ]
  },
  {
   "cell_type": "code",
   "execution_count": null,
   "id": "59d742aa",
   "metadata": {},
   "outputs": [],
   "source": []
  },
  {
   "cell_type": "code",
   "execution_count": 199,
   "id": "2cea2399",
   "metadata": {},
   "outputs": [],
   "source": [
    "# zonnal statitics to compute area\n",
    "area_stats = area_img.reduceRegions(collection=region_grid_fecol, reducer='sum', scale=30)\n",
    "area_stats = area_stats.map( lambda fe: fe.set('development_ratio', ee.Number(fe.get('classification_area'))\\\n",
    "                                                                       .subtract(fe.get('reference_area'))\\\n",
    "                                                                       .divide(fe.get('classification_area'))))"
   ]
  },
  {
   "cell_type": "code",
   "execution_count": null,
   "id": "057a23c1",
   "metadata": {},
   "outputs": [],
   "source": []
  },
  {
   "cell_type": "code",
   "execution_count": 217,
   "id": "f12af483",
   "metadata": {},
   "outputs": [
    {
     "data": {
      "text/plain": [
       "134"
      ]
     },
     "execution_count": 217,
     "metadata": {},
     "output_type": "execute_result"
    }
   ],
   "source": [
    "# geojson to gpd\n",
    "area_stats_gdf = gpd.GeoDataFrame.from_features(area_stats.getInfo()['features'])\n",
    "area_stats_gdf = area_stats_gdf.set_crs(4326)\n",
    "\n",
    "# # gpd to shp\n",
    "# area_stats_gdf['development_ratio'] = (area_stats_gdf['classification_area'] - area_stats_gdf['reference_area'])\\\n",
    "#                                         /area_stats_gdf['reference_area']\n",
    "\n",
    "# replace inf values\n",
    "area_stats_gdf = area_stats_gdf.replace([np.inf, -np.inf], 0)\n",
    "area_stats_gdf = area_stats_gdf.fillna(0)\n",
    "\n",
    "# save to disk\n",
    "# area_stats_gdf.to_file(f'./Data/development_ratio_{region_en}.shp')\n",
    "\n",
    "# find the  percentile\n",
    "percentile_val = np.percentile(area_stats_gdf['development_ratio'],70) \n",
    "\n",
    "# how many box are being maked\n",
    "len(area_stats_gdf >> mask(X.development_ratio > percentile_val))"
   ]
  },
  {
   "cell_type": "code",
   "execution_count": null,
   "id": "afeed3ee",
   "metadata": {},
   "outputs": [],
   "source": []
  },
  {
   "cell_type": "code",
   "execution_count": null,
   "id": "525635ae",
   "metadata": {},
   "outputs": [],
   "source": []
  },
  {
   "cell_type": "code",
   "execution_count": 218,
   "id": "c81b5e6a",
   "metadata": {},
   "outputs": [],
   "source": [
    "# pct_val = 10\n",
    "\n",
    "# # get the percentile val\n",
    "# percentile_val = area_stats.reduceColumns(\n",
    "#                                 reducer=ee.Reducer.percentile([pct_val]),\n",
    "#                                 selectors=['development_ratio']).getInfo()[f'p{pct_val}']\n",
    "\n",
    "# #  how many box are being maked\n",
    "# area_stats.filter(ee.Filter.greaterThan('development_ratio',percentile_val)).size().getInfo()"
   ]
  },
  {
   "cell_type": "code",
   "execution_count": null,
   "id": "0bce2b12",
   "metadata": {},
   "outputs": [],
   "source": []
  },
  {
   "cell_type": "code",
   "execution_count": null,
   "id": "a22cffbe",
   "metadata": {},
   "outputs": [],
   "source": []
  },
  {
   "cell_type": "markdown",
   "id": "b672a6eb",
   "metadata": {},
   "source": [
    "### update the classification where the development_ratio > percentile_val"
   ]
  },
  {
   "cell_type": "code",
   "execution_count": 219,
   "id": "686de1ef",
   "metadata": {},
   "outputs": [],
   "source": [
    "def masking_use_percentile(in_img,in_fecol,in_percentil):\n",
    "    # 1) split the img using the percntile value\n",
    "    img_gt_percentil = in_img.clip(area_stats.filter(ee.Filter.greaterThan('development_ratio',percentile_val)))\n",
    "    img_lt_percentil = in_img.clip(area_stats.filter(ee.Filter.lessThanOrEquals('development_ratio',percentile_val)))\n",
    "    \n",
    "    # 2) update the pixels in the grid where the development_ratio > perceltile_val\n",
    "    img_gt_percentil = img_gt_percentil.multiply(COPERNICUS_urban)\n",
    "    \n",
    "    \n",
    "    return ee.ImageCollection([img_gt_percentil.toInt8(),img_lt_percentil.toInt8()]).mosaic()"
   ]
  },
  {
   "cell_type": "code",
   "execution_count": null,
   "id": "dbc4d191",
   "metadata": {},
   "outputs": [],
   "source": []
  },
  {
   "cell_type": "code",
   "execution_count": 220,
   "id": "29572f9a",
   "metadata": {},
   "outputs": [],
   "source": [
    "# mask the classification img\n",
    "masked_img = masking_use_percentile(classified_img,area_stats,percentile_val)"
   ]
  },
  {
   "cell_type": "code",
   "execution_count": null,
   "id": "bd53cc9a",
   "metadata": {},
   "outputs": [],
   "source": []
  },
  {
   "cell_type": "code",
   "execution_count": null,
   "id": "e487dec3",
   "metadata": {},
   "outputs": [],
   "source": []
  },
  {
   "cell_type": "code",
   "execution_count": 221,
   "id": "6d57cc64",
   "metadata": {},
   "outputs": [
    {
     "data": {
      "application/vnd.jupyter.widget-view+json": {
       "model_id": "7a09094625044a3094561a30d8b7f4a3",
       "version_major": 2,
       "version_minor": 0
      },
      "text/plain": [
       "Map(center=[31.20907473717083, 120.33219382209627], controls=(WidgetControl(options=['position', 'transparent_…"
      ]
     },
     "execution_count": 221,
     "metadata": {},
     "output_type": "execute_result"
    }
   ],
   "source": [
    "# add the img to map\n",
    "Map = geemap.Map()\n",
    "Map.centerObject(Region,10)\n",
    "Map.add_basemap('HYBRID')\n",
    "\n",
    "# # create a color ramp for mosaiced img\n",
    "# Mosaic_VIS = {\"opacity\":1,'min':0,\"max\":11,\n",
    "#               \"palette\":[\"000000\",\"3288bd\",\"66c2a5\",\"abdda4\",\"e6f598\",\n",
    "#                          \"ffffbf\",\"fee08b\",\"fdae61\",\"f46d43\",\"d53e4f\",\"9e0142\"]}\n",
    "\n",
    "# add image to map\n",
    "Map.addLayer(classified_img.gt(0),   {'min':0,\"max\":1}, 'old')\n",
    "Map.addLayer(masked_img,             {'min':0,\"max\":1}, 'new')\n",
    "\n",
    "Map"
   ]
  },
  {
   "cell_type": "code",
   "execution_count": null,
   "id": "605f565b",
   "metadata": {},
   "outputs": [],
   "source": []
  },
  {
   "cell_type": "code",
   "execution_count": null,
   "id": "d525c286",
   "metadata": {},
   "outputs": [],
   "source": []
  },
  {
   "cell_type": "markdown",
   "id": "346d0bab",
   "metadata": {},
   "source": [
    "### Export img"
   ]
  },
  {
   "cell_type": "code",
   "execution_count": 222,
   "id": "a3615111",
   "metadata": {},
   "outputs": [],
   "source": [
    "# Export the result\n",
    "export_name = f'Mosaic_only_forward_{region_en}_diff_checked_2020_2022'\n",
    "img_out_path = 'users/wangjinzhulala/China_built_up/06_temporal_corrected_classification'\n",
    "\n",
    "#export to GEE assset\n",
    "task = ee.batch.Export.image.toAsset(    \n",
    "                                        image= masked_img,\n",
    "                                        description=export_name,\n",
    "                                        assetId=f'{img_out_path}/{export_name}',\n",
    "                                        region=Region.geometry(),\n",
    "                                        scale=30,\n",
    "                                        maxPixels=int(1e13)\n",
    ")\n",
    "\n",
    "\n",
    "task.start()\n",
    "    "
   ]
  },
  {
   "cell_type": "code",
   "execution_count": null,
   "id": "258a7daf",
   "metadata": {},
   "outputs": [],
   "source": []
  },
  {
   "cell_type": "code",
   "execution_count": null,
   "id": "17419945",
   "metadata": {},
   "outputs": [],
   "source": []
  },
  {
   "cell_type": "code",
   "execution_count": null,
   "id": "abb0e1a2",
   "metadata": {},
   "outputs": [],
   "source": []
  },
  {
   "cell_type": "code",
   "execution_count": null,
   "id": "619d9777",
   "metadata": {},
   "outputs": [],
   "source": []
  },
  {
   "cell_type": "code",
   "execution_count": null,
   "id": "7f938330",
   "metadata": {},
   "outputs": [],
   "source": []
  },
  {
   "cell_type": "code",
   "execution_count": null,
   "id": "2f4ae47a",
   "metadata": {},
   "outputs": [],
   "source": []
  }
 ],
 "metadata": {
  "kernelspec": {
   "display_name": "Python 3 (ipykernel)",
   "language": "python",
   "name": "python3"
  },
  "language_info": {
   "codemirror_mode": {
    "name": "ipython",
    "version": 3
   },
   "file_extension": ".py",
   "mimetype": "text/x-python",
   "name": "python",
   "nbconvert_exporter": "python",
   "pygments_lexer": "ipython3",
   "version": "3.10.9"
  }
 },
 "nbformat": 4,
 "nbformat_minor": 5
}
