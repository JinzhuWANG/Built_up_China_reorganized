{
 "cells": [
  {
   "cell_type": "code",
   "execution_count": 12,
   "id": "9e4d1c0d",
   "metadata": {},
   "outputs": [],
   "source": [
    "import pandas as pd\n",
    "import geopandas as gpd\n",
    "import numpy as np\n",
    "import matplotlib.pyplot as plt\n",
    "from scipy.optimize import curve_fit\n",
    "\n",
    "import rasterio\n",
    "\n",
    "from tqdm.auto import tqdm\n",
    "import plotnine\n",
    "from plotnine import *"
   ]
  },
  {
   "cell_type": "code",
   "execution_count": null,
   "id": "6c93f362",
   "metadata": {},
   "outputs": [],
   "source": []
  },
  {
   "cell_type": "code",
   "execution_count": 2,
   "id": "21f008de",
   "metadata": {},
   "outputs": [],
   "source": [
    "# read data\n",
    "classification_img = rasterio.open('Data/Mosaic_China_1990_2022.tif')\n",
    "classification_img_arry = classification_img.read()\n",
    "\n",
    "# the tile box\n",
    "tile_box_China = gpd.read_file('Data/split_box_China.shp')"
   ]
  },
  {
   "cell_type": "code",
   "execution_count": null,
   "id": "d81e511e",
   "metadata": {},
   "outputs": [],
   "source": []
  },
  {
   "cell_type": "markdown",
   "id": "53947923",
   "metadata": {},
   "source": [
    "### iterate each tile_box, see if the latest urban area exceed the confidence range of historical development\n",
    "- pixel count of 500 is approaxmatelly the 20 perceltile of pixel_count for all grid cells"
   ]
  },
  {
   "cell_type": "code",
   "execution_count": null,
   "id": "ad1e5284",
   "metadata": {},
   "outputs": [],
   "source": []
  },
  {
   "cell_type": "code",
   "execution_count": 45,
   "id": "fdfe5d38",
   "metadata": {},
   "outputs": [],
   "source": [
    "# Define the curve_func function to fit\n",
    "def curve_func(x, a, b):\n",
    "    return a * np.log(x) + b\n",
    "\n",
    "# the function to check if the prediction exceed the range of confidence interval\n",
    "def check_pred(pix_val,pix_cusum_count,in_func=curve_func,se_gap=1):\n",
    "\n",
    "    # by defacult, the last value is the one to be checked\n",
    "    X = pix_val[:-1]\n",
    "    y = pix_cusum_count[:-1]\n",
    "\n",
    "    # Perform the exponential fit using curve_fit\n",
    "    params, covariance = curve_fit(in_func, X, y)\n",
    "\n",
    "    # Get the optimized parameters a and b\n",
    "    a, b = params\n",
    "\n",
    "    # Get the standard deviations of the parameters (square root of the diagonal elements of the covariance matrix)\n",
    "    param_errors = np.sqrt(np.diag(covariance))\n",
    "\n",
    "    # Calculate the confidence interval for each parameter (assuming a normal distribution)\n",
    "    conf_interval = se_gap * param_errors\n",
    "\n",
    "    # Calculate the lower and upper bounds of the confidence interval\n",
    "    a_lower_bound, a_upper_bound = a - conf_interval[0], a + conf_interval[0]\n",
    "    b_lower_bound, b_upper_bound = b - conf_interval[1], b + conf_interval[1]\n",
    "\n",
    "    # get the pred val and actual_val\n",
    "    actual_X = pix_val[-1]\n",
    "    actual_y = pix_cusum_count[-1]\n",
    "\n",
    "    pred_low = in_func(actual_X, a_lower_bound, b_lower_bound)\n",
    "    pred_upp = in_func(actual_X, a_upper_bound, b_upper_bound) \n",
    "\n",
    "\n",
    "    # check if the actual_y exceed the confidence range\n",
    "    if (actual_y < pred_low) or (actual_y > pred_upp):\n",
    "        return 'exceed'\n",
    "    else:\n",
    "        return 'no_exceed'"
   ]
  },
  {
   "cell_type": "code",
   "execution_count": null,
   "id": "b04f67b0",
   "metadata": {},
   "outputs": [],
   "source": []
  },
  {
   "cell_type": "code",
   "execution_count": 73,
   "id": "f889081c",
   "metadata": {},
   "outputs": [],
   "source": [
    "# function to check if the latest urban area exceed the confidence range of historical development\n",
    "def check_if_exceed_trend(row,in_img=classification_img,in_array=classification_img_arry):\n",
    "    \n",
    "    # get the upper-left coordinates\n",
    "    box = row.geometry.bounds\n",
    "    lon,lat = box[0],box[3]\n",
    "    \n",
    "    # lon/lat --> col/row\n",
    "    row,col = in_img.index(lon,lat)\n",
    "    \n",
    "    # subset array using col/row\n",
    "    array_in_box = in_array[0][row:row+1024,col:col+1024]\n",
    "    array_in_box_shape = array_in_box.shape\n",
    "    \n",
    "    # 1) if the total urban pixel < 500, then skip\n",
    "    if (array_in_box > 0).sum() < 500:\n",
    "        return 'skipped'\n",
    "\n",
    "    # 2) check if the classified urban pixels exceed historical trojectory\n",
    "    pix_val, pix_count = np.unique(array_in_box, return_counts=True)\n",
    "    # skip if the pix_val are too less to fit\n",
    "    if len(pix_val) < 5:\n",
    "        return 'skipped'\n",
    "    else:\n",
    "        # remove the pix val == 0, and make the count cumulative\n",
    "        pix_val = pix_val[1:]\n",
    "        pix_count = np.cumsum(pix_count[1:])\n",
    "        return check_pred(pix_val,pix_count)"
   ]
  },
  {
   "cell_type": "code",
   "execution_count": null,
   "id": "7153258f",
   "metadata": {},
   "outputs": [],
   "source": []
  },
  {
   "cell_type": "code",
   "execution_count": null,
   "id": "63af540b",
   "metadata": {},
   "outputs": [
    {
     "data": {
      "application/vnd.jupyter.widget-view+json": {
       "model_id": "a8c582742f1d4d78bd34f92e0d432780",
       "version_major": 2,
       "version_minor": 0
      },
      "text/plain": [
       "  0%|          | 0/13299 [00:00<?, ?it/s]"
      ]
     },
     "metadata": {},
     "output_type": "display_data"
    }
   ],
   "source": [
    "# check each grid cell\n",
    "check_result = []\n",
    "for idx,row in tqdm(tile_box_China.iterrows(),total=len(tile_box_China)):\n",
    "    check_result.append(check_if_exceed_trend(row))"
   ]
  },
  {
   "cell_type": "code",
   "execution_count": null,
   "id": "d09b54b3",
   "metadata": {},
   "outputs": [],
   "source": []
  },
  {
   "cell_type": "code",
   "execution_count": null,
   "id": "1b5f10f2",
   "metadata": {},
   "outputs": [],
   "source": []
  },
  {
   "cell_type": "code",
   "execution_count": null,
   "id": "4a1a61ab",
   "metadata": {},
   "outputs": [],
   "source": []
  },
  {
   "cell_type": "code",
   "execution_count": null,
   "id": "14c44e95",
   "metadata": {},
   "outputs": [],
   "source": []
  },
  {
   "cell_type": "code",
   "execution_count": null,
   "id": "7e4e44ec",
   "metadata": {},
   "outputs": [],
   "source": []
  },
  {
   "cell_type": "code",
   "execution_count": null,
   "id": "0ce9250b",
   "metadata": {},
   "outputs": [],
   "source": []
  },
  {
   "cell_type": "code",
   "execution_count": null,
   "id": "6e8f9802",
   "metadata": {},
   "outputs": [],
   "source": []
  },
  {
   "cell_type": "code",
   "execution_count": null,
   "id": "6145e9d3",
   "metadata": {},
   "outputs": [],
   "source": []
  },
  {
   "cell_type": "code",
   "execution_count": null,
   "id": "85e3b327",
   "metadata": {},
   "outputs": [],
   "source": []
  },
  {
   "cell_type": "code",
   "execution_count": null,
   "id": "c3e338fa",
   "metadata": {},
   "outputs": [],
   "source": []
  },
  {
   "cell_type": "code",
   "execution_count": null,
   "id": "9f99316b",
   "metadata": {},
   "outputs": [],
   "source": []
  },
  {
   "cell_type": "code",
   "execution_count": null,
   "id": "dfdeccf2",
   "metadata": {},
   "outputs": [],
   "source": []
  },
  {
   "cell_type": "code",
   "execution_count": null,
   "id": "bf3778c3",
   "metadata": {},
   "outputs": [],
   "source": []
  },
  {
   "cell_type": "code",
   "execution_count": null,
   "id": "c1d6b582",
   "metadata": {},
   "outputs": [],
   "source": []
  },
  {
   "cell_type": "code",
   "execution_count": null,
   "id": "4cc506d5",
   "metadata": {},
   "outputs": [],
   "source": []
  },
  {
   "cell_type": "code",
   "execution_count": null,
   "id": "348a3306",
   "metadata": {},
   "outputs": [],
   "source": []
  },
  {
   "cell_type": "code",
   "execution_count": null,
   "id": "c9aa714b",
   "metadata": {},
   "outputs": [],
   "source": []
  }
 ],
 "metadata": {
  "kernelspec": {
   "display_name": "Python 3 (ipykernel)",
   "language": "python",
   "name": "python3"
  },
  "language_info": {
   "codemirror_mode": {
    "name": "ipython",
    "version": 3
   },
   "file_extension": ".py",
   "mimetype": "text/x-python",
   "name": "python",
   "nbconvert_exporter": "python",
   "pygments_lexer": "ipython3",
   "version": "3.10.9"
  }
 },
 "nbformat": 4,
 "nbformat_minor": 5
}
