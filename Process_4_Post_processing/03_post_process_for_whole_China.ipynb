{
 "cells": [
  {
   "cell_type": "code",
   "execution_count": 79,
   "id": "d88b02e9",
   "metadata": {},
   "outputs": [],
   "source": [
    "import pandas as pd\n",
    "import geopandas as gpd\n",
    "import numpy as np\n",
    "import matplotlib.pyplot as plt\n",
    "from scipy.optimize import curve_fit\n",
    "\n",
    "import rasterio\n",
    "\n",
    "from tqdm.auto import tqdm\n",
    "import plotnine\n",
    "from plotnine import *\n",
    "from dfply import *"
   ]
  },
  {
   "cell_type": "code",
   "execution_count": null,
   "id": "489fc59e",
   "metadata": {},
   "outputs": [],
   "source": []
  },
  {
   "cell_type": "code",
   "execution_count": 2,
   "id": "5449428e",
   "metadata": {},
   "outputs": [],
   "source": [
    "# read data\n",
    "classification_img = rasterio.open('Data/Mosaic_China_1990_2022.tif')\n",
    "classification_img_arry = classification_img.read()\n",
    "\n",
    "# the tile box\n",
    "tile_box_China = gpd.read_file('Data/split_box_China.shp')"
   ]
  },
  {
   "cell_type": "code",
   "execution_count": null,
   "id": "c39bdfd4",
   "metadata": {},
   "outputs": [],
   "source": []
  },
  {
   "cell_type": "markdown",
   "id": "9867dcd3",
   "metadata": {},
   "source": [
    "### iterate each tile_box, see if the latest urban area exceed the confidence range of historical development\n",
    "- pixel count of 500 is approaxmatelly the 20 perceltile of pixel_count for all grid cells"
   ]
  },
  {
   "cell_type": "code",
   "execution_count": null,
   "id": "f8e18313",
   "metadata": {},
   "outputs": [],
   "source": []
  },
  {
   "cell_type": "code",
   "execution_count": 99,
   "id": "2391d98e",
   "metadata": {},
   "outputs": [],
   "source": [
    "# Define the curve_func function to fit\n",
    "def curve_func(x, a, b):\n",
    "    return a * np.log(x) + b\n",
    "\n",
    "# the function to check if the prediction exceed the range of confidence interval\n",
    "def check_pred(pix_val,pix_cusum_count,in_func=curve_func,se_gap=1.96):\n",
    "\n",
    "    # by defacult, the last value is the one to be checked\n",
    "    X = pix_val[:-1]\n",
    "    y = pix_cusum_count[:-1]\n",
    "\n",
    "    # Perform the exponential fit using curve_fit\n",
    "    params, covariance = curve_fit(in_func, X, y)\n",
    "\n",
    "    # Get the optimized parameters a and b\n",
    "    a, b = params\n",
    "\n",
    "    # Get the standard deviations of the parameters (square root of the diagonal elements of the covariance matrix)\n",
    "    param_errors = np.sqrt(np.diag(covariance))\n",
    "\n",
    "    # Calculate the confidence interval for each parameter (assuming a normal distribution)\n",
    "    conf_interval = se_gap * param_errors\n",
    "\n",
    "    # Calculate the lower and upper bounds of the confidence interval\n",
    "    a_lower_bound, a_upper_bound = a - conf_interval[0], a + conf_interval[0]\n",
    "    b_lower_bound, b_upper_bound = b - conf_interval[1], b + conf_interval[1]\n",
    "\n",
    "    # get the pred val and actual_val\n",
    "    actual_X = pix_val[-1]\n",
    "    actual_y = pix_cusum_count[-1]\n",
    "\n",
    "    pred_low = in_func(actual_X, a_lower_bound, b_lower_bound)\n",
    "    pred_upp = in_func(actual_X, a_upper_bound, b_upper_bound) \n",
    "\n",
    "\n",
    "    # check if the actual_y exceed the confidence range\n",
    "    if (actual_y < pred_low) or (actual_y > pred_upp):\n",
    "        return 'exceed'\n",
    "    else:\n",
    "        return 'no_exceed'"
   ]
  },
  {
   "cell_type": "code",
   "execution_count": null,
   "id": "6cb3e739",
   "metadata": {},
   "outputs": [],
   "source": []
  },
  {
   "cell_type": "code",
   "execution_count": 100,
   "id": "3473daf5",
   "metadata": {},
   "outputs": [],
   "source": [
    "# function to check if the latest urban area exceed the confidence range of historical development\n",
    "def check_if_exceed_trend(row,in_img=classification_img,in_array=classification_img_arry):\n",
    "    \n",
    "    # get the upper-left coordinates\n",
    "    box = row.geometry.bounds\n",
    "    lon,lat = box[0],box[3]\n",
    "    \n",
    "    # lon/lat --> col/row\n",
    "    row,col = in_img.index(lon,lat)\n",
    "    \n",
    "    # subset array using col/row\n",
    "    array_in_box = in_array[0][row:row+1024,col:col+1024]\n",
    "    array_in_box_shape = array_in_box.shape\n",
    "    \n",
    "    # 1) if the total urban pixel < 500, then skip\n",
    "    if (array_in_box > 0).sum() < 500:\n",
    "        return 'skipped'\n",
    "\n",
    "    # 2) check if the classified urban pixels exceed historical trojectory\n",
    "    pix_val, pix_count = np.unique(array_in_box, return_counts=True)\n",
    "    # skip if the pix_val are too less to fit\n",
    "    if len(pix_val) < 5:\n",
    "        return 'skipped'\n",
    "    else:\n",
    "        # remove the pix val == 0, and make the count cumulative\n",
    "        pix_val = pix_val[1:]\n",
    "        pix_count = np.cumsum(pix_count[1:])\n",
    "        return check_pred(pix_val,pix_count)"
   ]
  },
  {
   "cell_type": "code",
   "execution_count": null,
   "id": "56543e2e",
   "metadata": {},
   "outputs": [],
   "source": []
  },
  {
   "cell_type": "code",
   "execution_count": 101,
   "id": "5c5b7d88",
   "metadata": {},
   "outputs": [
    {
     "data": {
      "application/vnd.jupyter.widget-view+json": {
       "model_id": "eb8ac953bff14709b9e4c53666494e43",
       "version_major": 2,
       "version_minor": 0
      },
      "text/plain": [
       "  0%|          | 0/13299 [00:00<?, ?it/s]"
      ]
     },
     "metadata": {},
     "output_type": "display_data"
    }
   ],
   "source": [
    "# check each grid cell\n",
    "check_result = []\n",
    "for idx,row in tqdm(tile_box_China.iterrows(),total=len(tile_box_China)):\n",
    "    check_result.append(check_if_exceed_trend(row))"
   ]
  },
  {
   "cell_type": "code",
   "execution_count": null,
   "id": "892599ee",
   "metadata": {},
   "outputs": [],
   "source": []
  },
  {
   "cell_type": "code",
   "execution_count": 102,
   "id": "4ba4523d",
   "metadata": {},
   "outputs": [
    {
     "data": {
      "text/plain": [
       "3481"
      ]
     },
     "execution_count": 102,
     "metadata": {},
     "output_type": "execute_result"
    }
   ],
   "source": [
    "# filter tile_box_China\n",
    "tile_box_China['check_result'] = check_result\n",
    "tiler_grids = tile_box_China >> mask(X.check_result == 'exceed')\n",
    "len(tiler_grids)"
   ]
  },
  {
   "cell_type": "code",
   "execution_count": null,
   "id": "23181e09",
   "metadata": {},
   "outputs": [],
   "source": []
  },
  {
   "cell_type": "code",
   "execution_count": 104,
   "id": "c7340a09",
   "metadata": {},
   "outputs": [],
   "source": [
    "# export to disk for later use\n",
    "tiler_grids_select.to_file('Data/tiler_grids_select.shp')"
   ]
  },
  {
   "cell_type": "code",
   "execution_count": null,
   "id": "0b77ddab",
   "metadata": {},
   "outputs": [],
   "source": []
  },
  {
   "cell_type": "code",
   "execution_count": null,
   "id": "90056f0c",
   "metadata": {},
   "outputs": [],
   "source": []
  },
  {
   "cell_type": "code",
   "execution_count": null,
   "id": "e46d13e4",
   "metadata": {},
   "outputs": [],
   "source": []
  },
  {
   "cell_type": "code",
   "execution_count": null,
   "id": "a43e9a23",
   "metadata": {},
   "outputs": [],
   "source": []
  },
  {
   "cell_type": "code",
   "execution_count": null,
   "id": "553faaca",
   "metadata": {},
   "outputs": [],
   "source": []
  },
  {
   "cell_type": "markdown",
   "id": "4998edaf",
   "metadata": {},
   "source": [
    "### use the fitlered grid to mask the classification img"
   ]
  },
  {
   "cell_type": "code",
   "execution_count": null,
   "id": "c3a0c6c8",
   "metadata": {},
   "outputs": [],
   "source": []
  },
  {
   "cell_type": "code",
   "execution_count": 87,
   "id": "41f5c86f",
   "metadata": {},
   "outputs": [],
   "source": [
    "import ee\n",
    "from geojson import Feature,FeatureCollection\n",
    "from shapely.geometry import shape\n",
    "import geemap"
   ]
  },
  {
   "cell_type": "code",
   "execution_count": 86,
   "id": "b7cc086d",
   "metadata": {},
   "outputs": [],
   "source": [
    "ee.Initialize()"
   ]
  },
  {
   "cell_type": "code",
   "execution_count": null,
   "id": "18c7fefd",
   "metadata": {},
   "outputs": [],
   "source": []
  },
  {
   "cell_type": "code",
   "execution_count": 96,
   "id": "b8ed468d",
   "metadata": {},
   "outputs": [],
   "source": [
    "# read the data\n",
    "tiler_grids_select = gpd.read_file('Data/tiler_grids_select.shp')\n",
    "tiler_grids_select_fe_col = ee.FeatureCollection(FeatureCollection([Feature(geometry=geo) for geo in tiler_grids_select.geometry]))\n",
    "\n",
    "COPERNICUS_urban = ee.Image(f'COPERNICUS/Landcover/100m/Proba-V-C3/Global/2019').select(\"urban-coverfraction\").gt(10)\n",
    "classification_img_ee = ee"
   ]
  },
  {
   "cell_type": "code",
   "execution_count": null,
   "id": "a5640bc8",
   "metadata": {},
   "outputs": [],
   "source": []
  },
  {
   "cell_type": "code",
   "execution_count": null,
   "id": "b0b18079",
   "metadata": {},
   "outputs": [],
   "source": []
  },
  {
   "cell_type": "code",
   "execution_count": null,
   "id": "e0d5de75",
   "metadata": {},
   "outputs": [],
   "source": []
  },
  {
   "cell_type": "code",
   "execution_count": null,
   "id": "12d56ebe",
   "metadata": {},
   "outputs": [],
   "source": []
  },
  {
   "cell_type": "code",
   "execution_count": null,
   "id": "158fa0d0",
   "metadata": {},
   "outputs": [],
   "source": [
    "# add the img to map\n",
    "Map = geemap.Map()\n",
    "Map.centerObject(Region,10)\n",
    "Map.add_basemap('HYBRID')\n",
    "\n",
    "# # create a color ramp for mosaiced img\n",
    "# Mosaic_VIS = {\"opacity\":1,'min':0,\"max\":11,\n",
    "#               \"palette\":[\"000000\",\"3288bd\",\"66c2a5\",\"abdda4\",\"e6f598\",\n",
    "#                          \"ffffbf\",\"fee08b\",\"fdae61\",\"f46d43\",\"d53e4f\",\"9e0142\"]}\n",
    "\n",
    "# add image to map\n",
    "Map.addLayer(classified_img.gt(0),   {'min':0,\"max\":1}, 'old')\n",
    "Map.addLayer(masked_img,             {'min':0,\"max\":1}, 'new')\n",
    "\n",
    "Map"
   ]
  },
  {
   "cell_type": "code",
   "execution_count": null,
   "id": "3a7d6f9e",
   "metadata": {},
   "outputs": [],
   "source": []
  },
  {
   "cell_type": "code",
   "execution_count": null,
   "id": "7c088329",
   "metadata": {},
   "outputs": [],
   "source": []
  },
  {
   "cell_type": "code",
   "execution_count": null,
   "id": "68f4e5a4",
   "metadata": {},
   "outputs": [],
   "source": []
  },
  {
   "cell_type": "code",
   "execution_count": null,
   "id": "92d8dd8d",
   "metadata": {},
   "outputs": [],
   "source": []
  },
  {
   "cell_type": "code",
   "execution_count": null,
   "id": "e227e6c3",
   "metadata": {},
   "outputs": [],
   "source": []
  },
  {
   "cell_type": "code",
   "execution_count": null,
   "id": "998b15a8",
   "metadata": {},
   "outputs": [],
   "source": []
  },
  {
   "cell_type": "code",
   "execution_count": null,
   "id": "27346376",
   "metadata": {},
   "outputs": [],
   "source": []
  },
  {
   "cell_type": "code",
   "execution_count": null,
   "id": "a80c5143",
   "metadata": {},
   "outputs": [],
   "source": []
  }
 ],
 "metadata": {
  "kernelspec": {
   "display_name": "Python 3 (ipykernel)",
   "language": "python",
   "name": "python3"
  },
  "language_info": {
   "codemirror_mode": {
    "name": "ipython",
    "version": 3
   },
   "file_extension": ".py",
   "mimetype": "text/x-python",
   "name": "python",
   "nbconvert_exporter": "python",
   "pygments_lexer": "ipython3",
   "version": "3.10.9"
  }
 },
 "nbformat": 4,
 "nbformat_minor": 5
}
