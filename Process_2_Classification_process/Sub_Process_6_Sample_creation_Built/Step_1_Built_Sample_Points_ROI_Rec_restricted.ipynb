{
 "cells": [
  {
   "cell_type": "code",
   "execution_count": 18,
   "metadata": {},
   "outputs": [],
   "source": [
    "import os\n",
    "\n",
    "# Set the proxy environment variables\n",
    "os.environ['http_proxy'] = 'http://127.0.0.1:7890'\n",
    "os.environ['https_proxy'] = 'http://127.0.0.1:7890'"
   ]
  },
  {
   "cell_type": "code",
   "execution_count": null,
   "metadata": {},
   "outputs": [],
   "source": []
  },
  {
   "cell_type": "code",
   "execution_count": 2,
   "metadata": {},
   "outputs": [],
   "source": [
    "import ee\n",
    "import geemap\n",
    "import pprint"
   ]
  },
  {
   "cell_type": "code",
   "execution_count": 3,
   "metadata": {},
   "outputs": [],
   "source": [
    "ee.Initialize()"
   ]
  },
  {
   "cell_type": "code",
   "execution_count": null,
   "metadata": {},
   "outputs": [],
   "source": []
  },
  {
   "cell_type": "markdown",
   "metadata": {},
   "source": [
    "### Define basic parameters"
   ]
  },
  {
   "cell_type": "code",
   "execution_count": null,
   "metadata": {},
   "outputs": [],
   "source": []
  },
  {
   "cell_type": "code",
   "execution_count": 5,
   "metadata": {},
   "outputs": [],
   "source": [
    "Region_cn = '华北'\n",
    "Region_en = 'huabei'"
   ]
  },
  {
   "cell_type": "code",
   "execution_count": null,
   "metadata": {},
   "outputs": [],
   "source": []
  },
  {
   "cell_type": "code",
   "execution_count": 6,
   "metadata": {},
   "outputs": [],
   "source": [
    "# import the region_shp\n",
    "Region_shp = ee.FeatureCollection(\"users/wangjinzhulala/China_built_up/01_Boundary_shp/China_zone\")\\\n",
    "                     .filterMetadata('NAME1','equals',Region_cn)"
   ]
  },
  {
   "cell_type": "code",
   "execution_count": 7,
   "metadata": {},
   "outputs": [],
   "source": [
    "# import the 20km_grid; We will randomly select one built_pt form it for validation purpose\n",
    "Region_20km_grid = ee.FeatureCollection(\"users/wangjinzhulala/China_built_up/01_Boundary_shp/China_zone_grid_20km\")\\\n",
    "                     .filterMetadata('NAME1','equals',Region_cn)"
   ]
  },
  {
   "cell_type": "code",
   "execution_count": 8,
   "metadata": {},
   "outputs": [],
   "source": [
    "# import the China_ROI_Rectange; We will randomly select one built_pt form it for img_classification purpose\n",
    "ROI_Rectange = ee.FeatureCollection(\"users/wangjinzhulala/China_built_up/01_Boundary_shp/China_ROI_rectangle\")\\\n",
    "                 .filterBounds(Region_20km_grid)"
   ]
  },
  {
   "cell_type": "code",
   "execution_count": 28,
   "metadata": {},
   "outputs": [],
   "source": [
    "# import the Administration points of China; \n",
    "Admin_pt = ee.FeatureCollection(\"users/wangjinzhulala/China_built_up/01_Boundary_shp/China_villages_30k\")\\\n",
    "             .filterBounds(Region_20km_grid)"
   ]
  },
  {
   "cell_type": "code",
   "execution_count": null,
   "metadata": {},
   "outputs": [],
   "source": []
  },
  {
   "cell_type": "markdown",
   "metadata": {},
   "source": [
    "### For each rectangle, only select one point for all Admin_pt within "
   ]
  },
  {
   "cell_type": "markdown",
   "metadata": {},
   "source": [
    "##### Define spatial join "
   ]
  },
  {
   "cell_type": "code",
   "execution_count": 30,
   "metadata": {},
   "outputs": [],
   "source": [
    "# Define a spatial filter, with distance 10 m.\n",
    "Intersect_Filter = ee.Filter.intersects(leftField  = '.geo',\n",
    "                                        rightField = '.geo',\n",
    "                                        maxError   = 10)"
   ]
  },
  {
   "cell_type": "code",
   "execution_count": 31,
   "metadata": {},
   "outputs": [],
   "source": [
    "# Define a join, save all points.\n",
    "Intersect_SaveAll = ee.Join.saveAll(matchesKey = 'points')"
   ]
  },
  {
   "cell_type": "code",
   "execution_count": null,
   "metadata": {},
   "outputs": [],
   "source": []
  },
  {
   "cell_type": "markdown",
   "metadata": {},
   "source": [
    "##### First get the Built_up_pts constrained by China_Rec_20km"
   ]
  },
  {
   "cell_type": "code",
   "execution_count": 32,
   "metadata": {},
   "outputs": [],
   "source": [
    "# define a fuction that get the points out of the rectangle and only chose one of them\n",
    "def chose_one_pt(fe):\n",
    "    \n",
    "    pts = ee.List(fe.get('points'))\n",
    "    one_pt = ee.FeatureCollection(pts).randomColumn().sort('random').first()  \n",
    "    \n",
    "    return one_pt"
   ]
  },
  {
   "cell_type": "code",
   "execution_count": null,
   "metadata": {},
   "outputs": [],
   "source": []
  },
  {
   "cell_type": "code",
   "execution_count": 33,
   "metadata": {},
   "outputs": [],
   "source": [
    "# Apply the intersect_join\n",
    "China_Rec_intersect_point = Intersect_SaveAll.apply(Region_20km_grid,Admin_pt,Intersect_Filter)\n",
    "\n",
    "# only select one point from the intersection\n",
    "China_Rec_intersect_point_one = China_Rec_intersect_point.map(lambda fe: chose_one_pt(fe))"
   ]
  },
  {
   "cell_type": "code",
   "execution_count": null,
   "metadata": {},
   "outputs": [],
   "source": []
  },
  {
   "cell_type": "code",
   "execution_count": 34,
   "metadata": {},
   "outputs": [],
   "source": [
    "Num_China_20km_constrained = China_Rec_intersect_point_one.size().getInfo()"
   ]
  },
  {
   "cell_type": "code",
   "execution_count": null,
   "metadata": {},
   "outputs": [],
   "source": []
  },
  {
   "cell_type": "code",
   "execution_count": null,
   "metadata": {},
   "outputs": [],
   "source": []
  },
  {
   "cell_type": "markdown",
   "metadata": {},
   "source": [
    "##### Using the Num_China_20km_constrained to limit the number of ROI_Rectangle"
   ]
  },
  {
   "cell_type": "code",
   "execution_count": 36,
   "metadata": {},
   "outputs": [],
   "source": [
    "ROI_Rectange_fit_China_20km = ROI_Rectange.randomColumn().sort('random').limit(Num_China_20km_constrained)"
   ]
  },
  {
   "cell_type": "code",
   "execution_count": 37,
   "metadata": {},
   "outputs": [],
   "source": [
    "# get the ROI_constraiend points\n",
    "ROI_intersect_point     = Intersect_SaveAll.apply(ROI_Rectange_fit_China_20km,Admin_pt,Intersect_Filter)\n",
    "ROI_intersect_point_one = ROI_intersect_point.map(lambda fe: chose_one_pt(fe))"
   ]
  },
  {
   "cell_type": "code",
   "execution_count": null,
   "metadata": {},
   "outputs": [],
   "source": []
  },
  {
   "cell_type": "code",
   "execution_count": null,
   "metadata": {},
   "outputs": [],
   "source": []
  },
  {
   "cell_type": "markdown",
   "metadata": {},
   "source": [
    "##### Remove duplicate points"
   ]
  },
  {
   "cell_type": "code",
   "execution_count": 38,
   "metadata": {},
   "outputs": [],
   "source": [
    "# define a invert join\n",
    "invertedJoin = ee.Join.inverted()\n",
    "\n",
    "# remove the duplicated points in China_Rec_intersect_point_one (compare to ROI_intersect_point_one)\n",
    "China_Rec_not_intersect_ROI = invertedJoin.apply(China_Rec_intersect_point_one,ROI_intersect_point_one, Intersect_Filter)\n",
    "\n",
    "# merge ROI_not_intersect_China_Rec to China_Rec_intersect_point_one\n",
    "Full_Built_points = China_Rec_not_intersect_ROI.merge(ROI_intersect_point_one)"
   ]
  },
  {
   "cell_type": "code",
   "execution_count": null,
   "metadata": {},
   "outputs": [],
   "source": []
  },
  {
   "cell_type": "code",
   "execution_count": null,
   "metadata": {},
   "outputs": [],
   "source": []
  },
  {
   "cell_type": "code",
   "execution_count": 61,
   "metadata": {},
   "outputs": [],
   "source": [
    "for pt,name in zip([China_Rec_not_intersect_ROI,ROI_intersect_point_one],\n",
    "                    ['Built_pt_China_20km','Built_pt_ROI']):  \n",
    "\n",
    "\n",
    "    # define export variables\n",
    "    name        = f'02_{name}_{Region_en}'\n",
    "    export_path = 'users/wangjinzhulala/China_built_up/02_control_sample'\n",
    "\n",
    "    # exporting to gee aeest\n",
    "    task = ee.batch.Export.table.toAsset(   collection  = pt,\n",
    "                                            description = f'{name}',\n",
    "                                            assetId     = f'{export_path}/{name}')\n",
    "    task.start()"
   ]
  },
  {
   "cell_type": "code",
   "execution_count": null,
   "metadata": {},
   "outputs": [],
   "source": []
  },
  {
   "cell_type": "markdown",
   "metadata": {},
   "source": [
    "### Download the points to local drive"
   ]
  },
  {
   "cell_type": "code",
   "execution_count": null,
   "metadata": {},
   "outputs": [],
   "source": []
  },
  {
   "cell_type": "code",
   "execution_count": 39,
   "metadata": {},
   "outputs": [],
   "source": [
    "Built_pt_China_20km = ee.FeatureCollection(f\"users/wangjinzhulala/China_built_up/02_control_sample/02_Built_pt_China_20km_{Region_en}\")\n",
    "Built_pt_ROI = ee.FeatureCollection(f\"users/wangjinzhulala/China_built_up/02_control_sample/02_Built_pt_ROI_{Region_en}\")"
   ]
  },
  {
   "cell_type": "code",
   "execution_count": null,
   "metadata": {},
   "outputs": [],
   "source": []
  },
  {
   "cell_type": "code",
   "execution_count": 15,
   "metadata": {},
   "outputs": [
    {
     "name": "stdout",
     "output_type": "stream",
     "text": [
      "Generating URL ...\n",
      "Downloading data from https://earthengine.googleapis.com/v1alpha/projects/earthengine-legacy/tables/5a03810ce94099f72b86bd5b22f0310d-c25ffdeaaacd386c95a8526e4e4f0a49:getFeatures\n",
      "Please wait ...\n",
      "[WinError 32] The process cannot access the file because it is being used by another process: 'C:\\\\Users\\\\wangj\\\\OneDrive\\\\图片\\\\National_Built_up_map\\\\Process_2_Classification_process\\\\Sub_Process_6_Sample_creation_Built\\\\Raw_shp\\\\Built_pt_grid_20km_huabei.zip'\n",
      "Generating URL ...\n",
      "Downloading data from https://earthengine.googleapis.com/v1alpha/projects/earthengine-legacy/tables/85bca7412dcff927a77fb0389e40cb71-061ab4656a2da578ab5af28088cf0507:getFeatures\n",
      "Please wait ...\n",
      "[WinError 32] The process cannot access the file because it is being used by another process: 'C:\\\\Users\\\\wangj\\\\OneDrive\\\\图片\\\\National_Built_up_map\\\\Process_2_Classification_process\\\\Sub_Process_6_Sample_creation_Built\\\\Raw_shp\\\\Built_pt_ROI_huabei.zip'\n"
     ]
    }
   ],
   "source": [
    "for pt,name in zip([Built_pt_China_20km,Built_pt_ROI],\n",
    "                   ['Built_pt_grid_20km','Built_pt_ROI']):\n",
    "    \n",
    "    geemap.ee_to_shp(pt, filename= f'./Raw_shp/{name}_{Region_en}.shp')"
   ]
  },
  {
   "cell_type": "code",
   "execution_count": null,
   "metadata": {},
   "outputs": [],
   "source": []
  },
  {
   "cell_type": "code",
   "execution_count": null,
   "metadata": {},
   "outputs": [],
   "source": []
  },
  {
   "cell_type": "code",
   "execution_count": null,
   "metadata": {},
   "outputs": [],
   "source": []
  },
  {
   "cell_type": "code",
   "execution_count": null,
   "metadata": {},
   "outputs": [],
   "source": []
  },
  {
   "cell_type": "code",
   "execution_count": null,
   "metadata": {},
   "outputs": [],
   "source": []
  },
  {
   "cell_type": "code",
   "execution_count": null,
   "metadata": {},
   "outputs": [],
   "source": []
  }
 ],
 "metadata": {
  "kernelspec": {
   "display_name": "Python 3 (ipykernel)",
   "language": "python",
   "name": "python3"
  },
  "language_info": {
   "codemirror_mode": {
    "name": "ipython",
    "version": 3
   },
   "file_extension": ".py",
   "mimetype": "text/x-python",
   "name": "python",
   "nbconvert_exporter": "python",
   "pygments_lexer": "ipython3",
   "version": "3.10.9"
  }
 },
 "nbformat": 4,
 "nbformat_minor": 2
}
