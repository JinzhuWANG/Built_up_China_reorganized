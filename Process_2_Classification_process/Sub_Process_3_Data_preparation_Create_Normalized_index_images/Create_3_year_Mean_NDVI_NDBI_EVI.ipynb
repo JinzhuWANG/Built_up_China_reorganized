{
 "cells": [
  {
   "cell_type": "code",
   "execution_count": null,
   "metadata": {},
   "outputs": [],
   "source": []
  },
  {
   "cell_type": "code",
   "execution_count": 1,
   "metadata": {},
   "outputs": [],
   "source": [
    "import os\n",
    "\n",
    "# Set the proxy environment variables\n",
    "os.environ['http_proxy'] = 'http://127.0.0.1:7890'\n",
    "os.environ['https_proxy'] = 'http://127.0.0.1:7890'"
   ]
  },
  {
   "cell_type": "code",
   "execution_count": null,
   "metadata": {},
   "outputs": [],
   "source": []
  },
  {
   "cell_type": "code",
   "execution_count": 2,
   "metadata": {},
   "outputs": [],
   "source": [
    "import ee\n",
    "import geemap"
   ]
  },
  {
   "cell_type": "code",
   "execution_count": 3,
   "metadata": {},
   "outputs": [],
   "source": [
    "ee.Initialize()"
   ]
  },
  {
   "cell_type": "code",
   "execution_count": null,
   "metadata": {},
   "outputs": [],
   "source": []
  },
  {
   "cell_type": "markdown",
   "metadata": {},
   "source": [
    "### Define premise parameter"
   ]
  },
  {
   "cell_type": "code",
   "execution_count": 4,
   "metadata": {},
   "outputs": [],
   "source": [
    "# Define the time-range\n",
    "# just get one_range from every different sensors\n",
    "year_range = [(f'{i}-01-01',f'{i+2}-12-31') for i in range(1990,2023,3)][-1:]"
   ]
  },
  {
   "cell_type": "code",
   "execution_count": 5,
   "metadata": {},
   "outputs": [
    {
     "data": {
      "text/plain": [
       "[('2020-01-01', '2022-12-31')]"
      ]
     },
     "execution_count": 5,
     "metadata": {},
     "output_type": "execute_result"
    }
   ],
   "source": [
    "year_range"
   ]
  },
  {
   "cell_type": "code",
   "execution_count": null,
   "metadata": {},
   "outputs": [],
   "source": []
  },
  {
   "cell_type": "markdown",
   "metadata": {},
   "source": [
    "##### Adjust below code to your research area"
   ]
  },
  {
   "cell_type": "code",
   "execution_count": null,
   "metadata": {},
   "outputs": [],
   "source": []
  },
  {
   "cell_type": "code",
   "execution_count": 10,
   "metadata": {},
   "outputs": [
    {
     "data": {
      "text/plain": [
       "{'东北': 'dongbei',\n",
       " '华北': 'huabei',\n",
       " '华东': 'huadong',\n",
       " '西北': 'xibei',\n",
       " '西南': 'xinan',\n",
       " '中南': 'zhongnan'}"
      ]
     },
     "execution_count": 10,
     "metadata": {},
     "output_type": "execute_result"
    }
   ],
   "source": [
    "# define region EN/CN dict\n",
    "region_name_dict = dict(zip(['东北', '华北', '华东',  '西北', '西南', '中南'],\n",
    "                            ['dongbei', 'huabei', 'huadong', 'xibei', 'xinan', 'zhongnan']))\n",
    "\n",
    "region_name_dict"
   ]
  },
  {
   "cell_type": "code",
   "execution_count": null,
   "metadata": {},
   "outputs": [],
   "source": []
  },
  {
   "cell_type": "code",
   "execution_count": 11,
   "metadata": {},
   "outputs": [],
   "source": [
    "target_regions = ['东北', '华北', '华东',  '中南'] # '西北', '西南'"
   ]
  },
  {
   "cell_type": "code",
   "execution_count": null,
   "metadata": {},
   "outputs": [],
   "source": []
  },
  {
   "cell_type": "code",
   "execution_count": 12,
   "metadata": {},
   "outputs": [],
   "source": [
    "# define the asset path for exporting\n",
    "asset_path = 'users/cnbuilt001/nomalized_index'"
   ]
  },
  {
   "cell_type": "code",
   "execution_count": null,
   "metadata": {},
   "outputs": [],
   "source": []
  },
  {
   "cell_type": "markdown",
   "metadata": {},
   "source": [
    "### [Mean_NDVI, Mean_NDBI, Mean_EVI] calcualtion according to year_range"
   ]
  },
  {
   "cell_type": "code",
   "execution_count": 13,
   "metadata": {},
   "outputs": [
    {
     "name": "stdout",
     "output_type": "stream",
     "text": [
      "Exporting Mean-Normalized-img of NDVI_NDBI_EVI_dongbei_2020_2022\n",
      "Exporting Mean-Normalized-img of NDVI_NDBI_EVI_huabei_2020_2022\n",
      "Exporting Mean-Normalized-img of NDVI_NDBI_EVI_huadong_2020_2022\n",
      "Exporting Mean-Normalized-img of NDVI_NDBI_EVI_zhongnan_2020_2022\n"
     ]
    }
   ],
   "source": [
    "# loop the target regions\n",
    "for region_cn in target_regions:\n",
    "\n",
    "    # get the area shp for export\n",
    "    Target_area = ee.FeatureCollection(\"users/wangjinzhulala/China_built_up/01_Boundary_shp/China_zone\")\\\n",
    "                    .filterMetadata('NAME1','equals',region_cn)\n",
    "    \n",
    "    # get the English name of reigon\n",
    "    region_en = region_name_dict[region_cn]\n",
    "\n",
    "\n",
    "    # reverse the list so we can export the recent img first\n",
    "    for span in year_range:\n",
    "        \n",
    "        # find the end year to determine the range_name\n",
    "        start_year = int(span[0].split('-')[0])\n",
    "        end_year   = int(span[1].split('-')[0])\n",
    "        range_name = f'{start_year}_{end_year}'\n",
    "    \n",
    "        if end_year <= 2010:\n",
    "            Landsat_img = ee.ImageCollection(\"LANDSAT/LT05/C01/T1_TOA\")\n",
    "            ND_formula = {'NDVI':['B4','B3'],\n",
    "                              'NDBI':['B5','B4'],\n",
    "                              'EVI':\"2.5 * ((b('B4')-b('B3'))*1.0 / (b('B4')*1.0 + 6.0 * b('B3') - 7.5 * b('B1') + 1.0))\"}\n",
    "    \n",
    "        elif end_year <= 2013:\n",
    "            Landsat_img = ee.ImageCollection(\"LANDSAT/LE07/C01/T1_TOA\")\n",
    "            ND_formula = {'NDVI':['B4','B3'],\n",
    "                          'NDBI':['B5','B4'],\n",
    "                          'EVI':\"2.5 * ((b('B4')-b('B3'))*1.0 / (b('B4')*1.0 + 6.0 * b('B3') - 7.5 * b('B1') + 1.0))\"}\n",
    "    \n",
    "        else:\n",
    "            Landsat_img = ee.ImageCollection(\"LANDSAT/LC08/C01/T1_TOA\")\n",
    "            ND_formula = {'NDVI':['B5','B4'],\n",
    "                              'NDBI':['B6','B5'],\n",
    "                              'EVI':\"2.5 * ((b('B5')-b('B4'))*1.0 / (b('B5')*1.0 + 6.0 * b('B4') - 7.5 * b('B2') + 1.0))\"}\n",
    "        \n",
    "        # compute the normalized difference imgs\n",
    "        # multiply the NDVI with 100 and change it \n",
    "        # into a int-img to reduce space\n",
    "        NDVI_mean = Landsat_img\\\n",
    "                                .filterBounds(Target_area)\\\n",
    "                                .filterDate(span[0],span[1])\\\n",
    "                                .mean()\\\n",
    "                                .normalizedDifference(ND_formula['NDVI'])\\\n",
    "                                .multiply(100).toInt8()\n",
    "        \n",
    "        NDBI_mean = Landsat_img\\\n",
    "                                .filterBounds(Target_area)\\\n",
    "                                .filterDate(span[0],span[1])\\\n",
    "                                .mean()\\\n",
    "                                .normalizedDifference(ND_formula['NDBI'])\\\n",
    "                                .multiply(100).toInt8()\n",
    "        \n",
    "        EVI_mean  = Landsat_img\\\n",
    "                                .filterBounds(Target_area)\\\n",
    "                                .filterDate(span[0],span[1])\\\n",
    "                                .mean()\\\n",
    "                                .expression(ND_formula['EVI'])\\\n",
    "                                .multiply(100).toInt8()\n",
    "    \n",
    "    \n",
    "        # ==================== Export =============================\n",
    "        # define the name              \n",
    "        name = f'NDVI_NDBI_EVI_{region_en}_{range_name}'\n",
    "        \n",
    "        # cast img to ee.Image\n",
    "        img = ee.Image([NDVI_mean,NDBI_mean,EVI_mean]).rename(['NDVI','NDBI','EVI'])\n",
    "        \n",
    "        # export\n",
    "        task = ee.batch.Export.image.toAsset(   image           = img,\n",
    "                                                description     = name,\n",
    "                                                assetId         = f'{asset_path}/{name}',\n",
    "                                                region          = Target_area.geometry(),\n",
    "                                                scale           = 30,\n",
    "                                                maxPixels       = int(1e13)\n",
    "                                            )\n",
    "    \n",
    "        task.start()\n",
    "    \n",
    "        # print out the process\n",
    "        print(f'Exporting Mean-Normalized-img of {name}')\n"
   ]
  },
  {
   "cell_type": "code",
   "execution_count": null,
   "metadata": {},
   "outputs": [],
   "source": []
  },
  {
   "cell_type": "code",
   "execution_count": null,
   "metadata": {},
   "outputs": [],
   "source": []
  },
  {
   "cell_type": "markdown",
   "metadata": {},
   "source": [
    "##### Add img to map"
   ]
  },
  {
   "cell_type": "code",
   "execution_count": 14,
   "metadata": {},
   "outputs": [],
   "source": [
    "one_img = img"
   ]
  },
  {
   "cell_type": "code",
   "execution_count": null,
   "metadata": {},
   "outputs": [],
   "source": []
  },
  {
   "cell_type": "code",
   "execution_count": 17,
   "metadata": {},
   "outputs": [],
   "source": [
    "# show the map for validation\n",
    "Map = geemap.Map()\n",
    "Map.add_basemap('HYBRID')\n",
    "Map.setCenter(120.3482, 33.0212,8)\n",
    "\n",
    "# add the img\n",
    "Map.addLayer(one_img,{'min':-10,'max':35},'NDVI_NDBI_EVI')\n",
    "\n",
    "\n",
    "# show the img\n",
    "Map"
   ]
  },
  {
   "cell_type": "code",
   "execution_count": null,
   "metadata": {},
   "outputs": [],
   "source": []
  },
  {
   "cell_type": "code",
   "execution_count": null,
   "metadata": {},
   "outputs": [],
   "source": []
  },
  {
   "cell_type": "code",
   "execution_count": null,
   "metadata": {},
   "outputs": [],
   "source": []
  },
  {
   "cell_type": "code",
   "execution_count": null,
   "metadata": {},
   "outputs": [],
   "source": []
  },
  {
   "cell_type": "code",
   "execution_count": null,
   "metadata": {},
   "outputs": [],
   "source": []
  },
  {
   "cell_type": "code",
   "execution_count": null,
   "metadata": {},
   "outputs": [],
   "source": []
  },
  {
   "cell_type": "code",
   "execution_count": null,
   "metadata": {},
   "outputs": [],
   "source": []
  },
  {
   "cell_type": "code",
   "execution_count": null,
   "metadata": {},
   "outputs": [],
   "source": []
  },
  {
   "cell_type": "code",
   "execution_count": null,
   "metadata": {},
   "outputs": [],
   "source": []
  },
  {
   "cell_type": "code",
   "execution_count": null,
   "metadata": {},
   "outputs": [],
   "source": []
  },
  {
   "cell_type": "code",
   "execution_count": null,
   "metadata": {},
   "outputs": [],
   "source": []
  }
 ],
 "metadata": {
  "kernelspec": {
   "display_name": "Python 3 (ipykernel)",
   "language": "python",
   "name": "python3"
  },
  "language_info": {
   "codemirror_mode": {
    "name": "ipython",
    "version": 3
   },
   "file_extension": ".py",
   "mimetype": "text/x-python",
   "name": "python",
   "nbconvert_exporter": "python",
   "pygments_lexer": "ipython3",
   "version": "3.10.11"
  }
 },
 "nbformat": 4,
 "nbformat_minor": 4
}
