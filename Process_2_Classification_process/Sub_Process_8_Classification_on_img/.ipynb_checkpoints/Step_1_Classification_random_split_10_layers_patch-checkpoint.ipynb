{
 "cells": [
  {
   "cell_type": "code",
   "execution_count": 1,
   "metadata": {},
   "outputs": [],
   "source": [
    "import os\n",
    "\n",
    "# Set the proxy environment variables\n",
    "os.environ['http_proxy'] = 'http://127.0.0.1:7890'\n",
    "os.environ['https_proxy'] = 'http://127.0.0.1:7890'"
   ]
  },
  {
   "cell_type": "code",
   "execution_count": null,
   "metadata": {},
   "outputs": [],
   "source": []
  },
  {
   "cell_type": "code",
   "execution_count": 2,
   "metadata": {
    "scrolled": true
   },
   "outputs": [],
   "source": [
    "import ee\n",
    "import datetime\n",
    "import json\n",
    "import os\n",
    "import itertools\n",
    "import sys\n",
    "import re\n",
    "from glob import glob\n",
    "from tqdm.auto import tqdm\n",
    "from dfply import *\n",
    "\n",
    "import pandas as pd\n",
    "import numpy as np\n",
    "import seaborn as sns\n",
    "import matplotlib.pyplot as plt\n",
    "\n",
    "import geemap\n",
    "\n",
    "import subprocess\n",
    "from subprocess import PIPE\n",
    "import ast"
   ]
  },
  {
   "cell_type": "code",
   "execution_count": 3,
   "metadata": {},
   "outputs": [],
   "source": [
    "ee.Initialize()"
   ]
  },
  {
   "cell_type": "code",
   "execution_count": 4,
   "metadata": {},
   "outputs": [],
   "source": [
    "# append upper folder into sys-path during run time so we can\n",
    "# import our own moduls\n",
    "sys.path.append('../../')"
   ]
  },
  {
   "cell_type": "code",
   "execution_count": 5,
   "metadata": {},
   "outputs": [],
   "source": [
    "from BackGround_modules.Class_2_Classify_Fourier_Img   import Classification\n",
    "from BackGround_modules.Class_3_Calculate_the_accuracy import Accuracy_assesment"
   ]
  },
  {
   "cell_type": "code",
   "execution_count": null,
   "metadata": {},
   "outputs": [],
   "source": []
  },
  {
   "cell_type": "markdown",
   "metadata": {},
   "source": [
    "##### Prepare basic parameters\n",
    "| Image    | Sample          | Classification |\n",
    "|:---------|:---------------|:--------------|\n",
    "| dongbei  | dongbei         | dongbei        |\n",
    "| huabei   | huabei          | huabei         |\n",
    "| huadong  | ★zhongnan       | huadong        |\n",
    "| xibei    | ★xibei&★zhongnan| xibei          |\n",
    "| xinan    | ★huadong       | xinan          |\n",
    "| zhongnan | zhongnan        | zhongnan       |\n"
   ]
  },
  {
   "cell_type": "code",
   "execution_count": null,
   "metadata": {},
   "outputs": [],
   "source": []
  },
  {
   "cell_type": "code",
   "execution_count": null,
   "metadata": {},
   "outputs": [],
   "source": []
  },
  {
   "cell_type": "code",
   "execution_count": null,
   "metadata": {},
   "outputs": [],
   "source": []
  },
  {
   "cell_type": "code",
   "execution_count": 6,
   "metadata": {},
   "outputs": [],
   "source": [
    "# define the region to analysis\n",
    "region_cns = ['华东',   '东北',   '中南',    '华北',  '西北', '西南']\n",
    "region_ens = ['huadong','dongbei','zhongnan','huabei','xibei','xinan']"
   ]
  },
  {
   "cell_type": "code",
   "execution_count": null,
   "metadata": {},
   "outputs": [],
   "source": []
  },
  {
   "cell_type": "code",
   "execution_count": 11,
   "metadata": {},
   "outputs": [],
   "source": [
    "# define the region in this single run\n",
    "region_cn = '中南'\n",
    "region_en = 'zhongnan'\n",
    "\n",
    "# do you want to use the sample pts from other region?\n",
    "other_sample = 'zhongnan'\n",
    "# other_sample = region_en"
   ]
  },
  {
   "cell_type": "code",
   "execution_count": null,
   "metadata": {},
   "outputs": [],
   "source": []
  },
  {
   "cell_type": "code",
   "execution_count": 22,
   "metadata": {},
   "outputs": [],
   "source": [
    "# define the years to be classified\n",
    "year_name  = [f'{i}_{i+2}' for i in range(1990,2023,3)]\n",
    "\n",
    "# define the number of total periods\n",
    "num_invarient = len(year_name)"
   ]
  },
  {
   "cell_type": "code",
   "execution_count": 23,
   "metadata": {},
   "outputs": [
    {
     "data": {
      "text/plain": [
       "['1990_1992',\n",
       " '1993_1995',\n",
       " '1996_1998',\n",
       " '1999_2001',\n",
       " '2002_2004',\n",
       " '2005_2007',\n",
       " '2008_2010',\n",
       " '2011_2013',\n",
       " '2014_2016',\n",
       " '2017_2019',\n",
       " '2020_2022']"
      ]
     },
     "execution_count": 23,
     "metadata": {},
     "output_type": "execute_result"
    }
   ],
   "source": [
    "year_name"
   ]
  },
  {
   "cell_type": "code",
   "execution_count": null,
   "metadata": {},
   "outputs": [],
   "source": []
  },
  {
   "cell_type": "code",
   "execution_count": 132,
   "metadata": {},
   "outputs": [],
   "source": [
    "# import China shp boundary\n",
    "Region =  ee.FeatureCollection(\"users/wangjinzhulala/China_built_up/01_Boundary_shp/classification_boundary_patch\")\n",
    "\n",
    "# Define the path to Sample_pt\n",
    "sample_img_path = f'users/wangjinzhulala/China_built_up/04_sample_train_test_split'\n",
    "export_path = 'users/wangjinzhulala/China_built_up/06_temporal_corrected_classification'"
   ]
  },
  {
   "cell_type": "code",
   "execution_count": null,
   "metadata": {},
   "outputs": [],
   "source": []
  },
  {
   "cell_type": "code",
   "execution_count": null,
   "metadata": {},
   "outputs": [],
   "source": []
  },
  {
   "cell_type": "markdown",
   "metadata": {},
   "source": [
    "##### Fetch all imgs"
   ]
  },
  {
   "cell_type": "code",
   "execution_count": 114,
   "metadata": {},
   "outputs": [],
   "source": [
    "# read all asset_df into a list\n",
    "asset_list = [pd.read_csv(f) for f in glob('../../File_trainsition/gee_asset_china/*.csv')]\n",
    "\n",
    "# concate all asset_df into one df\n",
    "asset_df = pd.concat(asset_list)\n",
    "asset_df.sort_values(['region','type','year'],inplace=True)\n",
    "\n",
    "# mosaic all imgs of different regions into a single one\n",
    "asset_df = asset_df.groupby(['year','type'])['path']\\\n",
    "        .apply(lambda imgs:ee.ImageCollection(imgs.tolist()).mosaic()).reset_index()"
   ]
  },
  {
   "cell_type": "code",
   "execution_count": null,
   "metadata": {},
   "outputs": [],
   "source": []
  },
  {
   "cell_type": "markdown",
   "metadata": {},
   "source": [
    "##### Prepare input_image for classification"
   ]
  },
  {
   "cell_type": "code",
   "execution_count": null,
   "metadata": {},
   "outputs": [],
   "source": []
  },
  {
   "cell_type": "markdown",
   "metadata": {},
   "source": [
    "Some additional treatment for the last two periods of Landsat and Sentinel imgs"
   ]
  },
  {
   "cell_type": "code",
   "execution_count": null,
   "metadata": {},
   "outputs": [],
   "source": []
  },
  {
   "cell_type": "code",
   "execution_count": 117,
   "metadata": {},
   "outputs": [],
   "source": [
    "# import Landsat img\n",
    "Landsat_df = asset_df[(asset_df['type']=='Landsat_cloud_free')]\n",
    "Landsat_img = [ee.Image(i) for i in  Landsat_df['path'].values]\n",
    "\n",
    "# import Fourier img   \n",
    "Fourier_df  = asset_df[(asset_df['type']=='Fourier')]\n",
    "Fourier_img = [ee.Image(i) for i in  Fourier_df['path'].values]\n",
    "\n",
    "# import Normalized img   \n",
    "Normalized_df  = asset_df[(asset_df['type']=='NDVI_NDBI_EVI')]\n",
    "Normalized_img = [ee.Image(i) for i in  Normalized_df['path'].values]\n",
    "\n",
    "# Import DEM/SLOPE Img\n",
    "DEM   = [ee.Image(\"USGS/SRTMGL1_003\").rename('DEM')] * num_invarient\n",
    "SLOPE = [ee.Terrain.slope(DEM).rename('SLOPE')] * num_invarient"
   ]
  },
  {
   "cell_type": "code",
   "execution_count": null,
   "metadata": {},
   "outputs": [],
   "source": []
  },
  {
   "cell_type": "code",
   "execution_count": 118,
   "metadata": {},
   "outputs": [],
   "source": [
    "# stack all Imput_Img together\n",
    "Stack_img = [ee.Image(img) for img in zip(Landsat_img,\n",
    "                                           Fourier_img,\n",
    "                                           Normalized_img,\n",
    "                                           DEM,\n",
    "                                           SLOPE)]"
   ]
  },
  {
   "cell_type": "code",
   "execution_count": null,
   "metadata": {},
   "outputs": [],
   "source": []
  },
  {
   "cell_type": "markdown",
   "metadata": {},
   "source": [
    "##### Prepare input sample points"
   ]
  },
  {
   "cell_type": "code",
   "execution_count": null,
   "metadata": {},
   "outputs": [],
   "source": []
  },
  {
   "cell_type": "code",
   "execution_count": null,
   "metadata": {},
   "outputs": [],
   "source": []
  },
  {
   "cell_type": "code",
   "execution_count": 124,
   "metadata": {},
   "outputs": [],
   "source": [
    "# remove climate properties\n",
    "select_ppts = ['B1', 'B10', 'B11', 'B2', 'B3', 'B4', 'B5', 'B6', 'B7', 'B8', 'B9', 'Built', 'DEM', 'EVI', \n",
    "               'EVI_constant', 'EVI_cos_1', 'EVI_cos_2', 'EVI_cos_3', 'EVI_sin_1', 'EVI_sin_2', 'EVI_sin_3',\n",
    "               'EVI_t', 'NDBI', 'NDBI_constant', 'NDBI_cos_1', 'NDBI_cos_2', 'NDBI_cos_3', 'NDBI_sin_1', \n",
    "               'NDBI_sin_2', 'NDBI_sin_3', 'NDBI_t', 'NDVI', 'NDVI_constant', 'NDVI_cos_1',\n",
    "               'NDVI_cos_2', 'NDVI_cos_3', 'NDVI_sin_1', 'NDVI_sin_2', 'NDVI_sin_3', 'NDVI_t', 'SLOPE']\n",
    "\n",
    "remove_ppts = ['lrad','prec','pres','shum', 'srad', 'temp','wind']\n",
    "\n",
    "# Get the training sample\n",
    "Training_sample = [ee.FeatureCollection(f\"{sample_img_path}/Training_sample_{other_sample}_{year}\")\n",
    "                   for year in year_name]\n",
    "\n",
    "Training_sample = [fe_col.map(lambda fe:fe.select(select_ppts))\n",
    "                   for fe_col in Training_sample]"
   ]
  },
  {
   "cell_type": "code",
   "execution_count": null,
   "metadata": {},
   "outputs": [],
   "source": []
  },
  {
   "cell_type": "code",
   "execution_count": null,
   "metadata": {},
   "outputs": [],
   "source": []
  },
  {
   "cell_type": "markdown",
   "metadata": {},
   "source": [
    "##### Stack input_img and input_sample together"
   ]
  },
  {
   "cell_type": "code",
   "execution_count": 125,
   "metadata": {},
   "outputs": [],
   "source": [
    "# first put all inputs together\n",
    "stack_year   = year_name\n",
    "stack_img    = Stack_img \n",
    "stack_sample = Training_sample \n",
    "\n",
    "# stack all ingredients together\n",
    "Stack_img_sample = list(zip(stack_year,stack_img,stack_sample))"
   ]
  },
  {
   "cell_type": "code",
   "execution_count": null,
   "metadata": {},
   "outputs": [],
   "source": []
  },
  {
   "cell_type": "markdown",
   "metadata": {},
   "source": [
    "#### Create the classification instances"
   ]
  },
  {
   "cell_type": "code",
   "execution_count": null,
   "metadata": {},
   "outputs": [],
   "source": []
  },
  {
   "cell_type": "code",
   "execution_count": 126,
   "metadata": {},
   "outputs": [],
   "source": [
    "# import the inbands-combination \n",
    "in_band_df_before_2020 = pd.read_csv('../Sub_Process_7_Before_classification_Sensitivity_test/Result/In_bands_combination.csv')\n",
    "in_band_2017_2019  = in_band_df_before_2020 >> mask(X.year_range=='2017_2019')\n",
    "\n",
    "if num_invarient > 10:\n",
    "    in_band_df = pd.concat([in_band_df_before_2020]+[in_band_2017_2019]*(num_invarient-10),0)\n",
    "    in_band_df['year_range'] = year_name\n",
    "\n",
    "# selections for in-band combination\n",
    "in_band_selection =[#'Spectrum',\n",
    "                    #'Spectrum_Normalize',\n",
    "                    #'Spectrum_Normalize_Fourier',\n",
    "                    #'Spectrum_Normalize_Fourier_Terrain',\n",
    "                    'Spectrum_Normalize_Fourier_Terrain_Meterology']"
   ]
  },
  {
   "cell_type": "code",
   "execution_count": null,
   "metadata": {},
   "outputs": [],
   "source": []
  },
  {
   "cell_type": "code",
   "execution_count": 127,
   "metadata": {
    "scrolled": true
   },
   "outputs": [],
   "source": [
    "# A three-layer iteration to loopthrough [inbands/year/10-randome-split] individualy\n",
    "Classificatioin_result = []\n",
    "\n",
    "\n",
    "# remove the targe property\n",
    "if 'Built' in in_features:\n",
    "    in_features.remove('Built')\n",
    "\n",
    "# The first-layer loop to go througth each inbands\n",
    "for input_bands in in_band_selection:\n",
    "\n",
    "    # The second-layer loop to go througth each year-periods\n",
    "    for i,input_variable in enumerate(Stack_img_sample):\n",
    "        \n",
    "        \n",
    "        # Fetch basic parameters\n",
    "        classificaiton_tpye = input_bands\n",
    "        year                = input_variable[0]\n",
    "        input_img           = input_variable[1]\n",
    "        sample_pt           = input_variable[2]\n",
    "\n",
    "        # here determine which bands are involved in the classification\n",
    "        # because the list is a string represented format, here use ast \n",
    "        # module to conver it back to a Python list\n",
    "        in_features  =  ast.literal_eval(in_band_df.iloc[i][input_bands])\n",
    "        for item in remove_ppts:\n",
    "            in_features.remove(item)\n",
    "\n",
    "            \n",
    "        # start classification \n",
    "        classifier = ee.Classifier.smileRandomForest(100)\n",
    "        trained_classifier = classifier.train(sample_pt, 'Built', in_features)\n",
    "        classified_img = input_img.classify(trained_classifier).clip(Region)\n",
    "\n",
    "\n",
    "        #__________________________________Add all classification result into a list____________________________\n",
    "        Classificatioin_result.append((classificaiton_tpye,year,classified_img))"
   ]
  },
  {
   "cell_type": "code",
   "execution_count": null,
   "metadata": {},
   "outputs": [],
   "source": []
  },
  {
   "cell_type": "code",
   "execution_count": null,
   "metadata": {},
   "outputs": [],
   "source": []
  },
  {
   "cell_type": "code",
   "execution_count": null,
   "metadata": {},
   "outputs": [],
   "source": []
  },
  {
   "cell_type": "code",
   "execution_count": 128,
   "metadata": {
    "scrolled": true
   },
   "outputs": [
    {
     "data": {
      "text/html": [
       "<div>\n",
       "<style scoped>\n",
       "    .dataframe tbody tr th:only-of-type {\n",
       "        vertical-align: middle;\n",
       "    }\n",
       "\n",
       "    .dataframe tbody tr th {\n",
       "        vertical-align: top;\n",
       "    }\n",
       "\n",
       "    .dataframe thead th {\n",
       "        text-align: right;\n",
       "    }\n",
       "</style>\n",
       "<table border=\"1\" class=\"dataframe\">\n",
       "  <thead>\n",
       "    <tr style=\"text-align: right;\">\n",
       "      <th></th>\n",
       "      <th>classificaiton_tpye</th>\n",
       "      <th>year</th>\n",
       "      <th>classified_img</th>\n",
       "    </tr>\n",
       "  </thead>\n",
       "  <tbody>\n",
       "    <tr>\n",
       "      <th>0</th>\n",
       "      <td>Spectrum_Normalize_Fourier_Terrain_Meterology</td>\n",
       "      <td>1990_1992</td>\n",
       "      <td>ee.Image({\\n  \"functionInvocationValue\": {\\n  ...</td>\n",
       "    </tr>\n",
       "    <tr>\n",
       "      <th>1</th>\n",
       "      <td>Spectrum_Normalize_Fourier_Terrain_Meterology</td>\n",
       "      <td>1993_1995</td>\n",
       "      <td>ee.Image({\\n  \"functionInvocationValue\": {\\n  ...</td>\n",
       "    </tr>\n",
       "    <tr>\n",
       "      <th>2</th>\n",
       "      <td>Spectrum_Normalize_Fourier_Terrain_Meterology</td>\n",
       "      <td>1996_1998</td>\n",
       "      <td>ee.Image({\\n  \"functionInvocationValue\": {\\n  ...</td>\n",
       "    </tr>\n",
       "    <tr>\n",
       "      <th>3</th>\n",
       "      <td>Spectrum_Normalize_Fourier_Terrain_Meterology</td>\n",
       "      <td>1999_2001</td>\n",
       "      <td>ee.Image({\\n  \"functionInvocationValue\": {\\n  ...</td>\n",
       "    </tr>\n",
       "    <tr>\n",
       "      <th>4</th>\n",
       "      <td>Spectrum_Normalize_Fourier_Terrain_Meterology</td>\n",
       "      <td>2002_2004</td>\n",
       "      <td>ee.Image({\\n  \"functionInvocationValue\": {\\n  ...</td>\n",
       "    </tr>\n",
       "    <tr>\n",
       "      <th>5</th>\n",
       "      <td>Spectrum_Normalize_Fourier_Terrain_Meterology</td>\n",
       "      <td>2005_2007</td>\n",
       "      <td>ee.Image({\\n  \"functionInvocationValue\": {\\n  ...</td>\n",
       "    </tr>\n",
       "    <tr>\n",
       "      <th>6</th>\n",
       "      <td>Spectrum_Normalize_Fourier_Terrain_Meterology</td>\n",
       "      <td>2008_2010</td>\n",
       "      <td>ee.Image({\\n  \"functionInvocationValue\": {\\n  ...</td>\n",
       "    </tr>\n",
       "    <tr>\n",
       "      <th>7</th>\n",
       "      <td>Spectrum_Normalize_Fourier_Terrain_Meterology</td>\n",
       "      <td>2011_2013</td>\n",
       "      <td>ee.Image({\\n  \"functionInvocationValue\": {\\n  ...</td>\n",
       "    </tr>\n",
       "    <tr>\n",
       "      <th>8</th>\n",
       "      <td>Spectrum_Normalize_Fourier_Terrain_Meterology</td>\n",
       "      <td>2014_2016</td>\n",
       "      <td>ee.Image({\\n  \"functionInvocationValue\": {\\n  ...</td>\n",
       "    </tr>\n",
       "    <tr>\n",
       "      <th>9</th>\n",
       "      <td>Spectrum_Normalize_Fourier_Terrain_Meterology</td>\n",
       "      <td>2017_2019</td>\n",
       "      <td>ee.Image({\\n  \"functionInvocationValue\": {\\n  ...</td>\n",
       "    </tr>\n",
       "    <tr>\n",
       "      <th>10</th>\n",
       "      <td>Spectrum_Normalize_Fourier_Terrain_Meterology</td>\n",
       "      <td>2020_2022</td>\n",
       "      <td>ee.Image({\\n  \"functionInvocationValue\": {\\n  ...</td>\n",
       "    </tr>\n",
       "  </tbody>\n",
       "</table>\n",
       "</div>"
      ],
      "text/plain": [
       "                              classificaiton_tpye       year  \\\n",
       "0   Spectrum_Normalize_Fourier_Terrain_Meterology  1990_1992   \n",
       "1   Spectrum_Normalize_Fourier_Terrain_Meterology  1993_1995   \n",
       "2   Spectrum_Normalize_Fourier_Terrain_Meterology  1996_1998   \n",
       "3   Spectrum_Normalize_Fourier_Terrain_Meterology  1999_2001   \n",
       "4   Spectrum_Normalize_Fourier_Terrain_Meterology  2002_2004   \n",
       "5   Spectrum_Normalize_Fourier_Terrain_Meterology  2005_2007   \n",
       "6   Spectrum_Normalize_Fourier_Terrain_Meterology  2008_2010   \n",
       "7   Spectrum_Normalize_Fourier_Terrain_Meterology  2011_2013   \n",
       "8   Spectrum_Normalize_Fourier_Terrain_Meterology  2014_2016   \n",
       "9   Spectrum_Normalize_Fourier_Terrain_Meterology  2017_2019   \n",
       "10  Spectrum_Normalize_Fourier_Terrain_Meterology  2020_2022   \n",
       "\n",
       "                                       classified_img  \n",
       "0   ee.Image({\\n  \"functionInvocationValue\": {\\n  ...  \n",
       "1   ee.Image({\\n  \"functionInvocationValue\": {\\n  ...  \n",
       "2   ee.Image({\\n  \"functionInvocationValue\": {\\n  ...  \n",
       "3   ee.Image({\\n  \"functionInvocationValue\": {\\n  ...  \n",
       "4   ee.Image({\\n  \"functionInvocationValue\": {\\n  ...  \n",
       "5   ee.Image({\\n  \"functionInvocationValue\": {\\n  ...  \n",
       "6   ee.Image({\\n  \"functionInvocationValue\": {\\n  ...  \n",
       "7   ee.Image({\\n  \"functionInvocationValue\": {\\n  ...  \n",
       "8   ee.Image({\\n  \"functionInvocationValue\": {\\n  ...  \n",
       "9   ee.Image({\\n  \"functionInvocationValue\": {\\n  ...  \n",
       "10  ee.Image({\\n  \"functionInvocationValue\": {\\n  ...  "
      ]
     },
     "execution_count": 128,
     "metadata": {},
     "output_type": "execute_result"
    }
   ],
   "source": [
    "# convert classificaiton instances into a dataframe\n",
    "Classification_instances_df =  pd.DataFrame(Classificatioin_result,\n",
    "                                            columns=['classificaiton_tpye','year','classified_img'])\n",
    "Classification_instances_df"
   ]
  },
  {
   "cell_type": "code",
   "execution_count": null,
   "metadata": {},
   "outputs": [],
   "source": []
  },
  {
   "cell_type": "markdown",
   "metadata": {},
   "source": [
    "#### Add one of the classified img to map"
   ]
  },
  {
   "cell_type": "code",
   "execution_count": null,
   "metadata": {},
   "outputs": [],
   "source": []
  },
  {
   "cell_type": "code",
   "execution_count": 129,
   "metadata": {},
   "outputs": [],
   "source": [
    "# define parameters of classification for show in map\n",
    "bands_in_type = in_band_selection[0]\n",
    "year_in       = '2020_2022'\n",
    "\n",
    "\n",
    "# get the classification img\n",
    "one = (Classification_instances_df >> mask(X.classificaiton_tpye == bands_in_type,\n",
    "                                  X.year == year_in))['classified_img'].values[0]"
   ]
  },
  {
   "cell_type": "code",
   "execution_count": null,
   "metadata": {},
   "outputs": [],
   "source": []
  },
  {
   "cell_type": "code",
   "execution_count": 130,
   "metadata": {},
   "outputs": [
    {
     "data": {
      "application/vnd.jupyter.widget-view+json": {
       "model_id": "88f47086d1584ba2af54fb2e4b95b097",
       "version_major": 2,
       "version_minor": 0
      },
      "text/plain": [
       "Map(center=[31.20907473717083, 120.33219382209627], controls=(WidgetControl(options=['position', 'transparent_…"
      ]
     },
     "execution_count": 130,
     "metadata": {},
     "output_type": "execute_result"
    }
   ],
   "source": [
    "# add the selected classification in map\n",
    "Map = geemap.Map()\n",
    "Map.add_basemap('HYBRID')\n",
    "Map.centerObject(Region,6)\n",
    "Map.addLayer(one.clip(Region),{'min':0,'max':1},'One')\n",
    "Map"
   ]
  },
  {
   "cell_type": "code",
   "execution_count": null,
   "metadata": {},
   "outputs": [],
   "source": []
  },
  {
   "cell_type": "code",
   "execution_count": null,
   "metadata": {},
   "outputs": [],
   "source": []
  },
  {
   "cell_type": "markdown",
   "metadata": {},
   "source": [
    "##### Export the classified_img"
   ]
  },
  {
   "cell_type": "code",
   "execution_count": null,
   "metadata": {},
   "outputs": [],
   "source": []
  },
  {
   "cell_type": "code",
   "execution_count": 131,
   "metadata": {},
   "outputs": [
    {
     "data": {
      "text/html": [
       "<div>\n",
       "<style scoped>\n",
       "    .dataframe tbody tr th:only-of-type {\n",
       "        vertical-align: middle;\n",
       "    }\n",
       "\n",
       "    .dataframe tbody tr th {\n",
       "        vertical-align: top;\n",
       "    }\n",
       "\n",
       "    .dataframe thead th {\n",
       "        text-align: right;\n",
       "    }\n",
       "</style>\n",
       "<table border=\"1\" class=\"dataframe\">\n",
       "  <thead>\n",
       "    <tr style=\"text-align: right;\">\n",
       "      <th></th>\n",
       "      <th>classificaiton_tpye</th>\n",
       "      <th>year</th>\n",
       "      <th>classified_img</th>\n",
       "    </tr>\n",
       "  </thead>\n",
       "  <tbody>\n",
       "    <tr>\n",
       "      <th>0</th>\n",
       "      <td>Spectrum_Normalize_Fourier_Terrain_Meterology</td>\n",
       "      <td>1990_1992</td>\n",
       "      <td>ee.Image({\\n  \"functionInvocationValue\": {\\n  ...</td>\n",
       "    </tr>\n",
       "    <tr>\n",
       "      <th>1</th>\n",
       "      <td>Spectrum_Normalize_Fourier_Terrain_Meterology</td>\n",
       "      <td>1993_1995</td>\n",
       "      <td>ee.Image({\\n  \"functionInvocationValue\": {\\n  ...</td>\n",
       "    </tr>\n",
       "    <tr>\n",
       "      <th>2</th>\n",
       "      <td>Spectrum_Normalize_Fourier_Terrain_Meterology</td>\n",
       "      <td>1996_1998</td>\n",
       "      <td>ee.Image({\\n  \"functionInvocationValue\": {\\n  ...</td>\n",
       "    </tr>\n",
       "    <tr>\n",
       "      <th>3</th>\n",
       "      <td>Spectrum_Normalize_Fourier_Terrain_Meterology</td>\n",
       "      <td>1999_2001</td>\n",
       "      <td>ee.Image({\\n  \"functionInvocationValue\": {\\n  ...</td>\n",
       "    </tr>\n",
       "    <tr>\n",
       "      <th>4</th>\n",
       "      <td>Spectrum_Normalize_Fourier_Terrain_Meterology</td>\n",
       "      <td>2002_2004</td>\n",
       "      <td>ee.Image({\\n  \"functionInvocationValue\": {\\n  ...</td>\n",
       "    </tr>\n",
       "    <tr>\n",
       "      <th>5</th>\n",
       "      <td>Spectrum_Normalize_Fourier_Terrain_Meterology</td>\n",
       "      <td>2005_2007</td>\n",
       "      <td>ee.Image({\\n  \"functionInvocationValue\": {\\n  ...</td>\n",
       "    </tr>\n",
       "    <tr>\n",
       "      <th>6</th>\n",
       "      <td>Spectrum_Normalize_Fourier_Terrain_Meterology</td>\n",
       "      <td>2008_2010</td>\n",
       "      <td>ee.Image({\\n  \"functionInvocationValue\": {\\n  ...</td>\n",
       "    </tr>\n",
       "    <tr>\n",
       "      <th>7</th>\n",
       "      <td>Spectrum_Normalize_Fourier_Terrain_Meterology</td>\n",
       "      <td>2011_2013</td>\n",
       "      <td>ee.Image({\\n  \"functionInvocationValue\": {\\n  ...</td>\n",
       "    </tr>\n",
       "    <tr>\n",
       "      <th>8</th>\n",
       "      <td>Spectrum_Normalize_Fourier_Terrain_Meterology</td>\n",
       "      <td>2014_2016</td>\n",
       "      <td>ee.Image({\\n  \"functionInvocationValue\": {\\n  ...</td>\n",
       "    </tr>\n",
       "    <tr>\n",
       "      <th>9</th>\n",
       "      <td>Spectrum_Normalize_Fourier_Terrain_Meterology</td>\n",
       "      <td>2017_2019</td>\n",
       "      <td>ee.Image({\\n  \"functionInvocationValue\": {\\n  ...</td>\n",
       "    </tr>\n",
       "    <tr>\n",
       "      <th>10</th>\n",
       "      <td>Spectrum_Normalize_Fourier_Terrain_Meterology</td>\n",
       "      <td>2020_2022</td>\n",
       "      <td>ee.Image({\\n  \"functionInvocationValue\": {\\n  ...</td>\n",
       "    </tr>\n",
       "  </tbody>\n",
       "</table>\n",
       "</div>"
      ],
      "text/plain": [
       "                              classificaiton_tpye       year  \\\n",
       "0   Spectrum_Normalize_Fourier_Terrain_Meterology  1990_1992   \n",
       "1   Spectrum_Normalize_Fourier_Terrain_Meterology  1993_1995   \n",
       "2   Spectrum_Normalize_Fourier_Terrain_Meterology  1996_1998   \n",
       "3   Spectrum_Normalize_Fourier_Terrain_Meterology  1999_2001   \n",
       "4   Spectrum_Normalize_Fourier_Terrain_Meterology  2002_2004   \n",
       "5   Spectrum_Normalize_Fourier_Terrain_Meterology  2005_2007   \n",
       "6   Spectrum_Normalize_Fourier_Terrain_Meterology  2008_2010   \n",
       "7   Spectrum_Normalize_Fourier_Terrain_Meterology  2011_2013   \n",
       "8   Spectrum_Normalize_Fourier_Terrain_Meterology  2014_2016   \n",
       "9   Spectrum_Normalize_Fourier_Terrain_Meterology  2017_2019   \n",
       "10  Spectrum_Normalize_Fourier_Terrain_Meterology  2020_2022   \n",
       "\n",
       "                                       classified_img  \n",
       "0   ee.Image({\\n  \"functionInvocationValue\": {\\n  ...  \n",
       "1   ee.Image({\\n  \"functionInvocationValue\": {\\n  ...  \n",
       "2   ee.Image({\\n  \"functionInvocationValue\": {\\n  ...  \n",
       "3   ee.Image({\\n  \"functionInvocationValue\": {\\n  ...  \n",
       "4   ee.Image({\\n  \"functionInvocationValue\": {\\n  ...  \n",
       "5   ee.Image({\\n  \"functionInvocationValue\": {\\n  ...  \n",
       "6   ee.Image({\\n  \"functionInvocationValue\": {\\n  ...  \n",
       "7   ee.Image({\\n  \"functionInvocationValue\": {\\n  ...  \n",
       "8   ee.Image({\\n  \"functionInvocationValue\": {\\n  ...  \n",
       "9   ee.Image({\\n  \"functionInvocationValue\": {\\n  ...  \n",
       "10  ee.Image({\\n  \"functionInvocationValue\": {\\n  ...  "
      ]
     },
     "execution_count": 131,
     "metadata": {},
     "output_type": "execute_result"
    }
   ],
   "source": [
    "Classification_instances_df"
   ]
  },
  {
   "cell_type": "code",
   "execution_count": null,
   "metadata": {},
   "outputs": [],
   "source": []
  },
  {
   "cell_type": "code",
   "execution_count": null,
   "metadata": {},
   "outputs": [],
   "source": []
  },
  {
   "cell_type": "code",
   "execution_count": 133,
   "metadata": {
    "scrolled": true
   },
   "outputs": [
    {
     "name": "stdout",
     "output_type": "stream",
     "text": [
      "Exporting Spectrum_Normalize_Fourier_Terrain_Meterology_China_2020_2022_patch successful!\n"
     ]
    }
   ],
   "source": [
    "selecte_year = '2020_2022' # or None\n",
    "\n",
    "if selecte_year:\n",
    "    Classification_instances_df = Classification_instances_df >> mask(X.year==selecte_year)\n",
    "\n",
    "    \n",
    "for idx,item in Classification_instances_df.iterrows():\n",
    "     \n",
    "    Classification_type = item[0]\n",
    "    year = item[1]\n",
    "    img  = item[2].toInt8()\n",
    "    \n",
    "    \n",
    "    export_name = f'{Classification_type}_China_{year}_patch'\n",
    "    \n",
    "    #export to GEE asset    \n",
    "    task = ee.batch.Export.image.toAsset(   image          = img,\n",
    "                                            description    = export_name,\n",
    "                                            assetId        = f'{export_path}/{export_name}',\n",
    "                                            region         = Region.geometry(),\n",
    "                                            scale          = 30,\n",
    "                                            maxPixels      = int(1e13)) \n",
    "    \n",
    "    task.start()\n",
    "    \n",
    "    \n",
    "    print(f'Exporting {export_name} successful!')"
   ]
  },
  {
   "cell_type": "code",
   "execution_count": null,
   "metadata": {},
   "outputs": [],
   "source": []
  },
  {
   "cell_type": "code",
   "execution_count": null,
   "metadata": {},
   "outputs": [],
   "source": []
  },
  {
   "cell_type": "code",
   "execution_count": null,
   "metadata": {},
   "outputs": [],
   "source": []
  },
  {
   "cell_type": "code",
   "execution_count": null,
   "metadata": {},
   "outputs": [],
   "source": []
  },
  {
   "cell_type": "code",
   "execution_count": null,
   "metadata": {},
   "outputs": [],
   "source": []
  },
  {
   "cell_type": "code",
   "execution_count": null,
   "metadata": {},
   "outputs": [],
   "source": []
  }
 ],
 "metadata": {
  "kernelspec": {
   "display_name": "Python 3 (ipykernel)",
   "language": "python",
   "name": "python3"
  },
  "language_info": {
   "codemirror_mode": {
    "name": "ipython",
    "version": 3
   },
   "file_extension": ".py",
   "mimetype": "text/x-python",
   "name": "python",
   "nbconvert_exporter": "python",
   "pygments_lexer": "ipython3",
   "version": "3.10.9"
  }
 },
 "nbformat": 4,
 "nbformat_minor": 2
}
