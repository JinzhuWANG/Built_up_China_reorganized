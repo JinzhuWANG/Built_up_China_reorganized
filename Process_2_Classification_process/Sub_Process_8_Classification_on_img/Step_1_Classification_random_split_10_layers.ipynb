{
 "cells": [
  {
   "cell_type": "code",
   "execution_count": 1,
   "metadata": {},
   "outputs": [],
   "source": [
    "import os\n",
    "\n",
    "# # Set the proxy environment variables\n",
    "# os.environ['http_proxy'] = 'http://127.0.0.1:7890'\n",
    "# os.environ['https_proxy'] = 'http://127.0.0.1:7890'"
   ]
  },
  {
   "cell_type": "code",
   "execution_count": null,
   "metadata": {},
   "outputs": [],
   "source": []
  },
  {
   "cell_type": "code",
   "execution_count": 2,
   "metadata": {
    "scrolled": true
   },
   "outputs": [],
   "source": [
    "import ee\n",
    "import datetime\n",
    "import json\n",
    "import os\n",
    "import itertools\n",
    "import sys\n",
    "import re\n",
    "from glob import glob\n",
    "from tqdm.auto import tqdm\n",
    "from dfply import *\n",
    "\n",
    "import pandas as pd\n",
    "import numpy as np\n",
    "import seaborn as sns\n",
    "import matplotlib.pyplot as plt\n",
    "\n",
    "import geemap\n",
    "\n",
    "import subprocess\n",
    "from subprocess import PIPE\n",
    "import ast"
   ]
  },
  {
   "cell_type": "code",
   "execution_count": 3,
   "metadata": {},
   "outputs": [],
   "source": [
    "ee.Initialize()"
   ]
  },
  {
   "cell_type": "code",
   "execution_count": 4,
   "metadata": {},
   "outputs": [],
   "source": [
    "# append upper folder into sys-path during run time so we can\n",
    "# import our own moduls\n",
    "sys.path.append('../../')"
   ]
  },
  {
   "cell_type": "code",
   "execution_count": 5,
   "metadata": {},
   "outputs": [],
   "source": [
    "from BackGround_modules.Class_2_Classify_Fourier_Img   import Classification\n",
    "from BackGround_modules.Class_3_Calculate_the_accuracy import Accuracy_assesment"
   ]
  },
  {
   "cell_type": "code",
   "execution_count": null,
   "metadata": {},
   "outputs": [],
   "source": []
  },
  {
   "cell_type": "markdown",
   "metadata": {},
   "source": [
    "##### Prepare basic parameters\n",
    "| Image    | Sample          | Classification |\n",
    "|:---------|:---------------|:--------------|\n",
    "| dongbei  | dongbei         | dongbei        |\n",
    "| huabei   | huabei          | huabei         |\n",
    "| huadong  | ★zhongnan       | huadong        |\n",
    "| xibei    | ★xibei&★zhongnan| xibei          |\n",
    "| xinan    | ★huadong       | xinan          |\n",
    "| zhongnan | zhongnan        | zhongnan       |\n"
   ]
  },
  {
   "cell_type": "code",
   "execution_count": null,
   "metadata": {},
   "outputs": [],
   "source": []
  },
  {
   "cell_type": "code",
   "execution_count": null,
   "metadata": {},
   "outputs": [],
   "source": []
  },
  {
   "cell_type": "code",
   "execution_count": null,
   "metadata": {},
   "outputs": [],
   "source": []
  },
  {
   "cell_type": "code",
   "execution_count": 6,
   "metadata": {},
   "outputs": [],
   "source": [
    "# define the region to analysis\n",
    "region_cns = ['华东',   '东北',   '中南',    '华北',  '西北', '西南']\n",
    "region_ens = ['huadong','dongbei','zhongnan','huabei','xibei','xinan']"
   ]
  },
  {
   "cell_type": "code",
   "execution_count": null,
   "metadata": {},
   "outputs": [],
   "source": []
  },
  {
   "cell_type": "code",
   "execution_count": 7,
   "metadata": {},
   "outputs": [],
   "source": [
    "# define the region in this single run\n",
    "region_cn = '西南'\n",
    "region_en = 'xinan'\n",
    "\n",
    "# do you want to use the sample pts from other region?\n",
    "# other_sample = 'huadong'\n",
    "other_sample = region_en"
   ]
  },
  {
   "cell_type": "code",
   "execution_count": null,
   "metadata": {},
   "outputs": [],
   "source": []
  },
  {
   "cell_type": "code",
   "execution_count": 8,
   "metadata": {},
   "outputs": [],
   "source": [
    "# define the years to be classified\n",
    "year_name  = [f'{i}_{i+2}' for i in range(1990,2023,3)]\n",
    "\n",
    "# define the number of total periods\n",
    "num_invarient = len(year_name)"
   ]
  },
  {
   "cell_type": "code",
   "execution_count": 9,
   "metadata": {},
   "outputs": [
    {
     "data": {
      "text/plain": [
       "['1990_1992',\n",
       " '1993_1995',\n",
       " '1996_1998',\n",
       " '1999_2001',\n",
       " '2002_2004',\n",
       " '2005_2007',\n",
       " '2008_2010',\n",
       " '2011_2013',\n",
       " '2014_2016',\n",
       " '2017_2019',\n",
       " '2020_2022']"
      ]
     },
     "execution_count": 9,
     "metadata": {},
     "output_type": "execute_result"
    }
   ],
   "source": [
    "year_name"
   ]
  },
  {
   "cell_type": "code",
   "execution_count": null,
   "metadata": {},
   "outputs": [],
   "source": []
  },
  {
   "cell_type": "code",
   "execution_count": 10,
   "metadata": {},
   "outputs": [],
   "source": [
    "# import China shp boundary\n",
    "Region =  ee.FeatureCollection(\"users/wangjinzhulala/China_built_up/01_Boundary_shp/China_zone\")\\\n",
    "            .filterMetadata('NAME1','equals',region_cn)\n",
    "\n",
    "# Define the path to Sample_pt\n",
    "sample_img_path = f'users/wangjinzhulala/China_built_up/04_sample_train_test_split'\n",
    "export_path = 'users/wangjinzhulala/China_built_up/05_primary_classification'"
   ]
  },
  {
   "cell_type": "code",
   "execution_count": null,
   "metadata": {},
   "outputs": [],
   "source": []
  },
  {
   "cell_type": "code",
   "execution_count": null,
   "metadata": {},
   "outputs": [],
   "source": []
  },
  {
   "cell_type": "markdown",
   "metadata": {},
   "source": [
    "##### Fetch all imgs"
   ]
  },
  {
   "cell_type": "code",
   "execution_count": 11,
   "metadata": {},
   "outputs": [],
   "source": [
    "# read all asset_df into a list\n",
    "asset_list = [pd.read_csv(f) for f in glob('../../File_trainsition/gee_asset_china/*.csv')]\n",
    "\n",
    "# concate all asset_df into one df\n",
    "asset_df = pd.concat(asset_list)\n",
    "asset_df.sort_values(['region','type','year'],inplace=True)"
   ]
  },
  {
   "cell_type": "code",
   "execution_count": null,
   "metadata": {},
   "outputs": [],
   "source": []
  },
  {
   "cell_type": "code",
   "execution_count": 12,
   "metadata": {},
   "outputs": [
    {
     "data": {
      "text/html": [
       "<div>\n",
       "<style scoped>\n",
       "    .dataframe tbody tr th:only-of-type {\n",
       "        vertical-align: middle;\n",
       "    }\n",
       "\n",
       "    .dataframe tbody tr th {\n",
       "        vertical-align: top;\n",
       "    }\n",
       "\n",
       "    .dataframe thead th {\n",
       "        text-align: right;\n",
       "    }\n",
       "</style>\n",
       "<table border=\"1\" class=\"dataframe\">\n",
       "  <thead>\n",
       "    <tr style=\"text-align: right;\">\n",
       "      <th></th>\n",
       "      <th>year</th>\n",
       "      <th>type</th>\n",
       "      <th>path</th>\n",
       "      <th>region</th>\n",
       "    </tr>\n",
       "  </thead>\n",
       "  <tbody>\n",
       "    <tr>\n",
       "      <th>0</th>\n",
       "      <td>1990_1992</td>\n",
       "      <td>Fourier</td>\n",
       "      <td>projects/earthengine-legacy/assets/users/bthom...</td>\n",
       "      <td>dongbei</td>\n",
       "    </tr>\n",
       "    <tr>\n",
       "      <th>1</th>\n",
       "      <td>1993_1995</td>\n",
       "      <td>Fourier</td>\n",
       "      <td>projects/earthengine-legacy/assets/users/bthom...</td>\n",
       "      <td>dongbei</td>\n",
       "    </tr>\n",
       "    <tr>\n",
       "      <th>2</th>\n",
       "      <td>1996_1998</td>\n",
       "      <td>Fourier</td>\n",
       "      <td>projects/earthengine-legacy/assets/users/bthom...</td>\n",
       "      <td>dongbei</td>\n",
       "    </tr>\n",
       "    <tr>\n",
       "      <th>3</th>\n",
       "      <td>1999_2001</td>\n",
       "      <td>Fourier</td>\n",
       "      <td>projects/earthengine-legacy/assets/users/bthom...</td>\n",
       "      <td>dongbei</td>\n",
       "    </tr>\n",
       "    <tr>\n",
       "      <th>4</th>\n",
       "      <td>2002_2004</td>\n",
       "      <td>Fourier</td>\n",
       "      <td>projects/earthengine-legacy/assets/users/bthom...</td>\n",
       "      <td>dongbei</td>\n",
       "    </tr>\n",
       "    <tr>\n",
       "      <th>...</th>\n",
       "      <td>...</td>\n",
       "      <td>...</td>\n",
       "      <td>...</td>\n",
       "      <td>...</td>\n",
       "    </tr>\n",
       "    <tr>\n",
       "      <th>11</th>\n",
       "      <td>2008_2010</td>\n",
       "      <td>NDVI_NDBI_EVI</td>\n",
       "      <td>projects/earthengine-legacy/assets/users/fhane...</td>\n",
       "      <td>zhongnan</td>\n",
       "    </tr>\n",
       "    <tr>\n",
       "      <th>12</th>\n",
       "      <td>2011_2013</td>\n",
       "      <td>NDVI_NDBI_EVI</td>\n",
       "      <td>projects/earthengine-legacy/assets/users/fhane...</td>\n",
       "      <td>zhongnan</td>\n",
       "    </tr>\n",
       "    <tr>\n",
       "      <th>13</th>\n",
       "      <td>2014_2016</td>\n",
       "      <td>NDVI_NDBI_EVI</td>\n",
       "      <td>projects/earthengine-legacy/assets/users/fhane...</td>\n",
       "      <td>zhongnan</td>\n",
       "    </tr>\n",
       "    <tr>\n",
       "      <th>14</th>\n",
       "      <td>2017_2019</td>\n",
       "      <td>NDVI_NDBI_EVI</td>\n",
       "      <td>projects/earthengine-legacy/assets/users/fhane...</td>\n",
       "      <td>zhongnan</td>\n",
       "    </tr>\n",
       "    <tr>\n",
       "      <th>11</th>\n",
       "      <td>2020_2022</td>\n",
       "      <td>NDVI_NDBI_EVI</td>\n",
       "      <td>projects/earthengine-legacy/assets/users/cnbui...</td>\n",
       "      <td>zhongnan</td>\n",
       "    </tr>\n",
       "  </tbody>\n",
       "</table>\n",
       "<p>198 rows × 4 columns</p>\n",
       "</div>"
      ],
      "text/plain": [
       "         year           type  \\\n",
       "0   1990_1992        Fourier   \n",
       "1   1993_1995        Fourier   \n",
       "2   1996_1998        Fourier   \n",
       "3   1999_2001        Fourier   \n",
       "4   2002_2004        Fourier   \n",
       "..        ...            ...   \n",
       "11  2008_2010  NDVI_NDBI_EVI   \n",
       "12  2011_2013  NDVI_NDBI_EVI   \n",
       "13  2014_2016  NDVI_NDBI_EVI   \n",
       "14  2017_2019  NDVI_NDBI_EVI   \n",
       "11  2020_2022  NDVI_NDBI_EVI   \n",
       "\n",
       "                                                 path    region  \n",
       "0   projects/earthengine-legacy/assets/users/bthom...   dongbei  \n",
       "1   projects/earthengine-legacy/assets/users/bthom...   dongbei  \n",
       "2   projects/earthengine-legacy/assets/users/bthom...   dongbei  \n",
       "3   projects/earthengine-legacy/assets/users/bthom...   dongbei  \n",
       "4   projects/earthengine-legacy/assets/users/bthom...   dongbei  \n",
       "..                                                ...       ...  \n",
       "11  projects/earthengine-legacy/assets/users/fhane...  zhongnan  \n",
       "12  projects/earthengine-legacy/assets/users/fhane...  zhongnan  \n",
       "13  projects/earthengine-legacy/assets/users/fhane...  zhongnan  \n",
       "14  projects/earthengine-legacy/assets/users/fhane...  zhongnan  \n",
       "11  projects/earthengine-legacy/assets/users/cnbui...  zhongnan  \n",
       "\n",
       "[198 rows x 4 columns]"
      ]
     },
     "execution_count": 12,
     "metadata": {},
     "output_type": "execute_result"
    }
   ],
   "source": [
    "asset_df"
   ]
  },
  {
   "cell_type": "code",
   "execution_count": null,
   "metadata": {},
   "outputs": [],
   "source": []
  },
  {
   "cell_type": "markdown",
   "metadata": {},
   "source": [
    "##### Prepare input_image for classification"
   ]
  },
  {
   "cell_type": "code",
   "execution_count": null,
   "metadata": {},
   "outputs": [],
   "source": []
  },
  {
   "cell_type": "markdown",
   "metadata": {},
   "source": [
    "Some additional treatment for the last two periods of Landsat and Sentinel imgs"
   ]
  },
  {
   "cell_type": "code",
   "execution_count": null,
   "metadata": {},
   "outputs": [],
   "source": []
  },
  {
   "cell_type": "code",
   "execution_count": 13,
   "metadata": {},
   "outputs": [],
   "source": [
    "# import Landsat img\n",
    "Landsat_df = asset_df[(asset_df['type']=='Landsat_cloud_free')&(asset_df['region']==region_en)]\n",
    "Landsat_img = [ee.Image(i) for i in  Landsat_df['path'].values]\n",
    "\n",
    "# import Fourier img   \n",
    "Fourier_df  = asset_df[(asset_df['type']=='Fourier')&(asset_df['region']==region_en)]\n",
    "Fourier_img = [ee.Image(i) for i in  Fourier_df['path'].values]\n",
    "\n",
    "# import Normalized img   \n",
    "Normalized_df  = asset_df[(asset_df['type']=='NDVI_NDBI_EVI')&(asset_df['region']==region_en)]\n",
    "Normalized_img = [ee.Image(i) for i in  Normalized_df['path'].values]\n",
    "\n",
    "# prepare the climate data\n",
    "# because the climate data ends in 2019, we will use the 2019 data if requring future data than 2019\n",
    "if num_invarient > 10:\n",
    "    climate_year = year_name[:10] + [year_name[9]]*(num_invarient-10)\n",
    "Climate_mean = [ee.Image(f\"users/China_bulit/01_Data_preparation/Climate_Mean_{year}\")\n",
    "                for year in climate_year]\n",
    "\n",
    "# Import DEM/SLOPE Img\n",
    "DEM   = [ee.Image(\"USGS/SRTMGL1_003\").rename('DEM')] * num_invarient\n",
    "SLOPE = [ee.Terrain.slope(DEM).rename('SLOPE')] * num_invarient"
   ]
  },
  {
   "cell_type": "code",
   "execution_count": null,
   "metadata": {},
   "outputs": [],
   "source": []
  },
  {
   "cell_type": "code",
   "execution_count": 14,
   "metadata": {},
   "outputs": [],
   "source": [
    "# stack all Imput_Img together\n",
    "Stack_img = [ee.Image(img) for img in zip(Landsat_img,\n",
    "                                           Fourier_img,\n",
    "                                           Normalized_img,\n",
    "                                           Climate_mean,\n",
    "                                           DEM,\n",
    "                                           SLOPE)]"
   ]
  },
  {
   "cell_type": "code",
   "execution_count": null,
   "metadata": {},
   "outputs": [],
   "source": []
  },
  {
   "cell_type": "code",
   "execution_count": null,
   "metadata": {},
   "outputs": [],
   "source": []
  },
  {
   "cell_type": "code",
   "execution_count": null,
   "metadata": {},
   "outputs": [],
   "source": []
  },
  {
   "cell_type": "markdown",
   "metadata": {},
   "source": [
    "##### Prepare input sample points"
   ]
  },
  {
   "cell_type": "code",
   "execution_count": null,
   "metadata": {},
   "outputs": [],
   "source": []
  },
  {
   "cell_type": "code",
   "execution_count": 15,
   "metadata": {},
   "outputs": [],
   "source": [
    "# Get the training sample\n",
    "Training_sample = [ee.FeatureCollection(f\"{sample_img_path}/Training_sample_{other_sample}_{year}\")\n",
    "                   for year in year_name]"
   ]
  },
  {
   "cell_type": "code",
   "execution_count": null,
   "metadata": {},
   "outputs": [],
   "source": []
  },
  {
   "cell_type": "code",
   "execution_count": null,
   "metadata": {},
   "outputs": [],
   "source": []
  },
  {
   "cell_type": "markdown",
   "metadata": {},
   "source": [
    "##### Stack input_img and input_sample together"
   ]
  },
  {
   "cell_type": "code",
   "execution_count": 16,
   "metadata": {},
   "outputs": [],
   "source": [
    "# first put all inputs together\n",
    "stack_year   = year_name\n",
    "stack_img    = Stack_img \n",
    "stack_sample = Training_sample \n",
    "\n",
    "# stack all ingredients together\n",
    "Stack_img_sample = list(zip(stack_year,stack_img,stack_sample))"
   ]
  },
  {
   "cell_type": "code",
   "execution_count": null,
   "metadata": {},
   "outputs": [],
   "source": []
  },
  {
   "cell_type": "markdown",
   "metadata": {},
   "source": [
    "#### Create the classification instances"
   ]
  },
  {
   "cell_type": "code",
   "execution_count": null,
   "metadata": {},
   "outputs": [],
   "source": []
  },
  {
   "cell_type": "code",
   "execution_count": null,
   "metadata": {},
   "outputs": [],
   "source": []
  },
  {
   "cell_type": "code",
   "execution_count": 17,
   "metadata": {},
   "outputs": [
    {
     "name": "stderr",
     "output_type": "stream",
     "text": [
      "C:\\Users\\Administrator\\AppData\\Local\\Temp\\ipykernel_17308\\965096381.py:6: FutureWarning: In a future version of pandas all arguments of concat except for the argument 'objs' will be keyword-only.\n",
      "  in_band_df = pd.concat([in_band_df_before_2020]+[in_band_2017_2019]*(num_invarient-10),0)\n"
     ]
    }
   ],
   "source": [
    "# import the inbands-combination \n",
    "in_band_df_before_2020 = pd.read_csv('../Sub_Process_7_Before_classification_Sensitivity_test/Result/In_bands_combination.csv')\n",
    "in_band_2017_2019  = in_band_df_before_2020 >> mask(X.year_range=='2017_2019')\n",
    "\n",
    "if num_invarient > 10:\n",
    "    in_band_df = pd.concat([in_band_df_before_2020]+[in_band_2017_2019]*(num_invarient-10),0)\n",
    "    in_band_df['year_range'] = year_name\n",
    "\n",
    "# selections for in-band combination\n",
    "in_band_selection =[#'Spectrum',\n",
    "                    #'Spectrum_Normalize',\n",
    "                    #'Spectrum_Normalize_Fourier',\n",
    "                    #'Spectrum_Normalize_Fourier_Terrain',\n",
    "                    'Spectrum_Normalize_Fourier_Terrain_Meterology']"
   ]
  },
  {
   "cell_type": "code",
   "execution_count": null,
   "metadata": {},
   "outputs": [],
   "source": []
  },
  {
   "cell_type": "code",
   "execution_count": null,
   "metadata": {},
   "outputs": [],
   "source": []
  },
  {
   "cell_type": "code",
   "execution_count": 18,
   "metadata": {
    "scrolled": true
   },
   "outputs": [],
   "source": [
    "# A three-layer iteration to loopthrough [inbands/year/10-randome-split] individualy\n",
    "\n",
    "Classificatioin_result = []\n",
    "\n",
    "# The first-layer loop to go througth each inbands\n",
    "for input_bands in in_band_selection:\n",
    "\n",
    "    # The second-layer loop to go througth each year-periods\n",
    "    for i,input_variable in enumerate(Stack_img_sample):\n",
    "        \n",
    "        \n",
    "        # Fetch basic parameters\n",
    "        classificaiton_tpye = input_bands\n",
    "        year                = input_variable[0]\n",
    "        input_img           = input_variable[1]\n",
    "        sample_pt           = input_variable[2]\n",
    "\n",
    "        # here determine which bands are involved in the classification\n",
    "        # because the list is a string represented format, here use ast \n",
    "        # module to conver it back to a Python list\n",
    "        in_features         = ast.literal_eval(in_band_df.iloc[i][input_bands])\n",
    "        \n",
    "\n",
    "        # The third-layer to go through each-randomnes\n",
    "        for seed in range(10):\n",
    "\n",
    "            #_______________________________Deploy the random-forest classification______________________\n",
    "            # Instatiate the class with a name.\n",
    "            classification = Classification(year_name      = year,\n",
    "                                            Verified_point = sample_pt,\n",
    "                                            Input_img      = input_img,\n",
    "                                            Input_band     = in_features,\n",
    "                                            Tree_num       = 100,\n",
    "                                            seed           = seed,\n",
    "                                            classProperty  = 'Built')\n",
    "\n",
    "\n",
    "            # Get the classified img\n",
    "            classified_img = classification.classification_img\n",
    "\n",
    "\n",
    "            # Get the classified samples\n",
    "            train_sample_classified = classification.Train_sample_classification\n",
    "            test_sample_classified  = classification.Test_sample_classification\n",
    "\n",
    "            #__________________________________Add all classification result into a list____________________________\n",
    "            Classificatioin_result.append((classificaiton_tpye,year,seed,classified_img,test_sample_classified))"
   ]
  },
  {
   "cell_type": "code",
   "execution_count": null,
   "metadata": {},
   "outputs": [],
   "source": []
  },
  {
   "cell_type": "code",
   "execution_count": 19,
   "metadata": {
    "scrolled": true
   },
   "outputs": [
    {
     "data": {
      "text/html": [
       "<div>\n",
       "<style scoped>\n",
       "    .dataframe tbody tr th:only-of-type {\n",
       "        vertical-align: middle;\n",
       "    }\n",
       "\n",
       "    .dataframe tbody tr th {\n",
       "        vertical-align: top;\n",
       "    }\n",
       "\n",
       "    .dataframe thead th {\n",
       "        text-align: right;\n",
       "    }\n",
       "</style>\n",
       "<table border=\"1\" class=\"dataframe\">\n",
       "  <thead>\n",
       "    <tr style=\"text-align: right;\">\n",
       "      <th></th>\n",
       "      <th>classificaiton_tpye</th>\n",
       "      <th>year</th>\n",
       "      <th>seed</th>\n",
       "      <th>classified_img</th>\n",
       "      <th>test_sample_classified</th>\n",
       "    </tr>\n",
       "  </thead>\n",
       "  <tbody>\n",
       "    <tr>\n",
       "      <th>0</th>\n",
       "      <td>Spectrum_Normalize_Fourier_Terrain_Meterology</td>\n",
       "      <td>1990_1992</td>\n",
       "      <td>0</td>\n",
       "      <td>ee.Image({\\n  \"functionInvocationValue\": {\\n  ...</td>\n",
       "      <td>ee.FeatureCollection({\\n  \"functionInvocationV...</td>\n",
       "    </tr>\n",
       "    <tr>\n",
       "      <th>1</th>\n",
       "      <td>Spectrum_Normalize_Fourier_Terrain_Meterology</td>\n",
       "      <td>1990_1992</td>\n",
       "      <td>1</td>\n",
       "      <td>ee.Image({\\n  \"functionInvocationValue\": {\\n  ...</td>\n",
       "      <td>ee.FeatureCollection({\\n  \"functionInvocationV...</td>\n",
       "    </tr>\n",
       "    <tr>\n",
       "      <th>2</th>\n",
       "      <td>Spectrum_Normalize_Fourier_Terrain_Meterology</td>\n",
       "      <td>1990_1992</td>\n",
       "      <td>2</td>\n",
       "      <td>ee.Image({\\n  \"functionInvocationValue\": {\\n  ...</td>\n",
       "      <td>ee.FeatureCollection({\\n  \"functionInvocationV...</td>\n",
       "    </tr>\n",
       "    <tr>\n",
       "      <th>3</th>\n",
       "      <td>Spectrum_Normalize_Fourier_Terrain_Meterology</td>\n",
       "      <td>1990_1992</td>\n",
       "      <td>3</td>\n",
       "      <td>ee.Image({\\n  \"functionInvocationValue\": {\\n  ...</td>\n",
       "      <td>ee.FeatureCollection({\\n  \"functionInvocationV...</td>\n",
       "    </tr>\n",
       "    <tr>\n",
       "      <th>4</th>\n",
       "      <td>Spectrum_Normalize_Fourier_Terrain_Meterology</td>\n",
       "      <td>1990_1992</td>\n",
       "      <td>4</td>\n",
       "      <td>ee.Image({\\n  \"functionInvocationValue\": {\\n  ...</td>\n",
       "      <td>ee.FeatureCollection({\\n  \"functionInvocationV...</td>\n",
       "    </tr>\n",
       "    <tr>\n",
       "      <th>...</th>\n",
       "      <td>...</td>\n",
       "      <td>...</td>\n",
       "      <td>...</td>\n",
       "      <td>...</td>\n",
       "      <td>...</td>\n",
       "    </tr>\n",
       "    <tr>\n",
       "      <th>105</th>\n",
       "      <td>Spectrum_Normalize_Fourier_Terrain_Meterology</td>\n",
       "      <td>2020_2022</td>\n",
       "      <td>5</td>\n",
       "      <td>ee.Image({\\n  \"functionInvocationValue\": {\\n  ...</td>\n",
       "      <td>ee.FeatureCollection({\\n  \"functionInvocationV...</td>\n",
       "    </tr>\n",
       "    <tr>\n",
       "      <th>106</th>\n",
       "      <td>Spectrum_Normalize_Fourier_Terrain_Meterology</td>\n",
       "      <td>2020_2022</td>\n",
       "      <td>6</td>\n",
       "      <td>ee.Image({\\n  \"functionInvocationValue\": {\\n  ...</td>\n",
       "      <td>ee.FeatureCollection({\\n  \"functionInvocationV...</td>\n",
       "    </tr>\n",
       "    <tr>\n",
       "      <th>107</th>\n",
       "      <td>Spectrum_Normalize_Fourier_Terrain_Meterology</td>\n",
       "      <td>2020_2022</td>\n",
       "      <td>7</td>\n",
       "      <td>ee.Image({\\n  \"functionInvocationValue\": {\\n  ...</td>\n",
       "      <td>ee.FeatureCollection({\\n  \"functionInvocationV...</td>\n",
       "    </tr>\n",
       "    <tr>\n",
       "      <th>108</th>\n",
       "      <td>Spectrum_Normalize_Fourier_Terrain_Meterology</td>\n",
       "      <td>2020_2022</td>\n",
       "      <td>8</td>\n",
       "      <td>ee.Image({\\n  \"functionInvocationValue\": {\\n  ...</td>\n",
       "      <td>ee.FeatureCollection({\\n  \"functionInvocationV...</td>\n",
       "    </tr>\n",
       "    <tr>\n",
       "      <th>109</th>\n",
       "      <td>Spectrum_Normalize_Fourier_Terrain_Meterology</td>\n",
       "      <td>2020_2022</td>\n",
       "      <td>9</td>\n",
       "      <td>ee.Image({\\n  \"functionInvocationValue\": {\\n  ...</td>\n",
       "      <td>ee.FeatureCollection({\\n  \"functionInvocationV...</td>\n",
       "    </tr>\n",
       "  </tbody>\n",
       "</table>\n",
       "<p>110 rows × 5 columns</p>\n",
       "</div>"
      ],
      "text/plain": [
       "                               classificaiton_tpye       year  seed  \\\n",
       "0    Spectrum_Normalize_Fourier_Terrain_Meterology  1990_1992     0   \n",
       "1    Spectrum_Normalize_Fourier_Terrain_Meterology  1990_1992     1   \n",
       "2    Spectrum_Normalize_Fourier_Terrain_Meterology  1990_1992     2   \n",
       "3    Spectrum_Normalize_Fourier_Terrain_Meterology  1990_1992     3   \n",
       "4    Spectrum_Normalize_Fourier_Terrain_Meterology  1990_1992     4   \n",
       "..                                             ...        ...   ...   \n",
       "105  Spectrum_Normalize_Fourier_Terrain_Meterology  2020_2022     5   \n",
       "106  Spectrum_Normalize_Fourier_Terrain_Meterology  2020_2022     6   \n",
       "107  Spectrum_Normalize_Fourier_Terrain_Meterology  2020_2022     7   \n",
       "108  Spectrum_Normalize_Fourier_Terrain_Meterology  2020_2022     8   \n",
       "109  Spectrum_Normalize_Fourier_Terrain_Meterology  2020_2022     9   \n",
       "\n",
       "                                        classified_img  \\\n",
       "0    ee.Image({\\n  \"functionInvocationValue\": {\\n  ...   \n",
       "1    ee.Image({\\n  \"functionInvocationValue\": {\\n  ...   \n",
       "2    ee.Image({\\n  \"functionInvocationValue\": {\\n  ...   \n",
       "3    ee.Image({\\n  \"functionInvocationValue\": {\\n  ...   \n",
       "4    ee.Image({\\n  \"functionInvocationValue\": {\\n  ...   \n",
       "..                                                 ...   \n",
       "105  ee.Image({\\n  \"functionInvocationValue\": {\\n  ...   \n",
       "106  ee.Image({\\n  \"functionInvocationValue\": {\\n  ...   \n",
       "107  ee.Image({\\n  \"functionInvocationValue\": {\\n  ...   \n",
       "108  ee.Image({\\n  \"functionInvocationValue\": {\\n  ...   \n",
       "109  ee.Image({\\n  \"functionInvocationValue\": {\\n  ...   \n",
       "\n",
       "                                test_sample_classified  \n",
       "0    ee.FeatureCollection({\\n  \"functionInvocationV...  \n",
       "1    ee.FeatureCollection({\\n  \"functionInvocationV...  \n",
       "2    ee.FeatureCollection({\\n  \"functionInvocationV...  \n",
       "3    ee.FeatureCollection({\\n  \"functionInvocationV...  \n",
       "4    ee.FeatureCollection({\\n  \"functionInvocationV...  \n",
       "..                                                 ...  \n",
       "105  ee.FeatureCollection({\\n  \"functionInvocationV...  \n",
       "106  ee.FeatureCollection({\\n  \"functionInvocationV...  \n",
       "107  ee.FeatureCollection({\\n  \"functionInvocationV...  \n",
       "108  ee.FeatureCollection({\\n  \"functionInvocationV...  \n",
       "109  ee.FeatureCollection({\\n  \"functionInvocationV...  \n",
       "\n",
       "[110 rows x 5 columns]"
      ]
     },
     "execution_count": 19,
     "metadata": {},
     "output_type": "execute_result"
    }
   ],
   "source": [
    "# convert classificaiton instances into a dataframe\n",
    "Classification_instances_df =  pd.DataFrame(Classificatioin_result,\n",
    "                                            columns=['classificaiton_tpye','year','seed','classified_img',\n",
    "                                                     'test_sample_classified'])\n",
    "Classification_instances_df"
   ]
  },
  {
   "cell_type": "code",
   "execution_count": null,
   "metadata": {},
   "outputs": [],
   "source": []
  },
  {
   "cell_type": "markdown",
   "metadata": {},
   "source": [
    "#### Add one of the classified img to map"
   ]
  },
  {
   "cell_type": "code",
   "execution_count": null,
   "metadata": {},
   "outputs": [],
   "source": []
  },
  {
   "cell_type": "code",
   "execution_count": 20,
   "metadata": {},
   "outputs": [],
   "source": [
    "# define parameters of classification for show in map\n",
    "bands_in_type = in_band_selection[0]\n",
    "year_in       = '2020_2022'\n",
    "\n",
    "\n",
    "# get the classification img\n",
    "one = (Classification_instances_df >> mask(X.classificaiton_tpye == bands_in_type,\n",
    "                                  X.year == year_in,\n",
    "                                  X.seed == 5))['classified_img'].values[0]"
   ]
  },
  {
   "cell_type": "code",
   "execution_count": null,
   "metadata": {},
   "outputs": [],
   "source": []
  },
  {
   "cell_type": "code",
   "execution_count": 21,
   "metadata": {},
   "outputs": [
    {
     "data": {
      "application/vnd.jupyter.widget-view+json": {
       "model_id": "9494bc8dade6466b8c850fa42c42cd74",
       "version_major": 2,
       "version_minor": 0
      },
      "text/plain": [
       "Map(center=[30.069204468133314, 95.82418599870017], controls=(WidgetControl(options=['position', 'transparent_…"
      ]
     },
     "execution_count": 21,
     "metadata": {},
     "output_type": "execute_result"
    }
   ],
   "source": [
    "# add the selected classification in map\n",
    "Map = geemap.Map()\n",
    "Map.add_basemap('HYBRID')\n",
    "Map.centerObject(Region,6)\n",
    "Map.addLayer(one.clip(Region),{'min':0,'max':1},'One')\n",
    "Map"
   ]
  },
  {
   "cell_type": "code",
   "execution_count": null,
   "metadata": {},
   "outputs": [],
   "source": []
  },
  {
   "cell_type": "code",
   "execution_count": null,
   "metadata": {},
   "outputs": [],
   "source": []
  },
  {
   "cell_type": "code",
   "execution_count": null,
   "metadata": {},
   "outputs": [],
   "source": []
  },
  {
   "cell_type": "markdown",
   "metadata": {},
   "source": [
    "##### Export the classified_img"
   ]
  },
  {
   "cell_type": "code",
   "execution_count": 180,
   "metadata": {},
   "outputs": [],
   "source": [
    "# Region = ee.FeatureCollection(\"users/wangjinzhulala/China_built_up/01_Boundary_shp/Classificatioin_boundary_patch\")"
   ]
  },
  {
   "cell_type": "code",
   "execution_count": null,
   "metadata": {},
   "outputs": [],
   "source": []
  },
  {
   "cell_type": "code",
   "execution_count": null,
   "metadata": {},
   "outputs": [],
   "source": []
  },
  {
   "cell_type": "code",
   "execution_count": 181,
   "metadata": {
    "scrolled": true,
    "tags": []
   },
   "outputs": [
    {
     "name": "stdout",
     "output_type": "stream",
     "text": [
      "Exporting Spectrum_Normalize_Fourier_Terrain_Meterology_xinan_2020_2022_0 successful!\n",
      "Exporting Spectrum_Normalize_Fourier_Terrain_Meterology_xinan_2020_2022_1 successful!\n",
      "Exporting Spectrum_Normalize_Fourier_Terrain_Meterology_xinan_2020_2022_2 successful!\n",
      "Exporting Spectrum_Normalize_Fourier_Terrain_Meterology_xinan_2020_2022_3 successful!\n",
      "Exporting Spectrum_Normalize_Fourier_Terrain_Meterology_xinan_2020_2022_4 successful!\n",
      "Exporting Spectrum_Normalize_Fourier_Terrain_Meterology_xinan_2020_2022_5 successful!\n",
      "Exporting Spectrum_Normalize_Fourier_Terrain_Meterology_xinan_2020_2022_6 successful!\n",
      "Exporting Spectrum_Normalize_Fourier_Terrain_Meterology_xinan_2020_2022_7 successful!\n",
      "Exporting Spectrum_Normalize_Fourier_Terrain_Meterology_xinan_2020_2022_8 successful!\n",
      "Exporting Spectrum_Normalize_Fourier_Terrain_Meterology_xinan_2020_2022_9 successful!\n"
     ]
    }
   ],
   "source": [
    "selecte_year = '2020_2022' # or None\n",
    "\n",
    "if selecte_year:\n",
    "    Classification_instances_df = Classification_instances_df >> mask(X.year==selecte_year)\n",
    "\n",
    "    \n",
    "for idx,item in Classification_instances_df.iterrows():\n",
    "     \n",
    "    Classification_type = item[0]\n",
    "    year = item[1]\n",
    "    seed = item[2]\n",
    "    img  = item[3].toInt8()\n",
    "    \n",
    "    \n",
    "    export_name = f'{Classification_type}_{region_en}_{year}_{seed}'\n",
    "    \n",
    "    #export to GEE asset    \n",
    "    task = ee.batch.Export.image.toAsset(   image          = img,\n",
    "                                            description    = export_name,\n",
    "                                            assetId        = f'{export_path}/{export_name}',\n",
    "                                            region         = Region.geometry().bounds(),\n",
    "                                            scale          = 30,\n",
    "                                            maxPixels      = int(1e13)) \n",
    "    \n",
    "    task.start()\n",
    "    \n",
    "    \n",
    "    print(f'Exporting {export_name} successful!')"
   ]
  },
  {
   "cell_type": "code",
   "execution_count": null,
   "metadata": {},
   "outputs": [],
   "source": []
  },
  {
   "cell_type": "code",
   "execution_count": null,
   "metadata": {},
   "outputs": [],
   "source": []
  },
  {
   "cell_type": "code",
   "execution_count": null,
   "metadata": {},
   "outputs": [],
   "source": []
  },
  {
   "cell_type": "code",
   "execution_count": null,
   "metadata": {},
   "outputs": [],
   "source": []
  },
  {
   "cell_type": "code",
   "execution_count": null,
   "metadata": {},
   "outputs": [],
   "source": []
  },
  {
   "cell_type": "code",
   "execution_count": null,
   "metadata": {},
   "outputs": [],
   "source": []
  }
 ],
 "metadata": {
  "kernelspec": {
   "display_name": "Python 3 (ipykernel)",
   "language": "python",
   "name": "python3"
  },
  "language_info": {
   "codemirror_mode": {
    "name": "ipython",
    "version": 3
   },
   "file_extension": ".py",
   "mimetype": "text/x-python",
   "name": "python",
   "nbconvert_exporter": "python",
   "pygments_lexer": "ipython3",
   "version": "3.10.9"
  }
 },
 "nbformat": 4,
 "nbformat_minor": 4
}
