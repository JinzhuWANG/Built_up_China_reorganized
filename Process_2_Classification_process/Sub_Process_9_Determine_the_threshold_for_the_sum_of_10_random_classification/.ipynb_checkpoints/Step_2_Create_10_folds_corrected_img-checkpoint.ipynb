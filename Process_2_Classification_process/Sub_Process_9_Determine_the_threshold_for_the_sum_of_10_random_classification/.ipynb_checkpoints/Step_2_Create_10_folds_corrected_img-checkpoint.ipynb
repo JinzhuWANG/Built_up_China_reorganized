{
 "cells": [
  {
   "cell_type": "code",
   "execution_count": 1,
   "metadata": {},
   "outputs": [],
   "source": [
    "import os\n",
    "\n",
    "# Set the proxy environment variables\n",
    "os.environ['http_proxy'] = 'http://127.0.0.1:7890'\n",
    "os.environ['https_proxy'] = 'http://127.0.0.1:7890'"
   ]
  },
  {
   "cell_type": "code",
   "execution_count": null,
   "metadata": {},
   "outputs": [],
   "source": []
  },
  {
   "cell_type": "code",
   "execution_count": 2,
   "metadata": {},
   "outputs": [],
   "source": [
    "import ee\n",
    "import datetime\n",
    "import itertools\n",
    "import sys\n",
    "import re\n",
    "\n",
    "import pandas as pd\n",
    "import numpy as np\n",
    "\n",
    "import seaborn as sns\n",
    "import matplotlib.pyplot as plt\n",
    "\n",
    "import geemap\n",
    "\n",
    "import subprocess\n",
    "from subprocess import PIPE"
   ]
  },
  {
   "cell_type": "code",
   "execution_count": null,
   "metadata": {},
   "outputs": [],
   "source": []
  },
  {
   "cell_type": "code",
   "execution_count": 3,
   "metadata": {},
   "outputs": [],
   "source": [
    "ee.Initialize()"
   ]
  },
  {
   "cell_type": "code",
   "execution_count": 4,
   "metadata": {},
   "outputs": [],
   "source": [
    "# define basic parameters\n",
    "year_span = [f'{i}_{i+2}' for i in range(2020,2023,3)]"
   ]
  },
  {
   "cell_type": "code",
   "execution_count": 5,
   "metadata": {},
   "outputs": [],
   "source": [
    "# define the region to analysis\n",
    "region    = ['华东',   '东北',   '中南',    '华北',  '西北', '西南']\n",
    "region_en = ['huadong','dongbei','zhongnan','huabei','xibei','xinan']"
   ]
  },
  {
   "cell_type": "code",
   "execution_count": null,
   "metadata": {},
   "outputs": [],
   "source": []
  },
  {
   "cell_type": "code",
   "execution_count": 42,
   "metadata": {},
   "outputs": [],
   "source": [
    "region_cn = '西北'\n",
    "region_en = 'xibei'"
   ]
  },
  {
   "cell_type": "code",
   "execution_count": null,
   "metadata": {},
   "outputs": [],
   "source": []
  },
  {
   "cell_type": "code",
   "execution_count": 50,
   "metadata": {},
   "outputs": [],
   "source": [
    "# import COPERNICUS.urban_coverfraction layer, which will be used to masking urban classfications\n",
    "COPERNICUS_urban = ee.Image(f'COPERNICUS/Landcover/100m/Proba-V-C3/Global/2019').select(\"urban-coverfraction\")\n",
    "\n",
    "# other masking layers\n",
    "dem = ee.Image(\"USGS/SRTMGL1_003\")\n",
    "slope = ee.Terrain.slope(dem)\n",
    "precipitation = ee.Image(\"users/wangjinzhulala/China_built_up/07_supplementary_data/China_precipication_2010s\")\n",
    "\n",
    "\n",
    "# create the mask_rule_dict\n",
    "mask_rule = {'dongbei':precipitation.lt(550),\n",
    "            'huabei':slope.gt(4),\n",
    "            'huadong':slope.gt(4),\n",
    "            'xibei':dem.gt(1000).Or(precipitation.lt(500)).Or(slope.gt(4)),\n",
    "            'xinan':dem.gt(3000),\n",
    "            'zhongnan':slope.gt(4)}\n",
    "\n",
    "# function to perform the masking\n",
    "def mask_img(in_img,region_name=region_en):\n",
    "    \n",
    "    # 1) first clip out the area to be masked by COPERNICUS_urban\n",
    "    img_mask_area = in_img.updateMask(mask_rule[region_name])\n",
    "    img_mask_area = img_mask_area.multiply(COPERNICUS_urban.gt(20))\n",
    "    \n",
    "    # 2) then clip out the area remain unchanged\n",
    "    img_unchange_area = in_img.updateMask(mask_rule[region_name].Not())\n",
    "    \n",
    "    # 3) mosaic the two imgs\n",
    "    merge_img = ee.ImageCollection([img_mask_area,img_unchange_area]).mosaic()\n",
    "    \n",
    "    \n",
    "    return merge_img"
   ]
  },
  {
   "cell_type": "code",
   "execution_count": null,
   "metadata": {},
   "outputs": [],
   "source": []
  },
  {
   "cell_type": "code",
   "execution_count": null,
   "metadata": {},
   "outputs": [],
   "source": []
  },
  {
   "cell_type": "code",
   "execution_count": null,
   "metadata": {},
   "outputs": [],
   "source": []
  },
  {
   "cell_type": "markdown",
   "metadata": {},
   "source": [
    "##### Get the priliminary classifications"
   ]
  },
  {
   "cell_type": "code",
   "execution_count": 51,
   "metadata": {},
   "outputs": [],
   "source": [
    "# prepare the different input band types\n",
    "in_band_selection =[#'Spectrum',\n",
    "                    #'Spectrum_Normalize',\n",
    "                    #'Spectrum_Normalize_Fourier',\n",
    "                    #'Spectrum_Normalize_Fourier_Terrain',\n",
    "                    'Spectrum_Normalize_Fourier_Terrain_Meterology']"
   ]
  },
  {
   "cell_type": "code",
   "execution_count": null,
   "metadata": {},
   "outputs": [],
   "source": []
  },
  {
   "cell_type": "code",
   "execution_count": 52,
   "metadata": {},
   "outputs": [],
   "source": [
    "# get the priliminary classifications and select those with a \n",
    "# >5 value in the 10-folds sum, here the 5 threshold comes from\n",
    "# the Step_1 10-folds check of this fold\n",
    "\n",
    "path = 'users/wangjinzhulala/China_built_up/05_primary_classification'\n",
    "\n",
    "classification_ten_folds_check = {}\n",
    "\n",
    "for in_band in in_band_selection:\n",
    "    for year in year_span:\n",
    "        \n",
    "        img_name = f'{in_band}_{region_en}_{year}'\n",
    "    \n",
    "        preliminary_classification = ee.ImageCollection([ee.Image(f'{path}/{img_name}_{seed}_zhongnan_sample') for seed in range(10)]).sum()\n",
    "        img_check = preliminary_classification.gt(4)\n",
    "        \n",
    "        # masking: from the classfication tricks\n",
    "        if int(year[:4]) > 2013:\n",
    "            # !!!! change mask_img accordingly !!!!\n",
    "            img_check = mask_img(img_check)\n",
    "\n",
    "        classification_ten_folds_check[(in_band,year)] = [img_check]\n",
    "        "
   ]
  },
  {
   "cell_type": "code",
   "execution_count": null,
   "metadata": {},
   "outputs": [],
   "source": []
  },
  {
   "cell_type": "code",
   "execution_count": null,
   "metadata": {},
   "outputs": [],
   "source": []
  },
  {
   "cell_type": "code",
   "execution_count": 53,
   "metadata": {},
   "outputs": [],
   "source": [
    "# store the classification in a df for conviniency\n",
    "classification_ten_folds_check_df = pd.DataFrame(classification_ten_folds_check)\n",
    "\n",
    "# format the df\n",
    "classification_checked = classification_ten_folds_check_df.T.reset_index()\n",
    "classification_checked.columns = ['In bands','year','classification']"
   ]
  },
  {
   "cell_type": "code",
   "execution_count": null,
   "metadata": {},
   "outputs": [],
   "source": []
  },
  {
   "cell_type": "code",
   "execution_count": 54,
   "metadata": {},
   "outputs": [
    {
     "data": {
      "text/html": [
       "<div>\n",
       "<style scoped>\n",
       "    .dataframe tbody tr th:only-of-type {\n",
       "        vertical-align: middle;\n",
       "    }\n",
       "\n",
       "    .dataframe tbody tr th {\n",
       "        vertical-align: top;\n",
       "    }\n",
       "\n",
       "    .dataframe thead th {\n",
       "        text-align: right;\n",
       "    }\n",
       "</style>\n",
       "<table border=\"1\" class=\"dataframe\">\n",
       "  <thead>\n",
       "    <tr style=\"text-align: right;\">\n",
       "      <th></th>\n",
       "      <th>In bands</th>\n",
       "      <th>year</th>\n",
       "      <th>classification</th>\n",
       "    </tr>\n",
       "  </thead>\n",
       "  <tbody>\n",
       "    <tr>\n",
       "      <th>0</th>\n",
       "      <td>Spectrum_Normalize_Fourier_Terrain_Meterology</td>\n",
       "      <td>2020_2022</td>\n",
       "      <td>ee.Image({\\n  \"functionInvocationValue\": {\\n  ...</td>\n",
       "    </tr>\n",
       "  </tbody>\n",
       "</table>\n",
       "</div>"
      ],
      "text/plain": [
       "                                        In bands       year  \\\n",
       "0  Spectrum_Normalize_Fourier_Terrain_Meterology  2020_2022   \n",
       "\n",
       "                                      classification  \n",
       "0  ee.Image({\\n  \"functionInvocationValue\": {\\n  ...  "
      ]
     },
     "execution_count": 54,
     "metadata": {},
     "output_type": "execute_result"
    }
   ],
   "source": [
    "classification_checked"
   ]
  },
  {
   "cell_type": "code",
   "execution_count": null,
   "metadata": {},
   "outputs": [],
   "source": []
  },
  {
   "cell_type": "code",
   "execution_count": null,
   "metadata": {},
   "outputs": [],
   "source": []
  },
  {
   "cell_type": "markdown",
   "metadata": {},
   "source": [
    "##### Export the result"
   ]
  },
  {
   "cell_type": "code",
   "execution_count": null,
   "metadata": {},
   "outputs": [],
   "source": []
  },
  {
   "cell_type": "code",
   "execution_count": 55,
   "metadata": {},
   "outputs": [],
   "source": [
    "# import north_china_plain boundary\n",
    "Region =  ee.FeatureCollection(\"users/wangjinzhulala/China_built_up/01_Boundary_shp/China_zone\")\\\n",
    "            .filterMetadata('NAME1','equals',region_cn)"
   ]
  },
  {
   "cell_type": "code",
   "execution_count": null,
   "metadata": {},
   "outputs": [],
   "source": []
  },
  {
   "cell_type": "code",
   "execution_count": 56,
   "metadata": {},
   "outputs": [
    {
     "data": {
      "application/vnd.jupyter.widget-view+json": {
       "model_id": "0501321c52b84a1dbcd7226f6a9da406",
       "version_major": 2,
       "version_minor": 0
      },
      "text/plain": [
       "Map(center=[39.17019792517029, 92.01646570060687], controls=(WidgetControl(options=['position', 'transparent_b…"
      ]
     },
     "execution_count": 56,
     "metadata": {},
     "output_type": "execute_result"
    }
   ],
   "source": [
    "one_img = classification_checked.iloc[0]['classification']\n",
    "\n",
    "# add the selected classification in map\n",
    "Map = geemap.Map()\n",
    "Map.add_basemap('HYBRID')\n",
    "Map.centerObject(Region,6)\n",
    "Map.addLayer(one_img,{'min':0,'max':1},'One')\n",
    "Map"
   ]
  },
  {
   "cell_type": "code",
   "execution_count": null,
   "metadata": {},
   "outputs": [],
   "source": []
  },
  {
   "cell_type": "code",
   "execution_count": null,
   "metadata": {},
   "outputs": [],
   "source": []
  },
  {
   "cell_type": "code",
   "execution_count": 57,
   "metadata": {
    "scrolled": true
   },
   "outputs": [
    {
     "name": "stdout",
     "output_type": "stream",
     "text": [
      "Spectrum_Normalize_Fourier_Terrain_Meterology_xibei_2020_2022_ten_fold_check_huadong_sample has been exported!\n"
     ]
    }
   ],
   "source": [
    "for idx,row in classification_checked.iterrows():\n",
    "    \n",
    "    out_path = 'users/wangjinzhulala/China_built_up/05_primary_classification'\n",
    "    \n",
    "    # get data\n",
    "    in_bands = row[0]\n",
    "    year = row[1]\n",
    "    img = row[2]\n",
    "    \n",
    "    # construct export name\n",
    "    name = f'{in_bands}_{region_en}_{year}_ten_fold_check_huadong_sample'\n",
    "    \n",
    "    # export\n",
    "    task = ee.batch.Export.image.toAsset(    \n",
    "                                            image= img,\n",
    "                                            description=name,\n",
    "                                            assetId=f'{out_path}/{name}',\n",
    "                                            region=Region.geometry().bounds(),\n",
    "                                            scale=30,\n",
    "                                            maxPixels=int(1e13)\n",
    "    )\n",
    "    \n",
    "    task.start()\n",
    "    \n",
    "    # print out the process\n",
    "    print(f'{name} has been exported!')"
   ]
  },
  {
   "cell_type": "code",
   "execution_count": null,
   "metadata": {},
   "outputs": [],
   "source": []
  },
  {
   "cell_type": "code",
   "execution_count": null,
   "metadata": {},
   "outputs": [],
   "source": []
  },
  {
   "cell_type": "code",
   "execution_count": null,
   "metadata": {},
   "outputs": [],
   "source": []
  }
 ],
 "metadata": {
  "kernelspec": {
   "display_name": "Python 3 (ipykernel)",
   "language": "python",
   "name": "python3"
  },
  "language_info": {
   "codemirror_mode": {
    "name": "ipython",
    "version": 3
   },
   "file_extension": ".py",
   "mimetype": "text/x-python",
   "name": "python",
   "nbconvert_exporter": "python",
   "pygments_lexer": "ipython3",
   "version": "3.10.9"
  }
 },
 "nbformat": 4,
 "nbformat_minor": 2
}
