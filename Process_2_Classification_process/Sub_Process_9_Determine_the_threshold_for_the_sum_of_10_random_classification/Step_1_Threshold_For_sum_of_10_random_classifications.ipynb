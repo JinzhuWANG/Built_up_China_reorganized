{
 "cells": [
  {
   "cell_type": "code",
   "execution_count": 1,
   "metadata": {},
   "outputs": [],
   "source": [
    "import os\n",
    "\n",
    "# Set the proxy environment variables\n",
    "os.environ['http_proxy'] = 'http://127.0.0.1:7890'\n",
    "os.environ['https_proxy'] = 'http://127.0.0.1:7890'"
   ]
  },
  {
   "cell_type": "code",
   "execution_count": null,
   "metadata": {},
   "outputs": [],
   "source": []
  },
  {
   "cell_type": "code",
   "execution_count": 2,
   "metadata": {},
   "outputs": [],
   "source": [
    "import ee\n",
    "import datetime\n",
    "import itertools\n",
    "import sys\n",
    "import re\n",
    "\n",
    "import pandas as pd\n",
    "import numpy as np\n",
    "\n",
    "import seaborn as sns\n",
    "import matplotlib.pyplot as plt\n",
    "\n",
    "import geemap\n",
    "\n",
    "import subprocess\n",
    "from subprocess import PIPE"
   ]
  },
  {
   "cell_type": "code",
   "execution_count": 3,
   "metadata": {},
   "outputs": [],
   "source": [
    "ee.Initialize()"
   ]
  },
  {
   "cell_type": "code",
   "execution_count": 4,
   "metadata": {},
   "outputs": [],
   "source": [
    "sample_path = 'users/wangjinzhulala/China_built_up/04_sample_train_test_split'"
   ]
  },
  {
   "cell_type": "code",
   "execution_count": 16,
   "metadata": {},
   "outputs": [],
   "source": [
    "# define basic parameters\n",
    "year_span = [f'{i}_{i+2}' for i in range(2020,2023,3)]"
   ]
  },
  {
   "cell_type": "code",
   "execution_count": 8,
   "metadata": {},
   "outputs": [],
   "source": [
    "region_cn = '华北'\n",
    "region_en = 'huabei'"
   ]
  },
  {
   "cell_type": "code",
   "execution_count": null,
   "metadata": {},
   "outputs": [],
   "source": []
  },
  {
   "cell_type": "code",
   "execution_count": null,
   "metadata": {},
   "outputs": [],
   "source": []
  },
  {
   "cell_type": "markdown",
   "metadata": {},
   "source": [
    "### Step_1: Prepare input classification_img, control_sample, and sample_size"
   ]
  },
  {
   "cell_type": "code",
   "execution_count": null,
   "metadata": {},
   "outputs": [],
   "source": []
  },
  {
   "cell_type": "code",
   "execution_count": 19,
   "metadata": {},
   "outputs": [],
   "source": [
    "# import the untouched control points, which are diveded by a random column with a 101 random state\n",
    "Sample  = [ee.FeatureCollection(f'{sample_path}/Training_sample_{region_en}_{year}') for year in year_span]"
   ]
  },
  {
   "cell_type": "code",
   "execution_count": null,
   "metadata": {},
   "outputs": [],
   "source": []
  },
  {
   "cell_type": "code",
   "execution_count": 20,
   "metadata": {},
   "outputs": [],
   "source": [
    "# prepare the different input band types\n",
    "in_band_selection =[#'Spectrum',\n",
    "                    #'Spectrum_Normalize',\n",
    "                    #'Spectrum_Normalize_Fourier',\n",
    "                    #'Spectrum_Normalize_Fourier_Terrain',\n",
    "                    'Spectrum_Normalize_Fourier_Terrain_Meterology']"
   ]
  },
  {
   "cell_type": "code",
   "execution_count": null,
   "metadata": {},
   "outputs": [],
   "source": []
  },
  {
   "cell_type": "code",
   "execution_count": 26,
   "metadata": {},
   "outputs": [],
   "source": [
    "# import the classified imgs\n",
    "img_path = 'users/wangjinzhulala/China_built_up/05_primary_classification'\n",
    "\n",
    "Classified_Landsat_1990_2019 = {}\n",
    "\n",
    "# get the sum of 10-folds-classification\n",
    "for in_band in in_band_selection:\n",
    "    for i,year in enumerate(year_span):\n",
    "        \n",
    "        img_name = f'{in_band}_{region_en}_{year}'    \n",
    "        preliminary_classification = ee.ImageCollection([ee.Image(f'{img_path}/{img_name}_{seed}_patch') for seed in range(10)]).sum()\n",
    "        test_sample = Sample[i]\n",
    "        \n",
    "        Classified_Landsat_1990_2019.update({f'{year}':( preliminary_classification,\n",
    "                                                         test_sample,\n",
    "                                                         test_sample.size().getInfo())} ) "
   ]
  },
  {
   "cell_type": "code",
   "execution_count": null,
   "metadata": {},
   "outputs": [],
   "source": []
  },
  {
   "cell_type": "code",
   "execution_count": 27,
   "metadata": {},
   "outputs": [
    {
     "data": {
      "text/html": [
       "<div>\n",
       "<style scoped>\n",
       "    .dataframe tbody tr th:only-of-type {\n",
       "        vertical-align: middle;\n",
       "    }\n",
       "\n",
       "    .dataframe tbody tr th {\n",
       "        vertical-align: top;\n",
       "    }\n",
       "\n",
       "    .dataframe thead th {\n",
       "        text-align: right;\n",
       "    }\n",
       "</style>\n",
       "<table border=\"1\" class=\"dataframe\">\n",
       "  <thead>\n",
       "    <tr style=\"text-align: right;\">\n",
       "      <th></th>\n",
       "      <th>classification_img</th>\n",
       "      <th>sample_pt</th>\n",
       "      <th>sample_size</th>\n",
       "    </tr>\n",
       "  </thead>\n",
       "  <tbody>\n",
       "    <tr>\n",
       "      <th>2020_2022</th>\n",
       "      <td>ee.Image({\\n  \"functionInvocationValue\": {\\n  ...</td>\n",
       "      <td>ee.FeatureCollection({\\n  \"functionInvocationV...</td>\n",
       "      <td>2792</td>\n",
       "    </tr>\n",
       "  </tbody>\n",
       "</table>\n",
       "</div>"
      ],
      "text/plain": [
       "                                          classification_img  \\\n",
       "2020_2022  ee.Image({\\n  \"functionInvocationValue\": {\\n  ...   \n",
       "\n",
       "                                                   sample_pt sample_size  \n",
       "2020_2022  ee.FeatureCollection({\\n  \"functionInvocationV...        2792  "
      ]
     },
     "execution_count": 27,
     "metadata": {},
     "output_type": "execute_result"
    }
   ],
   "source": [
    "Input_df = pd.DataFrame(Classified_Landsat_1990_2019).T\n",
    "Input_df.columns = ['classification_img','sample_pt','sample_size']\n",
    "Input_df"
   ]
  },
  {
   "cell_type": "code",
   "execution_count": null,
   "metadata": {},
   "outputs": [],
   "source": []
  },
  {
   "cell_type": "markdown",
   "metadata": {},
   "source": [
    "### Step_2: Loop through each threshold and extract classification value to samples for later comparsion"
   ]
  },
  {
   "cell_type": "code",
   "execution_count": null,
   "metadata": {},
   "outputs": [],
   "source": []
  },
  {
   "cell_type": "code",
   "execution_count": 28,
   "metadata": {},
   "outputs": [],
   "source": [
    "Threshold_acc = {}\n",
    "\n",
    "for idx,row in Input_df.iterrows():\n",
    "    \n",
    "    img = row[0]\n",
    "    sample = row[1]\n",
    "    sample_size = row[2]\n",
    "    \n",
    "    for threshold in range(10):\n",
    "    \n",
    "        # apply the threshold to the sum of 10 classifications,rename so we can use Accuracyassement module\n",
    "        img_threshold = img.gt(threshold).rename('classification')\n",
    "\n",
    "        # extract reclassified GAIA pixel value to test_sample\n",
    "        sample_with_value = img_threshold.sampleRegions(collection = sample, \n",
    "                                                        properties = ['Built'], \n",
    "                                                        scale      = 30)\n",
    "\n",
    "        # Put the result into a dict\n",
    "        Threshold_acc[(idx,threshold)] = [sample_with_value,sample_size]"
   ]
  },
  {
   "cell_type": "code",
   "execution_count": null,
   "metadata": {},
   "outputs": [],
   "source": []
  },
  {
   "cell_type": "code",
   "execution_count": 29,
   "metadata": {
    "scrolled": true
   },
   "outputs": [],
   "source": [
    "# formating the dataframe\n",
    "Threshold_acc_df = pd.DataFrame(Threshold_acc).T\n",
    "Threshold_acc_df.reset_index(inplace=True)\n",
    "Threshold_acc_df.columns = ['Year','Threshold','Feature','Sample_size']"
   ]
  },
  {
   "cell_type": "code",
   "execution_count": null,
   "metadata": {},
   "outputs": [],
   "source": []
  },
  {
   "cell_type": "markdown",
   "metadata": {},
   "source": [
    "### Step_3: Calculate the number of correct classified points, then get the accuracy"
   ]
  },
  {
   "cell_type": "code",
   "execution_count": null,
   "metadata": {},
   "outputs": [],
   "source": []
  },
  {
   "cell_type": "code",
   "execution_count": null,
   "metadata": {},
   "outputs": [],
   "source": []
  },
  {
   "cell_type": "code",
   "execution_count": 30,
   "metadata": {
    "scrolled": true
   },
   "outputs": [
    {
     "name": "stdout",
     "output_type": "stream",
     "text": [
      "Compute the correct classified points number of 2020_2022_0 finished\n",
      "Compute the correct classified points number of 2020_2022_1 finished\n",
      "Compute the correct classified points number of 2020_2022_2 finished\n",
      "Compute the correct classified points number of 2020_2022_3 finished\n",
      "Compute the correct classified points number of 2020_2022_4 finished\n",
      "Compute the correct classified points number of 2020_2022_5 finished\n",
      "Compute the correct classified points number of 2020_2022_6 finished\n",
      "Compute the correct classified points number of 2020_2022_7 finished\n",
      "Compute the correct classified points number of 2020_2022_8 finished\n",
      "Compute the correct classified points number of 2020_2022_9 finished\n"
     ]
    }
   ],
   "source": [
    "correct_num_list = []\n",
    "\n",
    "for idx,row in Threshold_acc_df.iterrows():\n",
    "    \n",
    "    # If the 'Built' and 'classification' attribute are same, then it will be a correct classified point\n",
    "    correct_num = row[2].filter(ee.Filter.equals('Built',None,'classification')).size().getInfo()\n",
    "    correct_num_list.append(correct_num)\n",
    "    \n",
    "    print(f'Compute the correct classified points number of {row[0]}_{row[1]} finished')"
   ]
  },
  {
   "cell_type": "code",
   "execution_count": null,
   "metadata": {},
   "outputs": [],
   "source": []
  },
  {
   "cell_type": "code",
   "execution_count": 36,
   "metadata": {
    "scrolled": true
   },
   "outputs": [],
   "source": [
    "# formating the dataframe\n",
    "Threshold_acc_df['Correct_num'] = correct_num_list\n",
    "Threshold_acc_df['Accuracy'] = Threshold_acc_df['Correct_num'] /Threshold_acc_df['Sample_size'] *100\n",
    "Threshold_acc_df['Year'] = Threshold_acc_df['Year'].astype('category')\n",
    "\n",
    "# make the threshold categorical so we can make figures\n",
    "Threshold_acc_df['Threshold'] = Threshold_acc_df['Threshold'].astype('category')\n",
    "Threshold_acc_df['Year'] = Threshold_acc_df['Year'].astype('category')"
   ]
  },
  {
   "cell_type": "code",
   "execution_count": null,
   "metadata": {},
   "outputs": [],
   "source": []
  },
  {
   "cell_type": "markdown",
   "metadata": {},
   "source": [
    "##### Observe that the best threshold is 4"
   ]
  },
  {
   "cell_type": "code",
   "execution_count": 38,
   "metadata": {},
   "outputs": [
    {
     "data": {
      "text/plain": [
       "<Axes: xlabel='Threshold', ylabel='Accuracy'>"
      ]
     },
     "execution_count": 38,
     "metadata": {},
     "output_type": "execute_result"
    },
    {
     "data": {
      "image/png": "[encoded data removed]",
      "text/plain": [
       "<Figure size 1000x600 with 1 Axes>"
      ]
     },
     "metadata": {},
     "output_type": "display_data"
    }
   ],
   "source": [
    "plt.figure(figsize=(10,6))\n",
    "sns.boxplot(data=Threshold_acc_df,\n",
    "            x='Threshold',\n",
    "            y='Accuracy')"
   ]
  },
  {
   "cell_type": "code",
   "execution_count": null,
   "metadata": {},
   "outputs": [],
   "source": []
  },
  {
   "cell_type": "code",
   "execution_count": null,
   "metadata": {},
   "outputs": [],
   "source": []
  },
  {
   "cell_type": "markdown",
   "metadata": {},
   "source": [
    "##### Compare with original accuracy"
   ]
  },
  {
   "cell_type": "code",
   "execution_count": null,
   "metadata": {},
   "outputs": [],
   "source": []
  },
  {
   "cell_type": "code",
   "execution_count": 41,
   "metadata": {},
   "outputs": [],
   "source": [
    "# import the original accuracy for comparison\n",
    "Original_acc = pd.read_csv(f'../Sub_Process_7_Before_classification_Sensitivity_test/Result/Grid_acc_tree.csv')\n",
    "Original_acc = Original_acc[(Original_acc['In_Bands']=='Spectrum_Normalize_Fourier_Terrain_Meterology')&\n",
    "                            (Original_acc['Tree']==100)]\n",
    "Original_acc = Original_acc[['Year','Accuracy']]\n",
    "Original_acc['Accuracy'] =Original_acc['Accuracy'] * 100\n",
    "Original_acc['Region'] = region_en\n",
    "Original_acc['Type'] = 'Original'"
   ]
  },
  {
   "cell_type": "code",
   "execution_count": null,
   "metadata": {},
   "outputs": [],
   "source": []
  },
  {
   "cell_type": "code",
   "execution_count": null,
   "metadata": {},
   "outputs": [],
   "source": [
    "Threshold_acc_df_4 = Threshold_acc_df[Threshold_acc_df['Threshold']==4]\n",
    "Threshold_acc_df_4 = Threshold_acc_df_4[['Year','Accuracy']]\n",
    "Threshold_acc_df_4['Region'] = region_en\n",
    "Threshold_acc_df_4['Type'] = 'Ten_folds_check'"
   ]
  },
  {
   "cell_type": "code",
   "execution_count": null,
   "metadata": {},
   "outputs": [],
   "source": []
  },
  {
   "cell_type": "code",
   "execution_count": null,
   "metadata": {},
   "outputs": [],
   "source": [
    "sns.lineplot(x='Year',y='Accuracy',data=Threshold_acc_df_4)\n",
    "sns.lineplot(x='Year',y='Accuracy',data=Original_acc)"
   ]
  },
  {
   "cell_type": "code",
   "execution_count": null,
   "metadata": {},
   "outputs": [],
   "source": []
  },
  {
   "cell_type": "code",
   "execution_count": null,
   "metadata": {},
   "outputs": [],
   "source": []
  },
  {
   "cell_type": "code",
   "execution_count": null,
   "metadata": {},
   "outputs": [],
   "source": []
  },
  {
   "cell_type": "code",
   "execution_count": null,
   "metadata": {},
   "outputs": [],
   "source": []
  }
 ],
 "metadata": {
  "kernelspec": {
   "display_name": "Python 3 (ipykernel)",
   "language": "python",
   "name": "python3"
  },
  "language_info": {
   "codemirror_mode": {
    "name": "ipython",
    "version": 3
   },
   "file_extension": ".py",
   "mimetype": "text/x-python",
   "name": "python",
   "nbconvert_exporter": "python",
   "pygments_lexer": "ipython3",
   "version": "3.10.9"
  }
 },
 "nbformat": 4,
 "nbformat_minor": 2
}
