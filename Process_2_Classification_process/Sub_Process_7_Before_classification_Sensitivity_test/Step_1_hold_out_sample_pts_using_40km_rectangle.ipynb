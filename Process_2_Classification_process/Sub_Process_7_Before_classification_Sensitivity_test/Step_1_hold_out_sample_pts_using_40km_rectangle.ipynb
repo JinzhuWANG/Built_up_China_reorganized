{
 "cells": [
  {
   "cell_type": "code",
   "execution_count": 1,
   "metadata": {},
   "outputs": [],
   "source": [
    "import os\n",
    "\n",
    "# # Set the proxy environment variables\n",
    "# os.environ['http_proxy'] = 'http://127.0.0.1:7890'\n",
    "# os.environ['https_proxy'] = 'http://127.0.0.1:7890'"
   ]
  },
  {
   "cell_type": "code",
   "execution_count": null,
   "metadata": {},
   "outputs": [],
   "source": []
  },
  {
   "cell_type": "code",
   "execution_count": 2,
   "metadata": {},
   "outputs": [],
   "source": [
    "import ee\n",
    "import datetime\n",
    "import os\n",
    "import itertools\n",
    "import sys\n",
    "import urllib.request\n",
    "\n",
    "import pandas as pd\n",
    "import numpy as np\n",
    "import seaborn as sns\n",
    "import matplotlib.pyplot as plt\n",
    "\n",
    "import geemap\n",
    "from tqdm.auto import tqdm\n",
    "\n",
    "import subprocess\n",
    "from subprocess import PIPE"
   ]
  },
  {
   "cell_type": "code",
   "execution_count": 3,
   "metadata": {},
   "outputs": [],
   "source": [
    "ee.Initialize()"
   ]
  },
  {
   "cell_type": "code",
   "execution_count": null,
   "metadata": {},
   "outputs": [],
   "source": []
  },
  {
   "cell_type": "code",
   "execution_count": null,
   "metadata": {},
   "outputs": [],
   "source": []
  },
  {
   "cell_type": "markdown",
   "metadata": {},
   "source": [
    "##### Define basic parameters"
   ]
  },
  {
   "cell_type": "code",
   "execution_count": null,
   "metadata": {},
   "outputs": [],
   "source": []
  },
  {
   "cell_type": "code",
   "execution_count": 4,
   "metadata": {},
   "outputs": [],
   "source": [
    "# define the gee-asset path \n",
    "sample_path = 'users/wangjinzhulala/China_built_up/03_sample_extract_img_value'\n",
    "export_path = 'users/wangjinzhulala/China_built_up/04_sample_train_test_split'"
   ]
  },
  {
   "cell_type": "code",
   "execution_count": null,
   "metadata": {},
   "outputs": [],
   "source": []
  },
  {
   "cell_type": "code",
   "execution_count": 5,
   "metadata": {},
   "outputs": [],
   "source": [
    "# define the year range\n",
    "year_range = '2020_2022'\n",
    "\n",
    "# create the region_dict\n",
    "# region_dict = dict(zip(['华东','东北','中南','华北','西北','西南'],\n",
    "#                        ['huadong','dongbei','zhongnan','huabei','xibei','xinan']))\n",
    "region_dict = dict(zip(['西南'],\n",
    "                       ['xinan']))\n",
    "region_en2cn = {v:k for k,v in region_dict.items()}"
   ]
  },
  {
   "cell_type": "code",
   "execution_count": null,
   "metadata": {},
   "outputs": [],
   "source": []
  },
  {
   "cell_type": "code",
   "execution_count": null,
   "metadata": {},
   "outputs": [],
   "source": []
  },
  {
   "cell_type": "code",
   "execution_count": null,
   "metadata": {},
   "outputs": [],
   "source": []
  },
  {
   "cell_type": "markdown",
   "metadata": {},
   "source": [
    "##### Using grid to extract sample points"
   ]
  },
  {
   "cell_type": "code",
   "execution_count": null,
   "metadata": {},
   "outputs": [],
   "source": []
  },
  {
   "cell_type": "code",
   "execution_count": 7,
   "metadata": {},
   "outputs": [],
   "source": [
    "# function to split all_sample into hold_sample and train_sample  \n",
    "def get_hold_in_out(sample_path,region_en,year):\n",
    "    \n",
    "    # get all samplt pts\n",
    "    sample_pt = ee.FeatureCollection(f\"{sample_path}/Control_sample_ext_img_{region_en}_{year}\") \n",
    "    \n",
    "    # saplit all sample to built and non_built pts\n",
    "    pt_built     = sample_pt.filterMetadata('Built','equals',1)\n",
    "    pt_non_built = sample_pt.filterMetadata('Built','equals',0)\n",
    "\n",
    "\n",
    "    #_____________________________1: select one point from each grid________________________\n",
    "\n",
    "    # Define a spatial filter as geometries that intersect.\n",
    "    spatialFilter = ee.Filter.intersects(\n",
    "                                          leftField= '.geo',\n",
    "                                          rightField= '.geo',\n",
    "                                          maxError= 1\n",
    "                                        )\n",
    "    # Define a save all join.\n",
    "    saveAllJoin = ee.Join.saveAll(matchesKey= 'sample_pts')\n",
    "    \n",
    "    # the 40km grid cell; which will be used to hold out one built_pt sample each grid\n",
    "    grid_shp  =  ee.FeatureCollection(\"users/wangjinzhulala/China_built_up/01_Boundary_shp/China_zone_grid_40km\")\\\n",
    "                   .filterMetadata('NAME1','equals',region_en2cn[region_en])\n",
    "\n",
    "    # Apply the join.\n",
    "    grid_intersect_bulit = saveAllJoin.apply(grid_shp, pt_built, spatialFilter)\n",
    "\n",
    "    # select one point from each grid\n",
    "    choose_one_built_pt = grid_intersect_bulit.map(lambda fe: ee.List(fe.get('sample_pts')).get(0) )\n",
    "\n",
    "    # balance the size of choose_one sample [built = non-built]\n",
    "    choose_one_non_built_pt = pt_non_built\\\n",
    "                              .randomColumn()\\\n",
    "                              .sort('random')\\\n",
    "                              .limit(choose_one_built_pt.size())\n",
    "\n",
    "    # merge to get the hold_out sample\n",
    "    hold_out = choose_one_built_pt.merge(choose_one_non_built_pt)  \n",
    "\n",
    "    #_____________________________2: exclude the selected points________________________\n",
    "\n",
    "    # using the invert join for exclusion\n",
    "    invertedJoin = ee.Join.inverted()\n",
    "    hold_in = invertedJoin.apply(sample_pt, hold_out, spatialFilter)\n",
    "    # this process makes sure the featurecollection is exportable\n",
    "    hold_in = ee.FeatureCollection(hold_in.toList(hold_in.size()))\n",
    "    \n",
    "    return hold_out,hold_in"
   ]
  },
  {
   "cell_type": "code",
   "execution_count": null,
   "metadata": {},
   "outputs": [],
   "source": []
  },
  {
   "cell_type": "code",
   "execution_count": null,
   "metadata": {},
   "outputs": [],
   "source": []
  },
  {
   "cell_type": "code",
   "execution_count": 9,
   "metadata": {},
   "outputs": [],
   "source": [
    "# function to download the csv to local drive & gee-asset_______________\n",
    "def download_hold_in_out(hold_out,hold_in,year,export_path=export_path):\n",
    "    # construct export names\n",
    "    name_hold_out = f'Grid_select_{region_en}_{year}'\n",
    "    name_hold_in  = f'Training_sample_{region_en}_{year}' \n",
    "\n",
    "    # downloding\n",
    "    for table_name,pts in zip([name_hold_out,name_hold_in],\n",
    "                              [hold_out,hold_in]):\n",
    "\n",
    "        size = hold_out.size().getInfo()\n",
    "\n",
    "        # to loacl drive\n",
    "        ulr = pts.getDownloadURL('csv') \n",
    "        urllib.request.urlretrieve(ulr, f'./Data/{table_name}.csv')\n",
    "\n",
    "        # to GEE-asset\n",
    "        task = ee.batch.Export.table.toAsset(collection=pts,\n",
    "                                             description=table_name,\n",
    "                                             assetId=f'{export_path}/{table_name}')\n",
    "\n",
    "        task.start()\n",
    "\n",
    "    # print out the process\n",
    "    print(f'{region_en}_{year} of {size} points downloaded!')"
   ]
  },
  {
   "cell_type": "code",
   "execution_count": null,
   "metadata": {},
   "outputs": [],
   "source": []
  },
  {
   "cell_type": "code",
   "execution_count": null,
   "metadata": {},
   "outputs": [],
   "source": []
  },
  {
   "cell_type": "code",
   "execution_count": 10,
   "metadata": {},
   "outputs": [
    {
     "data": {
      "application/vnd.jupyter.widget-view+json": {
       "model_id": "8a553e18e1814a60aa15abfe1909d9fa",
       "version_major": 2,
       "version_minor": 0
      },
      "text/plain": [
       "  0%|          | 0/1 [00:00<?, ?it/s]"
      ]
     },
     "metadata": {},
     "output_type": "display_data"
    },
    {
     "name": "stdout",
     "output_type": "stream",
     "text": [
      "xinan_2020_2022 of 1230 points downloaded!\n"
     ]
    }
   ],
   "source": [
    "# hold_out and export\n",
    "for region_cn,region_en in tqdm(region_dict.items(),total=len(region_dict)):\n",
    "\n",
    "    # the hold_out process \n",
    "    hold_out,hold_in = get_hold_in_out(sample_path,region_en,year_range)\n",
    "\n",
    "    # export\n",
    "    download_hold_in_out(hold_out,hold_in,year_range)"
   ]
  },
  {
   "cell_type": "code",
   "execution_count": null,
   "metadata": {},
   "outputs": [],
   "source": []
  },
  {
   "cell_type": "code",
   "execution_count": null,
   "metadata": {},
   "outputs": [],
   "source": []
  },
  {
   "cell_type": "code",
   "execution_count": null,
   "metadata": {},
   "outputs": [],
   "source": []
  },
  {
   "cell_type": "code",
   "execution_count": null,
   "metadata": {},
   "outputs": [],
   "source": []
  },
  {
   "cell_type": "code",
   "execution_count": null,
   "metadata": {},
   "outputs": [],
   "source": []
  },
  {
   "cell_type": "code",
   "execution_count": null,
   "metadata": {},
   "outputs": [],
   "source": []
  },
  {
   "cell_type": "code",
   "execution_count": null,
   "metadata": {},
   "outputs": [],
   "source": []
  },
  {
   "cell_type": "code",
   "execution_count": null,
   "metadata": {},
   "outputs": [],
   "source": []
  },
  {
   "cell_type": "code",
   "execution_count": null,
   "metadata": {},
   "outputs": [],
   "source": []
  },
  {
   "cell_type": "code",
   "execution_count": null,
   "metadata": {},
   "outputs": [],
   "source": []
  },
  {
   "cell_type": "code",
   "execution_count": null,
   "metadata": {},
   "outputs": [],
   "source": []
  },
  {
   "cell_type": "code",
   "execution_count": null,
   "metadata": {},
   "outputs": [],
   "source": []
  }
 ],
 "metadata": {
  "kernelspec": {
   "display_name": "Python 3 (ipykernel)",
   "language": "python",
   "name": "python3"
  },
  "language_info": {
   "codemirror_mode": {
    "name": "ipython",
    "version": 3
   },
   "file_extension": ".py",
   "mimetype": "text/x-python",
   "name": "python",
   "nbconvert_exporter": "python",
   "pygments_lexer": "ipython3",
   "version": "3.10.9"
  }
 },
 "nbformat": 4,
 "nbformat_minor": 4
}
