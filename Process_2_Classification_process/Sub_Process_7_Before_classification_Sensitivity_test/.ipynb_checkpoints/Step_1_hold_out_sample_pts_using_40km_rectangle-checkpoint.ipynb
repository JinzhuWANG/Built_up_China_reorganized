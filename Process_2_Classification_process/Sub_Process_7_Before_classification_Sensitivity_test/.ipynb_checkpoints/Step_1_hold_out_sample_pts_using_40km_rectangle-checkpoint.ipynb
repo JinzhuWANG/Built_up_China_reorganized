{
 "cells": [
  {
   "cell_type": "code",
   "execution_count": 1,
   "metadata": {},
   "outputs": [],
   "source": [
    "import os\n",
    "\n",
    "# # Set the proxy environment variables\n",
    "# os.environ['http_proxy'] = 'http://127.0.0.1:7890'\n",
    "# os.environ['https_proxy'] = 'http://127.0.0.1:7890'"
   ]
  },
  {
   "cell_type": "code",
   "execution_count": null,
   "metadata": {},
   "outputs": [],
   "source": []
  },
  {
   "cell_type": "code",
   "execution_count": 2,
   "metadata": {},
   "outputs": [],
   "source": [
    "import ee\n",
    "import datetime\n",
    "import os\n",
    "import itertools\n",
    "import sys\n",
    "import urllib.request\n",
    "\n",
    "import pandas as pd\n",
    "import numpy as np\n",
    "import seaborn as sns\n",
    "import matplotlib.pyplot as plt\n",
    "\n",
    "import geemap\n",
    "from tqdm.auto import tqdm\n",
    "\n",
    "import subprocess\n",
    "from subprocess import PIPE"
   ]
  },
  {
   "cell_type": "code",
   "execution_count": 3,
   "metadata": {},
   "outputs": [],
   "source": [
    "ee.Initialize()"
   ]
  },
  {
   "cell_type": "code",
   "execution_count": null,
   "metadata": {},
   "outputs": [],
   "source": []
  },
  {
   "cell_type": "code",
   "execution_count": null,
   "metadata": {},
   "outputs": [],
   "source": []
  },
  {
   "cell_type": "markdown",
   "metadata": {},
   "source": [
    "##### Define basic parameters"
   ]
  },
  {
   "cell_type": "code",
   "execution_count": null,
   "metadata": {},
   "outputs": [],
   "source": []
  },
  {
   "cell_type": "code",
   "execution_count": 11,
   "metadata": {},
   "outputs": [],
   "source": [
    "# define the gee-asset path \n",
    "sample_path = 'users/wangjinzhulala/China_built_up/03_sample_extract_img_value'\n",
    "export_path = 'users/wangjinzhulala/China_built_up/04_sample_train_test_split'"
   ]
  },
  {
   "cell_type": "code",
   "execution_count": null,
   "metadata": {},
   "outputs": [],
   "source": []
  },
  {
   "cell_type": "code",
   "execution_count": null,
   "metadata": {},
   "outputs": [],
   "source": []
  },
  {
   "cell_type": "markdown",
   "metadata": {},
   "source": [
    "##### Using grid to extract sample points"
   ]
  },
  {
   "cell_type": "code",
   "execution_count": null,
   "metadata": {},
   "outputs": [],
   "source": []
  },
  {
   "cell_type": "code",
   "execution_count": 12,
   "metadata": {},
   "outputs": [],
   "source": [
    "# function to split all_sample into hold_sample and train_sample  \n",
    "def get_hold_in_out(sample_path,region_en,year):\n",
    "    \n",
    "    # get all samplt pts\n",
    "    sample_pt = ee.FeatureCollection(f\"{sample_path}/Control_sample_ext_img_{region_en}_{year}\") \n",
    "    \n",
    "    # saplit all sample to built and non_built pts\n",
    "    pt_built     = sample_pt.filterMetadata('Built','equals',1)\n",
    "    pt_non_built = sample_pt.filterMetadata('Built','equals',0)\n",
    "\n",
    "\n",
    "    #_____________________________1: select one point from each grid________________________\n",
    "\n",
    "    # Define a spatial filter as geometries that intersect.\n",
    "    spatialFilter = ee.Filter.intersects(\n",
    "                                          leftField= '.geo',\n",
    "                                          rightField= '.geo',\n",
    "                                          maxError= 1\n",
    "                                        )\n",
    "    # Define a save all join.\n",
    "    saveAllJoin = ee.Join.saveAll(matchesKey= 'sample_pts')\n",
    "    \n",
    "    # the 40km grid cell; which will be used to hold out one built_pt sample each grid\n",
    "    grid_shp  =  ee.FeatureCollection(\"users/wangjinzhulala/China_built_up/01_Boundary_shp/China_zone_grid_40km\")\\\n",
    "                   .filterMetadata('NAME1','equals',region_cn)\n",
    "\n",
    "    # Apply the join.\n",
    "    grid_intersect_bulit = saveAllJoin.apply(grid_shp, pt_built, spatialFilter)\n",
    "\n",
    "    # select one point from each grid\n",
    "    choose_one_built_pt = grid_intersect_bulit.map(lambda fe: ee.List(fe.get('sample_pts')).get(0) )\n",
    "\n",
    "    # balance the size of choose_one sample [built = non-built]\n",
    "    choose_one_non_built_pt = pt_non_built\\\n",
    "                              .randomColumn()\\\n",
    "                              .sort('random')\\\n",
    "                              .limit(choose_one_built_pt.size())\n",
    "\n",
    "    # merge to get the hold_out sample\n",
    "    hold_out = choose_one_built_pt.merge(choose_one_non_built_pt)  \n",
    "\n",
    "    #_____________________________2: exclude the selected points________________________\n",
    "\n",
    "    # using the invert join for exclusion\n",
    "    invertedJoin = ee.Join.inverted()\n",
    "    hold_in = invertedJoin.apply(sample_pt, hold_out, spatialFilter)\n",
    "    # this process makes sure the featurecollection is exportable\n",
    "    hold_in = ee.FeatureCollection(hold_in.toList(hold_in.size()))\n",
    "    \n",
    "    return hold_out,hold_in"
   ]
  },
  {
   "cell_type": "code",
   "execution_count": null,
   "metadata": {},
   "outputs": [],
   "source": []
  },
  {
   "cell_type": "code",
   "execution_count": 13,
   "metadata": {},
   "outputs": [],
   "source": [
    "# function to download the csv to local drive & gee-asset_______________\n",
    "def download_hold_in_out(hold_out,hold_in,year,export_path=export_path):\n",
    "    # construct export names\n",
    "    name_hold_out = f'Grid_select_{region_en}_{year}'\n",
    "    name_hold_in  = f'Training_sample_{region_en}_{year}' \n",
    "\n",
    "    # downloding\n",
    "    for table_name,pts in zip([name_hold_out,name_hold_in],\n",
    "                              [hold_out,hold_in]):\n",
    "\n",
    "        size = hold_out.size().getInfo()\n",
    "\n",
    "        # to loacl drive\n",
    "        ulr = pts.getDownloadURL('csv') \n",
    "        urllib.request.urlretrieve(ulr, f'./Data/{table_name}.csv')\n",
    "\n",
    "        # to GEE-asset\n",
    "        task = ee.batch.Export.table.toAsset(collection=pts,\n",
    "                                             description=table_name,\n",
    "                                             assetId=f'{export_path}/{table_name}')\n",
    "\n",
    "        task.start()\n",
    "\n",
    "    # print out the process\n",
    "    print(f'{region_en}_{year} of {size} points downloaded!')"
   ]
  },
  {
   "cell_type": "code",
   "execution_count": null,
   "metadata": {},
   "outputs": [],
   "source": []
  },
  {
   "cell_type": "code",
   "execution_count": null,
   "metadata": {},
   "outputs": [],
   "source": []
  },
  {
   "cell_type": "code",
   "execution_count": 15,
   "metadata": {},
   "outputs": [
    {
     "data": {
      "application/vnd.jupyter.widget-view+json": {
       "model_id": "ac45b41a88db474796d683aa5ba9a8c7",
       "version_major": 2,
       "version_minor": 0
      },
      "text/plain": [
       "  0%|          | 0/1 [00:00<?, ?it/s]"
      ]
     },
     "metadata": {},
     "output_type": "display_data"
    },
    {
     "ename": "EEException",
     "evalue": "Description length exceeds maximum.",
     "output_type": "error",
     "traceback": [
      "\u001b[1;31m---------------------------------------------------------------------------\u001b[0m",
      "\u001b[1;31mHttpError\u001b[0m                                 Traceback (most recent call last)",
      "File \u001b[1;32mC:\\ProgramData\\Miniconda3\\envs\\gis\\lib\\site-packages\\ee\\data.py:345\u001b[0m, in \u001b[0;36m_execute_cloud_call\u001b[1;34m(call, num_retries)\u001b[0m\n\u001b[0;32m    344\u001b[0m \u001b[38;5;28;01mtry\u001b[39;00m:\n\u001b[1;32m--> 345\u001b[0m   \u001b[38;5;28;01mreturn\u001b[39;00m \u001b[43mcall\u001b[49m\u001b[38;5;241;43m.\u001b[39;49m\u001b[43mexecute\u001b[49m\u001b[43m(\u001b[49m\u001b[43mnum_retries\u001b[49m\u001b[38;5;241;43m=\u001b[39;49m\u001b[43mnum_retries\u001b[49m\u001b[43m)\u001b[49m\n\u001b[0;32m    346\u001b[0m \u001b[38;5;28;01mexcept\u001b[39;00m googleapiclient\u001b[38;5;241m.\u001b[39merrors\u001b[38;5;241m.\u001b[39mHttpError \u001b[38;5;28;01mas\u001b[39;00m e:\n",
      "File \u001b[1;32mC:\\ProgramData\\Miniconda3\\envs\\gis\\lib\\site-packages\\googleapiclient\\_helpers.py:130\u001b[0m, in \u001b[0;36mpositional.<locals>.positional_decorator.<locals>.positional_wrapper\u001b[1;34m(*args, **kwargs)\u001b[0m\n\u001b[0;32m    129\u001b[0m         logger\u001b[38;5;241m.\u001b[39mwarning(message)\n\u001b[1;32m--> 130\u001b[0m \u001b[38;5;28;01mreturn\u001b[39;00m wrapped(\u001b[38;5;241m*\u001b[39margs, \u001b[38;5;241m*\u001b[39m\u001b[38;5;241m*\u001b[39mkwargs)\n",
      "File \u001b[1;32mC:\\ProgramData\\Miniconda3\\envs\\gis\\lib\\site-packages\\googleapiclient\\http.py:938\u001b[0m, in \u001b[0;36mHttpRequest.execute\u001b[1;34m(self, http, num_retries)\u001b[0m\n\u001b[0;32m    937\u001b[0m \u001b[38;5;28;01mif\u001b[39;00m resp\u001b[38;5;241m.\u001b[39mstatus \u001b[38;5;241m>\u001b[39m\u001b[38;5;241m=\u001b[39m \u001b[38;5;241m300\u001b[39m:\n\u001b[1;32m--> 938\u001b[0m     \u001b[38;5;28;01mraise\u001b[39;00m HttpError(resp, content, uri\u001b[38;5;241m=\u001b[39m\u001b[38;5;28mself\u001b[39m\u001b[38;5;241m.\u001b[39muri)\n\u001b[0;32m    939\u001b[0m \u001b[38;5;28;01mreturn\u001b[39;00m \u001b[38;5;28mself\u001b[39m\u001b[38;5;241m.\u001b[39mpostproc(resp, content)\n",
      "\u001b[1;31mHttpError\u001b[0m: <HttpError 400 when requesting https://earthengine.googleapis.com/v1alpha/projects/earthengine-legacy/tables?fields=name&alt=json returned \"Description length exceeds maximum.\". Details: \"Description length exceeds maximum.\">",
      "\nDuring handling of the above exception, another exception occurred:\n",
      "\u001b[1;31mEEException\u001b[0m                               Traceback (most recent call last)",
      "Cell \u001b[1;32mIn[15], line 17\u001b[0m\n\u001b[0;32m     14\u001b[0m hold_out,hold_in \u001b[38;5;241m=\u001b[39m get_hold_in_out(sample_path,region_en,year_range)\n\u001b[0;32m     16\u001b[0m \u001b[38;5;66;03m# export\u001b[39;00m\n\u001b[1;32m---> 17\u001b[0m \u001b[43mdownload_hold_in_out\u001b[49m\u001b[43m(\u001b[49m\u001b[43mhold_out\u001b[49m\u001b[43m,\u001b[49m\u001b[43mhold_in\u001b[49m\u001b[43m,\u001b[49m\u001b[43myear_range\u001b[49m\u001b[43m)\u001b[49m\n",
      "Cell \u001b[1;32mIn[13], line 14\u001b[0m, in \u001b[0;36mdownload_hold_in_out\u001b[1;34m(hold_out, hold_in, year, export_path)\u001b[0m\n\u001b[0;32m     11\u001b[0m size \u001b[38;5;241m=\u001b[39m hold_out\u001b[38;5;241m.\u001b[39msize()\u001b[38;5;241m.\u001b[39mgetInfo()\n\u001b[0;32m     13\u001b[0m \u001b[38;5;66;03m# to loacl drive\u001b[39;00m\n\u001b[1;32m---> 14\u001b[0m ulr \u001b[38;5;241m=\u001b[39m \u001b[43mpts\u001b[49m\u001b[38;5;241;43m.\u001b[39;49m\u001b[43mgetDownloadURL\u001b[49m\u001b[43m(\u001b[49m\u001b[38;5;124;43m'\u001b[39;49m\u001b[38;5;124;43mcsv\u001b[39;49m\u001b[38;5;124;43m'\u001b[39;49m\u001b[43m)\u001b[49m \n\u001b[0;32m     15\u001b[0m urllib\u001b[38;5;241m.\u001b[39mrequest\u001b[38;5;241m.\u001b[39murlretrieve(ulr, \u001b[38;5;124mf\u001b[39m\u001b[38;5;124m'\u001b[39m\u001b[38;5;124m./Data/\u001b[39m\u001b[38;5;132;01m{\u001b[39;00mtable_name\u001b[38;5;132;01m}\u001b[39;00m\u001b[38;5;124m.csv\u001b[39m\u001b[38;5;124m'\u001b[39m)\n\u001b[0;32m     17\u001b[0m \u001b[38;5;66;03m# to GEE-asset\u001b[39;00m\n",
      "File \u001b[1;32mC:\\ProgramData\\Miniconda3\\envs\\gis\\lib\\site-packages\\ee\\featurecollection.py:150\u001b[0m, in \u001b[0;36mFeatureCollection.getDownloadURL\u001b[1;34m(self, filetype, selectors, filename)\u001b[0m\n\u001b[0;32m    148\u001b[0m     selectors \u001b[38;5;241m=\u001b[39m \u001b[38;5;124m'\u001b[39m\u001b[38;5;124m,\u001b[39m\u001b[38;5;124m'\u001b[39m\u001b[38;5;241m.\u001b[39mjoin(selectors)\n\u001b[0;32m    149\u001b[0m   request[\u001b[38;5;124m'\u001b[39m\u001b[38;5;124mselectors\u001b[39m\u001b[38;5;124m'\u001b[39m] \u001b[38;5;241m=\u001b[39m selectors\n\u001b[1;32m--> 150\u001b[0m \u001b[38;5;28;01mreturn\u001b[39;00m data\u001b[38;5;241m.\u001b[39mmakeTableDownloadUrl(\u001b[43mdata\u001b[49m\u001b[38;5;241;43m.\u001b[39;49m\u001b[43mgetTableDownloadId\u001b[49m\u001b[43m(\u001b[49m\u001b[43mrequest\u001b[49m\u001b[43m)\u001b[49m)\n",
      "File \u001b[1;32mC:\\ProgramData\\Miniconda3\\envs\\gis\\lib\\site-packages\\ee\\data.py:1260\u001b[0m, in \u001b[0;36mgetTableDownloadId\u001b[1;34m(params)\u001b[0m\n\u001b[0;32m   1255\u001b[0m queryParams \u001b[38;5;241m=\u001b[39m {\n\u001b[0;32m   1256\u001b[0m     \u001b[38;5;124m'\u001b[39m\u001b[38;5;124mfields\u001b[39m\u001b[38;5;124m'\u001b[39m: \u001b[38;5;124m'\u001b[39m\u001b[38;5;124mname\u001b[39m\u001b[38;5;124m'\u001b[39m,\n\u001b[0;32m   1257\u001b[0m     \u001b[38;5;124m'\u001b[39m\u001b[38;5;124mbody\u001b[39m\u001b[38;5;124m'\u001b[39m: request,\n\u001b[0;32m   1258\u001b[0m }\n\u001b[0;32m   1259\u001b[0m _maybe_populate_workload_tag(queryParams)\n\u001b[1;32m-> 1260\u001b[0m result \u001b[38;5;241m=\u001b[39m \u001b[43m_execute_cloud_call\u001b[49m\u001b[43m(\u001b[49m\n\u001b[0;32m   1261\u001b[0m \u001b[43m    \u001b[49m\u001b[43m_get_cloud_projects\u001b[49m\u001b[43m(\u001b[49m\u001b[43m)\u001b[49m\n\u001b[0;32m   1262\u001b[0m \u001b[43m    \u001b[49m\u001b[38;5;241;43m.\u001b[39;49m\u001b[43mtables\u001b[49m\u001b[43m(\u001b[49m\u001b[43m)\u001b[49m\n\u001b[0;32m   1263\u001b[0m \u001b[43m    \u001b[49m\u001b[38;5;241;43m.\u001b[39;49m\u001b[43mcreate\u001b[49m\u001b[43m(\u001b[49m\u001b[43mparent\u001b[49m\u001b[38;5;241;43m=\u001b[39;49m\u001b[43m_get_projects_path\u001b[49m\u001b[43m(\u001b[49m\u001b[43m)\u001b[49m\u001b[43m,\u001b[49m\u001b[43m \u001b[49m\u001b[38;5;241;43m*\u001b[39;49m\u001b[38;5;241;43m*\u001b[39;49m\u001b[43mqueryParams\u001b[49m\u001b[43m)\u001b[49m\n\u001b[0;32m   1264\u001b[0m \u001b[43m\u001b[49m\u001b[43m)\u001b[49m\n\u001b[0;32m   1265\u001b[0m \u001b[38;5;28;01mreturn\u001b[39;00m {\u001b[38;5;124m'\u001b[39m\u001b[38;5;124mdocid\u001b[39m\u001b[38;5;124m'\u001b[39m: result[\u001b[38;5;124m'\u001b[39m\u001b[38;5;124mname\u001b[39m\u001b[38;5;124m'\u001b[39m], \u001b[38;5;124m'\u001b[39m\u001b[38;5;124mtoken\u001b[39m\u001b[38;5;124m'\u001b[39m: \u001b[38;5;124m'\u001b[39m\u001b[38;5;124m'\u001b[39m}\n",
      "File \u001b[1;32mC:\\ProgramData\\Miniconda3\\envs\\gis\\lib\\site-packages\\ee\\data.py:347\u001b[0m, in \u001b[0;36m_execute_cloud_call\u001b[1;34m(call, num_retries)\u001b[0m\n\u001b[0;32m    345\u001b[0m   \u001b[38;5;28;01mreturn\u001b[39;00m call\u001b[38;5;241m.\u001b[39mexecute(num_retries\u001b[38;5;241m=\u001b[39mnum_retries)\n\u001b[0;32m    346\u001b[0m \u001b[38;5;28;01mexcept\u001b[39;00m googleapiclient\u001b[38;5;241m.\u001b[39merrors\u001b[38;5;241m.\u001b[39mHttpError \u001b[38;5;28;01mas\u001b[39;00m e:\n\u001b[1;32m--> 347\u001b[0m   \u001b[38;5;28;01mraise\u001b[39;00m _translate_cloud_exception(e)\n",
      "\u001b[1;31mEEException\u001b[0m: Description length exceeds maximum."
     ]
    }
   ],
   "source": [
    "# define the year range\n",
    "year_range = '2020_2022'\n",
    "\n",
    "# create the region_dict\n",
    "# region_dict = dict(zip(['华东','东北','中南','华北','西北','西南'],\n",
    "#                        ['huadong','dongbei','zhongnan','huabei','xibei','xinan']))\n",
    "region_dict = dict(zip(['西南'],\n",
    "                       ['xinan']))\n",
    "\n",
    "# hold_out and export\n",
    "for region_cn,region_en in tqdm(region_dict.items(),total=len(region_dict)):\n",
    "\n",
    "    # the hold_out process \n",
    "    hold_out,hold_in = get_hold_in_out(sample_path,region_en,year_range)\n",
    "\n",
    "    # export\n",
    "    download_hold_in_out(hold_out,hold_in,year_range)"
   ]
  },
  {
   "cell_type": "code",
   "execution_count": null,
   "metadata": {},
   "outputs": [],
   "source": []
  },
  {
   "cell_type": "code",
   "execution_count": null,
   "metadata": {},
   "outputs": [],
   "source": []
  },
  {
   "cell_type": "code",
   "execution_count": null,
   "metadata": {},
   "outputs": [],
   "source": []
  },
  {
   "cell_type": "code",
   "execution_count": null,
   "metadata": {},
   "outputs": [],
   "source": []
  },
  {
   "cell_type": "code",
   "execution_count": null,
   "metadata": {},
   "outputs": [],
   "source": []
  },
  {
   "cell_type": "code",
   "execution_count": null,
   "metadata": {},
   "outputs": [],
   "source": []
  },
  {
   "cell_type": "code",
   "execution_count": null,
   "metadata": {},
   "outputs": [],
   "source": []
  },
  {
   "cell_type": "code",
   "execution_count": null,
   "metadata": {},
   "outputs": [],
   "source": []
  },
  {
   "cell_type": "code",
   "execution_count": null,
   "metadata": {},
   "outputs": [],
   "source": []
  },
  {
   "cell_type": "code",
   "execution_count": null,
   "metadata": {},
   "outputs": [],
   "source": []
  },
  {
   "cell_type": "code",
   "execution_count": null,
   "metadata": {},
   "outputs": [],
   "source": []
  },
  {
   "cell_type": "code",
   "execution_count": null,
   "metadata": {},
   "outputs": [],
   "source": []
  }
 ],
 "metadata": {
  "kernelspec": {
   "display_name": "Python 3 (ipykernel)",
   "language": "python",
   "name": "python3"
  },
  "language_info": {
   "codemirror_mode": {
    "name": "ipython",
    "version": 3
   },
   "file_extension": ".py",
   "mimetype": "text/x-python",
   "name": "python",
   "nbconvert_exporter": "python",
   "pygments_lexer": "ipython3",
   "version": "3.10.9"
  }
 },
 "nbformat": 4,
 "nbformat_minor": 4
}
