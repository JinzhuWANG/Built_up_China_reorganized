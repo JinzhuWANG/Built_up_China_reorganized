{
 "cells": [
  {
   "cell_type": "code",
   "execution_count": 1,
   "metadata": {},
   "outputs": [
    {
     "name": "stderr",
     "output_type": "stream",
     "text": [
      "In C:\\Users\\wangj\\Anaconda3\\envs\\ee_py3\\lib\\site-packages\\matplotlib\\mpl-data\\stylelib\\_classic_test.mplstyle: \n",
      "The text.latex.preview rcparam was deprecated in Matplotlib 3.3 and will be removed two minor releases later.\n",
      "In C:\\Users\\wangj\\Anaconda3\\envs\\ee_py3\\lib\\site-packages\\matplotlib\\mpl-data\\stylelib\\_classic_test.mplstyle: \n",
      "The mathtext.fallback_to_cm rcparam was deprecated in Matplotlib 3.3 and will be removed two minor releases later.\n",
      "In C:\\Users\\wangj\\Anaconda3\\envs\\ee_py3\\lib\\site-packages\\matplotlib\\mpl-data\\stylelib\\_classic_test.mplstyle: Support for setting the 'mathtext.fallback_to_cm' rcParam is deprecated since 3.3 and will be removed two minor releases later; use 'mathtext.fallback : 'cm' instead.\n",
      "In C:\\Users\\wangj\\Anaconda3\\envs\\ee_py3\\lib\\site-packages\\matplotlib\\mpl-data\\stylelib\\_classic_test.mplstyle: \n",
      "The validate_bool_maybe_none function was deprecated in Matplotlib 3.3 and will be removed two minor releases later.\n",
      "In C:\\Users\\wangj\\Anaconda3\\envs\\ee_py3\\lib\\site-packages\\matplotlib\\mpl-data\\stylelib\\_classic_test.mplstyle: \n",
      "The savefig.jpeg_quality rcparam was deprecated in Matplotlib 3.3 and will be removed two minor releases later.\n",
      "In C:\\Users\\wangj\\Anaconda3\\envs\\ee_py3\\lib\\site-packages\\matplotlib\\mpl-data\\stylelib\\_classic_test.mplstyle: \n",
      "The keymap.all_axes rcparam was deprecated in Matplotlib 3.3 and will be removed two minor releases later.\n",
      "In C:\\Users\\wangj\\Anaconda3\\envs\\ee_py3\\lib\\site-packages\\matplotlib\\mpl-data\\stylelib\\_classic_test.mplstyle: \n",
      "The animation.avconv_path rcparam was deprecated in Matplotlib 3.3 and will be removed two minor releases later.\n",
      "In C:\\Users\\wangj\\Anaconda3\\envs\\ee_py3\\lib\\site-packages\\matplotlib\\mpl-data\\stylelib\\_classic_test.mplstyle: \n",
      "The animation.avconv_args rcparam was deprecated in Matplotlib 3.3 and will be removed two minor releases later.\n"
     ]
    }
   ],
   "source": [
    "import pandas as pd\n",
    "import seaborn as sns\n",
    "import numpy as np\n",
    "\n",
    "import matplotlib.pyplot as plt\n",
    "\n",
    "from sklearn.ensemble import RandomForestClassifier\n",
    "from sklearn.model_selection import GridSearchCV\n",
    "from sklearn.model_selection import train_test_split\n",
    "from sklearn.metrics import accuracy_score"
   ]
  },
  {
   "cell_type": "code",
   "execution_count": null,
   "metadata": {},
   "outputs": [],
   "source": []
  },
  {
   "cell_type": "markdown",
   "metadata": {},
   "source": [
    "##### Define basic parameter"
   ]
  },
  {
   "cell_type": "code",
   "execution_count": 3,
   "metadata": {},
   "outputs": [],
   "source": [
    "region_en = 'xibei'"
   ]
  },
  {
   "cell_type": "code",
   "execution_count": 4,
   "metadata": {},
   "outputs": [],
   "source": [
    "year_range = [f'{i}_{i+2}' for i in range(1990,2020,3)]"
   ]
  },
  {
   "cell_type": "code",
   "execution_count": 5,
   "metadata": {},
   "outputs": [],
   "source": [
    "# define the year range\n",
    "year_start = [i for i in range(1990,2018,3)]\n",
    "year_end   = [i for i in range(1992,2020,3)]\n",
    "\n",
    "year_name = [f'{i[0]}_{i[1]}' for i in zip(year_start,year_end)]"
   ]
  },
  {
   "cell_type": "code",
   "execution_count": 6,
   "metadata": {},
   "outputs": [
    {
     "data": {
      "text/plain": [
       "['1990_1992',\n",
       " '1993_1995',\n",
       " '1996_1998',\n",
       " '1999_2001',\n",
       " '2002_2004',\n",
       " '2005_2007',\n",
       " '2008_2010',\n",
       " '2011_2013',\n",
       " '2014_2016',\n",
       " '2017_2019']"
      ]
     },
     "execution_count": 6,
     "metadata": {},
     "output_type": "execute_result"
    }
   ],
   "source": [
    "year_name"
   ]
  },
  {
   "cell_type": "code",
   "execution_count": null,
   "metadata": {},
   "outputs": [],
   "source": []
  },
  {
   "cell_type": "markdown",
   "metadata": {},
   "source": [
    "##### Loop through each_year and each_size to dermine a suitable size for input sample"
   ]
  },
  {
   "cell_type": "code",
   "execution_count": null,
   "metadata": {},
   "outputs": [],
   "source": []
  },
  {
   "cell_type": "code",
   "execution_count": 9,
   "metadata": {
    "scrolled": true
   },
   "outputs": [
    {
     "name": "stdout",
     "output_type": "stream",
     "text": [
      "Accuracy calculation of Training_sample_xibei_1990_1992_1.00 finished!\n",
      "Accuracy calculation of Training_sample_xibei_1990_1992_1.50 finished!\n",
      "Accuracy calculation of Training_sample_xibei_1990_1992_2.00 finished!\n",
      "Accuracy calculation of Training_sample_xibei_1990_1992_5.00 finished!\n",
      "Accuracy calculation of Training_sample_xibei_1990_1992_10.00 finished!\n",
      "Accuracy calculation of Training_sample_xibei_1990_1992_15.00 finished!\n",
      "Accuracy calculation of Training_sample_xibei_1990_1992_20.00 finished!\n",
      "Accuracy calculation of Training_sample_xibei_1990_1992_25.00 finished!\n",
      "Accuracy calculation of Training_sample_xibei_1990_1992_30.00 finished!\n",
      "Accuracy calculation of Training_sample_xibei_1990_1992_35.00 finished!\n",
      "Accuracy calculation of Training_sample_xibei_1990_1992_40.00 finished!\n",
      "Accuracy calculation of Training_sample_xibei_1990_1992_45.00 finished!\n",
      "Accuracy calculation of Training_sample_xibei_1990_1992_50.00 finished!\n",
      "Accuracy calculation of Training_sample_xibei_1990_1992_55.00 finished!\n",
      "Accuracy calculation of Training_sample_xibei_1990_1992_60.00 finished!\n",
      "Accuracy calculation of Training_sample_xibei_1990_1992_65.00 finished!\n",
      "Accuracy calculation of Training_sample_xibei_1990_1992_70.00 finished!\n",
      "Accuracy calculation of Training_sample_xibei_1990_1992_75.00 finished!\n",
      "Accuracy calculation of Training_sample_xibei_1990_1992_80.00 finished!\n",
      "Accuracy calculation of Training_sample_xibei_1990_1992_85.00 finished!\n",
      "Accuracy calculation of Training_sample_xibei_1990_1992_90.00 finished!\n",
      "Accuracy calculation of Training_sample_xibei_1990_1992_95.00 finished!\n",
      "Accuracy calculation of Training_sample_xibei_1993_1995_1.00 finished!\n",
      "Accuracy calculation of Training_sample_xibei_1993_1995_1.50 finished!\n",
      "Accuracy calculation of Training_sample_xibei_1993_1995_2.00 finished!\n",
      "Accuracy calculation of Training_sample_xibei_1993_1995_5.00 finished!\n",
      "Accuracy calculation of Training_sample_xibei_1993_1995_10.00 finished!\n",
      "Accuracy calculation of Training_sample_xibei_1993_1995_15.00 finished!\n",
      "Accuracy calculation of Training_sample_xibei_1993_1995_20.00 finished!\n",
      "Accuracy calculation of Training_sample_xibei_1993_1995_25.00 finished!\n",
      "Accuracy calculation of Training_sample_xibei_1993_1995_30.00 finished!\n",
      "Accuracy calculation of Training_sample_xibei_1993_1995_35.00 finished!\n",
      "Accuracy calculation of Training_sample_xibei_1993_1995_40.00 finished!\n",
      "Accuracy calculation of Training_sample_xibei_1993_1995_45.00 finished!\n",
      "Accuracy calculation of Training_sample_xibei_1993_1995_50.00 finished!\n",
      "Accuracy calculation of Training_sample_xibei_1993_1995_55.00 finished!\n",
      "Accuracy calculation of Training_sample_xibei_1993_1995_60.00 finished!\n",
      "Accuracy calculation of Training_sample_xibei_1993_1995_65.00 finished!\n",
      "Accuracy calculation of Training_sample_xibei_1993_1995_70.00 finished!\n",
      "Accuracy calculation of Training_sample_xibei_1993_1995_75.00 finished!\n",
      "Accuracy calculation of Training_sample_xibei_1993_1995_80.00 finished!\n",
      "Accuracy calculation of Training_sample_xibei_1993_1995_85.00 finished!\n",
      "Accuracy calculation of Training_sample_xibei_1993_1995_90.00 finished!\n",
      "Accuracy calculation of Training_sample_xibei_1993_1995_95.00 finished!\n",
      "Accuracy calculation of Training_sample_xibei_1996_1998_1.00 finished!\n",
      "Accuracy calculation of Training_sample_xibei_1996_1998_1.50 finished!\n",
      "Accuracy calculation of Training_sample_xibei_1996_1998_2.00 finished!\n",
      "Accuracy calculation of Training_sample_xibei_1996_1998_5.00 finished!\n",
      "Accuracy calculation of Training_sample_xibei_1996_1998_10.00 finished!\n",
      "Accuracy calculation of Training_sample_xibei_1996_1998_15.00 finished!\n",
      "Accuracy calculation of Training_sample_xibei_1996_1998_20.00 finished!\n",
      "Accuracy calculation of Training_sample_xibei_1996_1998_25.00 finished!\n",
      "Accuracy calculation of Training_sample_xibei_1996_1998_30.00 finished!\n",
      "Accuracy calculation of Training_sample_xibei_1996_1998_35.00 finished!\n",
      "Accuracy calculation of Training_sample_xibei_1996_1998_40.00 finished!\n",
      "Accuracy calculation of Training_sample_xibei_1996_1998_45.00 finished!\n",
      "Accuracy calculation of Training_sample_xibei_1996_1998_50.00 finished!\n",
      "Accuracy calculation of Training_sample_xibei_1996_1998_55.00 finished!\n",
      "Accuracy calculation of Training_sample_xibei_1996_1998_60.00 finished!\n",
      "Accuracy calculation of Training_sample_xibei_1996_1998_65.00 finished!\n",
      "Accuracy calculation of Training_sample_xibei_1996_1998_70.00 finished!\n",
      "Accuracy calculation of Training_sample_xibei_1996_1998_75.00 finished!\n",
      "Accuracy calculation of Training_sample_xibei_1996_1998_80.00 finished!\n",
      "Accuracy calculation of Training_sample_xibei_1996_1998_85.00 finished!\n",
      "Accuracy calculation of Training_sample_xibei_1996_1998_90.00 finished!\n",
      "Accuracy calculation of Training_sample_xibei_1996_1998_95.00 finished!\n",
      "Accuracy calculation of Training_sample_xibei_1999_2001_1.00 finished!\n",
      "Accuracy calculation of Training_sample_xibei_1999_2001_1.50 finished!\n",
      "Accuracy calculation of Training_sample_xibei_1999_2001_2.00 finished!\n",
      "Accuracy calculation of Training_sample_xibei_1999_2001_5.00 finished!\n",
      "Accuracy calculation of Training_sample_xibei_1999_2001_10.00 finished!\n",
      "Accuracy calculation of Training_sample_xibei_1999_2001_15.00 finished!\n",
      "Accuracy calculation of Training_sample_xibei_1999_2001_20.00 finished!\n",
      "Accuracy calculation of Training_sample_xibei_1999_2001_25.00 finished!\n",
      "Accuracy calculation of Training_sample_xibei_1999_2001_30.00 finished!\n",
      "Accuracy calculation of Training_sample_xibei_1999_2001_35.00 finished!\n",
      "Accuracy calculation of Training_sample_xibei_1999_2001_40.00 finished!\n",
      "Accuracy calculation of Training_sample_xibei_1999_2001_45.00 finished!\n",
      "Accuracy calculation of Training_sample_xibei_1999_2001_50.00 finished!\n",
      "Accuracy calculation of Training_sample_xibei_1999_2001_55.00 finished!\n",
      "Accuracy calculation of Training_sample_xibei_1999_2001_60.00 finished!\n",
      "Accuracy calculation of Training_sample_xibei_1999_2001_65.00 finished!\n",
      "Accuracy calculation of Training_sample_xibei_1999_2001_70.00 finished!\n",
      "Accuracy calculation of Training_sample_xibei_1999_2001_75.00 finished!\n",
      "Accuracy calculation of Training_sample_xibei_1999_2001_80.00 finished!\n",
      "Accuracy calculation of Training_sample_xibei_1999_2001_85.00 finished!\n",
      "Accuracy calculation of Training_sample_xibei_1999_2001_90.00 finished!\n",
      "Accuracy calculation of Training_sample_xibei_1999_2001_95.00 finished!\n",
      "Accuracy calculation of Training_sample_xibei_2002_2004_1.00 finished!\n",
      "Accuracy calculation of Training_sample_xibei_2002_2004_1.50 finished!\n",
      "Accuracy calculation of Training_sample_xibei_2002_2004_2.00 finished!\n",
      "Accuracy calculation of Training_sample_xibei_2002_2004_5.00 finished!\n",
      "Accuracy calculation of Training_sample_xibei_2002_2004_10.00 finished!\n",
      "Accuracy calculation of Training_sample_xibei_2002_2004_15.00 finished!\n",
      "Accuracy calculation of Training_sample_xibei_2002_2004_20.00 finished!\n",
      "Accuracy calculation of Training_sample_xibei_2002_2004_25.00 finished!\n",
      "Accuracy calculation of Training_sample_xibei_2002_2004_30.00 finished!\n",
      "Accuracy calculation of Training_sample_xibei_2002_2004_35.00 finished!\n",
      "Accuracy calculation of Training_sample_xibei_2002_2004_40.00 finished!\n",
      "Accuracy calculation of Training_sample_xibei_2002_2004_45.00 finished!\n",
      "Accuracy calculation of Training_sample_xibei_2002_2004_50.00 finished!\n",
      "Accuracy calculation of Training_sample_xibei_2002_2004_55.00 finished!\n",
      "Accuracy calculation of Training_sample_xibei_2002_2004_60.00 finished!\n",
      "Accuracy calculation of Training_sample_xibei_2002_2004_65.00 finished!\n",
      "Accuracy calculation of Training_sample_xibei_2002_2004_70.00 finished!\n",
      "Accuracy calculation of Training_sample_xibei_2002_2004_75.00 finished!\n",
      "Accuracy calculation of Training_sample_xibei_2002_2004_80.00 finished!\n",
      "Accuracy calculation of Training_sample_xibei_2002_2004_85.00 finished!\n",
      "Accuracy calculation of Training_sample_xibei_2002_2004_90.00 finished!\n",
      "Accuracy calculation of Training_sample_xibei_2002_2004_95.00 finished!\n",
      "Accuracy calculation of Training_sample_xibei_2005_2007_1.00 finished!\n",
      "Accuracy calculation of Training_sample_xibei_2005_2007_1.50 finished!\n",
      "Accuracy calculation of Training_sample_xibei_2005_2007_2.00 finished!\n",
      "Accuracy calculation of Training_sample_xibei_2005_2007_5.00 finished!\n",
      "Accuracy calculation of Training_sample_xibei_2005_2007_10.00 finished!\n"
     ]
    },
    {
     "name": "stdout",
     "output_type": "stream",
     "text": [
      "Accuracy calculation of Training_sample_xibei_2005_2007_15.00 finished!\n",
      "Accuracy calculation of Training_sample_xibei_2005_2007_20.00 finished!\n",
      "Accuracy calculation of Training_sample_xibei_2005_2007_25.00 finished!\n",
      "Accuracy calculation of Training_sample_xibei_2005_2007_30.00 finished!\n",
      "Accuracy calculation of Training_sample_xibei_2005_2007_35.00 finished!\n",
      "Accuracy calculation of Training_sample_xibei_2005_2007_40.00 finished!\n",
      "Accuracy calculation of Training_sample_xibei_2005_2007_45.00 finished!\n",
      "Accuracy calculation of Training_sample_xibei_2005_2007_50.00 finished!\n",
      "Accuracy calculation of Training_sample_xibei_2005_2007_55.00 finished!\n",
      "Accuracy calculation of Training_sample_xibei_2005_2007_60.00 finished!\n",
      "Accuracy calculation of Training_sample_xibei_2005_2007_65.00 finished!\n",
      "Accuracy calculation of Training_sample_xibei_2005_2007_70.00 finished!\n",
      "Accuracy calculation of Training_sample_xibei_2005_2007_75.00 finished!\n",
      "Accuracy calculation of Training_sample_xibei_2005_2007_80.00 finished!\n",
      "Accuracy calculation of Training_sample_xibei_2005_2007_85.00 finished!\n",
      "Accuracy calculation of Training_sample_xibei_2005_2007_90.00 finished!\n",
      "Accuracy calculation of Training_sample_xibei_2005_2007_95.00 finished!\n",
      "Accuracy calculation of Training_sample_xibei_2008_2010_1.00 finished!\n",
      "Accuracy calculation of Training_sample_xibei_2008_2010_1.50 finished!\n",
      "Accuracy calculation of Training_sample_xibei_2008_2010_2.00 finished!\n",
      "Accuracy calculation of Training_sample_xibei_2008_2010_5.00 finished!\n",
      "Accuracy calculation of Training_sample_xibei_2008_2010_10.00 finished!\n",
      "Accuracy calculation of Training_sample_xibei_2008_2010_15.00 finished!\n",
      "Accuracy calculation of Training_sample_xibei_2008_2010_20.00 finished!\n",
      "Accuracy calculation of Training_sample_xibei_2008_2010_25.00 finished!\n",
      "Accuracy calculation of Training_sample_xibei_2008_2010_30.00 finished!\n",
      "Accuracy calculation of Training_sample_xibei_2008_2010_35.00 finished!\n",
      "Accuracy calculation of Training_sample_xibei_2008_2010_40.00 finished!\n",
      "Accuracy calculation of Training_sample_xibei_2008_2010_45.00 finished!\n",
      "Accuracy calculation of Training_sample_xibei_2008_2010_50.00 finished!\n",
      "Accuracy calculation of Training_sample_xibei_2008_2010_55.00 finished!\n",
      "Accuracy calculation of Training_sample_xibei_2008_2010_60.00 finished!\n",
      "Accuracy calculation of Training_sample_xibei_2008_2010_65.00 finished!\n",
      "Accuracy calculation of Training_sample_xibei_2008_2010_70.00 finished!\n",
      "Accuracy calculation of Training_sample_xibei_2008_2010_75.00 finished!\n",
      "Accuracy calculation of Training_sample_xibei_2008_2010_80.00 finished!\n",
      "Accuracy calculation of Training_sample_xibei_2008_2010_85.00 finished!\n",
      "Accuracy calculation of Training_sample_xibei_2008_2010_90.00 finished!\n",
      "Accuracy calculation of Training_sample_xibei_2008_2010_95.00 finished!\n",
      "Accuracy calculation of Training_sample_xibei_2011_2013_1.00 finished!\n",
      "Accuracy calculation of Training_sample_xibei_2011_2013_1.50 finished!\n",
      "Accuracy calculation of Training_sample_xibei_2011_2013_2.00 finished!\n",
      "Accuracy calculation of Training_sample_xibei_2011_2013_5.00 finished!\n",
      "Accuracy calculation of Training_sample_xibei_2011_2013_10.00 finished!\n",
      "Accuracy calculation of Training_sample_xibei_2011_2013_15.00 finished!\n",
      "Accuracy calculation of Training_sample_xibei_2011_2013_20.00 finished!\n",
      "Accuracy calculation of Training_sample_xibei_2011_2013_25.00 finished!\n",
      "Accuracy calculation of Training_sample_xibei_2011_2013_30.00 finished!\n",
      "Accuracy calculation of Training_sample_xibei_2011_2013_35.00 finished!\n",
      "Accuracy calculation of Training_sample_xibei_2011_2013_40.00 finished!\n",
      "Accuracy calculation of Training_sample_xibei_2011_2013_45.00 finished!\n",
      "Accuracy calculation of Training_sample_xibei_2011_2013_50.00 finished!\n",
      "Accuracy calculation of Training_sample_xibei_2011_2013_55.00 finished!\n",
      "Accuracy calculation of Training_sample_xibei_2011_2013_60.00 finished!\n",
      "Accuracy calculation of Training_sample_xibei_2011_2013_65.00 finished!\n",
      "Accuracy calculation of Training_sample_xibei_2011_2013_70.00 finished!\n",
      "Accuracy calculation of Training_sample_xibei_2011_2013_75.00 finished!\n",
      "Accuracy calculation of Training_sample_xibei_2011_2013_80.00 finished!\n",
      "Accuracy calculation of Training_sample_xibei_2011_2013_85.00 finished!\n",
      "Accuracy calculation of Training_sample_xibei_2011_2013_90.00 finished!\n",
      "Accuracy calculation of Training_sample_xibei_2011_2013_95.00 finished!\n",
      "Accuracy calculation of Training_sample_xibei_2014_2016_1.00 finished!\n",
      "Accuracy calculation of Training_sample_xibei_2014_2016_1.50 finished!\n",
      "Accuracy calculation of Training_sample_xibei_2014_2016_2.00 finished!\n",
      "Accuracy calculation of Training_sample_xibei_2014_2016_5.00 finished!\n",
      "Accuracy calculation of Training_sample_xibei_2014_2016_10.00 finished!\n",
      "Accuracy calculation of Training_sample_xibei_2014_2016_15.00 finished!\n",
      "Accuracy calculation of Training_sample_xibei_2014_2016_20.00 finished!\n",
      "Accuracy calculation of Training_sample_xibei_2014_2016_25.00 finished!\n",
      "Accuracy calculation of Training_sample_xibei_2014_2016_30.00 finished!\n",
      "Accuracy calculation of Training_sample_xibei_2014_2016_35.00 finished!\n",
      "Accuracy calculation of Training_sample_xibei_2014_2016_40.00 finished!\n",
      "Accuracy calculation of Training_sample_xibei_2014_2016_45.00 finished!\n",
      "Accuracy calculation of Training_sample_xibei_2014_2016_50.00 finished!\n",
      "Accuracy calculation of Training_sample_xibei_2014_2016_55.00 finished!\n",
      "Accuracy calculation of Training_sample_xibei_2014_2016_60.00 finished!\n",
      "Accuracy calculation of Training_sample_xibei_2014_2016_65.00 finished!\n",
      "Accuracy calculation of Training_sample_xibei_2014_2016_70.00 finished!\n",
      "Accuracy calculation of Training_sample_xibei_2014_2016_75.00 finished!\n",
      "Accuracy calculation of Training_sample_xibei_2014_2016_80.00 finished!\n",
      "Accuracy calculation of Training_sample_xibei_2014_2016_85.00 finished!\n",
      "Accuracy calculation of Training_sample_xibei_2014_2016_90.00 finished!\n",
      "Accuracy calculation of Training_sample_xibei_2014_2016_95.00 finished!\n",
      "Accuracy calculation of Training_sample_xibei_2017_2019_1.00 finished!\n",
      "Accuracy calculation of Training_sample_xibei_2017_2019_1.50 finished!\n",
      "Accuracy calculation of Training_sample_xibei_2017_2019_2.00 finished!\n",
      "Accuracy calculation of Training_sample_xibei_2017_2019_5.00 finished!\n",
      "Accuracy calculation of Training_sample_xibei_2017_2019_10.00 finished!\n",
      "Accuracy calculation of Training_sample_xibei_2017_2019_15.00 finished!\n",
      "Accuracy calculation of Training_sample_xibei_2017_2019_20.00 finished!\n",
      "Accuracy calculation of Training_sample_xibei_2017_2019_25.00 finished!\n",
      "Accuracy calculation of Training_sample_xibei_2017_2019_30.00 finished!\n",
      "Accuracy calculation of Training_sample_xibei_2017_2019_35.00 finished!\n",
      "Accuracy calculation of Training_sample_xibei_2017_2019_40.00 finished!\n",
      "Accuracy calculation of Training_sample_xibei_2017_2019_45.00 finished!\n",
      "Accuracy calculation of Training_sample_xibei_2017_2019_50.00 finished!\n",
      "Accuracy calculation of Training_sample_xibei_2017_2019_55.00 finished!\n",
      "Accuracy calculation of Training_sample_xibei_2017_2019_60.00 finished!\n",
      "Accuracy calculation of Training_sample_xibei_2017_2019_65.00 finished!\n",
      "Accuracy calculation of Training_sample_xibei_2017_2019_70.00 finished!\n",
      "Accuracy calculation of Training_sample_xibei_2017_2019_75.00 finished!\n",
      "Accuracy calculation of Training_sample_xibei_2017_2019_80.00 finished!\n",
      "Accuracy calculation of Training_sample_xibei_2017_2019_85.00 finished!\n",
      "Accuracy calculation of Training_sample_xibei_2017_2019_90.00 finished!\n",
      "Accuracy calculation of Training_sample_xibei_2017_2019_95.00 finished!\n"
     ]
    }
   ],
   "source": [
    "Sample_size_acc = {}\n",
    "size_list = list(np.arange(0.05,0.98,0.05)) + list(np.arange(0.98,0.99,0.005)) \n",
    "\n",
    "for year in year_name:\n",
    "    for size in size_list[::-1]:\n",
    "        \n",
    "        # get the names of train and test\n",
    "        train_name = f'Training_sample_{region_en}_{year}'\n",
    "        test_name  = f'Grid_select_{region_en}_{year}'    \n",
    "        \n",
    "        # import traning sample\n",
    "        train_sample = pd.read_csv(f'./Data/{train_name}.csv')\n",
    "        train_sample = train_sample.drop(['system:index','.geo'],axis=1)\n",
    "        # train_test split to reduce the the sample size\n",
    "        X = train_sample.drop('Built',1)\n",
    "        y = train_sample['Built']\n",
    "        X_train, _, y_train, _ = train_test_split(X, y, test_size=size,random_state=42,stratify =y )\n",
    "        \n",
    "        # import testing sample\n",
    "        test_sample = pd.read_csv(f'./Data/{test_name}.csv')\n",
    "        test_sample = test_sample.drop(['system:index','.geo'],axis=1)\n",
    "        # get the X,y value\n",
    "        X_test = test_sample.drop('Built',1)\n",
    "        y_test = test_sample['Built']        \n",
    "        \n",
    "\n",
    "        # perform the RF classification\n",
    "        RF = RandomForestClassifier(n_estimators=100,n_jobs=-1)\n",
    "        RF.fit(X_train,y_train)\n",
    "        y_pred = RF.predict(X_test)\n",
    "\n",
    "        # get the accuracy, here get two kinds of accuracy\n",
    "        acc_test = accuracy_score(y_test,y_pred)\n",
    "\n",
    "        # add results to the acc_dict\n",
    "        Sample_size_acc[(region_en,year,f'{(1-size)*100:.2f}',)] = [acc_test]\n",
    "\n",
    "        # print out the process\n",
    "        print(f'Accuracy calculation of {train_name}_{(1-size)*100:.2f} finished!')"
   ]
  },
  {
   "cell_type": "code",
   "execution_count": null,
   "metadata": {},
   "outputs": [],
   "source": []
  },
  {
   "cell_type": "code",
   "execution_count": 10,
   "metadata": {},
   "outputs": [],
   "source": [
    "# formating the result and put it into a datafram\n",
    "Size_accuracy = pd.DataFrame(Sample_size_acc).T\n",
    "Size_accuracy.reset_index(inplace=True)\n",
    "Size_accuracy.columns = ['Region','Year','Sample_size','Accuracy']\n",
    "\n",
    "Size_accuracy['Year'] = Size_accuracy['Year'].astype('category')\n",
    "Size_accuracy.sort_values(['Year','Sample_size'],inplace=True)\n",
    "Size_accuracy.reset_index(inplace=True,drop=True)\n",
    "\n",
    "# save the datafram to disk\n",
    "Size_accuracy.to_csv(f'./Result/Sample_size_acc_{region_en}.csv',index=False)\n",
    "Size_accuracy = pd.read_csv(f'./Result/Sample_size_acc_{region_en}.csv')"
   ]
  },
  {
   "cell_type": "code",
   "execution_count": null,
   "metadata": {},
   "outputs": [],
   "source": []
  },
  {
   "cell_type": "markdown",
   "metadata": {},
   "source": [
    "##### Observe that 50% of the sample is enought for classification"
   ]
  },
  {
   "cell_type": "code",
   "execution_count": 11,
   "metadata": {},
   "outputs": [
    {
     "name": "stderr",
     "output_type": "stream",
     "text": [
      "C:\\Users\\wangj\\Anaconda3\\envs\\ee_py3\\lib\\site-packages\\scipy\\stats\\stats.py:1713: FutureWarning: Using a non-tuple sequence for multidimensional indexing is deprecated; use `arr[tuple(seq)]` instead of `arr[seq]`. In the future this will be interpreted as an array index, `arr[np.array(seq)]`, which will result either in an error or a different result.\n",
      "  return np.add.reduce(sorted[indexer] * weights, axis=axis) / sumval\n"
     ]
    },
    {
     "data": {
      "text/plain": [
       "<AxesSubplot:xlabel='Sample_size', ylabel='Accuracy'>"
      ]
     },
     "execution_count": 11,
     "metadata": {},
     "output_type": "execute_result"
    },
    {
     "data": {
      "image/png": "[encoded data removed]",
      "text/plain": [
       "<Figure size 1152x576 with 1 Axes>"
      ]
     },
     "metadata": {
      "needs_background": "light"
     },
     "output_type": "display_data"
    }
   ],
   "source": [
    "plt.figure(figsize=[16,8])\n",
    "sns.lineplot(data=Size_accuracy,x='Sample_size',y='Accuracy')"
   ]
  },
  {
   "cell_type": "code",
   "execution_count": null,
   "metadata": {},
   "outputs": [],
   "source": []
  },
  {
   "cell_type": "code",
   "execution_count": null,
   "metadata": {},
   "outputs": [],
   "source": []
  },
  {
   "cell_type": "markdown",
   "metadata": {},
   "source": [
    "##### Compare all region's accuracy"
   ]
  },
  {
   "cell_type": "code",
   "execution_count": 10,
   "metadata": {},
   "outputs": [
    {
     "ename": "FileNotFoundError",
     "evalue": "[Errno 2] No such file or directory: './Result/Sample_size_acc_huadong.csv'",
     "output_type": "error",
     "traceback": [
      "\u001b[1;31m---------------------------------------------------------------------------\u001b[0m",
      "\u001b[1;31mFileNotFoundError\u001b[0m                         Traceback (most recent call last)",
      "\u001b[1;32m<ipython-input-10-f6efd6c3e558>\u001b[0m in \u001b[0;36m<module>\u001b[1;34m\u001b[0m\n\u001b[0;32m      3\u001b[0m \u001b[1;32mfor\u001b[0m \u001b[0mregion\u001b[0m \u001b[1;32min\u001b[0m \u001b[1;33m[\u001b[0m\u001b[1;34m'dongbei'\u001b[0m\u001b[1;33m,\u001b[0m\u001b[1;34m'huadong'\u001b[0m\u001b[1;33m,\u001b[0m\u001b[1;34m'zhongnan'\u001b[0m\u001b[1;33m,\u001b[0m\u001b[1;34m'xinan'\u001b[0m\u001b[1;33m,\u001b[0m\u001b[1;34m'xibei'\u001b[0m\u001b[1;33m,\u001b[0m\u001b[1;34m'NCP'\u001b[0m\u001b[1;33m]\u001b[0m\u001b[1;33m:\u001b[0m\u001b[1;33m\u001b[0m\u001b[1;33m\u001b[0m\u001b[0m\n\u001b[0;32m      4\u001b[0m \u001b[1;33m\u001b[0m\u001b[0m\n\u001b[1;32m----> 5\u001b[1;33m     \u001b[0mdf\u001b[0m \u001b[1;33m=\u001b[0m \u001b[0mpd\u001b[0m\u001b[1;33m.\u001b[0m\u001b[0mread_csv\u001b[0m\u001b[1;33m(\u001b[0m\u001b[1;34mf'./Result/Sample_size_acc_{region}.csv'\u001b[0m\u001b[1;33m)\u001b[0m\u001b[1;33m\u001b[0m\u001b[1;33m\u001b[0m\u001b[0m\n\u001b[0m\u001b[0;32m      6\u001b[0m     \u001b[0mAll_accuracy\u001b[0m\u001b[1;33m.\u001b[0m\u001b[0mappend\u001b[0m\u001b[1;33m(\u001b[0m\u001b[0mdf\u001b[0m\u001b[1;33m)\u001b[0m\u001b[1;33m\u001b[0m\u001b[1;33m\u001b[0m\u001b[0m\n",
      "\u001b[1;32m~\\Anaconda3\\envs\\ee_py3\\lib\\site-packages\\pandas\\io\\parsers.py\u001b[0m in \u001b[0;36mread_csv\u001b[1;34m(filepath_or_buffer, sep, delimiter, header, names, index_col, usecols, squeeze, prefix, mangle_dupe_cols, dtype, engine, converters, true_values, false_values, skipinitialspace, skiprows, skipfooter, nrows, na_values, keep_default_na, na_filter, verbose, skip_blank_lines, parse_dates, infer_datetime_format, keep_date_col, date_parser, dayfirst, cache_dates, iterator, chunksize, compression, thousands, decimal, lineterminator, quotechar, quoting, doublequote, escapechar, comment, encoding, dialect, error_bad_lines, warn_bad_lines, delim_whitespace, low_memory, memory_map, float_precision)\u001b[0m\n\u001b[0;32m    684\u001b[0m     )\n\u001b[0;32m    685\u001b[0m \u001b[1;33m\u001b[0m\u001b[0m\n\u001b[1;32m--> 686\u001b[1;33m     \u001b[1;32mreturn\u001b[0m \u001b[0m_read\u001b[0m\u001b[1;33m(\u001b[0m\u001b[0mfilepath_or_buffer\u001b[0m\u001b[1;33m,\u001b[0m \u001b[0mkwds\u001b[0m\u001b[1;33m)\u001b[0m\u001b[1;33m\u001b[0m\u001b[1;33m\u001b[0m\u001b[0m\n\u001b[0m\u001b[0;32m    687\u001b[0m \u001b[1;33m\u001b[0m\u001b[0m\n\u001b[0;32m    688\u001b[0m \u001b[1;33m\u001b[0m\u001b[0m\n",
      "\u001b[1;32m~\\Anaconda3\\envs\\ee_py3\\lib\\site-packages\\pandas\\io\\parsers.py\u001b[0m in \u001b[0;36m_read\u001b[1;34m(filepath_or_buffer, kwds)\u001b[0m\n\u001b[0;32m    450\u001b[0m \u001b[1;33m\u001b[0m\u001b[0m\n\u001b[0;32m    451\u001b[0m     \u001b[1;31m# Create the parser.\u001b[0m\u001b[1;33m\u001b[0m\u001b[1;33m\u001b[0m\u001b[1;33m\u001b[0m\u001b[0m\n\u001b[1;32m--> 452\u001b[1;33m     \u001b[0mparser\u001b[0m \u001b[1;33m=\u001b[0m \u001b[0mTextFileReader\u001b[0m\u001b[1;33m(\u001b[0m\u001b[0mfp_or_buf\u001b[0m\u001b[1;33m,\u001b[0m \u001b[1;33m**\u001b[0m\u001b[0mkwds\u001b[0m\u001b[1;33m)\u001b[0m\u001b[1;33m\u001b[0m\u001b[1;33m\u001b[0m\u001b[0m\n\u001b[0m\u001b[0;32m    453\u001b[0m \u001b[1;33m\u001b[0m\u001b[0m\n\u001b[0;32m    454\u001b[0m     \u001b[1;32mif\u001b[0m \u001b[0mchunksize\u001b[0m \u001b[1;32mor\u001b[0m \u001b[0miterator\u001b[0m\u001b[1;33m:\u001b[0m\u001b[1;33m\u001b[0m\u001b[1;33m\u001b[0m\u001b[0m\n",
      "\u001b[1;32m~\\Anaconda3\\envs\\ee_py3\\lib\\site-packages\\pandas\\io\\parsers.py\u001b[0m in \u001b[0;36m__init__\u001b[1;34m(self, f, engine, **kwds)\u001b[0m\n\u001b[0;32m    934\u001b[0m             \u001b[0mself\u001b[0m\u001b[1;33m.\u001b[0m\u001b[0moptions\u001b[0m\u001b[1;33m[\u001b[0m\u001b[1;34m\"has_index_names\"\u001b[0m\u001b[1;33m]\u001b[0m \u001b[1;33m=\u001b[0m \u001b[0mkwds\u001b[0m\u001b[1;33m[\u001b[0m\u001b[1;34m\"has_index_names\"\u001b[0m\u001b[1;33m]\u001b[0m\u001b[1;33m\u001b[0m\u001b[1;33m\u001b[0m\u001b[0m\n\u001b[0;32m    935\u001b[0m \u001b[1;33m\u001b[0m\u001b[0m\n\u001b[1;32m--> 936\u001b[1;33m         \u001b[0mself\u001b[0m\u001b[1;33m.\u001b[0m\u001b[0m_make_engine\u001b[0m\u001b[1;33m(\u001b[0m\u001b[0mself\u001b[0m\u001b[1;33m.\u001b[0m\u001b[0mengine\u001b[0m\u001b[1;33m)\u001b[0m\u001b[1;33m\u001b[0m\u001b[1;33m\u001b[0m\u001b[0m\n\u001b[0m\u001b[0;32m    937\u001b[0m \u001b[1;33m\u001b[0m\u001b[0m\n\u001b[0;32m    938\u001b[0m     \u001b[1;32mdef\u001b[0m \u001b[0mclose\u001b[0m\u001b[1;33m(\u001b[0m\u001b[0mself\u001b[0m\u001b[1;33m)\u001b[0m\u001b[1;33m:\u001b[0m\u001b[1;33m\u001b[0m\u001b[1;33m\u001b[0m\u001b[0m\n",
      "\u001b[1;32m~\\Anaconda3\\envs\\ee_py3\\lib\\site-packages\\pandas\\io\\parsers.py\u001b[0m in \u001b[0;36m_make_engine\u001b[1;34m(self, engine)\u001b[0m\n\u001b[0;32m   1166\u001b[0m     \u001b[1;32mdef\u001b[0m \u001b[0m_make_engine\u001b[0m\u001b[1;33m(\u001b[0m\u001b[0mself\u001b[0m\u001b[1;33m,\u001b[0m \u001b[0mengine\u001b[0m\u001b[1;33m=\u001b[0m\u001b[1;34m\"c\"\u001b[0m\u001b[1;33m)\u001b[0m\u001b[1;33m:\u001b[0m\u001b[1;33m\u001b[0m\u001b[1;33m\u001b[0m\u001b[0m\n\u001b[0;32m   1167\u001b[0m         \u001b[1;32mif\u001b[0m \u001b[0mengine\u001b[0m \u001b[1;33m==\u001b[0m \u001b[1;34m\"c\"\u001b[0m\u001b[1;33m:\u001b[0m\u001b[1;33m\u001b[0m\u001b[1;33m\u001b[0m\u001b[0m\n\u001b[1;32m-> 1168\u001b[1;33m             \u001b[0mself\u001b[0m\u001b[1;33m.\u001b[0m\u001b[0m_engine\u001b[0m \u001b[1;33m=\u001b[0m \u001b[0mCParserWrapper\u001b[0m\u001b[1;33m(\u001b[0m\u001b[0mself\u001b[0m\u001b[1;33m.\u001b[0m\u001b[0mf\u001b[0m\u001b[1;33m,\u001b[0m \u001b[1;33m**\u001b[0m\u001b[0mself\u001b[0m\u001b[1;33m.\u001b[0m\u001b[0moptions\u001b[0m\u001b[1;33m)\u001b[0m\u001b[1;33m\u001b[0m\u001b[1;33m\u001b[0m\u001b[0m\n\u001b[0m\u001b[0;32m   1169\u001b[0m         \u001b[1;32melse\u001b[0m\u001b[1;33m:\u001b[0m\u001b[1;33m\u001b[0m\u001b[1;33m\u001b[0m\u001b[0m\n\u001b[0;32m   1170\u001b[0m             \u001b[1;32mif\u001b[0m \u001b[0mengine\u001b[0m \u001b[1;33m==\u001b[0m \u001b[1;34m\"python\"\u001b[0m\u001b[1;33m:\u001b[0m\u001b[1;33m\u001b[0m\u001b[1;33m\u001b[0m\u001b[0m\n",
      "\u001b[1;32m~\\Anaconda3\\envs\\ee_py3\\lib\\site-packages\\pandas\\io\\parsers.py\u001b[0m in \u001b[0;36m__init__\u001b[1;34m(self, src, **kwds)\u001b[0m\n\u001b[0;32m   1996\u001b[0m         \u001b[0mkwds\u001b[0m\u001b[1;33m[\u001b[0m\u001b[1;34m\"usecols\"\u001b[0m\u001b[1;33m]\u001b[0m \u001b[1;33m=\u001b[0m \u001b[0mself\u001b[0m\u001b[1;33m.\u001b[0m\u001b[0musecols\u001b[0m\u001b[1;33m\u001b[0m\u001b[1;33m\u001b[0m\u001b[0m\n\u001b[0;32m   1997\u001b[0m \u001b[1;33m\u001b[0m\u001b[0m\n\u001b[1;32m-> 1998\u001b[1;33m         \u001b[0mself\u001b[0m\u001b[1;33m.\u001b[0m\u001b[0m_reader\u001b[0m \u001b[1;33m=\u001b[0m \u001b[0mparsers\u001b[0m\u001b[1;33m.\u001b[0m\u001b[0mTextReader\u001b[0m\u001b[1;33m(\u001b[0m\u001b[0msrc\u001b[0m\u001b[1;33m,\u001b[0m \u001b[1;33m**\u001b[0m\u001b[0mkwds\u001b[0m\u001b[1;33m)\u001b[0m\u001b[1;33m\u001b[0m\u001b[1;33m\u001b[0m\u001b[0m\n\u001b[0m\u001b[0;32m   1999\u001b[0m         \u001b[0mself\u001b[0m\u001b[1;33m.\u001b[0m\u001b[0munnamed_cols\u001b[0m \u001b[1;33m=\u001b[0m \u001b[0mself\u001b[0m\u001b[1;33m.\u001b[0m\u001b[0m_reader\u001b[0m\u001b[1;33m.\u001b[0m\u001b[0munnamed_cols\u001b[0m\u001b[1;33m\u001b[0m\u001b[1;33m\u001b[0m\u001b[0m\n\u001b[0;32m   2000\u001b[0m \u001b[1;33m\u001b[0m\u001b[0m\n",
      "\u001b[1;32mpandas\\_libs\\parsers.pyx\u001b[0m in \u001b[0;36mpandas._libs.parsers.TextReader.__cinit__\u001b[1;34m()\u001b[0m\n",
      "\u001b[1;32mpandas\\_libs\\parsers.pyx\u001b[0m in \u001b[0;36mpandas._libs.parsers.TextReader._setup_parser_source\u001b[1;34m()\u001b[0m\n",
      "\u001b[1;31mFileNotFoundError\u001b[0m: [Errno 2] No such file or directory: './Result/Sample_size_acc_huadong.csv'"
     ]
    }
   ],
   "source": [
    "All_accuracy = []\n",
    "\n",
    "for region in ['dongbei','huadong','zhongnan','xinan','xibei','NCP']:\n",
    "    \n",
    "    df = pd.read_csv(f'./Result/Sample_size_acc_{region}.csv')    \n",
    "    All_accuracy.append(df)"
   ]
  },
  {
   "cell_type": "code",
   "execution_count": null,
   "metadata": {},
   "outputs": [],
   "source": []
  },
  {
   "cell_type": "code",
   "execution_count": null,
   "metadata": {},
   "outputs": [],
   "source": [
    "# concat all accuracy into one df\n",
    "All_accurac_df = pd.concat(All_accuracy,0)"
   ]
  },
  {
   "cell_type": "code",
   "execution_count": null,
   "metadata": {},
   "outputs": [],
   "source": []
  },
  {
   "cell_type": "code",
   "execution_count": null,
   "metadata": {},
   "outputs": [],
   "source": [
    "plt.figure(figsize=(18,10))\n",
    "sns.lineplot(data = All_accurac_df,x='Sample_size',y='Accuracy',hue='Region')"
   ]
  },
  {
   "cell_type": "code",
   "execution_count": null,
   "metadata": {},
   "outputs": [],
   "source": []
  },
  {
   "cell_type": "code",
   "execution_count": null,
   "metadata": {},
   "outputs": [],
   "source": []
  },
  {
   "cell_type": "code",
   "execution_count": null,
   "metadata": {},
   "outputs": [],
   "source": []
  },
  {
   "cell_type": "code",
   "execution_count": null,
   "metadata": {},
   "outputs": [],
   "source": []
  },
  {
   "cell_type": "code",
   "execution_count": null,
   "metadata": {},
   "outputs": [],
   "source": []
  },
  {
   "cell_type": "code",
   "execution_count": null,
   "metadata": {},
   "outputs": [],
   "source": []
  },
  {
   "cell_type": "code",
   "execution_count": null,
   "metadata": {},
   "outputs": [],
   "source": []
  },
  {
   "cell_type": "code",
   "execution_count": null,
   "metadata": {},
   "outputs": [],
   "source": []
  },
  {
   "cell_type": "code",
   "execution_count": null,
   "metadata": {},
   "outputs": [],
   "source": []
  },
  {
   "cell_type": "code",
   "execution_count": null,
   "metadata": {},
   "outputs": [],
   "source": []
  },
  {
   "cell_type": "code",
   "execution_count": null,
   "metadata": {},
   "outputs": [],
   "source": []
  }
 ],
 "metadata": {
  "kernelspec": {
   "display_name": "Python 3",
   "language": "python",
   "name": "python3"
  },
  "language_info": {
   "codemirror_mode": {
    "name": "ipython",
    "version": 3
   },
   "file_extension": ".py",
   "mimetype": "text/x-python",
   "name": "python",
   "nbconvert_exporter": "python",
   "pygments_lexer": "ipython3",
   "version": "3.7.3"
  }
 },
 "nbformat": 4,
 "nbformat_minor": 2
}
