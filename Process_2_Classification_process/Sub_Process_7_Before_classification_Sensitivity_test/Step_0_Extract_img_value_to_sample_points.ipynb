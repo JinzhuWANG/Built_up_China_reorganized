{
 "cells": [
  {
   "cell_type": "code",
   "execution_count": 1,
   "metadata": {},
   "outputs": [],
   "source": [
    "import os\n",
    "\n",
    "# # Set the proxy environment variables\n",
    "# os.environ['http_proxy'] = 'http://127.0.0.1:7890'\n",
    "# os.environ['https_proxy'] = 'http://127.0.0.1:7890'"
   ]
  },
  {
   "cell_type": "code",
   "execution_count": null,
   "metadata": {},
   "outputs": [],
   "source": []
  },
  {
   "cell_type": "code",
   "execution_count": 2,
   "metadata": {},
   "outputs": [],
   "source": [
    "import ee\n",
    "import datetime\n",
    "import itertools\n",
    "import sys\n",
    "import urllib.request\n",
    "\n",
    "from dfply import *\n",
    "from glob import glob\n",
    "from tqdm.auto import tqdm\n",
    "\n",
    "import geopandas as gpd\n",
    "import shapely\n",
    "from shapely.geometry import shape,MultiPoint,Point\n",
    "import geojson\n",
    "from geojson import Feature,FeatureCollection\n",
    "\n",
    "\n",
    "import pandas as pd\n",
    "import numpy as np\n",
    "import seaborn as sns\n",
    "import matplotlib.pyplot as plt\n",
    "\n",
    "import geemap\n",
    "\n",
    "import subprocess\n",
    "from subprocess import PIPE"
   ]
  },
  {
   "cell_type": "code",
   "execution_count": 3,
   "metadata": {},
   "outputs": [],
   "source": [
    "ee.Initialize()"
   ]
  },
  {
   "cell_type": "code",
   "execution_count": null,
   "metadata": {},
   "outputs": [],
   "source": []
  },
  {
   "cell_type": "markdown",
   "metadata": {},
   "source": [
    "##### Define_Basic_Parameters"
   ]
  },
  {
   "cell_type": "code",
   "execution_count": null,
   "metadata": {},
   "outputs": [],
   "source": []
  },
  {
   "cell_type": "code",
   "execution_count": null,
   "metadata": {},
   "outputs": [],
   "source": []
  },
  {
   "cell_type": "code",
   "execution_count": 4,
   "metadata": {},
   "outputs": [],
   "source": [
    "# define the year range\n",
    "year_range = '2020_2022'\n",
    "\n",
    "# define the gee-asset path for exporting\n",
    "export_path = 'users/wangjinzhulala/China_built_up/03_sample_extract_img_value'\n",
    "\n",
    "# create the region_dict\n",
    "# region_dict = dict(zip(['华东','东北','中南','华北','西北','西南'],\n",
    "#                        ['huadong','dongbei','zhongnan','huabei','xibei','xinan']))\n",
    "\n",
    "region_dict = dict(zip(['西南'],\n",
    "                       ['xinan']))"
   ]
  },
  {
   "cell_type": "code",
   "execution_count": null,
   "metadata": {},
   "outputs": [],
   "source": []
  },
  {
   "cell_type": "code",
   "execution_count": null,
   "metadata": {},
   "outputs": [],
   "source": []
  },
  {
   "cell_type": "markdown",
   "metadata": {},
   "source": [
    "##### Fetch needed images"
   ]
  },
  {
   "cell_type": "code",
   "execution_count": 5,
   "metadata": {},
   "outputs": [],
   "source": [
    "# read all asset_df into a list\n",
    "asset_list = [pd.read_csv(f) for f in  glob(f'../../File_trainsition/gee_asset_china/*.csv')]"
   ]
  },
  {
   "cell_type": "code",
   "execution_count": null,
   "metadata": {},
   "outputs": [],
   "source": []
  },
  {
   "cell_type": "code",
   "execution_count": 6,
   "metadata": {},
   "outputs": [
    {
     "data": {
      "text/html": [
       "<div>\n",
       "<style scoped>\n",
       "    .dataframe tbody tr th:only-of-type {\n",
       "        vertical-align: middle;\n",
       "    }\n",
       "\n",
       "    .dataframe tbody tr th {\n",
       "        vertical-align: top;\n",
       "    }\n",
       "\n",
       "    .dataframe thead th {\n",
       "        text-align: right;\n",
       "    }\n",
       "</style>\n",
       "<table border=\"1\" class=\"dataframe\">\n",
       "  <thead>\n",
       "    <tr style=\"text-align: right;\">\n",
       "      <th></th>\n",
       "      <th>year</th>\n",
       "      <th>type</th>\n",
       "      <th>path</th>\n",
       "      <th>region</th>\n",
       "    </tr>\n",
       "  </thead>\n",
       "  <tbody>\n",
       "    <tr>\n",
       "      <th>0</th>\n",
       "      <td>2020_2022</td>\n",
       "      <td>Fourier</td>\n",
       "      <td>projects/earthengine-legacy/assets/users/cnbui...</td>\n",
       "      <td>dongbei</td>\n",
       "    </tr>\n",
       "    <tr>\n",
       "      <th>4</th>\n",
       "      <td>2020_2022</td>\n",
       "      <td>Landsat_cloud_free</td>\n",
       "      <td>projects/earthengine-legacy/assets/users/cnbui...</td>\n",
       "      <td>dongbei</td>\n",
       "    </tr>\n",
       "    <tr>\n",
       "      <th>8</th>\n",
       "      <td>2020_2022</td>\n",
       "      <td>NDVI_NDBI_EVI</td>\n",
       "      <td>projects/earthengine-legacy/assets/users/cnbui...</td>\n",
       "      <td>dongbei</td>\n",
       "    </tr>\n",
       "    <tr>\n",
       "      <th>1</th>\n",
       "      <td>2020_2022</td>\n",
       "      <td>Fourier</td>\n",
       "      <td>projects/earthengine-legacy/assets/users/cnbui...</td>\n",
       "      <td>huabei</td>\n",
       "    </tr>\n",
       "    <tr>\n",
       "      <th>5</th>\n",
       "      <td>2020_2022</td>\n",
       "      <td>Landsat_cloud_free</td>\n",
       "      <td>projects/earthengine-legacy/assets/users/cnbui...</td>\n",
       "      <td>huabei</td>\n",
       "    </tr>\n",
       "    <tr>\n",
       "      <th>9</th>\n",
       "      <td>2020_2022</td>\n",
       "      <td>NDVI_NDBI_EVI</td>\n",
       "      <td>projects/earthengine-legacy/assets/users/cnbui...</td>\n",
       "      <td>huabei</td>\n",
       "    </tr>\n",
       "    <tr>\n",
       "      <th>2</th>\n",
       "      <td>2020_2022</td>\n",
       "      <td>Fourier</td>\n",
       "      <td>projects/earthengine-legacy/assets/users/cnbui...</td>\n",
       "      <td>huadong</td>\n",
       "    </tr>\n",
       "    <tr>\n",
       "      <th>6</th>\n",
       "      <td>2020_2022</td>\n",
       "      <td>Landsat_cloud_free</td>\n",
       "      <td>projects/earthengine-legacy/assets/users/cnbui...</td>\n",
       "      <td>huadong</td>\n",
       "    </tr>\n",
       "    <tr>\n",
       "      <th>10</th>\n",
       "      <td>2020_2022</td>\n",
       "      <td>NDVI_NDBI_EVI</td>\n",
       "      <td>projects/earthengine-legacy/assets/users/cnbui...</td>\n",
       "      <td>huadong</td>\n",
       "    </tr>\n",
       "    <tr>\n",
       "      <th>12</th>\n",
       "      <td>2020_2022</td>\n",
       "      <td>Fourier</td>\n",
       "      <td>projects/earthengine-legacy/assets/users/jinzh...</td>\n",
       "      <td>xibei</td>\n",
       "    </tr>\n",
       "    <tr>\n",
       "      <th>14</th>\n",
       "      <td>2020_2022</td>\n",
       "      <td>Landsat_cloud_free</td>\n",
       "      <td>projects/earthengine-legacy/assets/users/jinzh...</td>\n",
       "      <td>xibei</td>\n",
       "    </tr>\n",
       "    <tr>\n",
       "      <th>16</th>\n",
       "      <td>2020_2022</td>\n",
       "      <td>NDVI_NDBI_EVI</td>\n",
       "      <td>projects/earthengine-legacy/assets/users/jinzh...</td>\n",
       "      <td>xibei</td>\n",
       "    </tr>\n",
       "    <tr>\n",
       "      <th>13</th>\n",
       "      <td>2020_2022</td>\n",
       "      <td>Fourier</td>\n",
       "      <td>projects/earthengine-legacy/assets/users/jinzh...</td>\n",
       "      <td>xinan</td>\n",
       "    </tr>\n",
       "    <tr>\n",
       "      <th>15</th>\n",
       "      <td>2020_2022</td>\n",
       "      <td>Landsat_cloud_free</td>\n",
       "      <td>projects/earthengine-legacy/assets/users/jinzh...</td>\n",
       "      <td>xinan</td>\n",
       "    </tr>\n",
       "    <tr>\n",
       "      <th>17</th>\n",
       "      <td>2020_2022</td>\n",
       "      <td>NDVI_NDBI_EVI</td>\n",
       "      <td>projects/earthengine-legacy/assets/users/jinzh...</td>\n",
       "      <td>xinan</td>\n",
       "    </tr>\n",
       "    <tr>\n",
       "      <th>3</th>\n",
       "      <td>2020_2022</td>\n",
       "      <td>Fourier</td>\n",
       "      <td>projects/earthengine-legacy/assets/users/cnbui...</td>\n",
       "      <td>zhongnan</td>\n",
       "    </tr>\n",
       "    <tr>\n",
       "      <th>7</th>\n",
       "      <td>2020_2022</td>\n",
       "      <td>Landsat_cloud_free</td>\n",
       "      <td>projects/earthengine-legacy/assets/users/cnbui...</td>\n",
       "      <td>zhongnan</td>\n",
       "    </tr>\n",
       "    <tr>\n",
       "      <th>11</th>\n",
       "      <td>2020_2022</td>\n",
       "      <td>NDVI_NDBI_EVI</td>\n",
       "      <td>projects/earthengine-legacy/assets/users/cnbui...</td>\n",
       "      <td>zhongnan</td>\n",
       "    </tr>\n",
       "  </tbody>\n",
       "</table>\n",
       "</div>"
      ],
      "text/plain": [
       "         year                type  \\\n",
       "0   2020_2022             Fourier   \n",
       "4   2020_2022  Landsat_cloud_free   \n",
       "8   2020_2022       NDVI_NDBI_EVI   \n",
       "1   2020_2022             Fourier   \n",
       "5   2020_2022  Landsat_cloud_free   \n",
       "9   2020_2022       NDVI_NDBI_EVI   \n",
       "2   2020_2022             Fourier   \n",
       "6   2020_2022  Landsat_cloud_free   \n",
       "10  2020_2022       NDVI_NDBI_EVI   \n",
       "12  2020_2022             Fourier   \n",
       "14  2020_2022  Landsat_cloud_free   \n",
       "16  2020_2022       NDVI_NDBI_EVI   \n",
       "13  2020_2022             Fourier   \n",
       "15  2020_2022  Landsat_cloud_free   \n",
       "17  2020_2022       NDVI_NDBI_EVI   \n",
       "3   2020_2022             Fourier   \n",
       "7   2020_2022  Landsat_cloud_free   \n",
       "11  2020_2022       NDVI_NDBI_EVI   \n",
       "\n",
       "                                                 path    region  \n",
       "0   projects/earthengine-legacy/assets/users/cnbui...   dongbei  \n",
       "4   projects/earthengine-legacy/assets/users/cnbui...   dongbei  \n",
       "8   projects/earthengine-legacy/assets/users/cnbui...   dongbei  \n",
       "1   projects/earthengine-legacy/assets/users/cnbui...    huabei  \n",
       "5   projects/earthengine-legacy/assets/users/cnbui...    huabei  \n",
       "9   projects/earthengine-legacy/assets/users/cnbui...    huabei  \n",
       "2   projects/earthengine-legacy/assets/users/cnbui...   huadong  \n",
       "6   projects/earthengine-legacy/assets/users/cnbui...   huadong  \n",
       "10  projects/earthengine-legacy/assets/users/cnbui...   huadong  \n",
       "12  projects/earthengine-legacy/assets/users/jinzh...     xibei  \n",
       "14  projects/earthengine-legacy/assets/users/jinzh...     xibei  \n",
       "16  projects/earthengine-legacy/assets/users/jinzh...     xibei  \n",
       "13  projects/earthengine-legacy/assets/users/jinzh...     xinan  \n",
       "15  projects/earthengine-legacy/assets/users/jinzh...     xinan  \n",
       "17  projects/earthengine-legacy/assets/users/jinzh...     xinan  \n",
       "3   projects/earthengine-legacy/assets/users/cnbui...  zhongnan  \n",
       "7   projects/earthengine-legacy/assets/users/cnbui...  zhongnan  \n",
       "11  projects/earthengine-legacy/assets/users/cnbui...  zhongnan  "
      ]
     },
     "execution_count": 6,
     "metadata": {},
     "output_type": "execute_result"
    }
   ],
   "source": [
    "# concate all asset_df into one df\n",
    "asset_df = pd.concat(asset_list)\n",
    "asset_df = asset_df.sort_values(['region','type','year']) >> mask(X.year == year_range)\n",
    "asset_df"
   ]
  },
  {
   "cell_type": "code",
   "execution_count": null,
   "metadata": {},
   "outputs": [],
   "source": []
  },
  {
   "cell_type": "code",
   "execution_count": null,
   "metadata": {},
   "outputs": [],
   "source": []
  },
  {
   "cell_type": "markdown",
   "metadata": {},
   "source": [
    "##### Prepare img_stack for sample_points extractioin"
   ]
  },
  {
   "cell_type": "code",
   "execution_count": 7,
   "metadata": {},
   "outputs": [],
   "source": [
    "def stack_imgs(asset_df,region_en):\n",
    "    \n",
    "    # import Landsat img\n",
    "    Landsat_df = asset_df >> mask(X.type=='Landsat_cloud_free',X.region==region_en)\n",
    "    Landsat_img = ee.Image(Landsat_df['path'].tolist()[0])\n",
    "\n",
    "    # import Fourier img     \n",
    "    Fourier_df = asset_df >> mask(X.type=='Fourier',X.region==region_en)\n",
    "    Fourier_img = ee.Image(Fourier_df['path'].tolist()[0])\n",
    "\n",
    "    # import Fourier img    \n",
    "    Normalized_df = asset_df >> mask(X.type=='NDVI_NDBI_EVI',X.region==region_en)\n",
    "    Normalized_img = ee.Image(Normalized_df['path'].tolist()[0])\n",
    "\n",
    "    # prepare the climate data\n",
    "    # because the climate data ends in 2019, we will use the 2019 data if requring future data than 2019\n",
    "    year = '2017_2019' if int(year_range[:4]) > 2019 else year_range\n",
    "    Climate_mean = ee.Image(f\"users/China_bulit/01_Data_preparation/Climate_Mean_{year}\")\n",
    "\n",
    "    # Import DEM/SLOPE Img\n",
    "    DEM   = ee.Image(\"USGS/SRTMGL1_003\").rename('DEM')\n",
    "    SLOPE = ee.Terrain.slope(DEM).rename('SLOPE')\n",
    "\n",
    "    # stack all Imput_Img together\n",
    "    Stack_img = ee.Image([Landsat_img,\n",
    "                           Fourier_img,\n",
    "                           Normalized_img,\n",
    "                           Climate_mean,\n",
    "                           DEM,\n",
    "                           SLOPE])\n",
    "    \n",
    "    return Stack_img"
   ]
  },
  {
   "cell_type": "code",
   "execution_count": null,
   "metadata": {},
   "outputs": [],
   "source": []
  },
  {
   "cell_type": "code",
   "execution_count": null,
   "metadata": {},
   "outputs": [],
   "source": []
  },
  {
   "cell_type": "markdown",
   "metadata": {},
   "source": [
    "##### Img value extraction and export"
   ]
  },
  {
   "cell_type": "code",
   "execution_count": null,
   "metadata": {},
   "outputs": [],
   "source": []
  },
  {
   "cell_type": "code",
   "execution_count": null,
   "metadata": {},
   "outputs": [],
   "source": []
  },
  {
   "cell_type": "code",
   "execution_count": 8,
   "metadata": {},
   "outputs": [],
   "source": [
    "# function to get tranining samples\n",
    "def get_sample(region_en,non_built_pt_path = f'''../../Points_Check/\n",
    "                                                Sample_points_check_tutorial/\n",
    "                                                04_Checked_pts/\n",
    "                                                Samples_checked_Merge_2020_2022\n",
    "                                                '''):\n",
    "    # read local sample points\n",
    "    shp_path = f'{non_built_pt_path}/merge_pts_{region_en}.shp'.replace(' ', '').replace('\\n', '')\n",
    "    in_df = gpd.read_file(shp_path)\n",
    "    \n",
    "    # gdf to ee.Fe_col\n",
    "    sample_ee_fe_col = ee.FeatureCollection(FeatureCollection([Feature(geometry=row['geometry'],properties={'Built':row['Built']}) \n",
    "                                                           for _,row in in_df.iterrows()]))\n",
    "    \n",
    "    return sample_ee_fe_col"
   ]
  },
  {
   "cell_type": "code",
   "execution_count": null,
   "metadata": {},
   "outputs": [],
   "source": []
  },
  {
   "cell_type": "code",
   "execution_count": null,
   "metadata": {},
   "outputs": [],
   "source": []
  },
  {
   "cell_type": "code",
   "execution_count": null,
   "metadata": {},
   "outputs": [],
   "source": []
  },
  {
   "cell_type": "code",
   "execution_count": 18,
   "metadata": {},
   "outputs": [],
   "source": [
    "# function to export the img_val_extraction\n",
    "def export_extraction(img,region_en,year_range):\n",
    "    \n",
    "    # get name for exporting\n",
    "    name   = f'Control_sample_ext_img_{region_en}'\n",
    "    sample = get_sample(region_en)\n",
    "    \n",
    "    # extract img value to sample pts\n",
    "    Ext_sample = img.sampleRegions( collection = sample, \n",
    "                                    properties = ['Built'], \n",
    "                                    scale      = 30, \n",
    "                                    geometries = True)\n",
    "    \n",
    "    # set band_order to none, to avoid error\n",
    "    Ext_sample = Ext_sample.set({'band_order':'none'})\n",
    "\n",
    "    # exporting to gee aeest\n",
    "    task = ee.batch.Export.table.toAsset(   collection  = Ext_sample,\n",
    "                                            description = f'{name}_{year_range}',\n",
    "                                            assetId     = f'{export_path}/{name}_{year_range}')\n",
    "    task.start()\n",
    "\n",
    "#     # download to local drive\n",
    "#     url = Ext_sample.getDownloadURL('csv')\n",
    "#     urllib.request.urlretrieve(url, f'./Data/{name}_{year_range}.csv')\n",
    "\n",
    "    # print out the process\n",
    "    print(f'{name}_{year_range}')"
   ]
  },
  {
   "cell_type": "code",
   "execution_count": null,
   "metadata": {},
   "outputs": [],
   "source": []
  },
  {
   "cell_type": "code",
   "execution_count": null,
   "metadata": {},
   "outputs": [],
   "source": []
  },
  {
   "cell_type": "code",
   "execution_count": 19,
   "metadata": {},
   "outputs": [
    {
     "data": {
      "application/vnd.jupyter.widget-view+json": {
       "model_id": "c6363c882ff34837a892902bd5c9616f",
       "version_major": 2,
       "version_minor": 0
      },
      "text/plain": [
       "  0%|          | 0/1 [00:00<?, ?it/s]"
      ]
     },
     "metadata": {},
     "output_type": "display_data"
    },
    {
     "name": "stdout",
     "output_type": "stream",
     "text": [
      "Control_sample_ext_img_xinan_2020_2022\n"
     ]
    }
   ],
   "source": [
    "# finally, do the export\n",
    "for region_cn, region_en in tqdm(region_dict.items(),total=len(region_dict)):\n",
    "    #1) img for extraction\n",
    "    stack_img = stack_imgs(asset_df,region_en)\n",
    "    #2) export \n",
    "    export_extraction(stack_img,region_en,year_range)"
   ]
  },
  {
   "cell_type": "code",
   "execution_count": null,
   "metadata": {},
   "outputs": [],
   "source": []
  },
  {
   "cell_type": "code",
   "execution_count": null,
   "metadata": {},
   "outputs": [],
   "source": []
  },
  {
   "cell_type": "code",
   "execution_count": null,
   "metadata": {},
   "outputs": [],
   "source": []
  },
  {
   "cell_type": "code",
   "execution_count": null,
   "metadata": {},
   "outputs": [],
   "source": []
  },
  {
   "cell_type": "code",
   "execution_count": null,
   "metadata": {},
   "outputs": [],
   "source": []
  },
  {
   "cell_type": "code",
   "execution_count": null,
   "metadata": {},
   "outputs": [],
   "source": []
  },
  {
   "cell_type": "code",
   "execution_count": null,
   "metadata": {},
   "outputs": [],
   "source": []
  },
  {
   "cell_type": "code",
   "execution_count": null,
   "metadata": {},
   "outputs": [],
   "source": []
  },
  {
   "cell_type": "code",
   "execution_count": null,
   "metadata": {},
   "outputs": [],
   "source": []
  },
  {
   "cell_type": "code",
   "execution_count": null,
   "metadata": {},
   "outputs": [],
   "source": []
  },
  {
   "cell_type": "code",
   "execution_count": null,
   "metadata": {},
   "outputs": [],
   "source": []
  }
 ],
 "metadata": {
  "kernelspec": {
   "display_name": "Python 3 (ipykernel)",
   "language": "python",
   "name": "python3"
  },
  "language_info": {
   "codemirror_mode": {
    "name": "ipython",
    "version": 3
   },
   "file_extension": ".py",
   "mimetype": "text/x-python",
   "name": "python",
   "nbconvert_exporter": "python",
   "pygments_lexer": "ipython3",
   "version": "3.10.9"
  }
 },
 "nbformat": 4,
 "nbformat_minor": 4
}
