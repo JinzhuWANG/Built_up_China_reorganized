{
 "cells": [
  {
   "cell_type": "code",
   "execution_count": 24,
   "id": "a247b182-cb45-468e-938d-ee89489a5399",
   "metadata": {},
   "outputs": [],
   "source": [
    "import pandas as pd\n",
    "import numpy as np\n",
    "\n",
    "from glob import glob\n",
    "from dfply import *\n",
    "from tqdm.auto import tqdm\n",
    "from itertools import product"
   ]
  },
  {
   "cell_type": "code",
   "execution_count": null,
   "id": "a45d2962-d8bc-4dfa-b9c6-9ebd4687b9c7",
   "metadata": {},
   "outputs": [],
   "source": []
  },
  {
   "cell_type": "code",
   "execution_count": null,
   "id": "c5b396e4-f81d-4ea0-ab1c-1f021b42f72b",
   "metadata": {},
   "outputs": [],
   "source": []
  },
  {
   "cell_type": "code",
   "execution_count": 2,
   "id": "066309ed-7625-448b-93c2-72e992b891bb",
   "metadata": {},
   "outputs": [],
   "source": [
    "import ee\n",
    "ee.Initialize()"
   ]
  },
  {
   "cell_type": "code",
   "execution_count": null,
   "id": "fe626232-2ea0-4c70-8a25-6e0af3c5047f",
   "metadata": {},
   "outputs": [],
   "source": []
  },
  {
   "cell_type": "code",
   "execution_count": 56,
   "id": "f9721750-0902-4ce2-b791-991ebd15e783",
   "metadata": {},
   "outputs": [],
   "source": [
    "# define boundary and zones\n",
    "china = ee.FeatureCollection(\"users/wangjinzhulala/China_built_up/01_Boundary_shp/China_zone\")\n",
    "\n",
    "name_en2cn = dict(zip(['dongbei','huabei','huadong','xibei','xinan','zhongnan'],\n",
    "                     ['东北','华北','华东','西北','西南','中南']))\n",
    "\n",
    "# load terrain\n",
    "DEM = ee.ImageCollection(\"COPERNICUS/DEM/GLO30\").select('DEM').mosaic().toInt16()\n",
    "SLOPE = ee.Terrain.slope(DEM).toInt8()\n",
    "terrain = DEM.addBands(SLOPE)\n",
    "\n"
   ]
  },
  {
   "cell_type": "code",
   "execution_count": null,
   "id": "4d99f6a8-0e0c-4449-90c9-2faef0af84c9",
   "metadata": {},
   "outputs": [],
   "source": []
  },
  {
   "cell_type": "code",
   "execution_count": 75,
   "id": "d5104614-b35e-4f5d-a8bf-7c8b4cf8c3ad",
   "metadata": {},
   "outputs": [],
   "source": [
    "def get_Sentinel_bands(img):\n",
    "    bandNames = img.bandNames()\n",
    "    band_1_name = bandNames.get(0)\n",
    "    band_2_name = bandNames.get(1)\n",
    "    band_3 = ee.Image(img.select([band_1_name]).subtract(img.select([band_2_name])\n",
    "                         .divide(img.select([band_1_name]).add(img.select([band_2_name]))))).rename('Ratio')\n",
    "    \n",
    "    return img.addBands(band_3).select([band_1_name,band_2_name,'Ratio']).toFloat()"
   ]
  },
  {
   "cell_type": "code",
   "execution_count": null,
   "id": "94058602-a525-4de5-81ec-18fa73cbf5dc",
   "metadata": {},
   "outputs": [],
   "source": []
  },
  {
   "cell_type": "code",
   "execution_count": 76,
   "id": "8e82f124-ba7e-4ffe-8baf-ec582157f1f3",
   "metadata": {},
   "outputs": [],
   "source": [
    "# load the Sentinel-SAR data, select ['HH','HV'], and addBand [('HH' - 'HV')/('HH' + 'HV')]\n",
    "Sentinel_SAR = ee.ImageCollection(\"COPERNICUS/S1_GRD\").map(lambda img:get_Sentinel_bands(img))"
   ]
  },
  {
   "cell_type": "code",
   "execution_count": null,
   "id": "5552bb95-b7c2-46bb-9c44-8fc20537ed41",
   "metadata": {},
   "outputs": [],
   "source": []
  },
  {
   "cell_type": "code",
   "execution_count": null,
   "id": "fc130fd4-6e90-4c93-8b3e-1cf7d946ee15",
   "metadata": {},
   "outputs": [],
   "source": []
  },
  {
   "cell_type": "code",
   "execution_count": null,
   "id": "97e00a15-f205-43df-9396-73a4a4a91d3c",
   "metadata": {},
   "outputs": [],
   "source": []
  },
  {
   "cell_type": "code",
   "execution_count": 77,
   "id": "f6ec1cb3-4674-4220-a6e7-22fe8dad05b8",
   "metadata": {},
   "outputs": [
    {
     "data": {
      "text/plain": [
       "{0: '1990_1992',\n",
       " 1: '1993_1995',\n",
       " 2: '1996_1998',\n",
       " 3: '1999_2001',\n",
       " 4: '2002_2004',\n",
       " 5: '2005_2007',\n",
       " 6: '2008_2010',\n",
       " 7: '2011_2013',\n",
       " 8: '2014_2016',\n",
       " 9: '2017_2019',\n",
       " 10: '2020_2022'}"
      ]
     },
     "execution_count": 77,
     "metadata": {},
     "output_type": "execute_result"
    }
   ],
   "source": [
    "# the drive can hold data of 4-year range\n",
    "begin_yr = np.arange(1990,2023,3)\n",
    "all_yrs = dict(enumerate([f'{yr}_{yr+2}' for yr in begin_yr]))\n",
    "all_yrs"
   ]
  },
  {
   "cell_type": "code",
   "execution_count": null,
   "id": "b822a87c-b845-4036-b64a-bbcbf179421b",
   "metadata": {},
   "outputs": [],
   "source": []
  },
  {
   "cell_type": "code",
   "execution_count": null,
   "id": "88e74774-a69e-4a09-b6ec-fa3ce1fe90cb",
   "metadata": {},
   "outputs": [],
   "source": []
  },
  {
   "cell_type": "code",
   "execution_count": null,
   "id": "19050efd-40a6-49cb-a8a8-78def1517d87",
   "metadata": {},
   "outputs": [],
   "source": []
  },
  {
   "cell_type": "code",
   "execution_count": null,
   "id": "e80e7b80-ce1d-491f-8b55-1af7c6044911",
   "metadata": {},
   "outputs": [],
   "source": []
  },
  {
   "cell_type": "code",
   "execution_count": 78,
   "id": "db175315-7315-4749-9c02-c31b325c5116",
   "metadata": {},
   "outputs": [],
   "source": [
    "# read and concat all url_csv to one df\n",
    "files = glob('./gee_asset_china/*.csv')\n",
    "satellite_df = pd.concat([pd.read_csv(f) for f in files]).sort_values(['region','type','year']).reset_index(drop=True)\n",
    "\n",
    "# create terrain df\n",
    "years,regions = satellite_df['year'].unique(),satellite_df['region'].unique()\n",
    "terrain_dict = [{'year':'1990_2020', 'type':'terrain', 'path':terrain, 'region':region} for region in regions]\n",
    "terrain_df = pd.DataFrame(terrain_dict)\n",
    "\n",
    "# create Sentinel_SAR df\n",
    "Sentinle_yrs = filter( lambda x:int(x[:4])>=2014, all_yrs.values() )\n",
    "Sentinel_SAR_df = pd.DataFrame(list(product(Sentinle_yrs,['Sentinel_SAR'],name_en2cn.keys())),\n",
    "                               columns=['year','type','region'])\n",
    "\n",
    "Sentinel_SAR_df['path'] = Sentinel_SAR_df['year'].apply(lambda x: Sentinel_SAR.filterDate(f'{x[:4]}-01-01',f'{x[-4:]}-12-31').median())\n",
    "\n",
    "\n",
    "df = pd.concat([satellite_df,terrain_df,Sentinel_SAR_df],axis=0).sort_values(['year','region','type']).reset_index(drop=True)"
   ]
  },
  {
   "cell_type": "code",
   "execution_count": null,
   "id": "e2667b7d-64a1-429b-8d07-0e9904690608",
   "metadata": {},
   "outputs": [],
   "source": []
  },
  {
   "cell_type": "code",
   "execution_count": 79,
   "id": "e4b6a31f-b70d-41b8-80a4-2580d707a549",
   "metadata": {
    "tags": []
   },
   "outputs": [
    {
     "data": {
      "text/html": [
       "<div>\n",
       "<style scoped>\n",
       "    .dataframe tbody tr th:only-of-type {\n",
       "        vertical-align: middle;\n",
       "    }\n",
       "\n",
       "    .dataframe tbody tr th {\n",
       "        vertical-align: top;\n",
       "    }\n",
       "\n",
       "    .dataframe thead th {\n",
       "        text-align: right;\n",
       "    }\n",
       "</style>\n",
       "<table border=\"1\" class=\"dataframe\">\n",
       "  <thead>\n",
       "    <tr style=\"text-align: right;\">\n",
       "      <th></th>\n",
       "      <th>year</th>\n",
       "      <th>type</th>\n",
       "      <th>path</th>\n",
       "      <th>region</th>\n",
       "    </tr>\n",
       "  </thead>\n",
       "  <tbody>\n",
       "    <tr>\n",
       "      <th>153</th>\n",
       "      <td>2014_2016</td>\n",
       "      <td>Sentinel_SAR</td>\n",
       "      <td>ee.Image({\\n  \"functionInvocationValue\": {\\n  ...</td>\n",
       "      <td>dongbei</td>\n",
       "    </tr>\n",
       "    <tr>\n",
       "      <th>157</th>\n",
       "      <td>2014_2016</td>\n",
       "      <td>Sentinel_SAR</td>\n",
       "      <td>ee.Image({\\n  \"functionInvocationValue\": {\\n  ...</td>\n",
       "      <td>huabei</td>\n",
       "    </tr>\n",
       "    <tr>\n",
       "      <th>161</th>\n",
       "      <td>2014_2016</td>\n",
       "      <td>Sentinel_SAR</td>\n",
       "      <td>ee.Image({\\n  \"functionInvocationValue\": {\\n  ...</td>\n",
       "      <td>huadong</td>\n",
       "    </tr>\n",
       "    <tr>\n",
       "      <th>165</th>\n",
       "      <td>2014_2016</td>\n",
       "      <td>Sentinel_SAR</td>\n",
       "      <td>ee.Image({\\n  \"functionInvocationValue\": {\\n  ...</td>\n",
       "      <td>xibei</td>\n",
       "    </tr>\n",
       "    <tr>\n",
       "      <th>169</th>\n",
       "      <td>2014_2016</td>\n",
       "      <td>Sentinel_SAR</td>\n",
       "      <td>ee.Image({\\n  \"functionInvocationValue\": {\\n  ...</td>\n",
       "      <td>xinan</td>\n",
       "    </tr>\n",
       "    <tr>\n",
       "      <th>173</th>\n",
       "      <td>2014_2016</td>\n",
       "      <td>Sentinel_SAR</td>\n",
       "      <td>ee.Image({\\n  \"functionInvocationValue\": {\\n  ...</td>\n",
       "      <td>zhongnan</td>\n",
       "    </tr>\n",
       "    <tr>\n",
       "      <th>177</th>\n",
       "      <td>2017_2019</td>\n",
       "      <td>Sentinel_SAR</td>\n",
       "      <td>ee.Image({\\n  \"functionInvocationValue\": {\\n  ...</td>\n",
       "      <td>dongbei</td>\n",
       "    </tr>\n",
       "    <tr>\n",
       "      <th>181</th>\n",
       "      <td>2017_2019</td>\n",
       "      <td>Sentinel_SAR</td>\n",
       "      <td>ee.Image({\\n  \"functionInvocationValue\": {\\n  ...</td>\n",
       "      <td>huabei</td>\n",
       "    </tr>\n",
       "    <tr>\n",
       "      <th>185</th>\n",
       "      <td>2017_2019</td>\n",
       "      <td>Sentinel_SAR</td>\n",
       "      <td>ee.Image({\\n  \"functionInvocationValue\": {\\n  ...</td>\n",
       "      <td>huadong</td>\n",
       "    </tr>\n",
       "    <tr>\n",
       "      <th>189</th>\n",
       "      <td>2017_2019</td>\n",
       "      <td>Sentinel_SAR</td>\n",
       "      <td>ee.Image({\\n  \"functionInvocationValue\": {\\n  ...</td>\n",
       "      <td>xibei</td>\n",
       "    </tr>\n",
       "    <tr>\n",
       "      <th>193</th>\n",
       "      <td>2017_2019</td>\n",
       "      <td>Sentinel_SAR</td>\n",
       "      <td>ee.Image({\\n  \"functionInvocationValue\": {\\n  ...</td>\n",
       "      <td>xinan</td>\n",
       "    </tr>\n",
       "    <tr>\n",
       "      <th>197</th>\n",
       "      <td>2017_2019</td>\n",
       "      <td>Sentinel_SAR</td>\n",
       "      <td>ee.Image({\\n  \"functionInvocationValue\": {\\n  ...</td>\n",
       "      <td>zhongnan</td>\n",
       "    </tr>\n",
       "    <tr>\n",
       "      <th>201</th>\n",
       "      <td>2020_2022</td>\n",
       "      <td>Sentinel_SAR</td>\n",
       "      <td>ee.Image({\\n  \"functionInvocationValue\": {\\n  ...</td>\n",
       "      <td>dongbei</td>\n",
       "    </tr>\n",
       "    <tr>\n",
       "      <th>205</th>\n",
       "      <td>2020_2022</td>\n",
       "      <td>Sentinel_SAR</td>\n",
       "      <td>ee.Image({\\n  \"functionInvocationValue\": {\\n  ...</td>\n",
       "      <td>huabei</td>\n",
       "    </tr>\n",
       "    <tr>\n",
       "      <th>209</th>\n",
       "      <td>2020_2022</td>\n",
       "      <td>Sentinel_SAR</td>\n",
       "      <td>ee.Image({\\n  \"functionInvocationValue\": {\\n  ...</td>\n",
       "      <td>huadong</td>\n",
       "    </tr>\n",
       "    <tr>\n",
       "      <th>213</th>\n",
       "      <td>2020_2022</td>\n",
       "      <td>Sentinel_SAR</td>\n",
       "      <td>ee.Image({\\n  \"functionInvocationValue\": {\\n  ...</td>\n",
       "      <td>xibei</td>\n",
       "    </tr>\n",
       "    <tr>\n",
       "      <th>217</th>\n",
       "      <td>2020_2022</td>\n",
       "      <td>Sentinel_SAR</td>\n",
       "      <td>ee.Image({\\n  \"functionInvocationValue\": {\\n  ...</td>\n",
       "      <td>xinan</td>\n",
       "    </tr>\n",
       "    <tr>\n",
       "      <th>221</th>\n",
       "      <td>2020_2022</td>\n",
       "      <td>Sentinel_SAR</td>\n",
       "      <td>ee.Image({\\n  \"functionInvocationValue\": {\\n  ...</td>\n",
       "      <td>zhongnan</td>\n",
       "    </tr>\n",
       "  </tbody>\n",
       "</table>\n",
       "</div>"
      ],
      "text/plain": [
       "          year          type  \\\n",
       "153  2014_2016  Sentinel_SAR   \n",
       "157  2014_2016  Sentinel_SAR   \n",
       "161  2014_2016  Sentinel_SAR   \n",
       "165  2014_2016  Sentinel_SAR   \n",
       "169  2014_2016  Sentinel_SAR   \n",
       "173  2014_2016  Sentinel_SAR   \n",
       "177  2017_2019  Sentinel_SAR   \n",
       "181  2017_2019  Sentinel_SAR   \n",
       "185  2017_2019  Sentinel_SAR   \n",
       "189  2017_2019  Sentinel_SAR   \n",
       "193  2017_2019  Sentinel_SAR   \n",
       "197  2017_2019  Sentinel_SAR   \n",
       "201  2020_2022  Sentinel_SAR   \n",
       "205  2020_2022  Sentinel_SAR   \n",
       "209  2020_2022  Sentinel_SAR   \n",
       "213  2020_2022  Sentinel_SAR   \n",
       "217  2020_2022  Sentinel_SAR   \n",
       "221  2020_2022  Sentinel_SAR   \n",
       "\n",
       "                                                  path    region  \n",
       "153  ee.Image({\\n  \"functionInvocationValue\": {\\n  ...   dongbei  \n",
       "157  ee.Image({\\n  \"functionInvocationValue\": {\\n  ...    huabei  \n",
       "161  ee.Image({\\n  \"functionInvocationValue\": {\\n  ...   huadong  \n",
       "165  ee.Image({\\n  \"functionInvocationValue\": {\\n  ...     xibei  \n",
       "169  ee.Image({\\n  \"functionInvocationValue\": {\\n  ...     xinan  \n",
       "173  ee.Image({\\n  \"functionInvocationValue\": {\\n  ...  zhongnan  \n",
       "177  ee.Image({\\n  \"functionInvocationValue\": {\\n  ...   dongbei  \n",
       "181  ee.Image({\\n  \"functionInvocationValue\": {\\n  ...    huabei  \n",
       "185  ee.Image({\\n  \"functionInvocationValue\": {\\n  ...   huadong  \n",
       "189  ee.Image({\\n  \"functionInvocationValue\": {\\n  ...     xibei  \n",
       "193  ee.Image({\\n  \"functionInvocationValue\": {\\n  ...     xinan  \n",
       "197  ee.Image({\\n  \"functionInvocationValue\": {\\n  ...  zhongnan  \n",
       "201  ee.Image({\\n  \"functionInvocationValue\": {\\n  ...   dongbei  \n",
       "205  ee.Image({\\n  \"functionInvocationValue\": {\\n  ...    huabei  \n",
       "209  ee.Image({\\n  \"functionInvocationValue\": {\\n  ...   huadong  \n",
       "213  ee.Image({\\n  \"functionInvocationValue\": {\\n  ...     xibei  \n",
       "217  ee.Image({\\n  \"functionInvocationValue\": {\\n  ...     xinan  \n",
       "221  ee.Image({\\n  \"functionInvocationValue\": {\\n  ...  zhongnan  "
      ]
     },
     "execution_count": 79,
     "metadata": {},
     "output_type": "execute_result"
    }
   ],
   "source": [
    "# download_df\n",
    "# download_df = df >> mask(X.year.isin([v for k,v in all_yrs.items() if ((k >= 4)&(k <= 7)) ]))\n",
    "\n",
    "download_df = df >> mask(X.type == 'Sentinel_SAR')\n",
    "download_df"
   ]
  },
  {
   "cell_type": "code",
   "execution_count": null,
   "id": "bddb8d68-d77b-4f5c-934c-aba6c21e05f2",
   "metadata": {},
   "outputs": [],
   "source": []
  },
  {
   "cell_type": "code",
   "execution_count": null,
   "id": "c0a6caad-6131-4fbc-9e2f-2f98a377b01e",
   "metadata": {},
   "outputs": [],
   "source": []
  },
  {
   "cell_type": "code",
   "execution_count": 82,
   "id": "06055f72-7a7f-4dd0-8d03-e2086dfb318d",
   "metadata": {},
   "outputs": [
    {
     "data": {
      "application/vnd.jupyter.widget-view+json": {
       "model_id": "2ff8d117c72d4654b847fc5669453417",
       "version_major": 2,
       "version_minor": 0
      },
      "text/plain": [
       "  0%|          | 0/18 [00:00<?, ?it/s]"
      ]
     },
     "metadata": {},
     "output_type": "display_data"
    }
   ],
   "source": [
    "for idx,row in tqdm(download_df.iterrows(),total=len(download_df)):\n",
    "    \n",
    "    img = ee.Image(row['path'])\n",
    "    boundary = china.filter(ee.Filter.eq('NAME1',name_en2cn[row['region']])).geometry().bounds()\n",
    "    desc = f\"{row['region']}_{row['type']}_{row['year']}\"\n",
    "    \n",
    "    task = ee.batch.Export.image.toDrive(\n",
    "      image=img, \n",
    "      description=desc, \n",
    "      folder='GEE_tif', \n",
    "      fileNamePrefix=desc,\n",
    "      region=boundary, \n",
    "      scale=30, \n",
    "      maxPixels=1e13, \n",
    "      skipEmptyTiles=True)\n",
    "    \n",
    "    task.start()"
   ]
  },
  {
   "cell_type": "code",
   "execution_count": null,
   "id": "1e9ecaba-fb4e-4b89-8635-5c7ea55b3712",
   "metadata": {},
   "outputs": [],
   "source": []
  },
  {
   "cell_type": "code",
   "execution_count": null,
   "id": "dfee02a8-1647-417c-ae14-322458853389",
   "metadata": {},
   "outputs": [],
   "source": []
  },
  {
   "cell_type": "code",
   "execution_count": null,
   "id": "addda847-49e7-4499-8e15-3bc3c9cd7c52",
   "metadata": {},
   "outputs": [],
   "source": []
  },
  {
   "cell_type": "code",
   "execution_count": null,
   "id": "72a5016c-2b82-4cc9-9045-5114135e713f",
   "metadata": {},
   "outputs": [],
   "source": []
  },
  {
   "cell_type": "code",
   "execution_count": null,
   "id": "e3af79fd-302f-4110-ae53-05e6c8c45849",
   "metadata": {},
   "outputs": [],
   "source": []
  },
  {
   "cell_type": "code",
   "execution_count": null,
   "id": "2b192f3c-6635-485d-8298-d7d4c124e584",
   "metadata": {},
   "outputs": [],
   "source": []
  },
  {
   "cell_type": "code",
   "execution_count": null,
   "id": "2b9ec92a-ed43-42a3-ac4f-c73118214de7",
   "metadata": {},
   "outputs": [],
   "source": []
  },
  {
   "cell_type": "code",
   "execution_count": null,
   "id": "20bf5a4f-cde5-4b01-be36-91ccc5abc978",
   "metadata": {},
   "outputs": [],
   "source": []
  },
  {
   "cell_type": "code",
   "execution_count": null,
   "id": "79c1b63d-e6b2-4a89-9e78-ff5c7d50bcbd",
   "metadata": {},
   "outputs": [],
   "source": []
  },
  {
   "cell_type": "code",
   "execution_count": null,
   "id": "91c8540a-bbb0-4502-9485-8f40e9b97a12",
   "metadata": {},
   "outputs": [],
   "source": []
  },
  {
   "cell_type": "code",
   "execution_count": null,
   "id": "639503a0-8334-4cc9-85aa-ddff642293e8",
   "metadata": {},
   "outputs": [],
   "source": []
  },
  {
   "cell_type": "code",
   "execution_count": null,
   "id": "5c028031-359b-4631-99c1-1cc909f21864",
   "metadata": {},
   "outputs": [],
   "source": []
  },
  {
   "cell_type": "code",
   "execution_count": null,
   "id": "029d4280-1eae-4a97-ac89-eca4f74e655f",
   "metadata": {},
   "outputs": [],
   "source": []
  },
  {
   "cell_type": "code",
   "execution_count": null,
   "id": "e7df358d-dc27-42a5-a4b6-ee4677bc5e4e",
   "metadata": {},
   "outputs": [],
   "source": []
  },
  {
   "cell_type": "code",
   "execution_count": null,
   "id": "ffffad7d-5fe7-468a-a85c-d7fc2c46db75",
   "metadata": {},
   "outputs": [],
   "source": []
  },
  {
   "cell_type": "code",
   "execution_count": null,
   "id": "ca7c1e6c-2d09-4472-b5b7-de7b6fe04348",
   "metadata": {},
   "outputs": [],
   "source": []
  },
  {
   "cell_type": "code",
   "execution_count": null,
   "id": "03f8cca4-7279-44bf-baaf-3097bc6332bd",
   "metadata": {},
   "outputs": [],
   "source": []
  },
  {
   "cell_type": "code",
   "execution_count": null,
   "id": "e31b07df-8767-450d-b887-fe07c5be6d65",
   "metadata": {},
   "outputs": [],
   "source": []
  }
 ],
 "metadata": {
  "kernelspec": {
   "display_name": "Python 3 (ipykernel)",
   "language": "python",
   "name": "python3"
  },
  "language_info": {
   "codemirror_mode": {
    "name": "ipython",
    "version": 3
   },
   "file_extension": ".py",
   "mimetype": "text/x-python",
   "name": "python",
   "nbconvert_exporter": "python",
   "pygments_lexer": "ipython3",
   "version": "3.10.9"
  }
 },
 "nbformat": 4,
 "nbformat_minor": 5
}
