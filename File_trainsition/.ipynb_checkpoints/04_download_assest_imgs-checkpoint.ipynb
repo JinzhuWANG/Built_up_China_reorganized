{
 "cells": [
  {
   "cell_type": "code",
   "execution_count": 5,
   "id": "9991dae0",
   "metadata": {},
   "outputs": [],
   "source": [
    "import pandas as pd\n",
    "import numpy as np\n",
    "from IPython.display import JSON\n",
    "\n",
    "import ee\n",
    "import math\n",
    "import re\n",
    "from itertools import product\n",
    "from glob import glob\n",
    "\n",
    "from dfply import *\n",
    "\n",
    "import geopandas as gpd\n",
    "from shapely.ops import unary_union\n",
    "import rasterio\n",
    "from rasterio import Affine\n",
    "from rasterio import MemoryFile\n",
    "from shapely import box\n",
    "import geojson\n",
    "\n",
    "import requests\n",
    "from requests.adapters import HTTPAdapter\n",
    "from requests.packages.urllib3.util.retry import Retry\n",
    "\n",
    "from time import sleep\n",
    "from tqdm.auto import tqdm\n",
    "\n",
    "\n",
    "import concurrent.futures\n",
    "from  concurrent.futures import ThreadPoolExecutor"
   ]
  },
  {
   "cell_type": "code",
   "execution_count": null,
   "id": "2f960a3c",
   "metadata": {},
   "outputs": [],
   "source": []
  },
  {
   "cell_type": "code",
   "execution_count": 2,
   "id": "a1988eb7",
   "metadata": {},
   "outputs": [],
   "source": [
    "ee.Initialize()"
   ]
  },
  {
   "cell_type": "code",
   "execution_count": null,
   "id": "59c1550c",
   "metadata": {},
   "outputs": [],
   "source": []
  },
  {
   "cell_type": "markdown",
   "id": "2e2cb49a",
   "metadata": {},
   "source": [
    "### Read all data"
   ]
  },
  {
   "cell_type": "code",
   "execution_count": null,
   "id": "dcfe17df",
   "metadata": {},
   "outputs": [],
   "source": []
  },
  {
   "cell_type": "code",
   "execution_count": 7,
   "id": "ad1b183e",
   "metadata": {},
   "outputs": [
    {
     "data": {
      "text/html": [
       "<div>\n",
       "<style scoped>\n",
       "    .dataframe tbody tr th:only-of-type {\n",
       "        vertical-align: middle;\n",
       "    }\n",
       "\n",
       "    .dataframe tbody tr th {\n",
       "        vertical-align: top;\n",
       "    }\n",
       "\n",
       "    .dataframe thead th {\n",
       "        text-align: right;\n",
       "    }\n",
       "</style>\n",
       "<table border=\"1\" class=\"dataframe\">\n",
       "  <thead>\n",
       "    <tr style=\"text-align: right;\">\n",
       "      <th></th>\n",
       "      <th>year</th>\n",
       "      <th>type</th>\n",
       "      <th>path</th>\n",
       "      <th>region</th>\n",
       "    </tr>\n",
       "  </thead>\n",
       "  <tbody>\n",
       "    <tr>\n",
       "      <th>0</th>\n",
       "      <td>1990_1992</td>\n",
       "      <td>Fourier</td>\n",
       "      <td>projects/earthengine-legacy/assets/users/bthom...</td>\n",
       "      <td>dongbei</td>\n",
       "    </tr>\n",
       "    <tr>\n",
       "      <th>1</th>\n",
       "      <td>1990_1992</td>\n",
       "      <td>Landsat_cloud_free</td>\n",
       "      <td>projects/earthengine-legacy/assets/users/bthom...</td>\n",
       "      <td>dongbei</td>\n",
       "    </tr>\n",
       "    <tr>\n",
       "      <th>2</th>\n",
       "      <td>1990_1992</td>\n",
       "      <td>NDVI_NDBI_EVI</td>\n",
       "      <td>projects/earthengine-legacy/assets/users/bthom...</td>\n",
       "      <td>dongbei</td>\n",
       "    </tr>\n",
       "    <tr>\n",
       "      <th>3</th>\n",
       "      <td>1990_1992</td>\n",
       "      <td>Fourier</td>\n",
       "      <td>projects/earthengine-legacy/assets/users/ldiaz...</td>\n",
       "      <td>huabei</td>\n",
       "    </tr>\n",
       "    <tr>\n",
       "      <th>4</th>\n",
       "      <td>1990_1992</td>\n",
       "      <td>Landsat_cloud_free</td>\n",
       "      <td>projects/earthengine-legacy/assets/users/ldiaz...</td>\n",
       "      <td>huabei</td>\n",
       "    </tr>\n",
       "    <tr>\n",
       "      <th>...</th>\n",
       "      <td>...</td>\n",
       "      <td>...</td>\n",
       "      <td>...</td>\n",
       "      <td>...</td>\n",
       "    </tr>\n",
       "    <tr>\n",
       "      <th>175</th>\n",
       "      <td>2017_2019</td>\n",
       "      <td>Landsat_cloud_free</td>\n",
       "      <td>projects/earthengine-legacy/assets/users/saji/...</td>\n",
       "      <td>xinan</td>\n",
       "    </tr>\n",
       "    <tr>\n",
       "      <th>176</th>\n",
       "      <td>2017_2019</td>\n",
       "      <td>NDVI_NDBI_EVI</td>\n",
       "      <td>projects/earthengine-legacy/assets/users/saji/...</td>\n",
       "      <td>xinan</td>\n",
       "    </tr>\n",
       "    <tr>\n",
       "      <th>177</th>\n",
       "      <td>2017_2019</td>\n",
       "      <td>Fourier</td>\n",
       "      <td>projects/earthengine-legacy/assets/users/fhane...</td>\n",
       "      <td>zhongnan</td>\n",
       "    </tr>\n",
       "    <tr>\n",
       "      <th>178</th>\n",
       "      <td>2017_2019</td>\n",
       "      <td>Landsat_cloud_free</td>\n",
       "      <td>projects/earthengine-legacy/assets/users/fhane...</td>\n",
       "      <td>zhongnan</td>\n",
       "    </tr>\n",
       "    <tr>\n",
       "      <th>179</th>\n",
       "      <td>2017_2019</td>\n",
       "      <td>NDVI_NDBI_EVI</td>\n",
       "      <td>projects/earthengine-legacy/assets/users/fhane...</td>\n",
       "      <td>zhongnan</td>\n",
       "    </tr>\n",
       "  </tbody>\n",
       "</table>\n",
       "<p>180 rows × 4 columns</p>\n",
       "</div>"
      ],
      "text/plain": [
       "          year                type  \\\n",
       "0    1990_1992             Fourier   \n",
       "1    1990_1992  Landsat_cloud_free   \n",
       "2    1990_1992       NDVI_NDBI_EVI   \n",
       "3    1990_1992             Fourier   \n",
       "4    1990_1992  Landsat_cloud_free   \n",
       "..         ...                 ...   \n",
       "175  2017_2019  Landsat_cloud_free   \n",
       "176  2017_2019       NDVI_NDBI_EVI   \n",
       "177  2017_2019             Fourier   \n",
       "178  2017_2019  Landsat_cloud_free   \n",
       "179  2017_2019       NDVI_NDBI_EVI   \n",
       "\n",
       "                                                  path    region  \n",
       "0    projects/earthengine-legacy/assets/users/bthom...   dongbei  \n",
       "1    projects/earthengine-legacy/assets/users/bthom...   dongbei  \n",
       "2    projects/earthengine-legacy/assets/users/bthom...   dongbei  \n",
       "3    projects/earthengine-legacy/assets/users/ldiaz...    huabei  \n",
       "4    projects/earthengine-legacy/assets/users/ldiaz...    huabei  \n",
       "..                                                 ...       ...  \n",
       "175  projects/earthengine-legacy/assets/users/saji/...     xinan  \n",
       "176  projects/earthengine-legacy/assets/users/saji/...     xinan  \n",
       "177  projects/earthengine-legacy/assets/users/fhane...  zhongnan  \n",
       "178  projects/earthengine-legacy/assets/users/fhane...  zhongnan  \n",
       "179  projects/earthengine-legacy/assets/users/fhane...  zhongnan  \n",
       "\n",
       "[180 rows x 4 columns]"
      ]
     },
     "execution_count": 7,
     "metadata": {},
     "output_type": "execute_result"
    }
   ],
   "source": [
    "# read all asset_df into a list\n",
    "asset_files = glob('./gee_asset_china/*')\n",
    "asset_list = [pd.read_csv(f) for f in asset_files]\n",
    "\n",
    "# concate all asset_df into one df\n",
    "asset_df = pd.concat(asset_list).sort_values(['year','region']).reset_index(drop=True)\n",
    "\n",
    "asset_df"
   ]
  },
  {
   "cell_type": "code",
   "execution_count": null,
   "id": "b7383dd3",
   "metadata": {},
   "outputs": [],
   "source": []
  },
  {
   "cell_type": "code",
   "execution_count": 8,
   "id": "c79ceb74",
   "metadata": {},
   "outputs": [],
   "source": [
    "# read the region_China ship\n",
    "boundary_shp = gpd.read_file('../Process_1_Research_area_Zoning/Data_Boundary_SHP/geography_zone/qu-sheng.shp',encoding='GBK')\n",
    "boundary_shp_prj = boundary_shp.to_crs('EPSG:4326')"
   ]
  },
  {
   "cell_type": "code",
   "execution_count": null,
   "id": "68fef89e",
   "metadata": {},
   "outputs": [],
   "source": []
  },
  {
   "cell_type": "code",
   "execution_count": 9,
   "id": "cb2f03da",
   "metadata": {},
   "outputs": [
    {
     "data": {
      "text/plain": [
       "<Axes: >"
      ]
     },
     "execution_count": 9,
     "metadata": {},
     "output_type": "execute_result"
    },
    {
     "data": {
      "image/png": "[encoded data removed]",
      "text/plain": [
       "<Figure size 640x480 with 1 Axes>"
      ]
     },
     "metadata": {},
     "output_type": "display_data"
    }
   ],
   "source": [
    "boundary_shp_prj.plot(column='NAME1')"
   ]
  },
  {
   "cell_type": "code",
   "execution_count": null,
   "id": "2a116184",
   "metadata": {},
   "outputs": [],
   "source": []
  },
  {
   "cell_type": "code",
   "execution_count": null,
   "id": "183405c1",
   "metadata": {},
   "outputs": [],
   "source": []
  },
  {
   "cell_type": "markdown",
   "id": "ddca2759",
   "metadata": {},
   "source": [
    "### filter data and get img_meta"
   ]
  },
  {
   "cell_type": "code",
   "execution_count": null,
   "id": "d18a35ea",
   "metadata": {},
   "outputs": [],
   "source": []
  },
  {
   "cell_type": "code",
   "execution_count": null,
   "id": "8c9722f6",
   "metadata": {},
   "outputs": [],
   "source": []
  },
  {
   "cell_type": "code",
   "execution_count": 85,
   "id": "160a0f4b-328c-4fc4-b8a7-dca728d2f84a",
   "metadata": {},
   "outputs": [],
   "source": [
    "\n",
    "\n",
    "# define the filter boundary\n",
    "one_boundary = boundary_shp_prj >> mask(X.NAME1 == '东北')\n",
    "one_boundary = unary_union(one_boundary['geometry'])"
   ]
  },
  {
   "cell_type": "code",
   "execution_count": null,
   "id": "1fed641e",
   "metadata": {},
   "outputs": [],
   "source": []
  },
  {
   "cell_type": "code",
   "execution_count": null,
   "id": "7a817db6-6623-47e7-8969-e4d696dab396",
   "metadata": {},
   "outputs": [],
   "source": []
  },
  {
   "cell_type": "code",
   "execution_count": 9,
   "id": "33bceeee-0ba7-4535-b496-fbd756bb9539",
   "metadata": {
    "tags": []
   },
   "outputs": [],
   "source": [
    "# function to get all bands datatype\n",
    "def get_datatype(img_info):\n",
    "    band_type = {band['id']:band['data_type']  for band in img_info['bands']}\n",
    "\n",
    "    band_data_type = {}\n",
    "    for k,v in band_type.items():\n",
    "\n",
    "        if 'int' in v['precision']:\n",
    "            data_range = v['max'] - v['min'] + 1\n",
    "            data_bits = math.log2(data_range)\n",
    "            \n",
    "            band_data_type[k] = f'int{int(data_bits)}'\n",
    "        elif 'float' in v['precision']:\n",
    "            band_data_type[k] = 'float16'\n",
    "        else:\n",
    "            band_data_type[k] = 'double64'\n",
    "    return band_data_type"
   ]
  },
  {
   "cell_type": "code",
   "execution_count": null,
   "id": "4d41264a-3217-4d9d-af9f-97f72dd7c355",
   "metadata": {},
   "outputs": [],
   "source": []
  },
  {
   "cell_type": "code",
   "execution_count": null,
   "id": "ebbbd371",
   "metadata": {},
   "outputs": [],
   "source": []
  },
  {
   "cell_type": "code",
   "execution_count": 24,
   "id": "1e66cb20-81d6-4c59-bca9-60bd47219b94",
   "metadata": {},
   "outputs": [],
   "source": [
    "def max_exp_2_size(img_dtypes,max_download_size = 32*1024*1024):\n",
    "    # compute the per-pixel data size\n",
    "    digit_reg = re.compile('(\\d+)')\n",
    "    size_per_pixel = np.array([int(digit_reg.findall(i)[0])/8 for i in img_dtypes.values()]).sum()\n",
    "\n",
    "    # compute the maximum dimension for downloading\n",
    "    max_pix_num = max_download_size/size_per_pixel\n",
    "    max_dim = math.sqrt(max_pix_num)\n",
    "\n",
    "    # shring the max_dim to the nearst number that is less than and also close to 2**n\n",
    "    exp_2 = math.floor(math.log2(max_dim))\n",
    "    max_dim_exp_2 = 2**exp_2\n",
    "\n",
    "    # remember the doownloanding dimension should be less than 10,000\n",
    "    max_dim_exp_2 = min(max_dim_exp_2,10000)\n",
    "\n",
    "    print(f'{max_dim:.2f} --> {max_dim_exp_2}')\n",
    "    return max_dim_exp_2"
   ]
  },
  {
   "cell_type": "code",
   "execution_count": null,
   "id": "7dab2e66-6711-489b-b756-aecf6afefc77",
   "metadata": {},
   "outputs": [],
   "source": []
  },
  {
   "cell_type": "code",
   "execution_count": 25,
   "id": "4f1df6c8-7775-4eeb-8a7f-a6dc94e3c741",
   "metadata": {},
   "outputs": [],
   "source": [
    "def get_img_geo_meta(one_img):\n",
    "    # get img_size\n",
    "    img_size = one_img.select(list(img_dtypes.keys())[0]).getInfo()['bands'][0]['dimensions']\n",
    "    img_names = one_img.bandNames().getInfo()\n",
    "    \n",
    "    # get geo transformation\n",
    "    img_proj = one_img.select(img_names[0]).projection().getInfo()\n",
    "    img_trans = img_proj['transform']\n",
    "    img_crs = img_proj['crs']\n",
    "    img_scale = one_img.select(img_names[0]).projection().nominalScale().getInfo()\n",
    "    \n",
    "    return {'img_size':img_size,'img_trans':img_trans,'img_crs':img_crs,'img_scale':img_scale}"
   ]
  },
  {
   "cell_type": "code",
   "execution_count": null,
   "id": "1eca7aaa-bb6d-4049-9564-471759d02746",
   "metadata": {},
   "outputs": [],
   "source": []
  },
  {
   "cell_type": "code",
   "execution_count": null,
   "id": "c25a1794-002e-48ac-a814-7eaa1d3aa7f9",
   "metadata": {},
   "outputs": [],
   "source": []
  },
  {
   "cell_type": "markdown",
   "id": "cfc5c9e9-ecd6-4607-a478-6c88459ac957",
   "metadata": {},
   "source": [
    "### split the img into tiles"
   ]
  },
  {
   "cell_type": "code",
   "execution_count": null,
   "id": "b858f912-bdb1-44b3-bbb8-8b158e152d17",
   "metadata": {},
   "outputs": [],
   "source": []
  },
  {
   "cell_type": "code",
   "execution_count": 28,
   "id": "9b1f499c-2c10-4d2f-b165-378dfe0fdac5",
   "metadata": {},
   "outputs": [],
   "source": [
    "def split_img_matrix(img_size,max_dim_exp_2):\n",
    "    # get the starting point for slicing \n",
    "    row_start = list(range(0,img_size[0]+1,max_dim_exp_2))\n",
    "    col_start = list(range(0,img_size[1]+1,max_dim_exp_2))\n",
    "\n",
    "    # judge if remnants are left\n",
    "    row_remnant = img_size[0]%max_dim_exp_2\n",
    "    col_remnant = img_size[1]%max_dim_exp_2\n",
    "    \n",
    "    # create starting point (top-left) for tiles\n",
    "    idx_start = list(product(row_start,col_start))\n",
    "    idx_df = pd.DataFrame(idx_start)\n",
    "    idx_df.columns = ['row','col']\n",
    "\n",
    "    # by default, the col/row step should be max_dim_exp_2\n",
    "    idx_df[['row_step','col_step']] = max_dim_exp_2\n",
    "    \n",
    "    # judge the last step should be modified because of row/col remnant\n",
    "    if row_remnant != 0:\n",
    "        idx_df.loc[idx_df['row']==row_start[-1],['row_step']] = row_remnant\n",
    "    else:\n",
    "        idx_df = idx_df[idx_df['row']!=row_start[-1]] \n",
    "\n",
    "\n",
    "    if col_remnant != 0:\n",
    "        idx_df.loc[idx_df['col']==col_start[-1],['col_step']] = col_remnant\n",
    "    else:\n",
    "        idx_df = idx_df[idx_df['col']!=col_start[-1]] \n",
    "        \n",
    "    return idx_df"
   ]
  },
  {
   "cell_type": "code",
   "execution_count": null,
   "id": "79ebe1d5-0563-4b0f-9922-e683c02cc101",
   "metadata": {},
   "outputs": [],
   "source": []
  },
  {
   "cell_type": "code",
   "execution_count": 29,
   "id": "93b0a670-21ba-418a-b262-bdc292a18142",
   "metadata": {},
   "outputs": [],
   "source": [
    "# function to convert row/col into bbox\n",
    "def rol_col_bbox(row,transform):\n",
    "    \n",
    "    affine = rasterio.Affine(*transform)\n",
    "    \n",
    "    # create boxs\n",
    "    xmin = row['col']\n",
    "    ymin = row['row'] + row['row_step']\n",
    "    xmax = row['col'] + row['col_step']\n",
    "    ymax = row['row']\n",
    "    \n",
    "    # transform idx to coordinates, then making it a bbox\n",
    "    bbox = [affine * (xmin, ymin), affine * (xmax, ymax)]\n",
    "     \n",
    "    return box(*bbox[0],*bbox[1])"
   ]
  },
  {
   "cell_type": "code",
   "execution_count": null,
   "id": "93f5c041-8a6b-4cb3-bd09-ea9642d54a0f",
   "metadata": {},
   "outputs": [],
   "source": []
  },
  {
   "cell_type": "code",
   "execution_count": null,
   "id": "57111f02-bb57-40d5-975e-1fff1bca59ae",
   "metadata": {},
   "outputs": [],
   "source": []
  },
  {
   "cell_type": "code",
   "execution_count": 72,
   "id": "716924ea-330c-460c-bd6f-10e46b71b400",
   "metadata": {},
   "outputs": [],
   "source": [
    "# get the index for spliting ee.img into tiles\n",
    "def get_split_tiles(geo_meta,boundary_shp=None):\n",
    "    idx_df = split_img_matrix(geo_meta['img_size'],max_dim_exp_2)\n",
    "    idx_df['bbox'] = idx_df.apply(lambda row:rol_col_bbox(row,img_geo_meta['img_trans']),1)\n",
    "\n",
    "    idx_gdf = gpd.GeoDataFrame(idx_df)\n",
    "    idx_gdf = idx_gdf.set_geometry('bbox')\n",
    "    idx_gdf = idx_gdf.set_crs(img_geo_meta['img_crs'])\n",
    "    \n",
    "    if boundary_shp:\n",
    "        print('Filtering bboxes!')\n",
    "        intersect_check = []\n",
    "        for bbox in tqdm(idx_gdf['bbox']):\n",
    "            intersect_check.append(bbox.intersects(boundary_shp)) \n",
    "            \n",
    "        idx_gdf = idx_gdf[intersect_check]\n",
    "    \n",
    "    return idx_gdf"
   ]
  },
  {
   "cell_type": "code",
   "execution_count": null,
   "id": "4beeb672-f116-4d81-981d-01d5f9b486e6",
   "metadata": {},
   "outputs": [],
   "source": []
  },
  {
   "cell_type": "code",
   "execution_count": null,
   "id": "029a6e9c",
   "metadata": {},
   "outputs": [],
   "source": []
  },
  {
   "cell_type": "markdown",
   "id": "a0a99796-20cd-4cc6-b5b9-5cf2e2e92bc2",
   "metadata": {},
   "source": [
    "### Download"
   ]
  },
  {
   "cell_type": "code",
   "execution_count": 74,
   "id": "f254f8f0-21da-41ba-9f5f-cdb73a3e97c6",
   "metadata": {},
   "outputs": [],
   "source": [
    "# create a session that retries connecting automatically\n",
    "def requests_retry_session(\n",
    "    retries=3,\n",
    "    backoff_factor=0.3,\n",
    "    status_forcelist=(500, 502, 504),\n",
    "    session=None,\n",
    "):\n",
    "    session = session or requests.Session()\n",
    "    retry = Retry(\n",
    "        total=retries,\n",
    "        read=retries,\n",
    "        connect=retries,\n",
    "        backoff_factor=backoff_factor,\n",
    "        status_forcelist=status_forcelist,\n",
    "    )\n",
    "    adapter = HTTPAdapter(max_retries=retry)\n",
    "    session.mount('http://', adapter)\n",
    "    session.mount('https://', adapter)\n",
    "    return session"
   ]
  },
  {
   "cell_type": "code",
   "execution_count": null,
   "id": "d2866c10-54df-47ef-85c5-dad729ae0295",
   "metadata": {},
   "outputs": [],
   "source": []
  },
  {
   "cell_type": "code",
   "execution_count": null,
   "id": "2e5a3106-4a3b-4c74-9c79-7607b4a0749e",
   "metadata": {},
   "outputs": [],
   "source": []
  },
  {
   "cell_type": "code",
   "execution_count": 181,
   "id": "9154cdf8-3362-4158-9e26-e448f13e0551",
   "metadata": {
    "tags": []
   },
   "outputs": [],
   "source": [
    "# function to download the img\n",
    "def single_download(row,geo_meta,save_path,img_prefix,data_format='GEO_TIFF'):\n",
    "\n",
    "    # shriking the box to avoide exceed row/col\n",
    "    geometry = row['bbox']\n",
    "    shrink = -geo_meta['img_trans'][0]*0.1\n",
    "    geometry = geometry.buffer(shrink)\n",
    "\n",
    "    # geometry to feature\n",
    "    bbox_feature = geojson.Feature(geometry=geometry)\n",
    "    bbox_feature_ee = ee.Feature(bbox_feature)\n",
    "    \n",
    "    # get download url\n",
    "    url = one_img.clip(bbox_feature_ee.geometry()).getDownloadUrl(dict(scale=geo_meta['img_scale'],\n",
    "                                                                   region=bbox_feature_ee.geometry(),\n",
    "                                                                  format=data_format))\n",
    "    \n",
    "    # download\n",
    "    sess = requests_retry_session()\n",
    "    response = sess.get(url) \n",
    "    \n",
    "    # save to disk\n",
    "    name = f\"img_{img_prefix}_{row['row']:0>8}_{row['col']:0>8}\"\n",
    "    \n",
    "    # success --> write contents to disk\n",
    "    if  response.status_code == 200:\n",
    "        with open(f\"{save_path}/{name}.tif\", \"wb\") as f:\n",
    "            f.write(response.content)\n",
    "    # failed --> print and write filed downloading to log\n",
    "    else:\n",
    "        with open(f\"{save_path}/log.csv\", \"a\") as log:\n",
    "            log.write(f\"{name}\\n\")\n",
    "        print(f\"{name} download failed!\")"
   ]
  },
  {
   "cell_type": "code",
   "execution_count": null,
   "id": "f41ec827-3edc-4d70-9e60-e056bf9d8e8b",
   "metadata": {},
   "outputs": [],
   "source": []
  },
  {
   "cell_type": "code",
   "execution_count": null,
   "id": "a17fc64c-76cd-48bc-a63c-1a4790474e9a",
   "metadata": {},
   "outputs": [],
   "source": []
  },
  {
   "cell_type": "code",
   "execution_count": 14,
   "id": "b738f313",
   "metadata": {},
   "outputs": [],
   "source": [
    "def download(download_gdf,path,img_prefix,n_workers=10):\n",
    "    with ThreadPoolExecutor(n_workers) as executor:\n",
    "        total_items = len(download_gdf)\n",
    "        \n",
    "        # create a tqdm bar\n",
    "        pbar = tqdm(total=total_items,unit='tile')\n",
    "        \n",
    "        # submit tasks to the executor\n",
    "        futures = [executor.submit(single_download,row,img_geo_meta,path,img_prefix)\n",
    "                      for _,row in download_gdf.iterrows()]\n",
    "        \n",
    "        # iterate over completed tasks and update the pbar\n",
    "        for future in concurrent.futures.as_completed(futures):\n",
    "            pbar.update(1)\n",
    "            \n",
    "        pbar.close()"
   ]
  },
  {
   "cell_type": "code",
   "execution_count": null,
   "id": "511f770e",
   "metadata": {},
   "outputs": [],
   "source": []
  },
  {
   "cell_type": "code",
   "execution_count": 183,
   "id": "c0560c23",
   "metadata": {},
   "outputs": [
    {
     "data": {
      "application/vnd.jupyter.widget-view+json": {
       "model_id": "ace0517e368f4d09a2fa674e686d52e3",
       "version_major": 2,
       "version_minor": 0
      },
      "text/plain": [
       "  0%|          | 0/5131 [00:00<?, ?tile/s]"
      ]
     },
     "metadata": {},
     "output_type": "display_data"
    },
    {
     "name": "stdout",
     "output_type": "stream",
     "text": [
      "img_2017_2019_Fourier_dongbei_00002560_00026112 download failed!\n",
      "img_2017_2019_Fourier_dongbei_00026624_00032256 download failed!\n"
     ]
    }
   ],
   "source": [
    "\n",
    "\n",
    "# get the img of Dongbei\n",
    "one_img = ee.Image(row['path'])\n",
    "one_img_prefix = f\"{row['year']}_{row['type']}_{row['region']}\"\n",
    "\n",
    "# get all band infos\n",
    "img_dtypes = get_datatype(one_img.getInfo())\n",
    "img_geo_meta = get_img_geo_meta(one_img)\n",
    "max_dim_exp_2 = max_exp_2_size(img_dtypes)\n",
    "\n",
    "# create geopandas that stores the bbox for tile-downloading\n",
    "idx_gdf = get_split_tiles(img_geo_meta,one_boundary)\n",
    "\n",
    "# start to download\n",
    "path = r'\\\\10.147.19.145\\ShareFiles\\HDD\\Time_Series_imgs'\n",
    "download(idx_gdf,path,one_img_prefix)"
   ]
  },
  {
   "cell_type": "code",
   "execution_count": null,
   "id": "13d0ec0b",
   "metadata": {},
   "outputs": [],
   "source": []
  },
  {
   "cell_type": "code",
   "execution_count": null,
   "id": "de716e57",
   "metadata": {},
   "outputs": [],
   "source": []
  },
  {
   "cell_type": "code",
   "execution_count": null,
   "id": "a842b959",
   "metadata": {},
   "outputs": [],
   "source": []
  },
  {
   "cell_type": "code",
   "execution_count": null,
   "id": "d982c266",
   "metadata": {},
   "outputs": [],
   "source": []
  },
  {
   "cell_type": "code",
   "execution_count": null,
   "id": "407bffa8-d1f1-4121-bf3c-2f6d331eef7a",
   "metadata": {},
   "outputs": [],
   "source": []
  },
  {
   "cell_type": "code",
   "execution_count": null,
   "id": "1eddc1df-0267-49a2-a94f-46d28bb9eaab",
   "metadata": {},
   "outputs": [],
   "source": []
  },
  {
   "cell_type": "code",
   "execution_count": null,
   "id": "05b59526-6553-46f0-a739-c34746d0f49d",
   "metadata": {},
   "outputs": [],
   "source": []
  },
  {
   "cell_type": "code",
   "execution_count": null,
   "id": "c2a77054",
   "metadata": {},
   "outputs": [],
   "source": []
  },
  {
   "cell_type": "code",
   "execution_count": null,
   "id": "4704f914",
   "metadata": {},
   "outputs": [],
   "source": []
  },
  {
   "cell_type": "code",
   "execution_count": null,
   "id": "30d2bf64",
   "metadata": {},
   "outputs": [],
   "source": []
  }
 ],
 "metadata": {
  "kernelspec": {
   "display_name": "Python 3 (ipykernel)",
   "language": "python",
   "name": "python3"
  },
  "language_info": {
   "codemirror_mode": {
    "name": "ipython",
    "version": 3
   },
   "file_extension": ".py",
   "mimetype": "text/x-python",
   "name": "python",
   "nbconvert_exporter": "python",
   "pygments_lexer": "ipython3",
   "version": "3.10.9"
  }
 },
 "nbformat": 4,
 "nbformat_minor": 5
}
