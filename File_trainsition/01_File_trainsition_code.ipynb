{
 "cells": [
  {
   "cell_type": "code",
   "execution_count": 1,
   "metadata": {},
   "outputs": [],
   "source": [
    "import ee"
   ]
  },
  {
   "cell_type": "code",
   "execution_count": 2,
   "metadata": {},
   "outputs": [],
   "source": [
    "ee.Initialize()"
   ]
  },
  {
   "cell_type": "code",
   "execution_count": null,
   "metadata": {},
   "outputs": [],
   "source": []
  },
  {
   "cell_type": "markdown",
   "metadata": {},
   "source": [
    "#####  Construct the year_ranges"
   ]
  },
  {
   "cell_type": "code",
   "execution_count": 9,
   "metadata": {},
   "outputs": [
    {
     "data": {
      "text/plain": [
       "['1990_1992',\n",
       " '1993_1995',\n",
       " '1996_1998',\n",
       " '1999_2001',\n",
       " '2002_2004',\n",
       " '2005_2007',\n",
       " '2008_2010',\n",
       " '2011_2013',\n",
       " '2014_2016',\n",
       " '2017_2019']"
      ]
     },
     "execution_count": 9,
     "metadata": {},
     "output_type": "execute_result"
    }
   ],
   "source": [
    "# Define the time-range\n",
    "# just get one_range from every different sensors\n",
    "year_range = [(f'{i}_{i+2}') for i in range(1990,2020,3)]\n",
    "\n",
    "year_range"
   ]
  },
  {
   "cell_type": "code",
   "execution_count": null,
   "metadata": {},
   "outputs": [],
   "source": []
  },
  {
   "cell_type": "code",
   "execution_count": 4,
   "metadata": {},
   "outputs": [],
   "source": [
    "Target_area_cn = '华东'\n",
    "Target_area_en = 'huadong'"
   ]
  },
  {
   "cell_type": "code",
   "execution_count": null,
   "metadata": {},
   "outputs": [],
   "source": []
  },
  {
   "cell_type": "markdown",
   "metadata": {},
   "source": [
    "##### Define the files from ee_path"
   ]
  },
  {
   "cell_type": "code",
   "execution_count": 5,
   "metadata": {},
   "outputs": [],
   "source": [
    "# fetch the Fourier imgs \n",
    "Fourier_path_huadong = 'users/wensomone666/China_built_up/01_Data_preparation/01_Fourier_img/Fourier'\n",
    "Fourier_img =  [ee.Image(f'{Fourier_path_huadong}_{year}').setMulti(['year',year,'Type','Fourier']) for year in year_range]"
   ]
  },
  {
   "cell_type": "code",
   "execution_count": null,
   "metadata": {},
   "outputs": [],
   "source": []
  },
  {
   "cell_type": "code",
   "execution_count": 6,
   "metadata": {},
   "outputs": [],
   "source": [
    "# fetch the Landsat imgs\n",
    "Landsat_path_huadong = 'users/wensomone666/China_built_up/01_Data_preparation/02_Landsat_cloud_free_img/Landsat_cloud_free'\n",
    "Landsat_img =  [ee.Image(f'{Landsat_path_huadong}_{year}').setMulti(['year',year,'Type','Landsat'])  for year in year_range]"
   ]
  },
  {
   "cell_type": "code",
   "execution_count": null,
   "metadata": {},
   "outputs": [],
   "source": []
  },
  {
   "cell_type": "code",
   "execution_count": 7,
   "metadata": {},
   "outputs": [],
   "source": [
    "# fetch the Normalized imgs\n",
    "Normalized_path_huadong = 'users/Built_up_china/Built_up_mapping/01_Data_preparation/03_Normalized_img/NDVI_NDBI_EVI'\n",
    "Normalized_img =  [ee.Image(f'{Normalized_path_huadong}_{year}').setMulti(['year',year,'Type','Normalized'])  for year in year_range]"
   ]
  },
  {
   "cell_type": "code",
   "execution_count": null,
   "metadata": {},
   "outputs": [],
   "source": []
  },
  {
   "cell_type": "code",
   "execution_count": 8,
   "metadata": {},
   "outputs": [],
   "source": [
    "# combine all img together\n",
    "All_imgs  = Fourier_img + Landsat_img + Normalized_img"
   ]
  },
  {
   "cell_type": "code",
   "execution_count": null,
   "metadata": {},
   "outputs": [],
   "source": []
  },
  {
   "cell_type": "code",
   "execution_count": null,
   "metadata": {},
   "outputs": [],
   "source": []
  },
  {
   "cell_type": "markdown",
   "metadata": {},
   "source": [
    "##### Export the img"
   ]
  },
  {
   "cell_type": "code",
   "execution_count": 75,
   "metadata": {},
   "outputs": [
    {
     "name": "stdout",
     "output_type": "stream",
     "text": [
      "Export Normalized_1990_1992_huadong!\n"
     ]
    }
   ],
   "source": [
    "for img in Normalized_img:\n",
    "    \n",
    "    # cast img to ee.Image\n",
    "    img = ee.Image(img)\n",
    "    \n",
    "    # get the metedata of the img\n",
    "    year = img.get('year').getInfo()\n",
    "    Type = img.get('Type').getInfo()\n",
    "    \n",
    "    # construct the name for export\n",
    "    name = f'{Type}_{year}_{Target_area_en}'\n",
    "\n",
    "       \n",
    "    # imprt North_China_Plain boundary\n",
    "    Target_area = ee.FeatureCollection(\"users/wangjinzhulala/China_built_up/01_Boundary_shp/China_zone\")\\\n",
    "                    .filterMetadata('NAME1','equals',Target_area_cn)\n",
    "\n",
    "    # crate the export task\n",
    "    task = ee.batch.Export.image.toCloudStorage(\n",
    "        image = img,\n",
    "        description=name,\n",
    "        bucket='north_china_plain',\n",
    "        fileNamePrefix=name,\n",
    "        region=Target_area.geometry(),\n",
    "        scale=30,\n",
    "        maxPixels=int(1e13),\n",
    "        skipEmptyTiles=True)\n",
    "\n",
    "    task.start()\n",
    "\n",
    "    # print out the process\n",
    "    print(f'Export {name}!')"
   ]
  },
  {
   "cell_type": "code",
   "execution_count": null,
   "metadata": {},
   "outputs": [],
   "source": []
  },
  {
   "cell_type": "code",
   "execution_count": null,
   "metadata": {},
   "outputs": [],
   "source": []
  },
  {
   "cell_type": "code",
   "execution_count": null,
   "metadata": {},
   "outputs": [],
   "source": []
  },
  {
   "cell_type": "code",
   "execution_count": null,
   "metadata": {},
   "outputs": [],
   "source": []
  },
  {
   "cell_type": "code",
   "execution_count": null,
   "metadata": {},
   "outputs": [],
   "source": []
  },
  {
   "cell_type": "code",
   "execution_count": null,
   "metadata": {},
   "outputs": [],
   "source": []
  },
  {
   "cell_type": "code",
   "execution_count": null,
   "metadata": {},
   "outputs": [],
   "source": []
  },
  {
   "cell_type": "code",
   "execution_count": null,
   "metadata": {},
   "outputs": [],
   "source": []
  }
 ],
 "metadata": {
  "kernelspec": {
   "display_name": "Python 3",
   "language": "python",
   "name": "python3"
  },
  "language_info": {
   "codemirror_mode": {
    "name": "ipython",
    "version": 3
   },
   "file_extension": ".py",
   "mimetype": "text/x-python",
   "name": "python",
   "nbconvert_exporter": "python",
   "pygments_lexer": "ipython3",
   "version": "3.7.3"
  }
 },
 "nbformat": 4,
 "nbformat_minor": 2
}
