{
 "cells": [
  {
   "cell_type": "code",
   "execution_count": 1,
   "metadata": {},
   "outputs": [],
   "source": [
    "import ee\n",
    "import pandas as pd\n",
    "import geemap"
   ]
  },
  {
   "cell_type": "code",
   "execution_count": 2,
   "metadata": {},
   "outputs": [],
   "source": [
    "ee.Initialize()"
   ]
  },
  {
   "cell_type": "code",
   "execution_count": null,
   "metadata": {},
   "outputs": [],
   "source": []
  },
  {
   "cell_type": "markdown",
   "metadata": {},
   "source": [
    "### Define basic parameters"
   ]
  },
  {
   "cell_type": "code",
   "execution_count": 3,
   "metadata": {},
   "outputs": [],
   "source": [
    "# import the China_zone\n",
    "China_shp = ee.FeatureCollection(\"users/wangjinzhulala/China_built_up/01_Boundary_shp/China_zone\")"
   ]
  },
  {
   "cell_type": "code",
   "execution_count": null,
   "metadata": {},
   "outputs": [],
   "source": []
  },
  {
   "cell_type": "code",
   "execution_count": 4,
   "metadata": {},
   "outputs": [],
   "source": [
    "Target_area_cn = '东北'\n",
    "Target_area_en = 'dongbei'"
   ]
  },
  {
   "cell_type": "code",
   "execution_count": null,
   "metadata": {},
   "outputs": [],
   "source": []
  },
  {
   "cell_type": "code",
   "execution_count": 5,
   "metadata": {},
   "outputs": [],
   "source": [
    "Region = China_shp.filterMetadata('NAME1','equals',Target_area_cn)"
   ]
  },
  {
   "cell_type": "code",
   "execution_count": null,
   "metadata": {},
   "outputs": [],
   "source": []
  },
  {
   "cell_type": "code",
   "execution_count": null,
   "metadata": {},
   "outputs": [],
   "source": []
  },
  {
   "cell_type": "markdown",
   "metadata": {},
   "source": [
    "### Import all images"
   ]
  },
  {
   "cell_type": "code",
   "execution_count": 6,
   "metadata": {},
   "outputs": [],
   "source": [
    "# read all asset_df into a list\n",
    "asset_list = [pd.read_csv(f'./gee_asset_china/{str(i).zfill(2)}_path.csv') for i in range(1,22)]"
   ]
  },
  {
   "cell_type": "code",
   "execution_count": null,
   "metadata": {},
   "outputs": [],
   "source": []
  },
  {
   "cell_type": "code",
   "execution_count": 7,
   "metadata": {},
   "outputs": [],
   "source": [
    "# concate all asset_df into one df\n",
    "asset_df = pd.concat(asset_list)"
   ]
  },
  {
   "cell_type": "code",
   "execution_count": 8,
   "metadata": {},
   "outputs": [
    {
     "data": {
      "text/html": [
       "<div>\n",
       "<style scoped>\n",
       "    .dataframe tbody tr th:only-of-type {\n",
       "        vertical-align: middle;\n",
       "    }\n",
       "\n",
       "    .dataframe tbody tr th {\n",
       "        vertical-align: top;\n",
       "    }\n",
       "\n",
       "    .dataframe thead th {\n",
       "        text-align: right;\n",
       "    }\n",
       "</style>\n",
       "<table border=\"1\" class=\"dataframe\">\n",
       "  <thead>\n",
       "    <tr style=\"text-align: right;\">\n",
       "      <th></th>\n",
       "      <th>year</th>\n",
       "      <th>type</th>\n",
       "      <th>path</th>\n",
       "      <th>region</th>\n",
       "    </tr>\n",
       "  </thead>\n",
       "  <tbody>\n",
       "    <tr>\n",
       "      <th>0</th>\n",
       "      <td>1990_1992</td>\n",
       "      <td>Fourier</td>\n",
       "      <td>projects/earthengine-legacy/assets/users/Built...</td>\n",
       "      <td>huadong</td>\n",
       "    </tr>\n",
       "    <tr>\n",
       "      <th>1</th>\n",
       "      <td>1993_1995</td>\n",
       "      <td>Fourier</td>\n",
       "      <td>projects/earthengine-legacy/assets/users/Built...</td>\n",
       "      <td>huadong</td>\n",
       "    </tr>\n",
       "    <tr>\n",
       "      <th>2</th>\n",
       "      <td>1996_1998</td>\n",
       "      <td>Fourier</td>\n",
       "      <td>projects/earthengine-legacy/assets/users/Built...</td>\n",
       "      <td>huadong</td>\n",
       "    </tr>\n",
       "    <tr>\n",
       "      <th>3</th>\n",
       "      <td>1999_2001</td>\n",
       "      <td>Fourier</td>\n",
       "      <td>projects/earthengine-legacy/assets/users/Built...</td>\n",
       "      <td>huadong</td>\n",
       "    </tr>\n",
       "    <tr>\n",
       "      <th>4</th>\n",
       "      <td>2002_2004</td>\n",
       "      <td>Fourier</td>\n",
       "      <td>projects/earthengine-legacy/assets/users/Built...</td>\n",
       "      <td>huadong</td>\n",
       "    </tr>\n",
       "    <tr>\n",
       "      <th>...</th>\n",
       "      <td>...</td>\n",
       "      <td>...</td>\n",
       "      <td>...</td>\n",
       "      <td>...</td>\n",
       "    </tr>\n",
       "    <tr>\n",
       "      <th>7</th>\n",
       "      <td>2011_2013</td>\n",
       "      <td>NDVI_NDBI_EVI</td>\n",
       "      <td>projects/earthengine-legacy/assets/users/rvang...</td>\n",
       "      <td>huabei</td>\n",
       "    </tr>\n",
       "    <tr>\n",
       "      <th>8</th>\n",
       "      <td>2014_2016</td>\n",
       "      <td>NDVI_NDBI_EVI</td>\n",
       "      <td>projects/earthengine-legacy/assets/users/rvang...</td>\n",
       "      <td>huabei</td>\n",
       "    </tr>\n",
       "    <tr>\n",
       "      <th>0</th>\n",
       "      <td>2017_2019</td>\n",
       "      <td>Fourier</td>\n",
       "      <td>projects/earthengine-legacy/assets/users/nmoon...</td>\n",
       "      <td>huabei</td>\n",
       "    </tr>\n",
       "    <tr>\n",
       "      <th>1</th>\n",
       "      <td>2017_2019</td>\n",
       "      <td>Landsat_cloud_free</td>\n",
       "      <td>projects/earthengine-legacy/assets/users/nmoon...</td>\n",
       "      <td>huabei</td>\n",
       "    </tr>\n",
       "    <tr>\n",
       "      <th>2</th>\n",
       "      <td>2017_2019</td>\n",
       "      <td>NDVI_NDBI_EVI</td>\n",
       "      <td>projects/earthengine-legacy/assets/users/nmoon...</td>\n",
       "      <td>huabei</td>\n",
       "    </tr>\n",
       "  </tbody>\n",
       "</table>\n",
       "<p>180 rows × 4 columns</p>\n",
       "</div>"
      ],
      "text/plain": [
       "         year                type  \\\n",
       "0   1990_1992             Fourier   \n",
       "1   1993_1995             Fourier   \n",
       "2   1996_1998             Fourier   \n",
       "3   1999_2001             Fourier   \n",
       "4   2002_2004             Fourier   \n",
       "..        ...                 ...   \n",
       "7   2011_2013       NDVI_NDBI_EVI   \n",
       "8   2014_2016       NDVI_NDBI_EVI   \n",
       "0   2017_2019             Fourier   \n",
       "1   2017_2019  Landsat_cloud_free   \n",
       "2   2017_2019       NDVI_NDBI_EVI   \n",
       "\n",
       "                                                 path   region  \n",
       "0   projects/earthengine-legacy/assets/users/Built...  huadong  \n",
       "1   projects/earthengine-legacy/assets/users/Built...  huadong  \n",
       "2   projects/earthengine-legacy/assets/users/Built...  huadong  \n",
       "3   projects/earthengine-legacy/assets/users/Built...  huadong  \n",
       "4   projects/earthengine-legacy/assets/users/Built...  huadong  \n",
       "..                                                ...      ...  \n",
       "7   projects/earthengine-legacy/assets/users/rvang...   huabei  \n",
       "8   projects/earthengine-legacy/assets/users/rvang...   huabei  \n",
       "0   projects/earthengine-legacy/assets/users/nmoon...   huabei  \n",
       "1   projects/earthengine-legacy/assets/users/nmoon...   huabei  \n",
       "2   projects/earthengine-legacy/assets/users/nmoon...   huabei  \n",
       "\n",
       "[180 rows x 4 columns]"
      ]
     },
     "execution_count": 8,
     "metadata": {},
     "output_type": "execute_result"
    }
   ],
   "source": [
    "asset_df"
   ]
  },
  {
   "cell_type": "code",
   "execution_count": null,
   "metadata": {},
   "outputs": [],
   "source": []
  },
  {
   "cell_type": "markdown",
   "metadata": {},
   "source": [
    "### Filter the target image"
   ]
  },
  {
   "cell_type": "code",
   "execution_count": 9,
   "metadata": {},
   "outputs": [],
   "source": [
    "year = '1990_1992'"
   ]
  },
  {
   "cell_type": "code",
   "execution_count": 10,
   "metadata": {},
   "outputs": [],
   "source": [
    "landsat    = asset_df[(asset_df['type']=='Landsat_cloud_free') & (asset_df['year']==year)]\n",
    "normalized = asset_df[(asset_df['type']=='NDVI_NDBI_EVI')      & (asset_df['year']==year)]\n",
    "fourier    = asset_df[(asset_df['type']=='Fourier')            & (asset_df['year']==year)]"
   ]
  },
  {
   "cell_type": "code",
   "execution_count": null,
   "metadata": {},
   "outputs": [],
   "source": []
  },
  {
   "cell_type": "code",
   "execution_count": 11,
   "metadata": {},
   "outputs": [],
   "source": [
    "Fourier_VIS = {\"opacity\":1,\"bands\":[\"NDBI_cos_1\",\"EVI_sin_2\",\"NDVI_sin_2\"],\"min\":-106,\"max\":158,\"gamma\":1}"
   ]
  },
  {
   "cell_type": "code",
   "execution_count": null,
   "metadata": {},
   "outputs": [],
   "source": []
  },
  {
   "cell_type": "code",
   "execution_count": 12,
   "metadata": {},
   "outputs": [],
   "source": [
    "landsat_img = ee.ImageCollection([ee.Image(i) for i in landsat['path']]).mosaic().clip(Region)\n",
    "normalized_img = ee.ImageCollection([ee.Image(i) for i in normalized['path']]).mosaic().clip(Region)\n",
    "fourier_img = ee.ImageCollection([ee.Image(i) for i in fourier['path']]).mosaic().clip(Region)"
   ]
  },
  {
   "cell_type": "code",
   "execution_count": null,
   "metadata": {},
   "outputs": [],
   "source": []
  },
  {
   "cell_type": "code",
   "execution_count": 13,
   "metadata": {},
   "outputs": [
    {
     "data": {
      "text/plain": [
       "['NDVI', 'NDBI', 'EVI']"
      ]
     },
     "execution_count": 13,
     "metadata": {},
     "output_type": "execute_result"
    }
   ],
   "source": [
    "normalized_img.bandNames().getInfo()"
   ]
  },
  {
   "cell_type": "code",
   "execution_count": null,
   "metadata": {},
   "outputs": [],
   "source": []
  },
  {
   "cell_type": "code",
   "execution_count": 14,
   "metadata": {},
   "outputs": [
    {
     "data": {
      "application/vnd.jupyter.widget-view+json": {
       "model_id": "29ea29f30a0d4425b5afcfcc8d360126",
       "version_major": 2,
       "version_minor": 0
      },
      "text/plain": [
       "Map(center=[33.65, 107.19], controls=(WidgetControl(options=['position', 'transparent_bg'], widget=HBox(childr…"
      ]
     },
     "metadata": {},
     "output_type": "display_data"
    }
   ],
   "source": [
    "Map = geemap.Map()\n",
    "\n",
    "Map.add_basemap('HYBRID')\n",
    "Map.setCenter(107.19, 33.65,5)\n",
    "\n",
    "Map.addLayer(landsat_img,   {'bands':['B4','B3','B5'],'min':0,'max':90},'landsat_img')\n",
    "Map.addLayer(normalized_img,{'min':-15,'max':30},'normalized_img')\n",
    "Map.addLayer(fourier_img,    Fourier_VIS,'fourier_img')\n",
    "\n",
    "Map"
   ]
  },
  {
   "cell_type": "code",
   "execution_count": null,
   "metadata": {},
   "outputs": [],
   "source": []
  },
  {
   "cell_type": "code",
   "execution_count": null,
   "metadata": {},
   "outputs": [],
   "source": []
  },
  {
   "cell_type": "code",
   "execution_count": null,
   "metadata": {},
   "outputs": [],
   "source": []
  },
  {
   "cell_type": "code",
   "execution_count": 15,
   "metadata": {},
   "outputs": [],
   "source": [
    "# crate the export task\n",
    "task = ee.batch.Export.image.toCloudStorage(\n",
    "    image = normalized_img,\n",
    "    description=f'normalized_img_{year}_{Target_area_en}',\n",
    "    bucket='north_china_plain',\n",
    "    fileNamePrefix=f'China_Built/normalized_img_{year}_{Target_area_en}',\n",
    "    region=Region.geometry(),\n",
    "    scale=30,\n",
    "    maxPixels=int(1e13),\n",
    "    skipEmptyTiles=True)\n",
    "\n",
    "task.start()"
   ]
  },
  {
   "cell_type": "code",
   "execution_count": null,
   "metadata": {},
   "outputs": [],
   "source": []
  },
  {
   "cell_type": "code",
   "execution_count": null,
   "metadata": {},
   "outputs": [],
   "source": []
  },
  {
   "cell_type": "code",
   "execution_count": null,
   "metadata": {},
   "outputs": [],
   "source": []
  },
  {
   "cell_type": "code",
   "execution_count": null,
   "metadata": {},
   "outputs": [],
   "source": []
  },
  {
   "cell_type": "code",
   "execution_count": null,
   "metadata": {},
   "outputs": [],
   "source": []
  },
  {
   "cell_type": "code",
   "execution_count": null,
   "metadata": {},
   "outputs": [],
   "source": []
  },
  {
   "cell_type": "code",
   "execution_count": null,
   "metadata": {},
   "outputs": [],
   "source": []
  },
  {
   "cell_type": "code",
   "execution_count": null,
   "metadata": {},
   "outputs": [],
   "source": []
  },
  {
   "cell_type": "code",
   "execution_count": null,
   "metadata": {},
   "outputs": [],
   "source": []
  }
 ],
 "metadata": {
  "kernelspec": {
   "display_name": "Python 3 (ipykernel)",
   "language": "python",
   "name": "python3"
  },
  "language_info": {
   "codemirror_mode": {
    "name": "ipython",
    "version": 3
   },
   "file_extension": ".py",
   "mimetype": "text/x-python",
   "name": "python",
   "nbconvert_exporter": "python",
   "pygments_lexer": "ipython3",
   "version": "3.10.9"
  }
 },
 "nbformat": 4,
 "nbformat_minor": 2
}
