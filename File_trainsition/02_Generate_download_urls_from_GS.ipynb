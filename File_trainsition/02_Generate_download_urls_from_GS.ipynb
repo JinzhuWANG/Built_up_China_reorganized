{
 "cells": [
  {
   "cell_type": "code",
   "execution_count": 1,
   "metadata": {},
   "outputs": [],
   "source": [
    "import subprocess"
   ]
  },
  {
   "cell_type": "code",
   "execution_count": null,
   "metadata": {},
   "outputs": [],
   "source": []
  },
  {
   "cell_type": "code",
   "execution_count": 2,
   "metadata": {},
   "outputs": [],
   "source": [
    "# need install Google-SDK first\n",
    "imgs = subprocess.run('gsutil ls gs://north_china_plain/', shell=True, check=True,capture_output=True).stdout"
   ]
  },
  {
   "cell_type": "code",
   "execution_count": 3,
   "metadata": {},
   "outputs": [],
   "source": [
    "# conver byte to string\n",
    "img_path = [s for s in imgs.decode('UTF-8').split('\\r\\n') if 'tif' in s]"
   ]
  },
  {
   "cell_type": "code",
   "execution_count": 4,
   "metadata": {},
   "outputs": [],
   "source": [
    "# get the url\n",
    "img_urls = [s.replace('gs://','https://storage.googleapis.com/') for s in img_path ]"
   ]
  },
  {
   "cell_type": "code",
   "execution_count": null,
   "metadata": {},
   "outputs": [],
   "source": []
  },
  {
   "cell_type": "code",
   "execution_count": 5,
   "metadata": {},
   "outputs": [
    {
     "data": {
      "text/plain": [
       "['https://storage.googleapis.com/north_china_plain/Normalized_1990_1992_dongbei0000000000-0000000000.tif',\n",
       " 'https://storage.googleapis.com/north_china_plain/Normalized_1990_1992_dongbei0000000000-0000026880.tif',\n",
       " 'https://storage.googleapis.com/north_china_plain/Normalized_1990_1992_dongbei0000000000-0000053760.tif',\n",
       " 'https://storage.googleapis.com/north_china_plain/Normalized_1990_1992_dongbei0000026880-0000000000.tif',\n",
       " 'https://storage.googleapis.com/north_china_plain/Normalized_1990_1992_dongbei0000026880-0000026880.tif',\n",
       " 'https://storage.googleapis.com/north_china_plain/Normalized_1990_1992_dongbei0000026880-0000053760.tif',\n",
       " 'https://storage.googleapis.com/north_china_plain/Normalized_1990_1992_dongbei0000053760-0000000000.tif',\n",
       " 'https://storage.googleapis.com/north_china_plain/Normalized_1990_1992_dongbei0000053760-0000026880.tif',\n",
       " 'https://storage.googleapis.com/north_china_plain/Normalized_1990_1992_dongbei0000053760-0000053760.tif',\n",
       " 'https://storage.googleapis.com/north_china_plain/Normalized_1990_1992_huabei0000000000-0000000000.tif',\n",
       " 'https://storage.googleapis.com/north_china_plain/Normalized_1990_1992_huabei0000000000-0000026880.tif',\n",
       " 'https://storage.googleapis.com/north_china_plain/Normalized_1990_1992_huabei0000000000-0000053760.tif',\n",
       " 'https://storage.googleapis.com/north_china_plain/Normalized_1990_1992_huabei0000000000-0000080640.tif',\n",
       " 'https://storage.googleapis.com/north_china_plain/Normalized_1990_1992_huabei0000026880-0000000000.tif',\n",
       " 'https://storage.googleapis.com/north_china_plain/Normalized_1990_1992_huabei0000026880-0000026880.tif',\n",
       " 'https://storage.googleapis.com/north_china_plain/Normalized_1990_1992_huabei0000026880-0000053760.tif',\n",
       " 'https://storage.googleapis.com/north_china_plain/Normalized_1990_1992_huabei0000026880-0000080640.tif',\n",
       " 'https://storage.googleapis.com/north_china_plain/Normalized_1990_1992_huabei0000053760-0000000000.tif',\n",
       " 'https://storage.googleapis.com/north_china_plain/Normalized_1990_1992_huabei0000053760-0000026880.tif',\n",
       " 'https://storage.googleapis.com/north_china_plain/Normalized_1990_1992_huabei0000053760-0000053760.tif',\n",
       " 'https://storage.googleapis.com/north_china_plain/Normalized_1990_1992_huabei0000053760-0000080640.tif',\n",
       " 'https://storage.googleapis.com/north_china_plain/Normalized_1990_1992_zhongnan0000000000-0000000000.tif',\n",
       " 'https://storage.googleapis.com/north_china_plain/Normalized_1990_1992_zhongnan0000000000-0000026880.tif',\n",
       " 'https://storage.googleapis.com/north_china_plain/Normalized_1990_1992_zhongnan0000026880-0000000000.tif',\n",
       " 'https://storage.googleapis.com/north_china_plain/Normalized_1990_1992_zhongnan0000026880-0000026880.tif',\n",
       " 'https://storage.googleapis.com/north_china_plain/Normalized_1990_1992_zhongnan0000053760-0000000000.tif',\n",
       " 'https://storage.googleapis.com/north_china_plain/Normalized_1990_1992_zhongnan0000053760-0000026880.tif']"
      ]
     },
     "execution_count": 5,
     "metadata": {},
     "output_type": "execute_result"
    }
   ],
   "source": [
    "img_urls"
   ]
  },
  {
   "cell_type": "code",
   "execution_count": null,
   "metadata": {},
   "outputs": [],
   "source": []
  },
  {
   "cell_type": "code",
   "execution_count": 6,
   "metadata": {},
   "outputs": [],
   "source": [
    "# wirte urls to txt\n",
    "with open('GS_download_urls.txt','w') as f:\n",
    "    for url in img_urls:\n",
    "        f.write(f'{url}\\n')"
   ]
  },
  {
   "cell_type": "code",
   "execution_count": null,
   "metadata": {},
   "outputs": [],
   "source": []
  },
  {
   "cell_type": "code",
   "execution_count": null,
   "metadata": {},
   "outputs": [],
   "source": []
  },
  {
   "cell_type": "code",
   "execution_count": null,
   "metadata": {},
   "outputs": [],
   "source": []
  },
  {
   "cell_type": "code",
   "execution_count": null,
   "metadata": {},
   "outputs": [],
   "source": []
  },
  {
   "cell_type": "code",
   "execution_count": null,
   "metadata": {},
   "outputs": [],
   "source": []
  }
 ],
 "metadata": {
  "kernelspec": {
   "display_name": "Python 3",
   "language": "python",
   "name": "python3"
  },
  "language_info": {
   "codemirror_mode": {
    "name": "ipython",
    "version": 3
   },
   "file_extension": ".py",
   "mimetype": "text/x-python",
   "name": "python",
   "nbconvert_exporter": "python",
   "pygments_lexer": "ipython3",
   "version": "3.7.3"
  }
 },
 "nbformat": 4,
 "nbformat_minor": 2
}
