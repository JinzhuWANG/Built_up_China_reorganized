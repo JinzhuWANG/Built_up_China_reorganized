{
 "cells": [
  {
   "cell_type": "code",
   "execution_count": 2,
   "metadata": {},
   "outputs": [],
   "source": [
    "import ee\n",
    "import datetime\n",
    "import os\n",
    "import itertools\n",
    "import sys\n",
    "\n",
    "from pprint import pprint\n",
    "import pandas as pd\n",
    "import numpy as np\n",
    "import seaborn as sns\n",
    "import matplotlib.pyplot as plt\n",
    "\n",
    "import geemap\n",
    "\n",
    "import subprocess\n",
    "from subprocess import PIPE"
   ]
  },
  {
   "cell_type": "code",
   "execution_count": null,
   "metadata": {},
   "outputs": [],
   "source": []
  },
  {
   "cell_type": "code",
   "execution_count": 3,
   "metadata": {},
   "outputs": [],
   "source": [
    "ee.Initialize()"
   ]
  },
  {
   "cell_type": "code",
   "execution_count": null,
   "metadata": {},
   "outputs": [],
   "source": []
  },
  {
   "cell_type": "markdown",
   "metadata": {},
   "source": [
    "### Define basic parameters"
   ]
  },
  {
   "cell_type": "code",
   "execution_count": null,
   "metadata": {},
   "outputs": [],
   "source": []
  },
  {
   "cell_type": "code",
   "execution_count": 5,
   "metadata": {},
   "outputs": [],
   "source": [
    "Traning_pts = ee.FeatureCollection(\"users/wangjinzhulala/North_China_Plain_Python/Sample_Points/Sentinel_2017_2019\")"
   ]
  },
  {
   "cell_type": "code",
   "execution_count": null,
   "metadata": {},
   "outputs": [],
   "source": []
  },
  {
   "cell_type": "code",
   "execution_count": 6,
   "metadata": {},
   "outputs": [],
   "source": [
    "# define the periods to perform temporal check\n",
    "Check_len = 6\n",
    "Check_wieght = [Check_len] + [1] * (Check_len-1)\n",
    "Check_threshold = Check_len + int((len(Check_wieght) - 1)/2) + 1\n",
    "\n",
    "# define the number of iteration\n",
    "Check_iteration_num = 10"
   ]
  },
  {
   "cell_type": "code",
   "execution_count": null,
   "metadata": {},
   "outputs": [],
   "source": []
  },
  {
   "cell_type": "code",
   "execution_count": 7,
   "metadata": {},
   "outputs": [],
   "source": [
    "# define the names of each period\n",
    "year_range = list(f'{i[0]}_{i[1]}' for i in zip(range(1990,2018,3),range(1992,2020,3)))"
   ]
  },
  {
   "cell_type": "code",
   "execution_count": 8,
   "metadata": {},
   "outputs": [
    {
     "data": {
      "text/plain": [
       "['1990_1992',\n",
       " '1993_1995',\n",
       " '1996_1998',\n",
       " '1999_2001',\n",
       " '2002_2004',\n",
       " '2005_2007',\n",
       " '2008_2010',\n",
       " '2011_2013',\n",
       " '2014_2016',\n",
       " '2017_2019']"
      ]
     },
     "execution_count": 8,
     "metadata": {},
     "output_type": "execute_result"
    }
   ],
   "source": [
    "year_range"
   ]
  },
  {
   "cell_type": "code",
   "execution_count": null,
   "metadata": {},
   "outputs": [],
   "source": []
  },
  {
   "cell_type": "markdown",
   "metadata": {},
   "source": [
    "### Import Classified_random_img"
   ]
  },
  {
   "cell_type": "code",
   "execution_count": null,
   "metadata": {},
   "outputs": [],
   "source": []
  },
  {
   "cell_type": "code",
   "execution_count": 33,
   "metadata": {},
   "outputs": [],
   "source": [
    "# get the classified_random_imgs and sum them up for each period\n",
    "Classified_Landsat_1990_2019 = [ee.ImageCollection(f\"users/wangjinzhulala/North_China_Plain_Python/classification_img/Control_{year}\")\n",
    "                                  .sum().gte(8).set('name',year)   for year in year_range]\n",
    "\n",
    "Classified_Sentinel_2014_2019 = [ee.ImageCollection(f\"users/wangjinzhulala/North_China_Plain_Python/classification_img/Sentinel_Landsat_{year}\")\n",
    "                                  .sum().gte(8).set('name',year)   for year in year_range[-2:]]\n",
    "\n",
    "# combine classification img together\n",
    "Classified_imgs = Classified_Landsat_1990_2019[:-2] + Classified_Sentinel_2014_2019"
   ]
  },
  {
   "cell_type": "code",
   "execution_count": null,
   "metadata": {},
   "outputs": [],
   "source": []
  },
  {
   "cell_type": "code",
   "execution_count": 35,
   "metadata": {},
   "outputs": [
    {
     "name": "stdout",
     "output_type": "stream",
     "text": [
      "Check length is    ---> 6\n",
      "Check weights is   ---> [6, 1, 1, 1, 1, 1]\n",
      "Check threshold is ---> 9\n"
     ]
    }
   ],
   "source": [
    "Iter_temporal_check_instaces = Temporal_consistency_check(Classified_imgs,6,10).Iterate_the_check()"
   ]
  },
  {
   "cell_type": "code",
   "execution_count": null,
   "metadata": {},
   "outputs": [],
   "source": []
  },
  {
   "cell_type": "code",
   "execution_count": null,
   "metadata": {},
   "outputs": [],
   "source": []
  },
  {
   "cell_type": "code",
   "execution_count": null,
   "metadata": {},
   "outputs": [],
   "source": []
  },
  {
   "cell_type": "code",
   "execution_count": null,
   "metadata": {},
   "outputs": [],
   "source": []
  },
  {
   "cell_type": "code",
   "execution_count": 32,
   "metadata": {},
   "outputs": [],
   "source": [
    "class Temporal_consistency_check:\n",
    "    \n",
    "    def __init__(self,classified_imgs,Check_len,iteration_num):\n",
    "        \n",
    "        # define input imgs and number of iteration\n",
    "        self.classified_imgs = classified_imgs\n",
    "        self.iteration_num   = iteration_num\n",
    "        \n",
    "        # define the periods to perform temporal check\n",
    "        self.Check_len       = Check_len\n",
    "        self.Check_wieght    = [Check_len] + [1] * (Check_len-1)\n",
    "        self.Check_threshold = Check_len + int((len(Check_wieght) - 1)/2) + 1\n",
    "        \n",
    "        # print out the check parameters\n",
    "        print(f'Check length is    ---> {self.Check_len}')\n",
    "        print(f'Check weights is   ---> {self.Check_wieght}')\n",
    "        print(f'Check threshold is ---> {self.Check_threshold}')\n",
    "\n",
    "\n",
    "    def Temporal_check(mode,in_tifs,weights,threshold):\n",
    "\n",
    "        # get the name of the first img as the property for return img\n",
    "        name = in_tifs[0].get('name')\n",
    "\n",
    "        # zip classified_random_sum with weights\n",
    "        img_multiply = list(zip(in_tifs,self.Check_wieght))\n",
    "\n",
    "\n",
    "\n",
    "        if mode == 'forward':\n",
    "\n",
    "            # multiply each classified_sum_img with check_weight \n",
    "            # and sum 3-periods together\n",
    "            sum_tif = ee.ImageCollection([i[0].multiply(i[1]) for i in img_multiply]).sum()\n",
    "\n",
    "            # thoes pixel that GREATER THAN are built-up pixel\n",
    "            temporal_checked = sum_tif.gt(self.Check_threshold).set('name',name)\n",
    "\n",
    "        elif mode == 'backward':\n",
    "\n",
    "            #_______________________Get those pixel that was transformed from built to non-built______________\n",
    "\n",
    "            # remap the img,so the pixel value changed (built-->0; non-built -->weight)\n",
    "                                                                    # here need to rename other wise bandname changed to 'remap'\n",
    "                                                                    # which will cause error to add with forward imgs\n",
    "            backward_remap    = [i[0].remap([0,1],[i[1],0]).rename('classification') for i in img_multiply]\n",
    "\n",
    "            # sum the back_remap and the those pixels with value GREATE THAN the threshold is \"Non-Built\"\n",
    "            non_built = ee.ImageCollection(backward_remap).sum().gt(self.Check_threshold)\n",
    "\n",
    "            # change the pixel value to get the right pixel value (0--> non-built; 1-->built)\n",
    "            temporal_checked = non_built.Not()\n",
    "\n",
    "\n",
    "        else:\n",
    "            print(\"Please provide a correct mode ['forward'|'backward']\")\n",
    "\n",
    "        return temporal_checked\n",
    "\n",
    "\n",
    "\n",
    "\n",
    "\n",
    "    def Forward_backward(temporal_check_len,in_imgs):\n",
    "\n",
    "        # because temporal check can not been conducted at the edge, so we define an index-range to those\n",
    "        # img that can be checked in the process\n",
    "        img_idx_for_temporal_check = range(len(in_imgs) - temporal_check_len + 1)\n",
    "\n",
    "\n",
    "        #_______________________________Backward temporal check________________________________________________\n",
    "\n",
    "        # because this is backward check, so first reverse the img order\n",
    "        reverse_classified_tifs = in_imgs[::-1]\n",
    "\n",
    "        # slice the backward_tifs into chunks with the length of temporal_check_len\n",
    "        backward_chunks = [reverse_classified_tifs[i:i + temporal_check_len] for i in img_idx_for_temporal_check]\n",
    "\n",
    "        # perform the backward temporal check\n",
    "        backward_tif    = [Temporal_check('backward',chunk,Check_wieght,Check_threshold) for chunk in backward_chunks]\n",
    "\n",
    "\n",
    "\n",
    "        #_______________________________Forward temporal check________________________________________________\n",
    "\n",
    "        # because the backward_tif are in reversed (descending) order, so reverse it back\n",
    "        backward_tif_ascending = backward_tif[::-1]\n",
    "\n",
    "        # add the imgs not been checked at the backward process,so we get a full-length img list for forward check    \n",
    "        forward_input_tifs = in_imgs[:temporal_check_len] + backward_tif_ascending\n",
    "\n",
    "        # slice the forward_input_tifs into chunks with the length of temporal_check_len\n",
    "        forward_chunks  = [forward_input_tifs[i:i + temporal_check_len] for i in img_idx_for_temporal_check]\n",
    "\n",
    "        # perform the forward temporal check\n",
    "        forward_tif     = [Temporal_check('forward',chunk,Check_wieght,Check_threshold) for chunk in forward_chunks]\n",
    "\n",
    "\n",
    "        #___________________________Add Forward & Backward checked img together___________________________________\n",
    "\n",
    "        # add the imgs not been checked at the forward process,so we get a completed img list  \n",
    "        backward_forward = forward_tif + backward_tif_ascending[-(temporal_check_len - 1) :]\n",
    "\n",
    "        return backward_forward\n",
    "\n",
    "    def Iterate_the_check(self):\n",
    "        \n",
    "        # Here iterate Check_iteration_num times and \n",
    "        Iter_temporal_check_instaces = {}\n",
    "\n",
    "        for it in range(self.iteration_num):\n",
    "\n",
    "            if it == 0:\n",
    "\n",
    "                in_imgs = self.classified_imgs \n",
    "\n",
    "                forward_backward_checked =  Forward_backward(self.Check_len,in_imgs)\n",
    "                forward_backward_with_iteration = [ee.Image(img).set('iteration',it) for img in forward_backward_checked]\n",
    "\n",
    "                Iter_temporal_check_instaces[0]  = forward_backward_with_iteration\n",
    "\n",
    "\n",
    "            else:\n",
    "\n",
    "                in_imgs = Iter_temporal_check_instaces[it-1]\n",
    "\n",
    "                forward_backward_checked =  Forward_backward(Check_len,in_imgs)\n",
    "                forward_backward_with_iteration = [ee.Image(img).set('iteration',it) for img in forward_backward_checked]\n",
    "\n",
    "                Iter_temporal_check_instaces[it]  = forward_backward_with_iteration\n",
    "\n",
    "        self.Iter_temporal_check_instaces = Iter_temporal_check_instaces\n",
    "        \n",
    "        return self.Iter_temporal_check_instaces"
   ]
  },
  {
   "cell_type": "code",
   "execution_count": null,
   "metadata": {},
   "outputs": [],
   "source": []
  },
  {
   "cell_type": "code",
   "execution_count": null,
   "metadata": {},
   "outputs": [],
   "source": []
  },
  {
   "cell_type": "code",
   "execution_count": 36,
   "metadata": {},
   "outputs": [
    {
     "data": {
      "application/vnd.jupyter.widget-view+json": {
       "model_id": "5d82871232854adf9eb44ab3df616496",
       "version_major": 2,
       "version_minor": 0
      },
      "text/plain": [
       "Map(center=[35.2492, 115.4508], controls=(WidgetControl(options=['position'], widget=HBox(children=(ToggleButt…"
      ]
     },
     "metadata": {},
     "output_type": "display_data"
    }
   ],
   "source": [
    "Map = geemap.Map()\n",
    "Map.setCenter(115.4508, 35.2492,10)\n",
    "\n",
    "year_idx = 4\n",
    "\n",
    "Map.add_basemap('HYBRID')\n",
    "Map.addLayer(Classified_imgs[year_idx] ,{'min':0,'max':1},'origin')\n",
    "Map.addLayer(Iter_temporal_check_instaces[0][year_idx] ,{'min':0,'max':1},'Iter_0')\n",
    "Map.addLayer(Iter_temporal_check_instaces[1][year_idx] ,{'min':0,'max':1},'Iter_1')\n",
    "Map.addLayer(Iter_temporal_check_instaces[2][year_idx] ,{'min':0,'max':1},'Iter_2')\n",
    "Map.addLayer(Iter_temporal_check_instaces[3][year_idx] ,{'min':0,'max':1},'Iter_3')\n",
    "\n",
    "Map"
   ]
  },
  {
   "cell_type": "code",
   "execution_count": null,
   "metadata": {},
   "outputs": [],
   "source": []
  },
  {
   "cell_type": "code",
   "execution_count": null,
   "metadata": {},
   "outputs": [],
   "source": []
  },
  {
   "cell_type": "code",
   "execution_count": null,
   "metadata": {},
   "outputs": [],
   "source": []
  },
  {
   "cell_type": "code",
   "execution_count": null,
   "metadata": {},
   "outputs": [],
   "source": []
  },
  {
   "cell_type": "code",
   "execution_count": null,
   "metadata": {},
   "outputs": [],
   "source": []
  },
  {
   "cell_type": "code",
   "execution_count": null,
   "metadata": {},
   "outputs": [],
   "source": []
  }
 ],
 "metadata": {
  "kernelspec": {
   "display_name": "Python 3",
   "language": "python",
   "name": "python3"
  },
  "language_info": {
   "codemirror_mode": {
    "name": "ipython",
    "version": 3
   },
   "file_extension": ".py",
   "mimetype": "text/x-python",
   "name": "python",
   "nbconvert_exporter": "python",
   "pygments_lexer": "ipython3",
   "version": "3.7.3"
  }
 },
 "nbformat": 4,
 "nbformat_minor": 2
}
