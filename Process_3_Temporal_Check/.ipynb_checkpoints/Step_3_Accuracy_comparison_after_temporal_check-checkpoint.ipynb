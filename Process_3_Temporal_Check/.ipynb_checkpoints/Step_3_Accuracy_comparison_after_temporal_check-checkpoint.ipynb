{
 "cells": [
  {
   "cell_type": "code",
   "execution_count": 1,
   "metadata": {},
   "outputs": [],
   "source": [
    "import ee\n",
    "import datetime\n",
    "import os\n",
    "import itertools\n",
    "import sys\n",
    "\n",
    "from pprint import pprint\n",
    "import pandas as pd\n",
    "import numpy as np\n",
    "import seaborn as sns\n",
    "import matplotlib.pyplot as plt\n",
    "\n",
    "import geemap\n",
    "\n",
    "import subprocess\n",
    "from subprocess import PIPE"
   ]
  },
  {
   "cell_type": "code",
   "execution_count": 2,
   "metadata": {},
   "outputs": [],
   "source": [
    "ee.Initialize()"
   ]
  },
  {
   "cell_type": "code",
   "execution_count": null,
   "metadata": {},
   "outputs": [],
   "source": []
  },
  {
   "cell_type": "markdown",
   "metadata": {},
   "source": [
    "##### Basic parameters"
   ]
  },
  {
   "cell_type": "code",
   "execution_count": 3,
   "metadata": {},
   "outputs": [],
   "source": [
    "region_en = 'NCP'"
   ]
  },
  {
   "cell_type": "code",
   "execution_count": 4,
   "metadata": {},
   "outputs": [],
   "source": [
    "# define basic parameters\n",
    "year_range = [f'{i}_{i+2}' for i in range(1990,2020,3)]"
   ]
  },
  {
   "cell_type": "code",
   "execution_count": 5,
   "metadata": {},
   "outputs": [],
   "source": [
    "img_path     = 'users/rlyon2/China_built_classification/03_temporal_checked'\n",
    "sample_path  = 'users/wangjinzhulala/China_built_up/03_sample_train_test_split'"
   ]
  },
  {
   "cell_type": "code",
   "execution_count": null,
   "metadata": {},
   "outputs": [],
   "source": []
  },
  {
   "cell_type": "markdown",
   "metadata": {},
   "source": [
    "##### Calculate the acuracy after temporal correction"
   ]
  },
  {
   "cell_type": "code",
   "execution_count": 6,
   "metadata": {},
   "outputs": [
    {
     "name": "stdout",
     "output_type": "stream",
     "text": [
      "zhongnan_1990_1992\n",
      "zhongnan_1993_1995\n",
      "zhongnan_1996_1998\n",
      "zhongnan_1999_2001\n",
      "zhongnan_2002_2004\n",
      "zhongnan_2005_2007\n",
      "zhongnan_2008_2010\n",
      "zhongnan_2011_2013\n",
      "zhongnan_2014_2016\n",
      "zhongnan_2017_2019\n"
     ]
    }
   ],
   "source": [
    "Acc_temporal_checked = {}\n",
    "\n",
    "for i,year in enumerate(year_range):\n",
    "\n",
    "        # get the img and untouched sample\n",
    "        sample = f'{sample_path}/Grid_select_{region_en}_{year}'\n",
    "        \n",
    "\n",
    "        # get the classificaiton, rename the band so we can use Accuracy_assesment module\n",
    "        img_my   = ee.Image(f'{img_path}/Mosaic_only_forward_{region_en}')\\\n",
    "                     .gte(len(year_range)-i)\\\n",
    "                     .rename('classification')\n",
    "        \n",
    "\n",
    "        # extract the img pixel value to test_sample\n",
    "        test_extract_img   = img_my.sampleRegions(  collection = sample, \n",
    "                                                    properties = ['Built'], \n",
    "                                                    scale      = 30,\n",
    "                                                    tileScale  = 2)\n",
    "\n",
    "        # compute the accuracy and put them into a df\n",
    "        Acc_temporal_checked[(region_en,year)] = [test_extract_img.errorMatrix('Built','classification')\\\n",
    "                                                                 .accuracy().getInfo()]\n",
    "        \n",
    "        \n",
    "        # print out the process\n",
    "        print(f'{region_en}_{year}')"
   ]
  },
  {
   "cell_type": "code",
   "execution_count": null,
   "metadata": {},
   "outputs": [],
   "source": []
  },
  {
   "cell_type": "code",
   "execution_count": 7,
   "metadata": {},
   "outputs": [],
   "source": [
    "# format the Acc_temporal_checked_df\n",
    "Acc_temporal_checked_df = pd.DataFrame(Acc_temporal_checked).T\n",
    "Acc_temporal_checked_df.reset_index(inplace=True)\n",
    "Acc_temporal_checked_df.columns = ['Region','Year','Accuracy']\n",
    "\n",
    "# save the df to local drive\n",
    "Acc_temporal_checked_df.to_csv(f'./Result/Temporal_check_acc_{region_en}.csv',index=False)"
   ]
  },
  {
   "cell_type": "code",
   "execution_count": null,
   "metadata": {},
   "outputs": [],
   "source": []
  },
  {
   "cell_type": "code",
   "execution_count": null,
   "metadata": {},
   "outputs": [],
   "source": []
  },
  {
   "cell_type": "markdown",
   "metadata": {},
   "source": [
    "##### Make plots"
   ]
  },
  {
   "cell_type": "code",
   "execution_count": null,
   "metadata": {},
   "outputs": [],
   "source": []
  },
  {
   "cell_type": "code",
   "execution_count": 19,
   "metadata": {},
   "outputs": [],
   "source": [
    "Acc_temporal_checked_df = pd.read_csv(f'./Result/Temporal_check_acc_{region_en}.csv')"
   ]
  },
  {
   "cell_type": "code",
   "execution_count": null,
   "metadata": {},
   "outputs": [],
   "source": []
  },
  {
   "cell_type": "code",
   "execution_count": 14,
   "metadata": {},
   "outputs": [],
   "source": [
    "# import the original accuracy for comparison\n",
    "Original_acc = pd.read_csv(f'../Process_2_Classification_process/Sub_Process_6_Before_classification_Feature_selection\\\n",
    "/Result/Grid_acc_tree_{region_en}.csv')\n",
    "Original_acc = Original_acc[(Original_acc['In_Bands']=='Spectrum_Normalize_Fourier_Terrain_Meterology')&\n",
    "                            (Original_acc['Tree']==100)]\n",
    "Original_acc = Original_acc[['Year','Accuracy']]"
   ]
  },
  {
   "cell_type": "code",
   "execution_count": 16,
   "metadata": {},
   "outputs": [],
   "source": [
    "Original_acc['Region'] = region_en"
   ]
  },
  {
   "cell_type": "code",
   "execution_count": null,
   "metadata": {},
   "outputs": [],
   "source": []
  },
  {
   "cell_type": "code",
   "execution_count": null,
   "metadata": {},
   "outputs": [],
   "source": []
  },
  {
   "cell_type": "code",
   "execution_count": 20,
   "metadata": {},
   "outputs": [],
   "source": [
    "# add accuracy type to each df\n",
    "Acc_temporal_checked_df['Type'] = 'Temporal Correction'\n",
    "Original_acc['Type'] = 'Original'"
   ]
  },
  {
   "cell_type": "code",
   "execution_count": null,
   "metadata": {},
   "outputs": [],
   "source": []
  },
  {
   "cell_type": "code",
   "execution_count": 21,
   "metadata": {},
   "outputs": [
    {
     "data": {
      "text/plain": [
       "<matplotlib.axes._subplots.AxesSubplot at 0x21392c08c18>"
      ]
     },
     "execution_count": 21,
     "metadata": {},
     "output_type": "execute_result"
    },
    {
     "data": {
      "image/png": "[encoded data removed]",
      "text/plain": [
       "<Figure size 432x288 with 1 Axes>"
      ]
     },
     "metadata": {
      "needs_background": "light"
     },
     "output_type": "display_data"
    }
   ],
   "source": [
    "sns.lineplot(x='Year',y='Accuracy',data=Acc_temporal_checked_df)\n",
    "sns.lineplot(x='Year',y='Accuracy',data=Original_acc)"
   ]
  },
  {
   "cell_type": "code",
   "execution_count": null,
   "metadata": {},
   "outputs": [],
   "source": []
  },
  {
   "cell_type": "code",
   "execution_count": 28,
   "metadata": {},
   "outputs": [],
   "source": [
    "All_accuracy = []\n",
    "\n",
    "for region in ['xinan','huadong','NCP']:\n",
    "    \n",
    "    # import the temporal checked accuracy df\n",
    "    Acc_temporal_checked_df = pd.read_csv(f'./Result/Temporal_check_acc_{region}.csv')\n",
    "    \n",
    "    # import the original accuracy for comparison\n",
    "    Original_acc = pd.read_csv(f'../Process_2_Classification_process/Sub_Process_6_Before_classification_Feature_selection/Result/Grid_acc_tree_{region}.csv')\n",
    "    Original_acc = Original_acc[(Original_acc['In_Bands']=='Spectrum_Normalize_Fourier_Terrain_Meterology')&\n",
    "                                (Original_acc['Tree']==100)]\n",
    "    Original_acc = Original_acc[['Year','Accuracy']]\n",
    "    Original_acc['Region'] = region\n",
    "    \n",
    "    # add accuracy type to each df\n",
    "    Acc_temporal_checked_df['Type'] = 'Temporal Correction'\n",
    "    Original_acc['Type'] = 'Original'\n",
    "    \n",
    "    # concat df together\n",
    "    cat_df = pd.concat([Acc_temporal_checked_df,Original_acc],0)\n",
    "    \n",
    "    # add cat_df to list\n",
    "    All_accuracy.append(cat_df)"
   ]
  },
  {
   "cell_type": "code",
   "execution_count": null,
   "metadata": {},
   "outputs": [],
   "source": []
  },
  {
   "cell_type": "code",
   "execution_count": 29,
   "metadata": {},
   "outputs": [],
   "source": [
    "All_accuracy_df = pd.concat(All_accuracy,0)\n",
    "All_accuracy_df.reset_index(inplace=True,drop=True)"
   ]
  },
  {
   "cell_type": "code",
   "execution_count": null,
   "metadata": {},
   "outputs": [],
   "source": []
  },
  {
   "cell_type": "code",
   "execution_count": 31,
   "metadata": {},
   "outputs": [
    {
     "data": {
      "text/plain": [
       "<seaborn.axisgrid.FacetGrid at 0x213945f8748>"
      ]
     },
     "execution_count": 31,
     "metadata": {},
     "output_type": "execute_result"
    },
    {
     "data": {
      "image/png": "[encoded data removed]",
      "text/plain": [
       "<Figure size 786.109x216 with 3 Axes>"
      ]
     },
     "metadata": {
      "needs_background": "light"
     },
     "output_type": "display_data"
    }
   ],
   "source": [
    "g = sns.FacetGrid(All_accuracy_df, col=\"Region\",hue='Type')\n",
    "g.map(sns.lineplot, \"Year\", \"Accuracy\")\n",
    "g.add_legend()"
   ]
  },
  {
   "cell_type": "code",
   "execution_count": null,
   "metadata": {},
   "outputs": [],
   "source": []
  },
  {
   "cell_type": "code",
   "execution_count": null,
   "metadata": {},
   "outputs": [],
   "source": []
  },
  {
   "cell_type": "code",
   "execution_count": null,
   "metadata": {},
   "outputs": [],
   "source": []
  },
  {
   "cell_type": "code",
   "execution_count": null,
   "metadata": {},
   "outputs": [],
   "source": []
  },
  {
   "cell_type": "code",
   "execution_count": null,
   "metadata": {},
   "outputs": [],
   "source": []
  },
  {
   "cell_type": "code",
   "execution_count": null,
   "metadata": {},
   "outputs": [],
   "source": []
  },
  {
   "cell_type": "code",
   "execution_count": null,
   "metadata": {},
   "outputs": [],
   "source": []
  },
  {
   "cell_type": "code",
   "execution_count": null,
   "metadata": {},
   "outputs": [],
   "source": []
  },
  {
   "cell_type": "code",
   "execution_count": null,
   "metadata": {},
   "outputs": [],
   "source": []
  },
  {
   "cell_type": "code",
   "execution_count": null,
   "metadata": {},
   "outputs": [],
   "source": []
  },
  {
   "cell_type": "code",
   "execution_count": null,
   "metadata": {},
   "outputs": [],
   "source": []
  },
  {
   "cell_type": "code",
   "execution_count": null,
   "metadata": {},
   "outputs": [],
   "source": []
  }
 ],
 "metadata": {
  "kernelspec": {
   "display_name": "Python 3",
   "language": "python",
   "name": "python3"
  },
  "language_info": {
   "codemirror_mode": {
    "name": "ipython",
    "version": 3
   },
   "file_extension": ".py",
   "mimetype": "text/x-python",
   "name": "python",
   "nbconvert_exporter": "python",
   "pygments_lexer": "ipython3",
   "version": "3.7.3"
  }
 },
 "nbformat": 4,
 "nbformat_minor": 2
}
