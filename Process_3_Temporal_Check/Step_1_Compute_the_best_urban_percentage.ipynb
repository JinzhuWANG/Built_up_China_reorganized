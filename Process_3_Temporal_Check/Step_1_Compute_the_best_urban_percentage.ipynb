{
 "cells": [
  {
   "cell_type": "code",
   "execution_count": 16,
   "metadata": {},
   "outputs": [],
   "source": [
    "import os\n",
    "\n",
    "# Set the proxy environment variables\n",
    "os.environ['http_proxy'] = 'http://127.0.0.1:7890'\n",
    "os.environ['https_proxy'] = 'http://127.0.0.1:7890'"
   ]
  },
  {
   "cell_type": "code",
   "execution_count": null,
   "metadata": {},
   "outputs": [],
   "source": []
  },
  {
   "cell_type": "code",
   "execution_count": 17,
   "metadata": {},
   "outputs": [],
   "source": [
    "import ee\n",
    "import pandas as pd\n",
    "import geemap\n",
    "import numpy as no\n",
    "\n",
    "from pprint import  pprint\n",
    "\n",
    "import matplotlib.pyplot as plt\n",
    "import seaborn as sns"
   ]
  },
  {
   "cell_type": "code",
   "execution_count": 18,
   "metadata": {},
   "outputs": [],
   "source": [
    "ee.Initialize()"
   ]
  },
  {
   "cell_type": "code",
   "execution_count": null,
   "metadata": {},
   "outputs": [],
   "source": []
  },
  {
   "cell_type": "markdown",
   "metadata": {},
   "source": [
    "##### Define the basic parameters"
   ]
  },
  {
   "cell_type": "code",
   "execution_count": 19,
   "metadata": {},
   "outputs": [],
   "source": [
    "# define the region to analysis\n",
    "region_cns = ['华东',   '东北',   '中南',    '华北',  '西北', '西南']\n",
    "region_ens = ['huadong','dongbei','zhongnan','huabei','xibei','xinan']"
   ]
  },
  {
   "cell_type": "code",
   "execution_count": 20,
   "metadata": {},
   "outputs": [],
   "source": [
    "region_cn = '东北'\n",
    "region_en = 'dongbei'"
   ]
  },
  {
   "cell_type": "code",
   "execution_count": null,
   "metadata": {},
   "outputs": [],
   "source": []
  },
  {
   "cell_type": "code",
   "execution_count": 21,
   "metadata": {},
   "outputs": [],
   "source": [
    "# import north_china_plain boundary\n",
    "Region =  ee.FeatureCollection(\"users/wangjinzhulala/China_built_up/01_Boundary_shp/China_zone\")\\\n",
    "            .filterMetadata('NAME1','equals',region_cn)\n",
    "\n",
    "# define years to be corrected\n",
    "mask_years = [2016,2019]\n",
    "original_range = ['2014_2016','2017_2019']\n",
    "\n",
    "# get validation sample pts\n",
    "validation_path = 'users/wangjinzhulala/China_built_up/04_sample_train_test_split'\n",
    "validation_sample = [ee.FeatureCollection(f\"{validation_path}/Grid_select_{region_en}_{year}\") for year in original_range]\n",
    "\n",
    "# ee_path for export processed imgs\n",
    "img_path = 'users/wangjinzhulala/China_built_up/05_primary_classification'"
   ]
  },
  {
   "cell_type": "code",
   "execution_count": null,
   "metadata": {},
   "outputs": [],
   "source": []
  },
  {
   "cell_type": "markdown",
   "metadata": {},
   "source": [
    "##### compute the best urban-percentage of Sentinel-landcover dataset"
   ]
  },
  {
   "cell_type": "code",
   "execution_count": 22,
   "metadata": {},
   "outputs": [],
   "source": [
    "sentine_urban = [ee.Image(f'COPERNICUS/Landcover/100m/Proba-V-C3/Global/{year}').select(\"urban-coverfraction\") \n",
    "                 for year in mask_years]"
   ]
  },
  {
   "cell_type": "code",
   "execution_count": null,
   "metadata": {},
   "outputs": [],
   "source": []
  },
  {
   "cell_type": "code",
   "execution_count": 23,
   "metadata": {},
   "outputs": [
    {
     "name": "stdout",
     "output_type": "stream",
     "text": [
      "2016_5-->99.65\n",
      "2016_10-->99.65\n",
      "2016_15-->99.47\n",
      "2016_20-->99.47\n",
      "2016_25-->99.47\n",
      "2016_30-->99.47\n",
      "2016_35-->99.47\n",
      "2016_40-->99.47\n",
      "2016_45-->99.47\n",
      "2016_50-->99.65\n",
      "2016_55-->99.65\n",
      "2016_60-->99.65\n",
      "2016_65-->99.65\n",
      "2016_70-->99.65\n",
      "2016_75-->99.47\n",
      "2016_80-->99.47\n",
      "2016_85-->99.47\n",
      "2016_90-->98.94\n",
      "2016_95-->96.81\n",
      "2019_5-->99.11\n",
      "2019_10-->99.29\n",
      "2019_15-->99.65\n",
      "2019_20-->99.65\n",
      "2019_25-->99.65\n",
      "2019_30-->99.65\n",
      "2019_35-->99.65\n",
      "2019_40-->99.47\n",
      "2019_45-->99.47\n",
      "2019_50-->99.47\n",
      "2019_55-->99.47\n",
      "2019_60-->99.47\n",
      "2019_65-->99.47\n",
      "2019_70-->99.47\n",
      "2019_75-->99.11\n",
      "2019_80-->98.94\n",
      "2019_85-->98.76\n",
      "2019_90-->98.05\n",
      "2019_95-->96.63\n"
     ]
    }
   ],
   "source": [
    "# iterate each percentage to get the accuracy \n",
    "\n",
    "pct_acc = {}\n",
    "\n",
    "for year,urban,sample in zip(mask_years,sentine_urban,validation_sample):\n",
    "    \n",
    "    validation_size = sample.size().getInfo()\n",
    "    \n",
    "    for i in range(5,100,5):\n",
    "        \n",
    "        img = urban.gte(i)\n",
    "        stats = img.sampleRegions(collection = sample,\n",
    "                                  properties = ['Built'],\n",
    "                                  scale=100, \n",
    "                                  geometries = True)\n",
    "\n",
    "        agree_num = stats.filter(ee.Filter.equals('Built',None,'urban-coverfraction')).size().getInfo()\n",
    "        acc = round(agree_num/validation_size*100,2)\n",
    "\n",
    "        pct_acc[(year,i)] = [acc]\n",
    "\n",
    "        print(f'{year}_{i}-->{acc}')"
   ]
  },
  {
   "cell_type": "code",
   "execution_count": null,
   "metadata": {},
   "outputs": [],
   "source": []
  },
  {
   "cell_type": "code",
   "execution_count": 24,
   "metadata": {},
   "outputs": [
    {
     "data": {
      "text/plain": [
       "<Axes: xlabel='mask_val', ylabel='accuracy'>"
      ]
     },
     "execution_count": 24,
     "metadata": {},
     "output_type": "execute_result"
    },
    {
     "data": {
      "image/png": "[encoded data removed]",
      "text/plain": [
       "<Figure size 640x480 with 1 Axes>"
      ]
     },
     "metadata": {},
     "output_type": "display_data"
    }
   ],
   "source": [
    "# put accuracies into a dataframe\n",
    "accuracy_df = pd.DataFrame(pct_acc).T\n",
    "accuracy_df.reset_index(inplace=True)\n",
    "accuracy_df.columns = ['year','mask_val','accuracy']\n",
    "\n",
    "# plot the accuracy\n",
    "sns.lineplot(data=accuracy_df,x='mask_val',y='accuracy',hue='year')"
   ]
  },
  {
   "cell_type": "code",
   "execution_count": null,
   "metadata": {},
   "outputs": [],
   "source": []
  },
  {
   "cell_type": "code",
   "execution_count": null,
   "metadata": {},
   "outputs": [],
   "source": []
  },
  {
   "cell_type": "markdown",
   "metadata": {},
   "source": [
    "##### use the sentinel-urban as a binary mask to erase the incorect pixel in the classification of [2014-2016, 2017-2019]"
   ]
  },
  {
   "cell_type": "code",
   "execution_count": 13,
   "metadata": {},
   "outputs": [],
   "source": [
    "# fetch the original img\n",
    "\n",
    "original_maps = []\n",
    "\n",
    "for year in original_range:\n",
    "    \n",
    "    imgs = [ee.Image(f\"{img_path}/Spectrum_Normalize_Fourier_Terrain_Meterology_{region_en}_{year}_{seed}\") \n",
    "            for seed in range(10)]\n",
    "    \n",
    "    ten_folds_check = ee.ImageCollection(imgs).sum().gt(4)\n",
    "    \n",
    "    original_maps.append(ten_folds_check)\n",
    "\n",
    "\n",
    "# use the threshold to construct the urban mask\n",
    "urban_masks = [img.gte(threshold).clip(Region) for img in sentine_urban]\n",
    "\n",
    "# use the mask to update original img\n",
    "clasification_update = [original.multiply(mask) for original,mask in zip(original_maps,urban_masks)]\n",
    "clasification_update[0] = clasification_update[0].multiply(clasification_update[1])"
   ]
  },
  {
   "cell_type": "code",
   "execution_count": null,
   "metadata": {},
   "outputs": [],
   "source": []
  },
  {
   "cell_type": "code",
   "execution_count": null,
   "metadata": {},
   "outputs": [],
   "source": []
  },
  {
   "cell_type": "code",
   "execution_count": 14,
   "metadata": {},
   "outputs": [
    {
     "data": {
      "application/vnd.jupyter.widget-view+json": {
       "model_id": "41c392ba0d8f4db3bc7ee8675a24d084",
       "version_major": 2,
       "version_minor": 0
      },
      "text/plain": [
       "Map(center=[30.448045813339593, 118.03734052280193], controls=(WidgetControl(options=['position'], widget=HBox…"
      ]
     },
     "metadata": {},
     "output_type": "display_data"
    }
   ],
   "source": [
    "Map = geemap.Map()\n",
    "\n",
    "Map.add_basemap('HYBRID')\n",
    "\n",
    "Map.addLayer(original_maps[0],         {'min':0,'max':1},'original_2014_2016')\n",
    "Map.addLayer(ee.Image(urban_masks[0]), {'min':0,'max':1},'mask_2016')\n",
    "Map.addLayer(clasification_update[0],  {'min':0,'max':1},'update_2014_2016')\n",
    "\n",
    "Map.addLayer(original_maps[1],         {'min':0,'max':1},'original_2017_2019')\n",
    "Map.addLayer(ee.Image(urban_masks[1]), {'min':0,'max':1},'mask_2019')\n",
    "Map.addLayer(clasification_update[1],  {'min':0,'max':1},'update_2017_2019')\n",
    "\n",
    "Map.centerObject(Region,10)\n",
    "Map"
   ]
  },
  {
   "cell_type": "code",
   "execution_count": null,
   "metadata": {},
   "outputs": [],
   "source": []
  },
  {
   "cell_type": "code",
   "execution_count": null,
   "metadata": {},
   "outputs": [],
   "source": []
  },
  {
   "cell_type": "code",
   "execution_count": null,
   "metadata": {},
   "outputs": [],
   "source": []
  },
  {
   "cell_type": "code",
   "execution_count": null,
   "metadata": {},
   "outputs": [],
   "source": []
  }
 ],
 "metadata": {
  "kernelspec": {
   "display_name": "Python 3 (ipykernel)",
   "language": "python",
   "name": "python3"
  },
  "language_info": {
   "codemirror_mode": {
    "name": "ipython",
    "version": 3
   },
   "file_extension": ".py",
   "mimetype": "text/x-python",
   "name": "python",
   "nbconvert_exporter": "python",
   "pygments_lexer": "ipython3",
   "version": "3.10.9"
  }
 },
 "nbformat": 4,
 "nbformat_minor": 2
}
