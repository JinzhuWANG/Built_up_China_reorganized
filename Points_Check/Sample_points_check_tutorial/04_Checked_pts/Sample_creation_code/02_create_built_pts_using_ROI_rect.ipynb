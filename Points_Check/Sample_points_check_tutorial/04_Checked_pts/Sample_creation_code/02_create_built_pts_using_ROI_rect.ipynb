{
 "cells": [
  {
   "cell_type": "code",
   "execution_count": 1,
   "id": "1954e63b-662d-4283-bfdf-e80240ae21d6",
   "metadata": {},
   "outputs": [],
   "source": [
    "import pandas as pd\n",
    "import geopandas as gpd\n",
    "import numpy as np\n",
    "from itertools import repeat\n",
    "from functools import partial\n",
    "\n",
    "from geopandas.tools import sjoin\n",
    "from tqdm.auto import tqdm\n",
    "\n",
    "from concurrent.futures import ThreadPoolExecutor,as_completed,ProcessPoolExecutor\n",
    "import multiprocessing as mp"
   ]
  },
  {
   "cell_type": "code",
   "execution_count": null,
   "id": "66dd35e7-b91c-4730-9901-0e830c8bba2b",
   "metadata": {},
   "outputs": [],
   "source": []
  },
  {
   "cell_type": "code",
   "execution_count": 2,
   "id": "51520f85-4684-4707-a8a9-39088232e4ec",
   "metadata": {},
   "outputs": [],
   "source": [
    "# define regions\n",
    "regions = ['dongbei','huabei','xibei','zhongnan'] # ['dongbei','huabei','huadong','xibei','xinan','zhongnan'] \n",
    "\n",
    "# define the sample size\n",
    "sample_size = 7000"
   ]
  },
  {
   "cell_type": "code",
   "execution_count": null,
   "id": "a34baf44-a451-43b1-a089-f3c1d9353387",
   "metadata": {},
   "outputs": [],
   "source": []
  },
  {
   "cell_type": "code",
   "execution_count": 3,
   "id": "9a58e8e1-833d-4386-a768-2c33e6e3b235",
   "metadata": {},
   "outputs": [],
   "source": [
    "# read data\n",
    "pts_urban = gpd.read_file(f'../../Reference_pts/Urban_pts/urban_all_points_subset.shp')\n",
    "pts_non_urban = gpd.read_file(f'../../Reference_pts/Non_urban_pts/non_urban_all_points_subset.shp')\n",
    "\n",
    "rect = gpd.read_file('./China_ROI_rect/China_ROI_rect.shp')\n",
    "China = gpd.read_file('../../../../Process_1_Research_area_Zoning/Data_Boundary_SHP/geography_zone/qu-sheng_dissolved.shp')"
   ]
  },
  {
   "cell_type": "code",
   "execution_count": null,
   "id": "68c540ea-a945-45f3-99de-20d5c4f86a80",
   "metadata": {},
   "outputs": [],
   "source": []
  },
  {
   "cell_type": "code",
   "execution_count": null,
   "id": "173911f1-f5fc-4a14-bde7-75cbead18304",
   "metadata": {},
   "outputs": [],
   "source": []
  },
  {
   "cell_type": "code",
   "execution_count": 4,
   "id": "65cf678c-d446-4a4f-9fda-55675e2e433b",
   "metadata": {},
   "outputs": [],
   "source": [
    "# function to sample n points from each roi_rectangel\n",
    "def sample_from_rect(roi_rect,built_pts):\n",
    "\n",
    "    roi_df = roi_rect.set_crs(4326)\n",
    "    sample_pts = sjoin(built_pts,roi_df,predicate='within')\n",
    "\n",
    "    if len(sample_pts) >= 1: \n",
    "        sample_pts = sample_pts.sample(1)\n",
    "    return sample_pts"
   ]
  },
  {
   "cell_type": "code",
   "execution_count": null,
   "id": "aef97fe0-cc6a-434b-bf7b-e27e102aa951",
   "metadata": {},
   "outputs": [],
   "source": []
  },
  {
   "cell_type": "code",
   "execution_count": 5,
   "id": "43cc081e-abfa-46bb-88fa-74f2449a0246",
   "metadata": {
    "tags": []
   },
   "outputs": [
    {
     "name": "stderr",
     "output_type": "stream",
     "text": [
      "C:\\Users\\Administrator\\AppData\\Local\\Temp\\ipykernel_12480\\2319980637.py:11: UserWarning: CRS mismatch between the CRS of left geometries and the CRS of right geometries.\n",
      "Use `to_crs()` to reproject one of the input geometries to match the CRS of the other.\n",
      "\n",
      "Left CRS: GEOGCS[\"WGS 84\",DATUM[\"WGS_1984\",SPHEROID[\"WGS 84\" ...\n",
      "Right CRS: EPSG:4326\n",
      "\n",
      "  roi_rect_region = sjoin(rect,region_shp,predicate='within').reset_index(drop=True)[['geometry']]\n"
     ]
    },
    {
     "data": {
      "application/vnd.jupyter.widget-view+json": {
       "model_id": "115efbcd710b4f0eb295c9a78744b3f5",
       "version_major": 2,
       "version_minor": 0
      },
      "text/plain": [
       "  0%|          | 0/18215 [00:00<?, ?it/s]"
      ]
     },
     "metadata": {},
     "output_type": "display_data"
    },
    {
     "name": "stderr",
     "output_type": "stream",
     "text": [
      "C:\\Users\\Administrator\\AppData\\Local\\Temp\\ipykernel_12480\\2319980637.py:11: UserWarning: CRS mismatch between the CRS of left geometries and the CRS of right geometries.\n",
      "Use `to_crs()` to reproject one of the input geometries to match the CRS of the other.\n",
      "\n",
      "Left CRS: GEOGCS[\"WGS 84\",DATUM[\"WGS_1984\",SPHEROID[\"WGS 84\" ...\n",
      "Right CRS: EPSG:4326\n",
      "\n",
      "  roi_rect_region = sjoin(rect,region_shp,predicate='within').reset_index(drop=True)[['geometry']]\n"
     ]
    },
    {
     "data": {
      "application/vnd.jupyter.widget-view+json": {
       "model_id": "a0be409ae5544ab587ffd294f3b26efe",
       "version_major": 2,
       "version_minor": 0
      },
      "text/plain": [
       "  0%|          | 0/30194 [00:00<?, ?it/s]"
      ]
     },
     "metadata": {},
     "output_type": "display_data"
    },
    {
     "name": "stderr",
     "output_type": "stream",
     "text": [
      "C:\\Users\\Administrator\\AppData\\Local\\Temp\\ipykernel_12480\\2319980637.py:11: UserWarning: CRS mismatch between the CRS of left geometries and the CRS of right geometries.\n",
      "Use `to_crs()` to reproject one of the input geometries to match the CRS of the other.\n",
      "\n",
      "Left CRS: GEOGCS[\"WGS 84\",DATUM[\"WGS_1984\",SPHEROID[\"WGS 84\" ...\n",
      "Right CRS: EPSG:4326\n",
      "\n",
      "  roi_rect_region = sjoin(rect,region_shp,predicate='within').reset_index(drop=True)[['geometry']]\n"
     ]
    },
    {
     "data": {
      "application/vnd.jupyter.widget-view+json": {
       "model_id": "bc6f6ba05c274d629c6fe6fd6113eabe",
       "version_major": 2,
       "version_minor": 0
      },
      "text/plain": [
       "  0%|          | 0/16575 [00:00<?, ?it/s]"
      ]
     },
     "metadata": {},
     "output_type": "display_data"
    },
    {
     "name": "stderr",
     "output_type": "stream",
     "text": [
      "C:\\Users\\Administrator\\AppData\\Local\\Temp\\ipykernel_12480\\2319980637.py:11: UserWarning: CRS mismatch between the CRS of left geometries and the CRS of right geometries.\n",
      "Use `to_crs()` to reproject one of the input geometries to match the CRS of the other.\n",
      "\n",
      "Left CRS: GEOGCS[\"WGS 84\",DATUM[\"WGS_1984\",SPHEROID[\"WGS 84\" ...\n",
      "Right CRS: EPSG:4326\n",
      "\n",
      "  roi_rect_region = sjoin(rect,region_shp,predicate='within').reset_index(drop=True)[['geometry']]\n"
     ]
    },
    {
     "data": {
      "application/vnd.jupyter.widget-view+json": {
       "model_id": "be7a04564bda4cf9a6441401f54b6b95",
       "version_major": 2,
       "version_minor": 0
      },
      "text/plain": [
       "  0%|          | 0/67497 [00:00<?, ?it/s]"
      ]
     },
     "metadata": {},
     "output_type": "display_data"
    }
   ],
   "source": [
    "# filter the region\n",
    "for region in regions:\n",
    "    \n",
    "    # get built point from urban/non-urban area\n",
    "    region_shp = China[China['region']==region]\n",
    "    built_urban = sjoin(pts_urban,region_shp,predicate='within')\n",
    "    built_non_urban = sjoin(pts_non_urban,region_shp,predicate='within')\n",
    "    \n",
    "    # filter built points and roi-rect using the region_shp\n",
    "    built_merge = pd.concat([built_urban,built_non_urban]).reset_index(drop=True)[['geometry']]\n",
    "    roi_rect_region = sjoin(rect,region_shp,predicate='within').reset_index(drop=True)[['geometry']]\n",
    "    \n",
    "    # convert each row of roi_rect_region to a gdf\n",
    "    rect_row_dfs = [gpd.GeoDataFrame([{'geometry':row['geometry']}]) for _,row in roi_rect_region.iterrows()]\n",
    "    \n",
    "    \n",
    "    # _____________________ Multiprocessing _________________________\n",
    "    results = []\n",
    "    n_workder = 5\n",
    "\n",
    "    with ThreadPoolExecutor(max_workers= n_workder) as executor:\n",
    "\n",
    "        # Submit tasks to the executor and associate each task with a progress bar\n",
    "        futures = [executor.submit(partial(sample_from_rect,built_pts=built_merge), row) for row in rect_row_dfs]\n",
    "\n",
    "        # Find the associated progress bar and update it\n",
    "        with tqdm(total=len(futures)) as pbar: \n",
    "            # Use as_completed to track the progress of completed sub-processes\n",
    "            for future in as_completed(futures):\n",
    "                result = future.result()\n",
    "                if len(result) >0: results.append(result[['geometry']])    \n",
    "                pbar.update(1)\n",
    "                \n",
    "    # _____________________ Save to disk _________________________\n",
    "    out_samples_df = pd.concat(results)\n",
    "    out_num = min(len(out_samples_df),sample_size)\n",
    "    out_samples_df.sample(out_num).to_file(f'../../03_Check_built_pts/03_sample_pts_urban_rural/sample_pts_built_{region}.shp')"
   ]
  },
  {
   "cell_type": "code",
   "execution_count": null,
   "id": "8a5fbb90-e09d-4822-8a98-d819be5fbeff",
   "metadata": {},
   "outputs": [],
   "source": []
  },
  {
   "cell_type": "code",
   "execution_count": null,
   "id": "138bf874-b939-485c-9375-a70f897acec9",
   "metadata": {},
   "outputs": [],
   "source": []
  },
  {
   "cell_type": "code",
   "execution_count": null,
   "id": "21ff0deb-5217-4694-934c-af5338999abd",
   "metadata": {},
   "outputs": [],
   "source": []
  },
  {
   "cell_type": "code",
   "execution_count": null,
   "id": "7705d4de-7cc7-45ac-b310-48a8075583d3",
   "metadata": {},
   "outputs": [],
   "source": []
  },
  {
   "cell_type": "code",
   "execution_count": null,
   "id": "1f2e3bbb-30b5-4026-90b4-c71c247b1d93",
   "metadata": {},
   "outputs": [],
   "source": []
  },
  {
   "cell_type": "code",
   "execution_count": null,
   "id": "d60440ba-e995-4996-8c49-c85a61ec9908",
   "metadata": {},
   "outputs": [],
   "source": []
  },
  {
   "cell_type": "code",
   "execution_count": null,
   "id": "f57545c8-5b73-48dc-924a-dae1cc47037c",
   "metadata": {},
   "outputs": [],
   "source": []
  },
  {
   "cell_type": "code",
   "execution_count": null,
   "id": "647fce9a-f475-48f5-baa7-86230b78dccd",
   "metadata": {},
   "outputs": [],
   "source": []
  },
  {
   "cell_type": "code",
   "execution_count": null,
   "id": "16e2220d-9a7b-4630-b5f2-6cda0aaff524",
   "metadata": {},
   "outputs": [],
   "source": []
  },
  {
   "cell_type": "code",
   "execution_count": null,
   "id": "a03a3644-14d1-478c-a321-884891f0cac7",
   "metadata": {},
   "outputs": [],
   "source": []
  },
  {
   "cell_type": "code",
   "execution_count": null,
   "id": "ede257c0-9ad2-4c5b-a06a-965f17db878e",
   "metadata": {},
   "outputs": [],
   "source": []
  },
  {
   "cell_type": "code",
   "execution_count": null,
   "id": "00378717-46dd-40fb-8fad-01fc787e0012",
   "metadata": {},
   "outputs": [],
   "source": []
  },
  {
   "cell_type": "code",
   "execution_count": null,
   "id": "7960025b-c487-4720-b71a-7cd7c8c79eaf",
   "metadata": {},
   "outputs": [],
   "source": []
  },
  {
   "cell_type": "code",
   "execution_count": null,
   "id": "7e0b59c4-20ea-48c2-90c9-2b4d3f66402c",
   "metadata": {},
   "outputs": [],
   "source": []
  },
  {
   "cell_type": "code",
   "execution_count": null,
   "id": "fb1c8714-b01b-4816-a582-bbdb29294ab5",
   "metadata": {},
   "outputs": [],
   "source": []
  },
  {
   "cell_type": "code",
   "execution_count": null,
   "id": "3cc27f8b-e5eb-4867-82bc-dd1757a6d7f8",
   "metadata": {},
   "outputs": [],
   "source": []
  }
 ],
 "metadata": {
  "kernelspec": {
   "display_name": "Python 3 (ipykernel)",
   "language": "python",
   "name": "python3"
  },
  "language_info": {
   "codemirror_mode": {
    "name": "ipython",
    "version": 3
   },
   "file_extension": ".py",
   "mimetype": "text/x-python",
   "name": "python",
   "nbconvert_exporter": "python",
   "pygments_lexer": "ipython3",
   "version": "3.10.9"
  }
 },
 "nbformat": 4,
 "nbformat_minor": 5
}
