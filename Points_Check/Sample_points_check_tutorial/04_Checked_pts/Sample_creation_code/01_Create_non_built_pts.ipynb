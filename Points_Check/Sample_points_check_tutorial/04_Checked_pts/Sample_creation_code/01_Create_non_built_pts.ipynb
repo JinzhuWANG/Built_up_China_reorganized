{
 "cells": [
  {
   "cell_type": "code",
   "execution_count": 46,
   "id": "31d43200-0226-400f-ac34-a1f0c289055c",
   "metadata": {},
   "outputs": [],
   "source": [
    "import pandas as pd\n",
    "import geopandas as gpd\n",
    "import numpy as np\n",
    "import requests\n",
    "\n",
    "import ee\n",
    "ee.Initialize()"
   ]
  },
  {
   "cell_type": "code",
   "execution_count": null,
   "id": "85d2646c-ea62-4079-a6c0-d543c05c96b9",
   "metadata": {},
   "outputs": [],
   "source": []
  },
  {
   "cell_type": "code",
   "execution_count": null,
   "id": "43e9eb74-aac3-4200-a190-1e3ba23db89a",
   "metadata": {},
   "outputs": [],
   "source": []
  },
  {
   "cell_type": "code",
   "execution_count": null,
   "id": "0be46055-5c49-4242-82df-009f4310140f",
   "metadata": {},
   "outputs": [],
   "source": []
  },
  {
   "cell_type": "code",
   "execution_count": 55,
   "id": "32f315f4-cf19-43fd-8daf-455e093ca8ab",
   "metadata": {},
   "outputs": [],
   "source": [
    "# define regions\n",
    "regions = ['huadong'] # ['dongbei','huabei','huadong','xibei','xinan','zhongnan'] \n",
    "\n",
    "# the root to ee asset\n",
    "non_built_ee_path = 'users/wangjinzhulala/China_built_up/02_control_sample'\n",
    "\n",
    "# define the sample size\n",
    "sample_size = 7000"
   ]
  },
  {
   "cell_type": "code",
   "execution_count": null,
   "id": "bd3e4a57-4f4a-43a4-9339-2535b00d97f3",
   "metadata": {},
   "outputs": [],
   "source": []
  },
  {
   "cell_type": "code",
   "execution_count": 6,
   "id": "c5841f96-20ff-4f71-b16c-d80f323d5b90",
   "metadata": {},
   "outputs": [],
   "source": [
    "# get the non_built_50k pts\n",
    "non_bulit_50k_pts = [region:ee.FeatureCollection(f\"{non_built_ee_path}/01_Random_pt_ndvi_01_{region}\")\n",
    "                     for region in regions]"
   ]
  },
  {
   "cell_type": "code",
   "execution_count": null,
   "id": "e8d806fb-4777-4759-a750-6a674fceb6b4",
   "metadata": {},
   "outputs": [],
   "source": []
  },
  {
   "cell_type": "code",
   "execution_count": 25,
   "id": "c51fe21b-0995-4342-be4a-e93f00c1aa21",
   "metadata": {},
   "outputs": [],
   "source": [
    "# function to download ee-asset \n",
    "def get_ee_asses(fe_col):\n",
    "    url = ee.FeatureCollection(fe_col).getDownloadURL('geojson')\n",
    "    out_json = requests.get(url).json()\n",
    "    return out_json"
   ]
  },
  {
   "cell_type": "code",
   "execution_count": null,
   "id": "505313a3-59c5-4a43-aacd-13f46296f018",
   "metadata": {},
   "outputs": [],
   "source": []
  },
  {
   "cell_type": "code",
   "execution_count": 47,
   "id": "b8e8307a-13f2-4d38-867f-5dfac29f1029",
   "metadata": {},
   "outputs": [],
   "source": [
    "gpd_dfs = [gpd.GeoDataFrame.from_features(get_ee_asses(i)) for i in non_bulit_50k_pts]"
   ]
  },
  {
   "cell_type": "code",
   "execution_count": null,
   "id": "38cc4325-fc98-4edf-a88a-e7238caebd82",
   "metadata": {},
   "outputs": [],
   "source": []
  },
  {
   "cell_type": "code",
   "execution_count": 56,
   "id": "175f8f82-aaf2-49ee-863f-6fdf70d5c1a5",
   "metadata": {},
   "outputs": [],
   "source": [
    "# save dfs to disk\n",
    "for region,df in zip(regions,gpd_dfs):\n",
    "    df = df.sample(sample_size)\n",
    "    df.to_file(f'../../02_Check_non_built_points/sample_non_built_{region}.shp')"
   ]
  },
  {
   "cell_type": "code",
   "execution_count": null,
   "id": "8f29a3b5-a80b-46ad-b3b9-9d427cc8d629",
   "metadata": {},
   "outputs": [],
   "source": []
  },
  {
   "cell_type": "code",
   "execution_count": null,
   "id": "1307d168-528d-41f2-9358-43254494fb44",
   "metadata": {},
   "outputs": [],
   "source": []
  },
  {
   "cell_type": "code",
   "execution_count": null,
   "id": "d9e8a211-bd63-4c25-984f-487a1a610787",
   "metadata": {},
   "outputs": [],
   "source": []
  },
  {
   "cell_type": "code",
   "execution_count": null,
   "id": "f1c23126-0d2f-4039-a14e-b50cc9672c25",
   "metadata": {},
   "outputs": [],
   "source": []
  },
  {
   "cell_type": "code",
   "execution_count": null,
   "id": "44798189-2b11-4b74-ba0e-c3fd011f0089",
   "metadata": {},
   "outputs": [],
   "source": []
  },
  {
   "cell_type": "code",
   "execution_count": null,
   "id": "e51eedcc-68a9-481e-b47e-b8afe72dd083",
   "metadata": {},
   "outputs": [],
   "source": []
  },
  {
   "cell_type": "code",
   "execution_count": null,
   "id": "fbb70ac1-b667-43c7-adb9-c707c6b9621d",
   "metadata": {},
   "outputs": [],
   "source": []
  },
  {
   "cell_type": "code",
   "execution_count": null,
   "id": "9e8f3df3-acb9-44e7-807d-7297bfab37ea",
   "metadata": {},
   "outputs": [],
   "source": []
  },
  {
   "cell_type": "code",
   "execution_count": null,
   "id": "a3823ab3-1229-486f-8b9c-fa32ef0f9380",
   "metadata": {},
   "outputs": [],
   "source": []
  },
  {
   "cell_type": "code",
   "execution_count": null,
   "id": "59261c4d-05b7-4f0c-a6e7-47fdf31decdd",
   "metadata": {},
   "outputs": [],
   "source": []
  },
  {
   "cell_type": "code",
   "execution_count": null,
   "id": "66796b61-ff13-4173-9ef1-cdc64ec25323",
   "metadata": {},
   "outputs": [],
   "source": []
  }
 ],
 "metadata": {
  "kernelspec": {
   "display_name": "Python 3 (ipykernel)",
   "language": "python",
   "name": "python3"
  },
  "language_info": {
   "codemirror_mode": {
    "name": "ipython",
    "version": 3
   },
   "file_extension": ".py",
   "mimetype": "text/x-python",
   "name": "python",
   "nbconvert_exporter": "python",
   "pygments_lexer": "ipython3",
   "version": "3.10.9"
  }
 },
 "nbformat": 4,
 "nbformat_minor": 5
}
