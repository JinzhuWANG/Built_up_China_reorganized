{
 "cells": [
  {
   "cell_type": "code",
   "execution_count": 1,
   "id": "1954e63b-662d-4283-bfdf-e80240ae21d6",
   "metadata": {},
   "outputs": [],
   "source": [
    "import pandas as pd\n",
    "import geopandas as gpd\n",
    "\n",
    "from geopandas.tools import sjoin\n",
    "from tqdm.auto import tqdm"
   ]
  },
  {
   "cell_type": "code",
   "execution_count": null,
   "id": "66dd35e7-b91c-4730-9901-0e830c8bba2b",
   "metadata": {},
   "outputs": [],
   "source": []
  },
  {
   "cell_type": "code",
   "execution_count": 2,
   "id": "51520f85-4684-4707-a8a9-39088232e4ec",
   "metadata": {},
   "outputs": [],
   "source": [
    "# define regions\n",
    "regions = ['xinan'] # ['dongbei','huabei','huadong','xibei','xinan','zhongnan'] "
   ]
  },
  {
   "cell_type": "code",
   "execution_count": null,
   "id": "a34baf44-a451-43b1-a089-f3c1d9353387",
   "metadata": {},
   "outputs": [],
   "source": []
  },
  {
   "cell_type": "code",
   "execution_count": 3,
   "id": "9a58e8e1-833d-4386-a768-2c33e6e3b235",
   "metadata": {},
   "outputs": [],
   "source": [
    "# read data\n",
    "pts_urban = gpd.read_file(f'../../Reference_pts/Urban_pts/urban_all_points_subset.shp')\n",
    "pts_non_urban = gpd.read_file(f'../../Reference_pts/Non_urban_pts/non_urban_all_points_subset.shp')\n",
    "\n",
    "rect = gpd.read_file('./China_ROI_rect/China_ROI_rect.shp')\n",
    "China = gpd.read_file('../../../../Process_1_Research_area_Zoning/Data_Boundary_SHP/geography_zone/qu-sheng_dissolved.shp')"
   ]
  },
  {
   "cell_type": "code",
   "execution_count": null,
   "id": "68c540ea-a945-45f3-99de-20d5c4f86a80",
   "metadata": {},
   "outputs": [],
   "source": []
  },
  {
   "cell_type": "code",
   "execution_count": 4,
   "id": "65cf678c-d446-4a4f-9fda-55675e2e433b",
   "metadata": {},
   "outputs": [],
   "source": [
    "# function to sample n points from each roi_rectangel\n",
    "def sample_from_rect(region,roi_rect):\n",
    "    out_samples = []\n",
    "\n",
    "    for idx,row in tqdm(roi_rect.iterrows(),total=len(roi_rect)):\n",
    "        roi_df = gpd.GeoDataFrame(row).T[['geometry']].set_crs(4326)\n",
    "        built_df = built_merge[['geometry']]\n",
    "        sample_pts = sjoin(built_df,roi_df,predicate='within')\n",
    "\n",
    "        if len(sample_pts) > 1: \n",
    "            sample_num = min(len(sample_pts),1)\n",
    "            sample_pts = sample_pts.sample(sample_num).geometry.tolist()\n",
    "            out_samples.extend(sample_pts)\n",
    "\n",
    "    # save to disk\n",
    "    out_samples_df = gpd.GeoDataFrame({'geometry':out_samples})[['geometry']]\n",
    "    out_samples_df.to_file(f'../../03_Check_built_pts/03_sample_pts_urban_rural/sample_pts_built_{region}.shp')"
   ]
  },
  {
   "cell_type": "code",
   "execution_count": null,
   "id": "d2c5a36c-0cce-440d-8da7-8cef4bfacbe2",
   "metadata": {},
   "outputs": [],
   "source": []
  },
  {
   "cell_type": "code",
   "execution_count": null,
   "id": "a52b00a4-422b-4050-bebd-9dbaae3ff575",
   "metadata": {},
   "outputs": [],
   "source": [
    "from multiprocessing import "
   ]
  },
  {
   "cell_type": "code",
   "execution_count": null,
   "id": "0393cfe2-b548-4671-b9c5-e471435d60fc",
   "metadata": {},
   "outputs": [],
   "source": []
  },
  {
   "cell_type": "code",
   "execution_count": null,
   "id": "84e17819-e48c-416f-959c-1d2408f0f137",
   "metadata": {},
   "outputs": [],
   "source": []
  },
  {
   "cell_type": "code",
   "execution_count": 2,
   "id": "43cc081e-abfa-46bb-88fa-74f2449a0246",
   "metadata": {},
   "outputs": [
    {
     "ename": "NameError",
     "evalue": "name 'regions' is not defined",
     "output_type": "error",
     "traceback": [
      "\u001b[1;31m---------------------------------------------------------------------------\u001b[0m",
      "\u001b[1;31mNameError\u001b[0m                                 Traceback (most recent call last)",
      "Cell \u001b[1;32mIn[2], line 4\u001b[0m\n\u001b[0;32m      2\u001b[0m built_samples \u001b[38;5;241m=\u001b[39m []\n\u001b[0;32m      3\u001b[0m roi_rects \u001b[38;5;241m=\u001b[39m []\n\u001b[1;32m----> 4\u001b[0m \u001b[38;5;28;01mfor\u001b[39;00m region \u001b[38;5;129;01min\u001b[39;00m \u001b[43mregions\u001b[49m:\n\u001b[0;32m      5\u001b[0m     \n\u001b[0;32m      6\u001b[0m     \u001b[38;5;66;03m# get built point from urban/non-urban area\u001b[39;00m\n\u001b[0;32m      7\u001b[0m     region_shp \u001b[38;5;241m=\u001b[39m China[China[\u001b[38;5;124m'\u001b[39m\u001b[38;5;124mregion\u001b[39m\u001b[38;5;124m'\u001b[39m]\u001b[38;5;241m==\u001b[39mregion]\n\u001b[0;32m      8\u001b[0m     built_urban \u001b[38;5;241m=\u001b[39m sjoin(pts_urban,region_shp,predicate\u001b[38;5;241m=\u001b[39m\u001b[38;5;124m'\u001b[39m\u001b[38;5;124mwithin\u001b[39m\u001b[38;5;124m'\u001b[39m)\n",
      "\u001b[1;31mNameError\u001b[0m: name 'regions' is not defined"
     ]
    }
   ],
   "source": [
    "# filter the region\n",
    "built_samples = []\n",
    "roi_rects = []\n",
    "for region in regions:\n",
    "    \n",
    "    # get built point from urban/non-urban area\n",
    "    region_shp = China[China['region']==region]\n",
    "    built_urban = sjoin(pts_urban,region_shp,predicate='within')\n",
    "    built_non_urban = sjoin(pts_non_urban,region_shp,predicate='within')\n",
    "    \n",
    "    # filter built points and roi-rect using the region_shp\n",
    "    built_merge = pd.concat([built_urban,built_non_urban]).reset_index(drop=True)\n",
    "    \n",
    "    roi_rect_region = sjoin(rect,region_shp,predicate='within').reset_index(drop=True)\n",
    "    \n",
    "    # append result\n",
    "    built_samples.append(built_merge)\n",
    "    roi_rects.append(roi_rect_region)\n",
    "    \n",
    "    # sample and save points to disk\n",
    "    sample_from_rect(region,roi_rect_region)"
   ]
  },
  {
   "cell_type": "code",
   "execution_count": null,
   "id": "6cbff3ca-dc5a-49b3-b451-8110e2b887c6",
   "metadata": {},
   "outputs": [],
   "source": []
  },
  {
   "cell_type": "code",
   "execution_count": null,
   "id": "6ecdf16b-6d04-4ac2-815a-54d2fcdb5be7",
   "metadata": {},
   "outputs": [],
   "source": []
  },
  {
   "cell_type": "code",
   "execution_count": 60,
   "id": "51ecf76c-8627-4be1-8722-04c859067e5f",
   "metadata": {
    "tags": []
   },
   "outputs": [],
   "source": []
  },
  {
   "cell_type": "code",
   "execution_count": null,
   "id": "da78f03a-09d8-44b6-ba4f-1d1625123477",
   "metadata": {},
   "outputs": [],
   "source": []
  },
  {
   "cell_type": "code",
   "execution_count": 52,
   "id": "501796f8-dcfd-48ac-a013-6bc8df16cf82",
   "metadata": {},
   "outputs": [],
   "source": []
  },
  {
   "cell_type": "code",
   "execution_count": 54,
   "id": "3411072f-d76f-407d-ad09-a8a882f1303e",
   "metadata": {},
   "outputs": [],
   "source": []
  },
  {
   "cell_type": "code",
   "execution_count": null,
   "id": "a1d826cc-5b62-4bef-8297-daf8d18c501a",
   "metadata": {},
   "outputs": [],
   "source": []
  },
  {
   "cell_type": "code",
   "execution_count": null,
   "id": "569a7ffa-786e-4fa5-9535-4c28393a814d",
   "metadata": {},
   "outputs": [],
   "source": []
  },
  {
   "cell_type": "code",
   "execution_count": null,
   "id": "b4b00e7e-283b-4220-a631-a2973be54088",
   "metadata": {},
   "outputs": [],
   "source": []
  },
  {
   "cell_type": "code",
   "execution_count": null,
   "id": "2925b0d9-3c3b-4992-b73a-8ec47a1e263f",
   "metadata": {},
   "outputs": [],
   "source": []
  },
  {
   "cell_type": "code",
   "execution_count": null,
   "id": "920d2d34-65b2-4b32-9f20-405e9957da98",
   "metadata": {},
   "outputs": [],
   "source": []
  },
  {
   "cell_type": "code",
   "execution_count": null,
   "id": "5d55a46c-3a44-4b89-932c-a2d9444970c1",
   "metadata": {},
   "outputs": [],
   "source": []
  },
  {
   "cell_type": "code",
   "execution_count": null,
   "id": "00378717-46dd-40fb-8fad-01fc787e0012",
   "metadata": {},
   "outputs": [],
   "source": []
  },
  {
   "cell_type": "code",
   "execution_count": null,
   "id": "7960025b-c487-4720-b71a-7cd7c8c79eaf",
   "metadata": {},
   "outputs": [],
   "source": []
  },
  {
   "cell_type": "code",
   "execution_count": null,
   "id": "7e0b59c4-20ea-48c2-90c9-2b4d3f66402c",
   "metadata": {},
   "outputs": [],
   "source": []
  },
  {
   "cell_type": "code",
   "execution_count": null,
   "id": "fb1c8714-b01b-4816-a582-bbdb29294ab5",
   "metadata": {},
   "outputs": [],
   "source": []
  },
  {
   "cell_type": "code",
   "execution_count": null,
   "id": "3cc27f8b-e5eb-4867-82bc-dd1757a6d7f8",
   "metadata": {},
   "outputs": [],
   "source": []
  }
 ],
 "metadata": {
  "kernelspec": {
   "display_name": "Python 3 (ipykernel)",
   "language": "python",
   "name": "python3"
  },
  "language_info": {
   "codemirror_mode": {
    "name": "ipython",
    "version": 3
   },
   "file_extension": ".py",
   "mimetype": "text/x-python",
   "name": "python",
   "nbconvert_exporter": "python",
   "pygments_lexer": "ipython3",
   "version": "3.10.9"
  }
 },
 "nbformat": 4,
 "nbformat_minor": 5
}
