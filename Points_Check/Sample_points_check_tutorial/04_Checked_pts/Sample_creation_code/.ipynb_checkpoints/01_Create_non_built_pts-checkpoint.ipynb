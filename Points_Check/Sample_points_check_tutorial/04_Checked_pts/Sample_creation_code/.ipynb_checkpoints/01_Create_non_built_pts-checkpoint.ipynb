{
 "cells": [
  {
   "cell_type": "code",
   "execution_count": 1,
   "id": "31d43200-0226-400f-ac34-a1f0c289055c",
   "metadata": {},
   "outputs": [],
   "source": [
    "import pandas as pd\n",
    "import geopandas as gpd\n",
    "import matplotlib.pyplot as plt"
   ]
  },
  {
   "cell_type": "code",
   "execution_count": null,
   "id": "7ff19ed8-ab3d-485f-a9fe-48ed362df89e",
   "metadata": {},
   "outputs": [],
   "source": []
  },
  {
   "cell_type": "code",
   "execution_count": null,
   "id": "85d2646c-ea62-4079-a6c0-d543c05c96b9",
   "metadata": {},
   "outputs": [],
   "source": []
  },
  {
   "cell_type": "code",
   "execution_count": 2,
   "id": "32f315f4-cf19-43fd-8daf-455e093ca8ab",
   "metadata": {},
   "outputs": [],
   "source": [
    "# define regions\n",
    "regions = ['xinan'] # ['dongbei','huabei','huadong','xibei','xinan','zhongnan'] "
   ]
  },
  {
   "cell_type": "code",
   "execution_count": null,
   "id": "bd3e4a57-4f4a-43a4-9339-2535b00d97f3",
   "metadata": {},
   "outputs": [],
   "source": []
  },
  {
   "cell_type": "code",
   "execution_count": null,
   "id": "c5841f96-20ff-4f71-b16c-d80f323d5b90",
   "metadata": {},
   "outputs": [],
   "source": []
  },
  {
   "cell_type": "code",
   "execution_count": 6,
   "id": "8239a8c3-673a-4549-925d-483e896590b0",
   "metadata": {},
   "outputs": [],
   "source": [
    "# read data [old and merged (built/non-built) points]\n",
    "sample_pts_old_merged = [gpd.read_file(f'../Samples_checked_Merge_1990_2019/Merged_{region}.shp')\n",
    "                        for region in regions]\n",
    "\n",
    "# [new and seperated (built/non-built) points]\n",
    "sample_pts_new_built = [gpd.read_file(f'../sample_pts_built_{region}.shx')\n",
    "                        for region in regions]\n",
    "sample_pts_new_non_built = [gpd.read_file(f'../sample_non_built_{region}.shx')\n",
    "                        for region in regions]"
   ]
  },
  {
   "cell_type": "code",
   "execution_count": null,
   "id": "e8d806fb-4777-4759-a750-6a674fceb6b4",
   "metadata": {},
   "outputs": [],
   "source": []
  },
  {
   "cell_type": "code",
   "execution_count": null,
   "id": "c51fe21b-0995-4342-be4a-e93f00c1aa21",
   "metadata": {},
   "outputs": [],
   "source": []
  },
  {
   "cell_type": "code",
   "execution_count": 33,
   "id": "ea060d45-e554-4f05-8b13-1d37fc87adfd",
   "metadata": {},
   "outputs": [],
   "source": [
    "# merge old_built with new_built pts\n",
    "pts_old_new_built = [pd.concat([df_old[df_old['Built']==1],df_new]) \n",
    "                     for df_old,df_new in zip(sample_pts_old_merged,sample_pts_new_built)]\n",
    "\n",
    "\n",
    "# select necessary cols\n",
    "for idx,df in enumerate(pts_old_new_built):\n",
    "    df['Built'] = 1\n",
    "    df = df[['Built','geometry']].reset_index(drop=True)\n",
    "    pts_old_new_built[idx] = df"
   ]
  },
  {
   "cell_type": "code",
   "execution_count": null,
   "id": "cc9a2631-d5ea-4a84-8e83-403f94ef1145",
   "metadata": {},
   "outputs": [],
   "source": []
  },
  {
   "cell_type": "code",
   "execution_count": null,
   "id": "281b1ca5-559d-4d55-bc96-c54aa0f033b0",
   "metadata": {},
   "outputs": [],
   "source": []
  },
  {
   "cell_type": "code",
   "execution_count": 61,
   "id": "76982f12-22d7-41c7-8aa9-3f0784567edd",
   "metadata": {
    "tags": []
   },
   "outputs": [],
   "source": [
    "# merge pts_old_new_built with new_non_built\n",
    "merged_pts_sample = [pd.concat(dfs).reset_index(drop=True) for dfs in zip(pts_old_new_built,sample_pts_new_non_built)]"
   ]
  },
  {
   "cell_type": "code",
   "execution_count": null,
   "id": "8c31564a-8e77-4d90-8adf-736c126ac855",
   "metadata": {},
   "outputs": [],
   "source": []
  },
  {
   "cell_type": "code",
   "execution_count": null,
   "id": "86b08065-472c-4f8c-b106-e12157aa2241",
   "metadata": {},
   "outputs": [],
   "source": []
  },
  {
   "cell_type": "code",
   "execution_count": 68,
   "id": "175f8f82-aaf2-49ee-863f-6fdf70d5c1a5",
   "metadata": {},
   "outputs": [],
   "source": [
    "# save dfs to disk\n",
    "for region,df in zip(regions,merged_pts_sample):\n",
    "    df.to_file(f'../Samples_checked_Merge_2020_2022/merge_pts_{region}.shp')"
   ]
  },
  {
   "cell_type": "code",
   "execution_count": null,
   "id": "8f29a3b5-a80b-46ad-b3b9-9d427cc8d629",
   "metadata": {},
   "outputs": [],
   "source": []
  },
  {
   "cell_type": "code",
   "execution_count": null,
   "id": "1307d168-528d-41f2-9358-43254494fb44",
   "metadata": {},
   "outputs": [],
   "source": []
  },
  {
   "cell_type": "code",
   "execution_count": null,
   "id": "d9e8a211-bd63-4c25-984f-487a1a610787",
   "metadata": {},
   "outputs": [],
   "source": []
  },
  {
   "cell_type": "code",
   "execution_count": null,
   "id": "f1c23126-0d2f-4039-a14e-b50cc9672c25",
   "metadata": {},
   "outputs": [],
   "source": []
  },
  {
   "cell_type": "code",
   "execution_count": null,
   "id": "44798189-2b11-4b74-ba0e-c3fd011f0089",
   "metadata": {},
   "outputs": [],
   "source": []
  },
  {
   "cell_type": "code",
   "execution_count": null,
   "id": "e51eedcc-68a9-481e-b47e-b8afe72dd083",
   "metadata": {},
   "outputs": [],
   "source": []
  },
  {
   "cell_type": "code",
   "execution_count": null,
   "id": "fbb70ac1-b667-43c7-adb9-c707c6b9621d",
   "metadata": {},
   "outputs": [],
   "source": []
  },
  {
   "cell_type": "code",
   "execution_count": null,
   "id": "9e8f3df3-acb9-44e7-807d-7297bfab37ea",
   "metadata": {},
   "outputs": [],
   "source": []
  },
  {
   "cell_type": "code",
   "execution_count": null,
   "id": "a3823ab3-1229-486f-8b9c-fa32ef0f9380",
   "metadata": {},
   "outputs": [],
   "source": []
  },
  {
   "cell_type": "code",
   "execution_count": null,
   "id": "59261c4d-05b7-4f0c-a6e7-47fdf31decdd",
   "metadata": {},
   "outputs": [],
   "source": []
  },
  {
   "cell_type": "code",
   "execution_count": null,
   "id": "66796b61-ff13-4173-9ef1-cdc64ec25323",
   "metadata": {},
   "outputs": [],
   "source": []
  }
 ],
 "metadata": {
  "kernelspec": {
   "display_name": "Python 3 (ipykernel)",
   "language": "python",
   "name": "python3"
  },
  "language_info": {
   "codemirror_mode": {
    "name": "ipython",
    "version": 3
   },
   "file_extension": ".py",
   "mimetype": "text/x-python",
   "name": "python",
   "nbconvert_exporter": "python",
   "pygments_lexer": "ipython3",
   "version": "3.10.9"
  }
 },
 "nbformat": 4,
 "nbformat_minor": 5
}
